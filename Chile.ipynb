{
  "nbformat": 4,
  "nbformat_minor": 0,
  "metadata": {
    "colab": {
      "name": "Chile.ipynb",
      "provenance": [],
      "include_colab_link": true
    },
    "kernelspec": {
      "name": "python3",
      "display_name": "Python 3"
    }
  },
  "cells": [
    {
      "cell_type": "markdown",
      "metadata": {
        "id": "view-in-github",
        "colab_type": "text"
      },
      "source": [
        "<a href=\"https://colab.research.google.com/github/dustinhodges/DS-Unit-2-Linear-Models/blob/master/Chile.ipynb\" target=\"_parent\"><img src=\"https://colab.research.google.com/assets/colab-badge.svg\" alt=\"Open In Colab\"/></a>"
      ]
    },
    {
      "cell_type": "code",
      "metadata": {
        "id": "obnpLkQ2Lx3X",
        "colab_type": "code",
        "outputId": "67a7c1bc-110c-4cf0-f831-5450647bfe0b",
        "colab": {
          "base_uri": "https://localhost:8080/",
          "height": 221
        }
      },
      "source": [
        "import pandas as pd\n",
        "\n",
        "chile = pd.read_csv('https://raw.githubusercontent.com/dustinhodges/DS-Unit-2-Applied-Modeling/master/Chile.csv')\n",
        "print(chile.shape)\n",
        "\n",
        "chile.head()"
      ],
      "execution_count": 2,
      "outputs": [
        {
          "output_type": "stream",
          "text": [
            "(2700, 9)\n"
          ],
          "name": "stdout"
        },
        {
          "output_type": "execute_result",
          "data": {
            "text/html": [
              "<div>\n",
              "<style scoped>\n",
              "    .dataframe tbody tr th:only-of-type {\n",
              "        vertical-align: middle;\n",
              "    }\n",
              "\n",
              "    .dataframe tbody tr th {\n",
              "        vertical-align: top;\n",
              "    }\n",
              "\n",
              "    .dataframe thead th {\n",
              "        text-align: right;\n",
              "    }\n",
              "</style>\n",
              "<table border=\"1\" class=\"dataframe\">\n",
              "  <thead>\n",
              "    <tr style=\"text-align: right;\">\n",
              "      <th></th>\n",
              "      <th>Unnamed: 0</th>\n",
              "      <th>region</th>\n",
              "      <th>population</th>\n",
              "      <th>sex</th>\n",
              "      <th>age</th>\n",
              "      <th>education</th>\n",
              "      <th>income</th>\n",
              "      <th>statusquo</th>\n",
              "      <th>vote</th>\n",
              "    </tr>\n",
              "  </thead>\n",
              "  <tbody>\n",
              "    <tr>\n",
              "      <th>0</th>\n",
              "      <td>1</td>\n",
              "      <td>N</td>\n",
              "      <td>175000</td>\n",
              "      <td>M</td>\n",
              "      <td>65.0</td>\n",
              "      <td>P</td>\n",
              "      <td>35000.0</td>\n",
              "      <td>1.00820</td>\n",
              "      <td>Y</td>\n",
              "    </tr>\n",
              "    <tr>\n",
              "      <th>1</th>\n",
              "      <td>2</td>\n",
              "      <td>N</td>\n",
              "      <td>175000</td>\n",
              "      <td>M</td>\n",
              "      <td>29.0</td>\n",
              "      <td>PS</td>\n",
              "      <td>7500.0</td>\n",
              "      <td>-1.29617</td>\n",
              "      <td>N</td>\n",
              "    </tr>\n",
              "    <tr>\n",
              "      <th>2</th>\n",
              "      <td>3</td>\n",
              "      <td>N</td>\n",
              "      <td>175000</td>\n",
              "      <td>F</td>\n",
              "      <td>38.0</td>\n",
              "      <td>P</td>\n",
              "      <td>15000.0</td>\n",
              "      <td>1.23072</td>\n",
              "      <td>Y</td>\n",
              "    </tr>\n",
              "    <tr>\n",
              "      <th>3</th>\n",
              "      <td>4</td>\n",
              "      <td>N</td>\n",
              "      <td>175000</td>\n",
              "      <td>F</td>\n",
              "      <td>49.0</td>\n",
              "      <td>P</td>\n",
              "      <td>35000.0</td>\n",
              "      <td>-1.03163</td>\n",
              "      <td>N</td>\n",
              "    </tr>\n",
              "    <tr>\n",
              "      <th>4</th>\n",
              "      <td>5</td>\n",
              "      <td>N</td>\n",
              "      <td>175000</td>\n",
              "      <td>F</td>\n",
              "      <td>23.0</td>\n",
              "      <td>S</td>\n",
              "      <td>35000.0</td>\n",
              "      <td>-1.10496</td>\n",
              "      <td>N</td>\n",
              "    </tr>\n",
              "  </tbody>\n",
              "</table>\n",
              "</div>"
            ],
            "text/plain": [
              "   Unnamed: 0 region  population sex   age education   income  statusquo vote\n",
              "0           1      N      175000   M  65.0         P  35000.0    1.00820    Y\n",
              "1           2      N      175000   M  29.0        PS   7500.0   -1.29617    N\n",
              "2           3      N      175000   F  38.0         P  15000.0    1.23072    Y\n",
              "3           4      N      175000   F  49.0         P  35000.0   -1.03163    N\n",
              "4           5      N      175000   F  23.0         S  35000.0   -1.10496    N"
            ]
          },
          "metadata": {
            "tags": []
          },
          "execution_count": 2
        }
      ]
    },
    {
      "cell_type": "code",
      "metadata": {
        "id": "_wYFCecvMpq4",
        "colab_type": "code",
        "outputId": "37072886-2a45-45bd-b113-33c6f55e0796",
        "colab": {
          "base_uri": "https://localhost:8080/",
          "height": 102
        }
      },
      "source": [
        "chile['vote'].value_counts()"
      ],
      "execution_count": 3,
      "outputs": [
        {
          "output_type": "execute_result",
          "data": {
            "text/plain": [
              "N    889\n",
              "Y    868\n",
              "U    588\n",
              "A    187\n",
              "Name: vote, dtype: int64"
            ]
          },
          "metadata": {
            "tags": []
          },
          "execution_count": 3
        }
      ]
    },
    {
      "cell_type": "code",
      "metadata": {
        "id": "y2fRZeV4M9h_",
        "colab_type": "code",
        "outputId": "af62c4f4-3fec-42be-e902-f1f888b0f326",
        "colab": {
          "base_uri": "https://localhost:8080/",
          "height": 68
        }
      },
      "source": [
        "pino = chile.copy()\n",
        "pino.vote = pino.vote.replace({\"N\": \"contra-Pinochet\",\n",
        "                               \"Y\": \"YUA\",\n",
        "                               \"U\": \"YUA\",\n",
        "                               \"A\": \"YUA\"}\n",
        "                              ) \n",
        "\n",
        "pino['vote'].value_counts()"
      ],
      "execution_count": 4,
      "outputs": [
        {
          "output_type": "execute_result",
          "data": {
            "text/plain": [
              "YUA                1643\n",
              "contra-Pinochet     889\n",
              "Name: vote, dtype: int64"
            ]
          },
          "metadata": {
            "tags": []
          },
          "execution_count": 4
        }
      ]
    },
    {
      "cell_type": "code",
      "metadata": {
        "id": "It5rImlfRzSv",
        "colab_type": "code",
        "outputId": "aca53a98-c6d3-49b0-90ac-8b4c70353b80",
        "colab": {
          "base_uri": "https://localhost:8080/",
          "height": 34
        }
      },
      "source": [
        "#baseline gives 65% accuracy\n",
        "#we will use vote as target (contra-pinochet 35%, not 65%)\n",
        "#binary classification\n",
        "#we can use accuracy\n",
        "\n",
        "total = 1643 + 889\n",
        "yua = 1643\n",
        "yua / total"
      ],
      "execution_count": 5,
      "outputs": [
        {
          "output_type": "execute_result",
          "data": {
            "text/plain": [
              "0.6488941548183255"
            ]
          },
          "metadata": {
            "tags": []
          },
          "execution_count": 5
        }
      ]
    },
    {
      "cell_type": "code",
      "metadata": {
        "id": "PVbV1YEtSH4u",
        "colab_type": "code",
        "outputId": "55cdd870-c10c-493a-e44c-88d7ef76002c",
        "colab": {
          "base_uri": "https://localhost:8080/",
          "height": 34
        }
      },
      "source": [
        "total"
      ],
      "execution_count": 6,
      "outputs": [
        {
          "output_type": "execute_result",
          "data": {
            "text/plain": [
              "2532"
            ]
          },
          "metadata": {
            "tags": []
          },
          "execution_count": 6
        }
      ]
    },
    {
      "cell_type": "code",
      "metadata": {
        "id": "rRCT3y8lUCYe",
        "colab_type": "code",
        "colab": {}
      },
      "source": [
        "pino = pino.dropna(subset = ['vote'])"
      ],
      "execution_count": 0,
      "outputs": []
    },
    {
      "cell_type": "code",
      "metadata": {
        "id": "BlWBccccTpjg",
        "colab_type": "code",
        "outputId": "e38b516f-75ca-4723-8ea5-39b46c4e5172",
        "colab": {
          "base_uri": "https://localhost:8080/",
          "height": 34
        }
      },
      "source": [
        "import numpy as np\n",
        "from sklearn.model_selection import train_test_split\n",
        "\n",
        "train = pino.copy()\n",
        "train, test = train_test_split(train, train_size=0.80, test_size=0.20,\n",
        "                               stratify=train['vote'], random_state=42)\n",
        "train, val = train_test_split(train, train_size=0.80, test_size=0.20,\n",
        "                             stratify=train['vote'], random_state=42)\n",
        "\n",
        "train.shape, val.shape, test.shape"
      ],
      "execution_count": 8,
      "outputs": [
        {
          "output_type": "execute_result",
          "data": {
            "text/plain": [
              "((1620, 9), (405, 9), (507, 9))"
            ]
          },
          "metadata": {
            "tags": []
          },
          "execution_count": 8
        }
      ]
    },
    {
      "cell_type": "code",
      "metadata": {
        "id": "5zR8gpQjVFTN",
        "colab_type": "code",
        "outputId": "1d97d60e-9ed2-4b95-bffe-1b14eac90ce0",
        "colab": {
          "base_uri": "https://localhost:8080/",
          "height": 34
        }
      },
      "source": [
        "def wrangle(X):\n",
        "    \n",
        "    X = X.copy()\n",
        "\n",
        "    unusable_variance = ['Unnamed: 0', 'statusquo']\n",
        "    X = X.drop(columns=unusable_variance)\n",
        "    \n",
        "    return X\n",
        "\n",
        "train = wrangle(train)\n",
        "val = wrangle(val)\n",
        "test = wrangle(test)\n",
        "\n",
        "train.shape, val.shape, test.shape"
      ],
      "execution_count": 9,
      "outputs": [
        {
          "output_type": "execute_result",
          "data": {
            "text/plain": [
              "((1620, 7), (405, 7), (507, 7))"
            ]
          },
          "metadata": {
            "tags": []
          },
          "execution_count": 9
        }
      ]
    },
    {
      "cell_type": "code",
      "metadata": {
        "id": "6G1YpIPuVVnk",
        "colab_type": "code",
        "outputId": "1c3868bb-c629-4756-cec7-85d531bdb665",
        "colab": {
          "base_uri": "https://localhost:8080/",
          "height": 153
        }
      },
      "source": [
        "train['income'].value_counts()"
      ],
      "execution_count": 0,
      "outputs": [
        {
          "output_type": "execute_result",
          "data": {
            "text/plain": [
              "15000.0     463\n",
              "35000.0     461\n",
              "7500.0      296\n",
              "75000.0     156\n",
              "2500.0       94\n",
              "125000.0     55\n",
              "200000.0     46\n",
              "Name: income, dtype: int64"
            ]
          },
          "metadata": {
            "tags": []
          },
          "execution_count": 43
        }
      ]
    },
    {
      "cell_type": "code",
      "metadata": {
        "id": "U16jm4mqc4Qw",
        "colab_type": "code",
        "outputId": "78046293-aa56-463a-de9d-2030ffb21900",
        "colab": {
          "base_uri": "https://localhost:8080/",
          "height": 224
        }
      },
      "source": [
        "!pip install category_encoders==2.*\n",
        "from sklearn.linear_model import LogisticRegression\n",
        "import category_encoders as ce \n",
        "from sklearn.impute import SimpleImputer\n",
        "from sklearn.linear_model import LogisticRegressionCV\n",
        "from sklearn.preprocessing import StandardScaler\n",
        "\n",
        "#'population', 'region', 'age', , 'income', 'sex', 'education'\n",
        "\n",
        "features = ['age', 'population', 'sex', 'education', 'region', 'income']\n",
        "target = 'vote'\n",
        "X_train = train[features]\n",
        "y_train = train[target]\n",
        "X_val = val[features]\n",
        "y_val = val[target]\n",
        "X_test = test[features]\n",
        "y_test = test[target]"
      ],
      "execution_count": 76,
      "outputs": [
        {
          "output_type": "stream",
          "text": [
            "Requirement already satisfied: category_encoders==2.* in /usr/local/lib/python3.6/dist-packages (2.1.0)\n",
            "Requirement already satisfied: pandas>=0.21.1 in /usr/local/lib/python3.6/dist-packages (from category_encoders==2.*) (0.25.3)\n",
            "Requirement already satisfied: patsy>=0.4.1 in /usr/local/lib/python3.6/dist-packages (from category_encoders==2.*) (0.5.1)\n",
            "Requirement already satisfied: statsmodels>=0.6.1 in /usr/local/lib/python3.6/dist-packages (from category_encoders==2.*) (0.10.2)\n",
            "Requirement already satisfied: scikit-learn>=0.20.0 in /usr/local/lib/python3.6/dist-packages (from category_encoders==2.*) (0.21.3)\n",
            "Requirement already satisfied: numpy>=1.11.3 in /usr/local/lib/python3.6/dist-packages (from category_encoders==2.*) (1.17.4)\n",
            "Requirement already satisfied: scipy>=0.19.0 in /usr/local/lib/python3.6/dist-packages (from category_encoders==2.*) (1.3.3)\n",
            "Requirement already satisfied: python-dateutil>=2.6.1 in /usr/local/lib/python3.6/dist-packages (from pandas>=0.21.1->category_encoders==2.*) (2.6.1)\n",
            "Requirement already satisfied: pytz>=2017.2 in /usr/local/lib/python3.6/dist-packages (from pandas>=0.21.1->category_encoders==2.*) (2018.9)\n",
            "Requirement already satisfied: six in /usr/local/lib/python3.6/dist-packages (from patsy>=0.4.1->category_encoders==2.*) (1.12.0)\n",
            "Requirement already satisfied: joblib>=0.11 in /usr/local/lib/python3.6/dist-packages (from scikit-learn>=0.20.0->category_encoders==2.*) (0.14.1)\n"
          ],
          "name": "stdout"
        }
      ]
    },
    {
      "cell_type": "code",
      "metadata": {
        "id": "h6xcI0JNdwli",
        "colab_type": "code",
        "outputId": "55a8f19b-633f-4191-b2d0-e2d834971c04",
        "colab": {
          "base_uri": "https://localhost:8080/",
          "height": 105
        }
      },
      "source": [
        "encoder = ce.OneHotEncoder(use_cat_names=True)\n",
        "X_train_encoded = encoder.fit_transform(X_train)\n",
        "X_val_encoded = encoder.transform(X_val)\n",
        "X_test_encoded = encoder.transform(X_test)\n",
        "\n",
        "imputer = SimpleImputer()\n",
        "X_train_imputed = imputer.fit_transform(X_train_encoded)\n",
        "X_val_imputed = imputer.transform(X_val_encoded)\n",
        "X_test_imputed = imputer.transform(X_test_encoded)\n",
        "\n",
        "scaler = StandardScaler()\n",
        "X_train_scaled = scaler.fit_transform(X_train_imputed)\n",
        "X_val_scaled = scaler.transform(X_val_imputed)\n",
        "X_test_scaled = scaler.transform(X_test_imputed)\n",
        "\n",
        "model = LogisticRegression()\n",
        "model.fit(X_train_scaled, y_train)\n",
        "\n",
        "print('Train Accuracy', model.score(X_train_scaled, y_train))\n",
        "print('Validation Accuracy', model.score(X_val_scaled, y_val))"
      ],
      "execution_count": 96,
      "outputs": [
        {
          "output_type": "stream",
          "text": [
            "Train Accuracy 0.667283950617284\n",
            "Validation Accuracy 0.691358024691358\n"
          ],
          "name": "stdout"
        },
        {
          "output_type": "stream",
          "text": [
            "/usr/local/lib/python3.6/dist-packages/sklearn/linear_model/logistic.py:432: FutureWarning: Default solver will be changed to 'lbfgs' in 0.22. Specify a solver to silence this warning.\n",
            "  FutureWarning)\n"
          ],
          "name": "stderr"
        }
      ]
    },
    {
      "cell_type": "code",
      "metadata": {
        "id": "8neEiQuh_8Aq",
        "colab_type": "code",
        "outputId": "68effb52-d8e6-4d65-fcbc-6545999c71d5",
        "colab": {
          "base_uri": "https://localhost:8080/",
          "height": 51
        }
      },
      "source": [
        "from sklearn.ensemble import RandomForestClassifier\n",
        "from sklearn.pipeline import make_pipeline\n",
        "\n",
        "forest = make_pipeline(\n",
        "    ce.OrdinalEncoder(), \n",
        "    SimpleImputer(strategy='median'), \n",
        "    RandomForestClassifier(n_estimators=20, max_depth=4, random_state=42, n_jobs=-1)\n",
        ")\n",
        "\n",
        "forest.fit(X_train, y_train)\n",
        "\n",
        "print('Train Accuracy', forest.score(X_train, y_train))\n",
        "print('Validation Accuracy', forest.score(X_val, y_val))"
      ],
      "execution_count": 77,
      "outputs": [
        {
          "output_type": "stream",
          "text": [
            "Train Accuracy 0.6753086419753086\n",
            "Validation Accuracy 0.6790123456790124\n"
          ],
          "name": "stdout"
        }
      ]
    },
    {
      "cell_type": "code",
      "metadata": {
        "id": "TRDo69_zxL3M",
        "colab_type": "code",
        "colab": {
          "base_uri": "https://localhost:8080/",
          "height": 51
        },
        "outputId": "00fd153b-8d73-4311-c0c5-201a79986fee"
      },
      "source": [
        "from sklearn.pipeline import make_pipeline\n",
        "from sklearn.tree import DecisionTreeClassifier\n",
        "\n",
        "tree = make_pipeline(\n",
        "    ce.OrdinalEncoder(),\n",
        "    SimpleImputer(strategy='median'),\n",
        "    DecisionTreeClassifier(max_depth=8, min_samples_split=8, min_samples_leaf=5, random_state=21)\n",
        ")\n",
        "\n",
        "tree.fit(X_train, y_train)\n",
        "\n",
        "print('Train Accuracy', tree.score(X_train, y_train))\n",
        "print('Validation Accuracy', tree.score(X_val, y_val))"
      ],
      "execution_count": 95,
      "outputs": [
        {
          "output_type": "stream",
          "text": [
            "Train Accuracy 0.7339506172839506\n",
            "Validation Accuracy 0.6592592592592592\n"
          ],
          "name": "stdout"
        }
      ]
    },
    {
      "cell_type": "code",
      "metadata": {
        "id": "6FzB9APT4Q9f",
        "colab_type": "code",
        "colab": {
          "base_uri": "https://localhost:8080/",
          "height": 68
        },
        "outputId": "cd7e8266-f814-4646-a192-93887156214b"
      },
      "source": [
        "print('Tree Test Accuracy', tree.score(X_test, y_test))\n",
        "print('Forest Test Accuracy', forest.score(X_test, y_test))\n",
        "print('Linear Model Test Accuracy', model.score(X_test_scaled, y_test))"
      ],
      "execution_count": 98,
      "outputs": [
        {
          "output_type": "stream",
          "text": [
            "Tree Test Accuracy 0.6291913214990138\n",
            "Forest Test Accuracy 0.6607495069033531\n",
            "Linear Model Test Accuracy 0.6706114398422091\n"
          ],
          "name": "stdout"
        }
      ]
    }
  ]
}