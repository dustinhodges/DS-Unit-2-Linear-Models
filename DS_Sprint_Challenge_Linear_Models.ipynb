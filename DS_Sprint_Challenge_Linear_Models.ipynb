{
  "nbformat": 4,
  "nbformat_minor": 0,
  "metadata": {
    "colab": {
      "name": "DS_Sprint_Challenge_Linear_Models.ipynb",
      "provenance": [],
      "collapsed_sections": [],
      "include_colab_link": true
    },
    "kernelspec": {
      "display_name": "Python 3",
      "language": "python",
      "name": "python3"
    },
    "language_info": {
      "codemirror_mode": {
        "name": "ipython",
        "version": 3
      },
      "file_extension": ".py",
      "mimetype": "text/x-python",
      "name": "python",
      "nbconvert_exporter": "python",
      "pygments_lexer": "ipython3",
      "version": "3.7.3"
    }
  },
  "cells": [
    {
      "cell_type": "markdown",
      "metadata": {
        "id": "view-in-github",
        "colab_type": "text"
      },
      "source": [
        "<a href=\"https://colab.research.google.com/github/dustinhodges/DS-Unit-2-Linear-Models/blob/master/DS_Sprint_Challenge_Linear_Models.ipynb\" target=\"_parent\"><img src=\"https://colab.research.google.com/assets/colab-badge.svg\" alt=\"Open In Colab\"/></a>"
      ]
    },
    {
      "cell_type": "markdown",
      "metadata": {
        "colab_type": "text",
        "id": "VZf2akBaMjq8"
      },
      "source": [
        "_Lambda School Data Science, Unit 2_\n",
        " \n",
        "# Linear Models Sprint Challenge\n",
        "\n",
        "To demonstrate mastery on your Sprint Challenge, do all the required, numbered instructions in this notebook.\n",
        "\n",
        "To earn a score of \"3\", also do all the stretch goals.\n",
        "\n",
        "You are permitted and encouraged to do as much data exploration as you want."
      ]
    },
    {
      "cell_type": "markdown",
      "metadata": {
        "colab_type": "text",
        "id": "20OITf58NLQh"
      },
      "source": [
        "### Part 1, Classification\n",
        "- 1.1. Do train/test split. Arrange data into X features matrix and y target vector\n",
        "- 1.2. Use scikit-learn to fit a logistic regression model\n",
        "- 1.3. Report classification metric: accuracy\n",
        "\n",
        "### Part 2, Regression\n",
        "- 2.1. Begin with baselines for regression\n",
        "- 2.2. Do train/validate/test split\n",
        "- 2.3. Arrange data into X features matrix and y target vector\n",
        "- 2.4. Do one-hot encoding\n",
        "- 2.5. Use scikit-learn to fit a linear regression or ridge regression model\n",
        "- 2.6. Report validation MAE and $R^2$\n",
        "\n",
        "### Stretch Goals, Regression\n",
        "- Make at least 2 visualizations to explore relationships between features and target. You may use any visualization library\n",
        "- Try at least 3 feature combinations. You may select features manually, or automatically\n",
        "- Report validation MAE and $R^2$ for each feature combination you try\n",
        "- Report test MAE and $R^2$ for your final model\n",
        "- Print or plot the coefficients for the features in your model"
      ]
    },
    {
      "cell_type": "code",
      "metadata": {
        "colab_type": "code",
        "id": "BxoFSeX5OX5k",
        "colab": {
          "base_uri": "https://localhost:8080/",
          "height": 1000
        },
        "outputId": "7521e7de-f283-43dd-9ecb-ddcefb90c46d"
      },
      "source": [
        "# If you're in Colab...\n",
        "import sys\n",
        "if 'google.colab' in sys.modules:\n",
        "    !pip install category_encoders==2.*\n",
        "    !pip install pandas-profiling==2.*\n",
        "    !pip install plotly==4.*"
      ],
      "execution_count": 1,
      "outputs": [
        {
          "output_type": "stream",
          "text": [
            "Collecting category_encoders==2.*\n",
            "\u001b[?25l  Downloading https://files.pythonhosted.org/packages/a0/52/c54191ad3782de633ea3d6ee3bb2837bda0cf3bc97644bb6375cf14150a0/category_encoders-2.1.0-py2.py3-none-any.whl (100kB)\n",
            "\r\u001b[K     |███▎                            | 10kB 17.7MB/s eta 0:00:01\r\u001b[K     |██████▌                         | 20kB 2.2MB/s eta 0:00:01\r\u001b[K     |█████████▉                      | 30kB 3.2MB/s eta 0:00:01\r\u001b[K     |█████████████                   | 40kB 2.1MB/s eta 0:00:01\r\u001b[K     |████████████████▍               | 51kB 2.6MB/s eta 0:00:01\r\u001b[K     |███████████████████▋            | 61kB 3.1MB/s eta 0:00:01\r\u001b[K     |██████████████████████▉         | 71kB 3.5MB/s eta 0:00:01\r\u001b[K     |██████████████████████████▏     | 81kB 4.0MB/s eta 0:00:01\r\u001b[K     |█████████████████████████████▍  | 92kB 4.5MB/s eta 0:00:01\r\u001b[K     |████████████████████████████████| 102kB 2.7MB/s \n",
            "\u001b[?25hRequirement already satisfied: scikit-learn>=0.20.0 in /usr/local/lib/python3.6/dist-packages (from category_encoders==2.*) (0.21.3)\n",
            "Requirement already satisfied: statsmodels>=0.6.1 in /usr/local/lib/python3.6/dist-packages (from category_encoders==2.*) (0.10.1)\n",
            "Requirement already satisfied: pandas>=0.21.1 in /usr/local/lib/python3.6/dist-packages (from category_encoders==2.*) (0.25.2)\n",
            "Requirement already satisfied: scipy>=0.19.0 in /usr/local/lib/python3.6/dist-packages (from category_encoders==2.*) (1.3.1)\n",
            "Requirement already satisfied: patsy>=0.4.1 in /usr/local/lib/python3.6/dist-packages (from category_encoders==2.*) (0.5.1)\n",
            "Requirement already satisfied: numpy>=1.11.3 in /usr/local/lib/python3.6/dist-packages (from category_encoders==2.*) (1.17.3)\n",
            "Requirement already satisfied: joblib>=0.11 in /usr/local/lib/python3.6/dist-packages (from scikit-learn>=0.20.0->category_encoders==2.*) (0.14.0)\n",
            "Requirement already satisfied: pytz>=2017.2 in /usr/local/lib/python3.6/dist-packages (from pandas>=0.21.1->category_encoders==2.*) (2018.9)\n",
            "Requirement already satisfied: python-dateutil>=2.6.1 in /usr/local/lib/python3.6/dist-packages (from pandas>=0.21.1->category_encoders==2.*) (2.6.1)\n",
            "Requirement already satisfied: six in /usr/local/lib/python3.6/dist-packages (from patsy>=0.4.1->category_encoders==2.*) (1.12.0)\n",
            "Installing collected packages: category-encoders\n",
            "Successfully installed category-encoders-2.1.0\n",
            "Collecting pandas-profiling==2.*\n",
            "\u001b[?25l  Downloading https://files.pythonhosted.org/packages/2c/2f/aae19e2173c10a9bb7fee5f5cad35dbe53a393960fc91abc477dcc4661e8/pandas-profiling-2.3.0.tar.gz (127kB)\n",
            "\u001b[K     |████████████████████████████████| 133kB 3.5MB/s \n",
            "\u001b[?25hRequirement already satisfied: pandas>=0.19 in /usr/local/lib/python3.6/dist-packages (from pandas-profiling==2.*) (0.25.2)\n",
            "Requirement already satisfied: matplotlib>=1.4 in /usr/local/lib/python3.6/dist-packages (from pandas-profiling==2.*) (3.1.1)\n",
            "Requirement already satisfied: jinja2>=2.8 in /usr/local/lib/python3.6/dist-packages (from pandas-profiling==2.*) (2.10.3)\n",
            "Requirement already satisfied: missingno>=0.4.2 in /usr/local/lib/python3.6/dist-packages (from pandas-profiling==2.*) (0.4.2)\n",
            "Collecting htmlmin>=0.1.12\n",
            "  Downloading https://files.pythonhosted.org/packages/b3/e7/fcd59e12169de19f0131ff2812077f964c6b960e7c09804d30a7bf2ab461/htmlmin-0.1.12.tar.gz\n",
            "Collecting phik>=0.9.8\n",
            "\u001b[?25l  Downloading https://files.pythonhosted.org/packages/45/ad/24a16fa4ba612fb96a3c4bb115a5b9741483f53b66d3d3afd987f20fa227/phik-0.9.8-py3-none-any.whl (606kB)\n",
            "\u001b[K     |████████████████████████████████| 614kB 38.0MB/s \n",
            "\u001b[?25hCollecting confuse>=1.0.0\n",
            "  Downloading https://files.pythonhosted.org/packages/4c/6f/90e860cba937c174d8b3775729ccc6377eb91f52ad4eeb008e7252a3646d/confuse-1.0.0.tar.gz\n",
            "Requirement already satisfied: astropy in /usr/local/lib/python3.6/dist-packages (from pandas-profiling==2.*) (3.0.5)\n",
            "Requirement already satisfied: pytz>=2017.2 in /usr/local/lib/python3.6/dist-packages (from pandas>=0.19->pandas-profiling==2.*) (2018.9)\n",
            "Requirement already satisfied: python-dateutil>=2.6.1 in /usr/local/lib/python3.6/dist-packages (from pandas>=0.19->pandas-profiling==2.*) (2.6.1)\n",
            "Requirement already satisfied: numpy>=1.13.3 in /usr/local/lib/python3.6/dist-packages (from pandas>=0.19->pandas-profiling==2.*) (1.17.3)\n",
            "Requirement already satisfied: cycler>=0.10 in /usr/local/lib/python3.6/dist-packages (from matplotlib>=1.4->pandas-profiling==2.*) (0.10.0)\n",
            "Requirement already satisfied: kiwisolver>=1.0.1 in /usr/local/lib/python3.6/dist-packages (from matplotlib>=1.4->pandas-profiling==2.*) (1.1.0)\n",
            "Requirement already satisfied: pyparsing!=2.0.4,!=2.1.2,!=2.1.6,>=2.0.1 in /usr/local/lib/python3.6/dist-packages (from matplotlib>=1.4->pandas-profiling==2.*) (2.4.2)\n",
            "Requirement already satisfied: MarkupSafe>=0.23 in /usr/local/lib/python3.6/dist-packages (from jinja2>=2.8->pandas-profiling==2.*) (1.1.1)\n",
            "Requirement already satisfied: scipy in /usr/local/lib/python3.6/dist-packages (from missingno>=0.4.2->pandas-profiling==2.*) (1.3.1)\n",
            "Requirement already satisfied: seaborn in /usr/local/lib/python3.6/dist-packages (from missingno>=0.4.2->pandas-profiling==2.*) (0.9.0)\n",
            "Requirement already satisfied: numba>=0.38.1 in /usr/local/lib/python3.6/dist-packages (from phik>=0.9.8->pandas-profiling==2.*) (0.40.1)\n",
            "Collecting pytest-pylint>=0.13.0\n",
            "  Downloading https://files.pythonhosted.org/packages/64/dc/6f35f114844fb12e38d60c4f3d2441a55baff7043ad4e013777dff55746c/pytest_pylint-0.14.1-py3-none-any.whl\n",
            "Requirement already satisfied: nbconvert>=5.3.1 in /usr/local/lib/python3.6/dist-packages (from phik>=0.9.8->pandas-profiling==2.*) (5.6.1)\n",
            "Collecting pytest>=4.0.2\n",
            "\u001b[?25l  Downloading https://files.pythonhosted.org/packages/93/16/f6dec5178f5f4141e80dfc4812a9aba88f5f29ca881f174ab1851181d016/pytest-5.2.2-py3-none-any.whl (227kB)\n",
            "\u001b[K     |████████████████████████████████| 235kB 45.4MB/s \n",
            "\u001b[?25hRequirement already satisfied: jupyter-client>=5.2.3 in /usr/local/lib/python3.6/dist-packages (from phik>=0.9.8->pandas-profiling==2.*) (5.3.4)\n",
            "Requirement already satisfied: pyyaml in /usr/local/lib/python3.6/dist-packages (from confuse>=1.0.0->pandas-profiling==2.*) (3.13)\n",
            "Requirement already satisfied: six>=1.5 in /usr/local/lib/python3.6/dist-packages (from python-dateutil>=2.6.1->pandas>=0.19->pandas-profiling==2.*) (1.12.0)\n",
            "Requirement already satisfied: setuptools in /usr/local/lib/python3.6/dist-packages (from kiwisolver>=1.0.1->matplotlib>=1.4->pandas-profiling==2.*) (41.4.0)\n",
            "Requirement already satisfied: llvmlite>=0.25.0dev0 in /usr/local/lib/python3.6/dist-packages (from numba>=0.38.1->phik>=0.9.8->pandas-profiling==2.*) (0.30.0)\n",
            "Collecting pylint>=1.4.5\n",
            "\u001b[?25l  Downloading https://files.pythonhosted.org/packages/ea/f1/758de486e46ea2b8717992704b0fdd968b7cbc2bc790b976fae4a35a212c/pylint-2.4.3-py3-none-any.whl (302kB)\n",
            "\u001b[K     |████████████████████████████████| 307kB 20.9MB/s \n",
            "\u001b[?25hRequirement already satisfied: bleach in /usr/local/lib/python3.6/dist-packages (from nbconvert>=5.3.1->phik>=0.9.8->pandas-profiling==2.*) (3.1.0)\n",
            "Requirement already satisfied: testpath in /usr/local/lib/python3.6/dist-packages (from nbconvert>=5.3.1->phik>=0.9.8->pandas-profiling==2.*) (0.4.2)\n",
            "Requirement already satisfied: jupyter-core in /usr/local/lib/python3.6/dist-packages (from nbconvert>=5.3.1->phik>=0.9.8->pandas-profiling==2.*) (4.6.1)\n",
            "Requirement already satisfied: mistune<2,>=0.8.1 in /usr/local/lib/python3.6/dist-packages (from nbconvert>=5.3.1->phik>=0.9.8->pandas-profiling==2.*) (0.8.4)\n",
            "Requirement already satisfied: traitlets>=4.2 in /usr/local/lib/python3.6/dist-packages (from nbconvert>=5.3.1->phik>=0.9.8->pandas-profiling==2.*) (4.3.3)\n",
            "Requirement already satisfied: pygments in /usr/local/lib/python3.6/dist-packages (from nbconvert>=5.3.1->phik>=0.9.8->pandas-profiling==2.*) (2.1.3)\n",
            "Requirement already satisfied: pandocfilters>=1.4.1 in /usr/local/lib/python3.6/dist-packages (from nbconvert>=5.3.1->phik>=0.9.8->pandas-profiling==2.*) (1.4.2)\n",
            "Requirement already satisfied: defusedxml in /usr/local/lib/python3.6/dist-packages (from nbconvert>=5.3.1->phik>=0.9.8->pandas-profiling==2.*) (0.6.0)\n",
            "Requirement already satisfied: nbformat>=4.4 in /usr/local/lib/python3.6/dist-packages (from nbconvert>=5.3.1->phik>=0.9.8->pandas-profiling==2.*) (4.4.0)\n",
            "Requirement already satisfied: entrypoints>=0.2.2 in /usr/local/lib/python3.6/dist-packages (from nbconvert>=5.3.1->phik>=0.9.8->pandas-profiling==2.*) (0.3)\n",
            "Collecting pluggy<1.0,>=0.12\n",
            "  Downloading https://files.pythonhosted.org/packages/92/c7/48439f7d5fd6bddb4c04b850bb862b42e3e2b98570040dfaf68aedd8114b/pluggy-0.13.0-py2.py3-none-any.whl\n",
            "Requirement already satisfied: atomicwrites>=1.0 in /usr/local/lib/python3.6/dist-packages (from pytest>=4.0.2->phik>=0.9.8->pandas-profiling==2.*) (1.3.0)\n",
            "Requirement already satisfied: more-itertools>=4.0.0 in /usr/local/lib/python3.6/dist-packages (from pytest>=4.0.2->phik>=0.9.8->pandas-profiling==2.*) (7.2.0)\n",
            "Requirement already satisfied: py>=1.5.0 in /usr/local/lib/python3.6/dist-packages (from pytest>=4.0.2->phik>=0.9.8->pandas-profiling==2.*) (1.8.0)\n",
            "Requirement already satisfied: attrs>=17.4.0 in /usr/local/lib/python3.6/dist-packages (from pytest>=4.0.2->phik>=0.9.8->pandas-profiling==2.*) (19.3.0)\n",
            "Requirement already satisfied: wcwidth in /usr/local/lib/python3.6/dist-packages (from pytest>=4.0.2->phik>=0.9.8->pandas-profiling==2.*) (0.1.7)\n",
            "Requirement already satisfied: importlib-metadata>=0.12; python_version < \"3.8\" in /usr/local/lib/python3.6/dist-packages (from pytest>=4.0.2->phik>=0.9.8->pandas-profiling==2.*) (0.23)\n",
            "Requirement already satisfied: packaging in /usr/local/lib/python3.6/dist-packages (from pytest>=4.0.2->phik>=0.9.8->pandas-profiling==2.*) (19.2)\n",
            "Requirement already satisfied: pyzmq>=13 in /usr/local/lib/python3.6/dist-packages (from jupyter-client>=5.2.3->phik>=0.9.8->pandas-profiling==2.*) (17.0.0)\n",
            "Requirement already satisfied: tornado>=4.1 in /usr/local/lib/python3.6/dist-packages (from jupyter-client>=5.2.3->phik>=0.9.8->pandas-profiling==2.*) (4.5.3)\n",
            "Collecting mccabe<0.7,>=0.6\n",
            "  Downloading https://files.pythonhosted.org/packages/87/89/479dc97e18549e21354893e4ee4ef36db1d237534982482c3681ee6e7b57/mccabe-0.6.1-py2.py3-none-any.whl\n",
            "Collecting isort<5,>=4.2.5\n",
            "\u001b[?25l  Downloading https://files.pythonhosted.org/packages/e5/b0/c121fd1fa3419ea9bfd55c7f9c4fedfec5143208d8c7ad3ce3db6c623c21/isort-4.3.21-py2.py3-none-any.whl (42kB)\n",
            "\u001b[K     |████████████████████████████████| 51kB 6.3MB/s \n",
            "\u001b[?25hCollecting astroid<2.4,>=2.3.0\n",
            "\u001b[?25l  Downloading https://files.pythonhosted.org/packages/64/d3/4ba68bd56297556c9c2e5072d71d1664feaa86d9726c237a9fe496d440f4/astroid-2.3.2-py3-none-any.whl (205kB)\n",
            "\u001b[K     |████████████████████████████████| 215kB 42.2MB/s \n",
            "\u001b[?25hRequirement already satisfied: webencodings in /usr/local/lib/python3.6/dist-packages (from bleach->nbconvert>=5.3.1->phik>=0.9.8->pandas-profiling==2.*) (0.5.1)\n",
            "Requirement already satisfied: ipython-genutils in /usr/local/lib/python3.6/dist-packages (from traitlets>=4.2->nbconvert>=5.3.1->phik>=0.9.8->pandas-profiling==2.*) (0.2.0)\n",
            "Requirement already satisfied: decorator in /usr/local/lib/python3.6/dist-packages (from traitlets>=4.2->nbconvert>=5.3.1->phik>=0.9.8->pandas-profiling==2.*) (4.4.1)\n",
            "Requirement already satisfied: jsonschema!=2.5.0,>=2.4 in /usr/local/lib/python3.6/dist-packages (from nbformat>=4.4->nbconvert>=5.3.1->phik>=0.9.8->pandas-profiling==2.*) (2.6.0)\n",
            "Requirement already satisfied: zipp>=0.5 in /usr/local/lib/python3.6/dist-packages (from importlib-metadata>=0.12; python_version < \"3.8\"->pytest>=4.0.2->phik>=0.9.8->pandas-profiling==2.*) (0.6.0)\n",
            "Collecting lazy-object-proxy==1.4.*\n",
            "\u001b[?25l  Downloading https://files.pythonhosted.org/packages/0b/dd/b1e3407e9e6913cf178e506cd0dee818e58694d9a5cd1984e3f6a8b9a10f/lazy_object_proxy-1.4.3-cp36-cp36m-manylinux1_x86_64.whl (55kB)\n",
            "\u001b[K     |████████████████████████████████| 61kB 7.9MB/s \n",
            "\u001b[?25hCollecting typed-ast<1.5,>=1.4.0; implementation_name == \"cpython\" and python_version < \"3.8\"\n",
            "\u001b[?25l  Downloading https://files.pythonhosted.org/packages/31/d3/9d1802c161626d0278bafb1ffb32f76b9d01e123881bbf9d91e8ccf28e18/typed_ast-1.4.0-cp36-cp36m-manylinux1_x86_64.whl (736kB)\n",
            "\u001b[K     |████████████████████████████████| 737kB 47.0MB/s \n",
            "\u001b[?25hRequirement already satisfied: wrapt==1.11.* in /usr/local/lib/python3.6/dist-packages (from astroid<2.4,>=2.3.0->pylint>=1.4.5->pytest-pylint>=0.13.0->phik>=0.9.8->pandas-profiling==2.*) (1.11.2)\n",
            "Building wheels for collected packages: pandas-profiling, htmlmin, confuse\n",
            "  Building wheel for pandas-profiling (setup.py) ... \u001b[?25l\u001b[?25hdone\n",
            "  Created wheel for pandas-profiling: filename=pandas_profiling-2.3.0-py2.py3-none-any.whl size=145035 sha256=2d7865bb4d89c8dc05ad8c19a6e3edecf3b202446408e8390ffe8380c7f8b5b9\n",
            "  Stored in directory: /root/.cache/pip/wheels/ce/c7/f1/dbfef4848ebb048cb1d4a22d1ed0c62d8ff2523747235e19fe\n",
            "  Building wheel for htmlmin (setup.py) ... \u001b[?25l\u001b[?25hdone\n",
            "  Created wheel for htmlmin: filename=htmlmin-0.1.12-cp36-none-any.whl size=27084 sha256=6a8e57f06d63e7d56c51a257fbf6b1ce251310395ed7b5fb492aa3d2338ada52\n",
            "  Stored in directory: /root/.cache/pip/wheels/43/07/ac/7c5a9d708d65247ac1f94066cf1db075540b85716c30255459\n",
            "  Building wheel for confuse (setup.py) ... \u001b[?25l\u001b[?25hdone\n",
            "  Created wheel for confuse: filename=confuse-1.0.0-cp36-none-any.whl size=17486 sha256=e0f4f488ee4eaa3df79debad3750c4b5cc9c5194559f8053ab019ed60329da8e\n",
            "  Stored in directory: /root/.cache/pip/wheels/b0/b2/96/2074eee7dbf7b7df69d004c9b6ac4e32dad04fb7666cf943bd\n",
            "Successfully built pandas-profiling htmlmin confuse\n",
            "\u001b[31mERROR: datascience 0.10.6 has requirement folium==0.2.1, but you'll have folium 0.8.3 which is incompatible.\u001b[0m\n",
            "Installing collected packages: htmlmin, mccabe, isort, lazy-object-proxy, typed-ast, astroid, pylint, pluggy, pytest, pytest-pylint, phik, confuse, pandas-profiling\n",
            "  Found existing installation: pluggy 0.7.1\n",
            "    Uninstalling pluggy-0.7.1:\n",
            "      Successfully uninstalled pluggy-0.7.1\n",
            "  Found existing installation: pytest 3.6.4\n",
            "    Uninstalling pytest-3.6.4:\n",
            "      Successfully uninstalled pytest-3.6.4\n",
            "  Found existing installation: pandas-profiling 1.4.1\n",
            "    Uninstalling pandas-profiling-1.4.1:\n",
            "      Successfully uninstalled pandas-profiling-1.4.1\n",
            "Successfully installed astroid-2.3.2 confuse-1.0.0 htmlmin-0.1.12 isort-4.3.21 lazy-object-proxy-1.4.3 mccabe-0.6.1 pandas-profiling-2.3.0 phik-0.9.8 pluggy-0.13.0 pylint-2.4.3 pytest-5.2.2 pytest-pylint-0.14.1 typed-ast-1.4.0\n",
            "Requirement already satisfied: plotly==4.* in /usr/local/lib/python3.6/dist-packages (4.1.1)\n",
            "Requirement already satisfied: six in /usr/local/lib/python3.6/dist-packages (from plotly==4.*) (1.12.0)\n",
            "Requirement already satisfied: retrying>=1.3.3 in /usr/local/lib/python3.6/dist-packages (from plotly==4.*) (1.3.3)\n"
          ],
          "name": "stdout"
        }
      ]
    },
    {
      "cell_type": "markdown",
      "metadata": {
        "colab_type": "text",
        "id": "Q7u1KtsnOi78"
      },
      "source": [
        "# Part 1, Classification: Predict Blood Donations 🚑\n",
        "Our dataset is from a mobile blood donation vehicle in Taiwan. The Blood Transfusion Service Center drives to different universities and collects blood as part of a blood drive.\n",
        "\n",
        "The goal is to predict whether the donor made a donation in March 2007, using information about each donor's history.\n",
        "\n",
        "Good data-driven systems for tracking and predicting donations and supply needs can improve the entire supply chain, making sure that more patients get the blood transfusions they need."
      ]
    },
    {
      "cell_type": "code",
      "metadata": {
        "colab_type": "code",
        "id": "gJzpgv-fO4rh",
        "colab": {}
      },
      "source": [
        "import pandas as pd\n",
        "\n",
        "donors = pd.read_csv('https://archive.ics.uci.edu/ml/machine-learning-databases/blood-transfusion/transfusion.data')\n",
        "assert donors.shape == (748,5)\n",
        "\n",
        "donors = donors.rename(columns={\n",
        "    'Recency (months)': 'months_since_last_donation', \n",
        "    'Frequency (times)': 'number_of_donations', \n",
        "    'Monetary (c.c. blood)': 'total_volume_donated', \n",
        "    'Time (months)': 'months_since_first_donation', \n",
        "    'whether he/she donated blood in March 2007': 'made_donation_in_march_2007'\n",
        "})"
      ],
      "execution_count": 0,
      "outputs": []
    },
    {
      "cell_type": "code",
      "metadata": {
        "id": "-40xbN98gqPJ",
        "colab_type": "code",
        "colab": {
          "base_uri": "https://localhost:8080/",
          "height": 34
        },
        "outputId": "0ad0a21e-0c3a-4d11-d8b1-d77b84bd1fe7"
      },
      "source": [
        "donors.shape"
      ],
      "execution_count": 3,
      "outputs": [
        {
          "output_type": "execute_result",
          "data": {
            "text/plain": [
              "(748, 5)"
            ]
          },
          "metadata": {
            "tags": []
          },
          "execution_count": 3
        }
      ]
    },
    {
      "cell_type": "markdown",
      "metadata": {
        "colab_type": "text",
        "id": "oU4oE0LJMG7X"
      },
      "source": [
        "Notice that the majority class (did not donate blood in March 2007) occurs about 3/4 of the time. \n",
        "\n",
        "This is the accuracy score for the \"majority class baseline\" (the accuracy score we'd get by just guessing the majority class every time)."
      ]
    },
    {
      "cell_type": "code",
      "metadata": {
        "colab_type": "code",
        "id": "TgRp5slvLzJs",
        "colab": {
          "base_uri": "https://localhost:8080/",
          "height": 68
        },
        "outputId": "26a00836-6477-4ad6-9516-e4a3f8755efc"
      },
      "source": [
        "donors['made_donation_in_march_2007'].value_counts(normalize=True)"
      ],
      "execution_count": 4,
      "outputs": [
        {
          "output_type": "execute_result",
          "data": {
            "text/plain": [
              "0    0.762032\n",
              "1    0.237968\n",
              "Name: made_donation_in_march_2007, dtype: float64"
            ]
          },
          "metadata": {
            "tags": []
          },
          "execution_count": 4
        }
      ]
    },
    {
      "cell_type": "markdown",
      "metadata": {
        "colab_type": "text",
        "id": "P66Fpcq1PYZl"
      },
      "source": [
        "## 1.1. Do train/test split. Arrange data into X features matrix and y target vector\n",
        "\n",
        "Do these steps in either order.\n",
        "\n",
        "Use scikit-learn's train/test split function to split randomly. (You can include 75% of the data in the train set, and hold out 25% for the test set, which is the default.)"
      ]
    },
    {
      "cell_type": "code",
      "metadata": {
        "colab_type": "code",
        "id": "InhicZeZPX8L",
        "colab": {
          "base_uri": "https://localhost:8080/",
          "height": 34
        },
        "outputId": "f33b8661-4bd9-4882-97c4-5bbc0d32b2e4"
      },
      "source": [
        "from sklearn.model_selection import train_test_split\n",
        "\n",
        "train, test = train_test_split(donors, random_state=21)\n",
        "\n",
        "train.shape, test.shape"
      ],
      "execution_count": 6,
      "outputs": [
        {
          "output_type": "execute_result",
          "data": {
            "text/plain": [
              "((561, 5), (187, 5))"
            ]
          },
          "metadata": {
            "tags": []
          },
          "execution_count": 6
        }
      ]
    },
    {
      "cell_type": "code",
      "metadata": {
        "colab_type": "code",
        "id": "a2jf_deRRl64",
        "colab": {
          "base_uri": "https://localhost:8080/",
          "height": 224
        },
        "outputId": "613c1dc2-b092-4bc6-e959-ee77de55b1fd"
      },
      "source": [
        "train.head()"
      ],
      "execution_count": 7,
      "outputs": [
        {
          "output_type": "execute_result",
          "data": {
            "text/html": [
              "<div>\n",
              "<style scoped>\n",
              "    .dataframe tbody tr th:only-of-type {\n",
              "        vertical-align: middle;\n",
              "    }\n",
              "\n",
              "    .dataframe tbody tr th {\n",
              "        vertical-align: top;\n",
              "    }\n",
              "\n",
              "    .dataframe thead th {\n",
              "        text-align: right;\n",
              "    }\n",
              "</style>\n",
              "<table border=\"1\" class=\"dataframe\">\n",
              "  <thead>\n",
              "    <tr style=\"text-align: right;\">\n",
              "      <th></th>\n",
              "      <th>months_since_last_donation</th>\n",
              "      <th>number_of_donations</th>\n",
              "      <th>total_volume_donated</th>\n",
              "      <th>months_since_first_donation</th>\n",
              "      <th>made_donation_in_march_2007</th>\n",
              "    </tr>\n",
              "  </thead>\n",
              "  <tbody>\n",
              "    <tr>\n",
              "      <th>187</th>\n",
              "      <td>4</td>\n",
              "      <td>4</td>\n",
              "      <td>1000</td>\n",
              "      <td>26</td>\n",
              "      <td>0</td>\n",
              "    </tr>\n",
              "    <tr>\n",
              "      <th>116</th>\n",
              "      <td>2</td>\n",
              "      <td>7</td>\n",
              "      <td>1750</td>\n",
              "      <td>46</td>\n",
              "      <td>1</td>\n",
              "    </tr>\n",
              "    <tr>\n",
              "      <th>380</th>\n",
              "      <td>14</td>\n",
              "      <td>1</td>\n",
              "      <td>250</td>\n",
              "      <td>14</td>\n",
              "      <td>0</td>\n",
              "    </tr>\n",
              "    <tr>\n",
              "      <th>79</th>\n",
              "      <td>2</td>\n",
              "      <td>2</td>\n",
              "      <td>500</td>\n",
              "      <td>4</td>\n",
              "      <td>0</td>\n",
              "    </tr>\n",
              "    <tr>\n",
              "      <th>686</th>\n",
              "      <td>13</td>\n",
              "      <td>7</td>\n",
              "      <td>1750</td>\n",
              "      <td>76</td>\n",
              "      <td>0</td>\n",
              "    </tr>\n",
              "  </tbody>\n",
              "</table>\n",
              "</div>"
            ],
            "text/plain": [
              "     months_since_last_donation  ...  made_donation_in_march_2007\n",
              "187                           4  ...                            0\n",
              "116                           2  ...                            1\n",
              "380                          14  ...                            0\n",
              "79                            2  ...                            0\n",
              "686                          13  ...                            0\n",
              "\n",
              "[5 rows x 5 columns]"
            ]
          },
          "metadata": {
            "tags": []
          },
          "execution_count": 7
        }
      ]
    },
    {
      "cell_type": "code",
      "metadata": {
        "id": "PAtJSN8zh5JM",
        "colab_type": "code",
        "colab": {
          "base_uri": "https://localhost:8080/",
          "height": 119
        },
        "outputId": "40c893ef-8c1b-4484-c053-7ae21c1eebb6"
      },
      "source": [
        "#sanity check: numbers should be similar \n",
        "#but not identical to the donors majority class numbers above\n",
        "\n",
        "features = ['months_since_last_donation', 'number_of_donations', 'months_since_first_donation', 'total_volume_donated']\n",
        "X_train = train[features]\n",
        "X_test = test[features]\n",
        "\n",
        "target = 'made_donation_in_march_2007'\n",
        "y_train = train[target]\n",
        "y_test = test[target]\n",
        "\n",
        "print(y_test.value_counts(normalize=True))\n",
        "y_train.value_counts(normalize=True)"
      ],
      "execution_count": 27,
      "outputs": [
        {
          "output_type": "stream",
          "text": [
            "0    0.743316\n",
            "1    0.256684\n",
            "Name: made_donation_in_march_2007, dtype: float64\n"
          ],
          "name": "stdout"
        },
        {
          "output_type": "execute_result",
          "data": {
            "text/plain": [
              "0    0.768271\n",
              "1    0.231729\n",
              "Name: made_donation_in_march_2007, dtype: float64"
            ]
          },
          "metadata": {
            "tags": []
          },
          "execution_count": 27
        }
      ]
    },
    {
      "cell_type": "markdown",
      "metadata": {
        "colab_type": "text",
        "id": "ln9fqAghRmQT"
      },
      "source": [
        "## 1.2. Use scikit-learn to fit a logistic regression model\n",
        "\n",
        "You may use any number of features"
      ]
    },
    {
      "cell_type": "code",
      "metadata": {
        "id": "aDg0HVD4kOQk",
        "colab_type": "code",
        "colab": {
          "base_uri": "https://localhost:8080/",
          "height": 105
        },
        "outputId": "2450c3a1-665d-4914-c75e-0bbdffe20c38"
      },
      "source": [
        "from sklearn.linear_model import LogisticRegression\n",
        "\n",
        "log_reg = LogisticRegression()\n",
        "log_reg.fit(X_train, y_train)\n",
        "\n",
        "from sklearn.preprocessing import StandardScaler\n",
        "scaler = StandardScaler()\n",
        "\n",
        "X_train_scaled = scaler.fit_transform(X_train)\n",
        "X_test_scaled = scaler.transform(X_test)\n"
      ],
      "execution_count": 28,
      "outputs": [
        {
          "output_type": "stream",
          "text": [
            "Train Accuracy 0.768270944741533\n",
            "Test Accuracy 0.7433155080213903\n"
          ],
          "name": "stdout"
        },
        {
          "output_type": "stream",
          "text": [
            "/usr/local/lib/python3.6/dist-packages/sklearn/linear_model/logistic.py:432: FutureWarning: Default solver will be changed to 'lbfgs' in 0.22. Specify a solver to silence this warning.\n",
            "  FutureWarning)\n"
          ],
          "name": "stderr"
        }
      ]
    },
    {
      "cell_type": "markdown",
      "metadata": {
        "colab_type": "text",
        "id": "Ah6EhiRVSusy"
      },
      "source": [
        "## 1.3. Report classification metric: accuracy\n",
        "\n",
        "What is your model's accuracy on the test set?\n",
        "\n",
        "Don't worry if your model doesn't beat the majority class baseline. That's okay!\n",
        "\n",
        "_\"The combination of some data and an aching desire for an answer does not ensure that a reasonable answer can be extracted from a given body of data.\"_ —[John Tukey](https://en.wikiquote.org/wiki/John_Tukey)\n",
        "\n",
        "(Also, if we used recall score instead of accuracy score, then your model would almost certainly beat the baseline. We'll discuss how to choose and interpret evaluation metrics throughout this unit.)\n"
      ]
    },
    {
      "cell_type": "code",
      "metadata": {
        "colab_type": "code",
        "id": "ZfJ2NFsASt9_",
        "colab": {
          "base_uri": "https://localhost:8080/",
          "height": 51
        },
        "outputId": "00dbde46-95cc-4edc-c60f-6f38aa277c6e"
      },
      "source": [
        "print('Train Accuracy', log_reg.score(X_train_scaled, y_train))\n",
        "print('Test Accuracy', log_reg.score(X_test_scaled, y_test))"
      ],
      "execution_count": 29,
      "outputs": [
        {
          "output_type": "stream",
          "text": [
            "Train Accuracy 0.768270944741533\n",
            "Test Accuracy 0.7433155080213903\n"
          ],
          "name": "stdout"
        }
      ]
    },
    {
      "cell_type": "markdown",
      "metadata": {
        "colab_type": "text",
        "id": "xDmZn3ApOM7t"
      },
      "source": [
        "# Part 2, Regression: Predict home prices in Ames, Iowa 🏠\n",
        "\n",
        "You'll use historical housing data. ***There's a data dictionary at the bottom of the notebook.*** \n",
        "\n",
        "Run this code cell to load the dataset:\n",
        "\n",
        "\n",
        "\n"
      ]
    },
    {
      "cell_type": "code",
      "metadata": {
        "colab_type": "code",
        "id": "7ptoRG1lu7H4",
        "colab": {}
      },
      "source": [
        "import pandas as pd\n",
        "URL = 'https://drive.google.com/uc?export=download&id=1522WlEW6HFss36roD_Cd9nybqSuiVcCK'\n",
        "homes = pd.read_csv(URL)\n",
        "assert homes.shape == (2904, 47)"
      ],
      "execution_count": 0,
      "outputs": []
    },
    {
      "cell_type": "markdown",
      "metadata": {
        "colab_type": "text",
        "id": "CowG-cgZ5ZrB"
      },
      "source": [
        "## 2.1. Begin with baselines\n",
        "\n",
        "What is the Mean Absolute Error and R^2 score for a mean baseline? (You can get these estimated scores using all your data, before splitting it.)"
      ]
    },
    {
      "cell_type": "code",
      "metadata": {
        "colab_type": "code",
        "id": "TbahVr-j5ZLs",
        "colab": {
          "base_uri": "https://localhost:8080/",
          "height": 241
        },
        "outputId": "543601b0-ba9c-4fcd-9119-3cdf83b15f70"
      },
      "source": [
        "print(homes.shape)\n",
        "homes.head()"
      ],
      "execution_count": 32,
      "outputs": [
        {
          "output_type": "stream",
          "text": [
            "(2904, 47)\n"
          ],
          "name": "stdout"
        },
        {
          "output_type": "execute_result",
          "data": {
            "text/html": [
              "<div>\n",
              "<style scoped>\n",
              "    .dataframe tbody tr th:only-of-type {\n",
              "        vertical-align: middle;\n",
              "    }\n",
              "\n",
              "    .dataframe tbody tr th {\n",
              "        vertical-align: top;\n",
              "    }\n",
              "\n",
              "    .dataframe thead th {\n",
              "        text-align: right;\n",
              "    }\n",
              "</style>\n",
              "<table border=\"1\" class=\"dataframe\">\n",
              "  <thead>\n",
              "    <tr style=\"text-align: right;\">\n",
              "      <th></th>\n",
              "      <th>1st_Flr_SF</th>\n",
              "      <th>Bedroom_AbvGr</th>\n",
              "      <th>Bldg_Type</th>\n",
              "      <th>Bsmt_Full_Bath</th>\n",
              "      <th>Bsmt_Half_Bath</th>\n",
              "      <th>Central_Air</th>\n",
              "      <th>Condition_1</th>\n",
              "      <th>Condition_2</th>\n",
              "      <th>Electrical</th>\n",
              "      <th>Exter_Cond</th>\n",
              "      <th>Exter_Qual</th>\n",
              "      <th>Exterior_1st</th>\n",
              "      <th>Exterior_2nd</th>\n",
              "      <th>Foundation</th>\n",
              "      <th>Full_Bath</th>\n",
              "      <th>Functional</th>\n",
              "      <th>Gr_Liv_Area</th>\n",
              "      <th>Half_Bath</th>\n",
              "      <th>Heating</th>\n",
              "      <th>Heating_QC</th>\n",
              "      <th>House_Style</th>\n",
              "      <th>Kitchen_AbvGr</th>\n",
              "      <th>Kitchen_Qual</th>\n",
              "      <th>Land_Contour</th>\n",
              "      <th>Land_Slope</th>\n",
              "      <th>Lot_Area</th>\n",
              "      <th>Lot_Config</th>\n",
              "      <th>Lot_Shape</th>\n",
              "      <th>MS_SubClass</th>\n",
              "      <th>MS_Zoning</th>\n",
              "      <th>Mas_Vnr_Type</th>\n",
              "      <th>Mo_Sold</th>\n",
              "      <th>Neighborhood</th>\n",
              "      <th>Overall_Cond</th>\n",
              "      <th>Overall_Qual</th>\n",
              "      <th>Paved_Drive</th>\n",
              "      <th>Roof_Matl</th>\n",
              "      <th>Roof_Style</th>\n",
              "      <th>SalePrice</th>\n",
              "      <th>Sale_Condition</th>\n",
              "      <th>Sale_Type</th>\n",
              "      <th>Street</th>\n",
              "      <th>TotRms_AbvGrd</th>\n",
              "      <th>Utilities</th>\n",
              "      <th>Year_Built</th>\n",
              "      <th>Year_Remod/Add</th>\n",
              "      <th>Yr_Sold</th>\n",
              "    </tr>\n",
              "  </thead>\n",
              "  <tbody>\n",
              "    <tr>\n",
              "      <th>0</th>\n",
              "      <td>1656</td>\n",
              "      <td>3</td>\n",
              "      <td>1Fam</td>\n",
              "      <td>1.0</td>\n",
              "      <td>0.0</td>\n",
              "      <td>Y</td>\n",
              "      <td>Norm</td>\n",
              "      <td>Norm</td>\n",
              "      <td>SBrkr</td>\n",
              "      <td>TA</td>\n",
              "      <td>TA</td>\n",
              "      <td>BrkFace</td>\n",
              "      <td>Plywood</td>\n",
              "      <td>CBlock</td>\n",
              "      <td>1</td>\n",
              "      <td>Typ</td>\n",
              "      <td>1656</td>\n",
              "      <td>0</td>\n",
              "      <td>GasA</td>\n",
              "      <td>Fa</td>\n",
              "      <td>1Story</td>\n",
              "      <td>1</td>\n",
              "      <td>TA</td>\n",
              "      <td>Lvl</td>\n",
              "      <td>Gtl</td>\n",
              "      <td>31770</td>\n",
              "      <td>Corner</td>\n",
              "      <td>IR1</td>\n",
              "      <td>20</td>\n",
              "      <td>RL</td>\n",
              "      <td>Stone</td>\n",
              "      <td>5</td>\n",
              "      <td>NAmes</td>\n",
              "      <td>5</td>\n",
              "      <td>6</td>\n",
              "      <td>P</td>\n",
              "      <td>CompShg</td>\n",
              "      <td>Hip</td>\n",
              "      <td>215000</td>\n",
              "      <td>Normal</td>\n",
              "      <td>WD</td>\n",
              "      <td>Pave</td>\n",
              "      <td>7</td>\n",
              "      <td>AllPub</td>\n",
              "      <td>1960</td>\n",
              "      <td>1960</td>\n",
              "      <td>2010</td>\n",
              "    </tr>\n",
              "    <tr>\n",
              "      <th>1</th>\n",
              "      <td>896</td>\n",
              "      <td>2</td>\n",
              "      <td>1Fam</td>\n",
              "      <td>0.0</td>\n",
              "      <td>0.0</td>\n",
              "      <td>Y</td>\n",
              "      <td>Feedr</td>\n",
              "      <td>Norm</td>\n",
              "      <td>SBrkr</td>\n",
              "      <td>TA</td>\n",
              "      <td>TA</td>\n",
              "      <td>VinylSd</td>\n",
              "      <td>VinylSd</td>\n",
              "      <td>CBlock</td>\n",
              "      <td>1</td>\n",
              "      <td>Typ</td>\n",
              "      <td>896</td>\n",
              "      <td>0</td>\n",
              "      <td>GasA</td>\n",
              "      <td>TA</td>\n",
              "      <td>1Story</td>\n",
              "      <td>1</td>\n",
              "      <td>TA</td>\n",
              "      <td>Lvl</td>\n",
              "      <td>Gtl</td>\n",
              "      <td>11622</td>\n",
              "      <td>Inside</td>\n",
              "      <td>Reg</td>\n",
              "      <td>20</td>\n",
              "      <td>RH</td>\n",
              "      <td>None</td>\n",
              "      <td>6</td>\n",
              "      <td>NAmes</td>\n",
              "      <td>6</td>\n",
              "      <td>5</td>\n",
              "      <td>Y</td>\n",
              "      <td>CompShg</td>\n",
              "      <td>Gable</td>\n",
              "      <td>105000</td>\n",
              "      <td>Normal</td>\n",
              "      <td>WD</td>\n",
              "      <td>Pave</td>\n",
              "      <td>5</td>\n",
              "      <td>AllPub</td>\n",
              "      <td>1961</td>\n",
              "      <td>1961</td>\n",
              "      <td>2010</td>\n",
              "    </tr>\n",
              "    <tr>\n",
              "      <th>2</th>\n",
              "      <td>1329</td>\n",
              "      <td>3</td>\n",
              "      <td>1Fam</td>\n",
              "      <td>0.0</td>\n",
              "      <td>0.0</td>\n",
              "      <td>Y</td>\n",
              "      <td>Norm</td>\n",
              "      <td>Norm</td>\n",
              "      <td>SBrkr</td>\n",
              "      <td>TA</td>\n",
              "      <td>TA</td>\n",
              "      <td>Wd Sdng</td>\n",
              "      <td>Wd Sdng</td>\n",
              "      <td>CBlock</td>\n",
              "      <td>1</td>\n",
              "      <td>Typ</td>\n",
              "      <td>1329</td>\n",
              "      <td>1</td>\n",
              "      <td>GasA</td>\n",
              "      <td>TA</td>\n",
              "      <td>1Story</td>\n",
              "      <td>1</td>\n",
              "      <td>Gd</td>\n",
              "      <td>Lvl</td>\n",
              "      <td>Gtl</td>\n",
              "      <td>14267</td>\n",
              "      <td>Corner</td>\n",
              "      <td>IR1</td>\n",
              "      <td>20</td>\n",
              "      <td>RL</td>\n",
              "      <td>BrkFace</td>\n",
              "      <td>6</td>\n",
              "      <td>NAmes</td>\n",
              "      <td>6</td>\n",
              "      <td>6</td>\n",
              "      <td>Y</td>\n",
              "      <td>CompShg</td>\n",
              "      <td>Hip</td>\n",
              "      <td>172000</td>\n",
              "      <td>Normal</td>\n",
              "      <td>WD</td>\n",
              "      <td>Pave</td>\n",
              "      <td>6</td>\n",
              "      <td>AllPub</td>\n",
              "      <td>1958</td>\n",
              "      <td>1958</td>\n",
              "      <td>2010</td>\n",
              "    </tr>\n",
              "    <tr>\n",
              "      <th>3</th>\n",
              "      <td>2110</td>\n",
              "      <td>3</td>\n",
              "      <td>1Fam</td>\n",
              "      <td>1.0</td>\n",
              "      <td>0.0</td>\n",
              "      <td>Y</td>\n",
              "      <td>Norm</td>\n",
              "      <td>Norm</td>\n",
              "      <td>SBrkr</td>\n",
              "      <td>TA</td>\n",
              "      <td>Gd</td>\n",
              "      <td>BrkFace</td>\n",
              "      <td>BrkFace</td>\n",
              "      <td>CBlock</td>\n",
              "      <td>2</td>\n",
              "      <td>Typ</td>\n",
              "      <td>2110</td>\n",
              "      <td>1</td>\n",
              "      <td>GasA</td>\n",
              "      <td>Ex</td>\n",
              "      <td>1Story</td>\n",
              "      <td>1</td>\n",
              "      <td>Ex</td>\n",
              "      <td>Lvl</td>\n",
              "      <td>Gtl</td>\n",
              "      <td>11160</td>\n",
              "      <td>Corner</td>\n",
              "      <td>Reg</td>\n",
              "      <td>20</td>\n",
              "      <td>RL</td>\n",
              "      <td>None</td>\n",
              "      <td>4</td>\n",
              "      <td>NAmes</td>\n",
              "      <td>5</td>\n",
              "      <td>7</td>\n",
              "      <td>Y</td>\n",
              "      <td>CompShg</td>\n",
              "      <td>Hip</td>\n",
              "      <td>244000</td>\n",
              "      <td>Normal</td>\n",
              "      <td>WD</td>\n",
              "      <td>Pave</td>\n",
              "      <td>8</td>\n",
              "      <td>AllPub</td>\n",
              "      <td>1968</td>\n",
              "      <td>1968</td>\n",
              "      <td>2010</td>\n",
              "    </tr>\n",
              "    <tr>\n",
              "      <th>4</th>\n",
              "      <td>928</td>\n",
              "      <td>3</td>\n",
              "      <td>1Fam</td>\n",
              "      <td>0.0</td>\n",
              "      <td>0.0</td>\n",
              "      <td>Y</td>\n",
              "      <td>Norm</td>\n",
              "      <td>Norm</td>\n",
              "      <td>SBrkr</td>\n",
              "      <td>TA</td>\n",
              "      <td>TA</td>\n",
              "      <td>VinylSd</td>\n",
              "      <td>VinylSd</td>\n",
              "      <td>PConc</td>\n",
              "      <td>2</td>\n",
              "      <td>Typ</td>\n",
              "      <td>1629</td>\n",
              "      <td>1</td>\n",
              "      <td>GasA</td>\n",
              "      <td>Gd</td>\n",
              "      <td>2Story</td>\n",
              "      <td>1</td>\n",
              "      <td>TA</td>\n",
              "      <td>Lvl</td>\n",
              "      <td>Gtl</td>\n",
              "      <td>13830</td>\n",
              "      <td>Inside</td>\n",
              "      <td>IR1</td>\n",
              "      <td>60</td>\n",
              "      <td>RL</td>\n",
              "      <td>None</td>\n",
              "      <td>3</td>\n",
              "      <td>Gilbert</td>\n",
              "      <td>5</td>\n",
              "      <td>5</td>\n",
              "      <td>Y</td>\n",
              "      <td>CompShg</td>\n",
              "      <td>Gable</td>\n",
              "      <td>189900</td>\n",
              "      <td>Normal</td>\n",
              "      <td>WD</td>\n",
              "      <td>Pave</td>\n",
              "      <td>6</td>\n",
              "      <td>AllPub</td>\n",
              "      <td>1997</td>\n",
              "      <td>1998</td>\n",
              "      <td>2010</td>\n",
              "    </tr>\n",
              "  </tbody>\n",
              "</table>\n",
              "</div>"
            ],
            "text/plain": [
              "   1st_Flr_SF  Bedroom_AbvGr Bldg_Type  ...  Year_Built  Year_Remod/Add Yr_Sold\n",
              "0        1656              3      1Fam  ...        1960            1960    2010\n",
              "1         896              2      1Fam  ...        1961            1961    2010\n",
              "2        1329              3      1Fam  ...        1958            1958    2010\n",
              "3        2110              3      1Fam  ...        1968            1968    2010\n",
              "4         928              3      1Fam  ...        1997            1998    2010\n",
              "\n",
              "[5 rows x 47 columns]"
            ]
          },
          "metadata": {
            "tags": []
          },
          "execution_count": 32
        }
      ]
    },
    {
      "cell_type": "code",
      "metadata": {
        "id": "28s2NeTgpP6E",
        "colab_type": "code",
        "colab": {
          "base_uri": "https://localhost:8080/",
          "height": 170
        },
        "outputId": "b84d7b84-35ab-4c47-ec08-e4a7ad3d4e1f"
      },
      "source": [
        "homes['SalePrice'].describe()"
      ],
      "execution_count": 33,
      "outputs": [
        {
          "output_type": "execute_result",
          "data": {
            "text/plain": [
              "count      2904.000000\n",
              "mean     180383.689738\n",
              "std       79802.823684\n",
              "min       12789.000000\n",
              "25%      129150.000000\n",
              "50%      160000.000000\n",
              "75%      213000.000000\n",
              "max      755000.000000\n",
              "Name: SalePrice, dtype: float64"
            ]
          },
          "metadata": {
            "tags": []
          },
          "execution_count": 33
        }
      ]
    },
    {
      "cell_type": "code",
      "metadata": {
        "id": "rCUpsJVKpzUG",
        "colab_type": "code",
        "colab": {
          "base_uri": "https://localhost:8080/",
          "height": 34
        },
        "outputId": "7e796abe-fcff-443d-f9d1-58a8eb7327ec"
      },
      "source": [
        "baseline = homes['SalePrice'].mean()\n",
        "errors = baseline - homes['SalePrice']\n",
        "mean_absolute_error = errors.abs().mean()\n",
        "\n",
        "print(f'MAE for mean baseline: ${mean_absolute_error:,.0f}')"
      ],
      "execution_count": 36,
      "outputs": [
        {
          "output_type": "stream",
          "text": [
            "MAE for mean baseline: $58,150\n"
          ],
          "name": "stdout"
        }
      ]
    },
    {
      "cell_type": "markdown",
      "metadata": {
        "id": "OyJJjokHrIh-",
        "colab_type": "text"
      },
      "source": [
        "R^2 score for the mean baseline is 0 by definition"
      ]
    },
    {
      "cell_type": "markdown",
      "metadata": {
        "colab_type": "text",
        "id": "yqeiq1wvyrTq"
      },
      "source": [
        "## 2.2. Do train/validate/test split\n",
        "\n",
        "Train on houses sold in the years 2006 - 2008. (1,920 rows)\n",
        "\n",
        "Validate on house sold in 2009. (644 rows)\n",
        "\n",
        "Test on houses sold in 2010. (340 rows)"
      ]
    },
    {
      "cell_type": "code",
      "metadata": {
        "colab_type": "code",
        "id": "WKFjWLI3w0P_",
        "colab": {
          "base_uri": "https://localhost:8080/",
          "height": 119
        },
        "outputId": "f6e13d1b-2d89-4ae2-8e66-3ba60c7e98fe"
      },
      "source": [
        "homes['Yr_Sold'].value_counts()"
      ],
      "execution_count": 37,
      "outputs": [
        {
          "output_type": "execute_result",
          "data": {
            "text/plain": [
              "2007    686\n",
              "2009    644\n",
              "2006    621\n",
              "2008    613\n",
              "2010    340\n",
              "Name: Yr_Sold, dtype: int64"
            ]
          },
          "metadata": {
            "tags": []
          },
          "execution_count": 37
        }
      ]
    },
    {
      "cell_type": "code",
      "metadata": {
        "id": "QazIu95Nr4nu",
        "colab_type": "code",
        "colab": {
          "base_uri": "https://localhost:8080/",
          "height": 34
        },
        "outputId": "5a6d241f-7ccf-4c7a-9824-d569107dd3fe"
      },
      "source": [
        "train = homes[homes.Yr_Sold < 2009]\n",
        "val = homes[homes.Yr_Sold == 2009]\n",
        "test = homes[homes.Yr_Sold > 2009]\n",
        "\n",
        "train.shape, val.shape, test.shape"
      ],
      "execution_count": 39,
      "outputs": [
        {
          "output_type": "execute_result",
          "data": {
            "text/plain": [
              "((1920, 47), (644, 47), (340, 47))"
            ]
          },
          "metadata": {
            "tags": []
          },
          "execution_count": 39
        }
      ]
    },
    {
      "cell_type": "markdown",
      "metadata": {
        "colab_type": "text",
        "id": "hk1bYDJy6txq"
      },
      "source": [
        "## 2.3. Arrange data into X features matrix and y target vector\n",
        "\n",
        "Select at least one numeric feature and at least one categorical feature.\n",
        "\n",
        "Otherwise, you may choose whichever features and however many you want."
      ]
    },
    {
      "cell_type": "code",
      "metadata": {
        "colab_type": "code",
        "id": "JQf9iwzf_uWh",
        "colab": {
          "base_uri": "https://localhost:8080/",
          "height": 948
        },
        "outputId": "48283dd4-3411-4004-dbce-79cfa8faf95a"
      },
      "source": [
        "train.select_dtypes(exclude='number').describe().T.sort_values(by='unique')"
      ],
      "execution_count": 40,
      "outputs": [
        {
          "output_type": "execute_result",
          "data": {
            "text/html": [
              "<div>\n",
              "<style scoped>\n",
              "    .dataframe tbody tr th:only-of-type {\n",
              "        vertical-align: middle;\n",
              "    }\n",
              "\n",
              "    .dataframe tbody tr th {\n",
              "        vertical-align: top;\n",
              "    }\n",
              "\n",
              "    .dataframe thead th {\n",
              "        text-align: right;\n",
              "    }\n",
              "</style>\n",
              "<table border=\"1\" class=\"dataframe\">\n",
              "  <thead>\n",
              "    <tr style=\"text-align: right;\">\n",
              "      <th></th>\n",
              "      <th>count</th>\n",
              "      <th>unique</th>\n",
              "      <th>top</th>\n",
              "      <th>freq</th>\n",
              "    </tr>\n",
              "  </thead>\n",
              "  <tbody>\n",
              "    <tr>\n",
              "      <th>Utilities</th>\n",
              "      <td>1920</td>\n",
              "      <td>2</td>\n",
              "      <td>AllPub</td>\n",
              "      <td>1919</td>\n",
              "    </tr>\n",
              "    <tr>\n",
              "      <th>Central_Air</th>\n",
              "      <td>1920</td>\n",
              "      <td>2</td>\n",
              "      <td>Y</td>\n",
              "      <td>1791</td>\n",
              "    </tr>\n",
              "    <tr>\n",
              "      <th>Street</th>\n",
              "      <td>1920</td>\n",
              "      <td>2</td>\n",
              "      <td>Pave</td>\n",
              "      <td>1912</td>\n",
              "    </tr>\n",
              "    <tr>\n",
              "      <th>Paved_Drive</th>\n",
              "      <td>1920</td>\n",
              "      <td>3</td>\n",
              "      <td>Y</td>\n",
              "      <td>1731</td>\n",
              "    </tr>\n",
              "    <tr>\n",
              "      <th>Land_Slope</th>\n",
              "      <td>1920</td>\n",
              "      <td>3</td>\n",
              "      <td>Gtl</td>\n",
              "      <td>1829</td>\n",
              "    </tr>\n",
              "    <tr>\n",
              "      <th>Lot_Shape</th>\n",
              "      <td>1920</td>\n",
              "      <td>4</td>\n",
              "      <td>Reg</td>\n",
              "      <td>1203</td>\n",
              "    </tr>\n",
              "    <tr>\n",
              "      <th>Land_Contour</th>\n",
              "      <td>1920</td>\n",
              "      <td>4</td>\n",
              "      <td>Lvl</td>\n",
              "      <td>1716</td>\n",
              "    </tr>\n",
              "    <tr>\n",
              "      <th>Kitchen_Qual</th>\n",
              "      <td>1920</td>\n",
              "      <td>4</td>\n",
              "      <td>TA</td>\n",
              "      <td>991</td>\n",
              "    </tr>\n",
              "    <tr>\n",
              "      <th>Exter_Qual</th>\n",
              "      <td>1920</td>\n",
              "      <td>4</td>\n",
              "      <td>TA</td>\n",
              "      <td>1197</td>\n",
              "    </tr>\n",
              "    <tr>\n",
              "      <th>Bldg_Type</th>\n",
              "      <td>1920</td>\n",
              "      <td>5</td>\n",
              "      <td>1Fam</td>\n",
              "      <td>1588</td>\n",
              "    </tr>\n",
              "    <tr>\n",
              "      <th>Heating_QC</th>\n",
              "      <td>1920</td>\n",
              "      <td>5</td>\n",
              "      <td>Ex</td>\n",
              "      <td>976</td>\n",
              "    </tr>\n",
              "    <tr>\n",
              "      <th>Exter_Cond</th>\n",
              "      <td>1920</td>\n",
              "      <td>5</td>\n",
              "      <td>TA</td>\n",
              "      <td>1683</td>\n",
              "    </tr>\n",
              "    <tr>\n",
              "      <th>Electrical</th>\n",
              "      <td>1920</td>\n",
              "      <td>5</td>\n",
              "      <td>SBrkr</td>\n",
              "      <td>1752</td>\n",
              "    </tr>\n",
              "    <tr>\n",
              "      <th>Lot_Config</th>\n",
              "      <td>1920</td>\n",
              "      <td>5</td>\n",
              "      <td>Inside</td>\n",
              "      <td>1418</td>\n",
              "    </tr>\n",
              "    <tr>\n",
              "      <th>Mas_Vnr_Type</th>\n",
              "      <td>1920</td>\n",
              "      <td>5</td>\n",
              "      <td>None</td>\n",
              "      <td>1151</td>\n",
              "    </tr>\n",
              "    <tr>\n",
              "      <th>Foundation</th>\n",
              "      <td>1920</td>\n",
              "      <td>6</td>\n",
              "      <td>PConc</td>\n",
              "      <td>863</td>\n",
              "    </tr>\n",
              "    <tr>\n",
              "      <th>Sale_Condition</th>\n",
              "      <td>1920</td>\n",
              "      <td>6</td>\n",
              "      <td>Normal</td>\n",
              "      <td>1542</td>\n",
              "    </tr>\n",
              "    <tr>\n",
              "      <th>Heating</th>\n",
              "      <td>1920</td>\n",
              "      <td>6</td>\n",
              "      <td>GasA</td>\n",
              "      <td>1892</td>\n",
              "    </tr>\n",
              "    <tr>\n",
              "      <th>Roof_Style</th>\n",
              "      <td>1920</td>\n",
              "      <td>6</td>\n",
              "      <td>Gable</td>\n",
              "      <td>1526</td>\n",
              "    </tr>\n",
              "    <tr>\n",
              "      <th>MS_Zoning</th>\n",
              "      <td>1920</td>\n",
              "      <td>7</td>\n",
              "      <td>RL</td>\n",
              "      <td>1485</td>\n",
              "    </tr>\n",
              "    <tr>\n",
              "      <th>Roof_Matl</th>\n",
              "      <td>1920</td>\n",
              "      <td>8</td>\n",
              "      <td>CompShg</td>\n",
              "      <td>1887</td>\n",
              "    </tr>\n",
              "    <tr>\n",
              "      <th>Condition_2</th>\n",
              "      <td>1920</td>\n",
              "      <td>8</td>\n",
              "      <td>Norm</td>\n",
              "      <td>1897</td>\n",
              "    </tr>\n",
              "    <tr>\n",
              "      <th>House_Style</th>\n",
              "      <td>1920</td>\n",
              "      <td>8</td>\n",
              "      <td>1Story</td>\n",
              "      <td>956</td>\n",
              "    </tr>\n",
              "    <tr>\n",
              "      <th>Functional</th>\n",
              "      <td>1920</td>\n",
              "      <td>8</td>\n",
              "      <td>Typ</td>\n",
              "      <td>1793</td>\n",
              "    </tr>\n",
              "    <tr>\n",
              "      <th>Condition_1</th>\n",
              "      <td>1920</td>\n",
              "      <td>9</td>\n",
              "      <td>Norm</td>\n",
              "      <td>1659</td>\n",
              "    </tr>\n",
              "    <tr>\n",
              "      <th>Sale_Type</th>\n",
              "      <td>1920</td>\n",
              "      <td>10</td>\n",
              "      <td>WD</td>\n",
              "      <td>1637</td>\n",
              "    </tr>\n",
              "    <tr>\n",
              "      <th>Exterior_1st</th>\n",
              "      <td>1920</td>\n",
              "      <td>16</td>\n",
              "      <td>VinylSd</td>\n",
              "      <td>656</td>\n",
              "    </tr>\n",
              "    <tr>\n",
              "      <th>Exterior_2nd</th>\n",
              "      <td>1920</td>\n",
              "      <td>16</td>\n",
              "      <td>VinylSd</td>\n",
              "      <td>652</td>\n",
              "    </tr>\n",
              "    <tr>\n",
              "      <th>Neighborhood</th>\n",
              "      <td>1920</td>\n",
              "      <td>28</td>\n",
              "      <td>NAmes</td>\n",
              "      <td>290</td>\n",
              "    </tr>\n",
              "  </tbody>\n",
              "</table>\n",
              "</div>"
            ],
            "text/plain": [
              "               count unique      top  freq\n",
              "Utilities       1920      2   AllPub  1919\n",
              "Central_Air     1920      2        Y  1791\n",
              "Street          1920      2     Pave  1912\n",
              "Paved_Drive     1920      3        Y  1731\n",
              "Land_Slope      1920      3      Gtl  1829\n",
              "Lot_Shape       1920      4      Reg  1203\n",
              "Land_Contour    1920      4      Lvl  1716\n",
              "Kitchen_Qual    1920      4       TA   991\n",
              "Exter_Qual      1920      4       TA  1197\n",
              "Bldg_Type       1920      5     1Fam  1588\n",
              "Heating_QC      1920      5       Ex   976\n",
              "Exter_Cond      1920      5       TA  1683\n",
              "Electrical      1920      5    SBrkr  1752\n",
              "Lot_Config      1920      5   Inside  1418\n",
              "Mas_Vnr_Type    1920      5     None  1151\n",
              "Foundation      1920      6    PConc   863\n",
              "Sale_Condition  1920      6   Normal  1542\n",
              "Heating         1920      6     GasA  1892\n",
              "Roof_Style      1920      6    Gable  1526\n",
              "MS_Zoning       1920      7       RL  1485\n",
              "Roof_Matl       1920      8  CompShg  1887\n",
              "Condition_2     1920      8     Norm  1897\n",
              "House_Style     1920      8   1Story   956\n",
              "Functional      1920      8      Typ  1793\n",
              "Condition_1     1920      9     Norm  1659\n",
              "Sale_Type       1920     10      WD   1637\n",
              "Exterior_1st    1920     16  VinylSd   656\n",
              "Exterior_2nd    1920     16  VinylSd   652\n",
              "Neighborhood    1920     28    NAmes   290"
            ]
          },
          "metadata": {
            "tags": []
          },
          "execution_count": 40
        }
      ]
    },
    {
      "cell_type": "code",
      "metadata": {
        "id": "OOE2tyHetQOq",
        "colab_type": "code",
        "colab": {}
      },
      "source": [
        "target = 'SalePrice'\n",
        "high_card = ['Neighborhood', 'Exterior_2nd', 'Exterior_1st', 'Sale_Type']\n",
        "features = train.columns.drop([target] + high_card)\n",
        "\n",
        "X_train = train[features]\n",
        "y_train = train[target]\n",
        "X_val = val[features]\n",
        "y_val = val[target]\n",
        "X_test = test[features]\n",
        "y_test = test[target]"
      ],
      "execution_count": 0,
      "outputs": []
    },
    {
      "cell_type": "markdown",
      "metadata": {
        "colab_type": "text",
        "id": "zDT-gSl_-Gwh"
      },
      "source": [
        "## 2.4. Do one-hot encoding\n",
        "\n",
        "Encode your categorical feature(s)."
      ]
    },
    {
      "cell_type": "code",
      "metadata": {
        "colab_type": "code",
        "id": "iqRywy6M7Jcr",
        "colab": {}
      },
      "source": [
        "import category_encoders as ce \n",
        "encoder = ce.OneHotEncoder(use_cat_names=True)\n",
        "X_train_encoded = encoder.fit_transform(X_train)\n",
        "X_val_encoded = encoder.transform(X_val)\n",
        "X_test_encoded = encoder.transform(X_test)"
      ],
      "execution_count": 0,
      "outputs": []
    },
    {
      "cell_type": "markdown",
      "metadata": {
        "colab_type": "text",
        "id": "2ZceruUx-Vs-"
      },
      "source": [
        "## 2.5. Use scikit-learn to fit a linear regression or ridge regression model\n",
        "Fit your model."
      ]
    },
    {
      "cell_type": "code",
      "metadata": {
        "colab_type": "code",
        "id": "Kvy4Z0xv7eJF",
        "colab": {
          "base_uri": "https://localhost:8080/",
          "height": 34
        },
        "outputId": "6bbdf047-5306-40e8-d6ad-1041fae637a1"
      },
      "source": [
        "from sklearn.feature_selection import f_regression, SelectKBest\n",
        "\n",
        "selector = SelectKBest(score_func=f_regression, k=10)\n",
        "\n",
        "X_train_selected = selector.fit_transform(X_train_encoded, y_train)\n",
        "X_val_selected = selector.transform(X_val_encoded)\n",
        "X_test_selected = selector.transform(X_test_encoded)\n",
        "\n",
        "X_train_selected.shape, X_val_selected.shape, X_test_selected.shape"
      ],
      "execution_count": 49,
      "outputs": [
        {
          "output_type": "execute_result",
          "data": {
            "text/plain": [
              "((1920, 10), (644, 10), (340, 10))"
            ]
          },
          "metadata": {
            "tags": []
          },
          "execution_count": 49
        }
      ]
    },
    {
      "cell_type": "code",
      "metadata": {
        "id": "CsKTugD5xeEO",
        "colab_type": "code",
        "colab": {
          "base_uri": "https://localhost:8080/",
          "height": 34
        },
        "outputId": "eb0be59f-b868-4a13-90be-957907247961"
      },
      "source": [
        "from sklearn.linear_model import LinearRegression\n",
        "\n",
        "model = LinearRegression()\n",
        "model.fit(X_train_selected, y_train)"
      ],
      "execution_count": 51,
      "outputs": [
        {
          "output_type": "execute_result",
          "data": {
            "text/plain": [
              "LinearRegression(copy_X=True, fit_intercept=True, n_jobs=None, normalize=False)"
            ]
          },
          "metadata": {
            "tags": []
          },
          "execution_count": 51
        }
      ]
    },
    {
      "cell_type": "markdown",
      "metadata": {
        "colab_type": "text",
        "id": "E9reASgw-i8T"
      },
      "source": [
        "## 2.6. Report validation MAE and $R^2$\n",
        "\n",
        "What is your model's Mean Absolute Error and $R^2$ score on the validation set? (You are not graded on how high or low your validation scores are.)"
      ]
    },
    {
      "cell_type": "code",
      "metadata": {
        "colab_type": "code",
        "id": "q8GdnL4e7hyK",
        "colab": {
          "base_uri": "https://localhost:8080/",
          "height": 34
        },
        "outputId": "b761d407-cd80-48e6-e7cb-e58687ee3c1c"
      },
      "source": [
        "from sklearn.metrics import mean_absolute_error\n",
        "\n",
        "y_pred = model.predict(X_val_selected)\n",
        "mae = mean_absolute_error(y_val, y_pred)\n",
        "print(f'Validation MAE: ${mae:,.0f}')"
      ],
      "execution_count": 55,
      "outputs": [
        {
          "output_type": "stream",
          "text": [
            "Validation MAE: $22,310\n"
          ],
          "name": "stdout"
        }
      ]
    },
    {
      "cell_type": "markdown",
      "metadata": {
        "id": "QVYvGXPizHTg",
        "colab_type": "text"
      },
      "source": [
        "Validation MAE beats the baseline MAE by $36,000"
      ]
    },
    {
      "cell_type": "code",
      "metadata": {
        "id": "dEFpVr8AzYwk",
        "colab_type": "code",
        "colab": {
          "base_uri": "https://localhost:8080/",
          "height": 34
        },
        "outputId": "fd93c3ae-af3a-4828-fe61-c2a31ea68620"
      },
      "source": [
        "from sklearn.metrics import r2_score\n",
        "\n",
        "r2 = r2_score(y_val, y_pred)\n",
        "print('R^2:', r2)"
      ],
      "execution_count": 56,
      "outputs": [
        {
          "output_type": "stream",
          "text": [
            "R^2: 0.8448393210391263\n"
          ],
          "name": "stdout"
        }
      ]
    },
    {
      "cell_type": "markdown",
      "metadata": {
        "colab_type": "text",
        "id": "DidByDsrOa-o"
      },
      "source": [
        "# Stretch Goals, Regression\n",
        "- Make at least 2 visualizations to explore relationships between features and target. You may use any visualization library\n",
        "- Try at least 3 feature combinations. You may select features manually, or automatically\n",
        "- Report validation MAE and $R^2$ for each feature combination you try\n",
        "- Report test MAE and $R^2$ for your final model\n",
        "- Print or plot the coefficients for the features in your model"
      ]
    },
    {
      "cell_type": "code",
      "metadata": {
        "colab_type": "code",
        "id": "xOfSQIf3Y3OV",
        "colab": {
          "base_uri": "https://localhost:8080/",
          "height": 204
        },
        "outputId": "31f6d44a-4a71-4c70-fa32-aeda82cc63b5"
      },
      "source": [
        "#these were the features selected by the feature selector:\n",
        "\n",
        "all_names = X_train_encoded.columns\n",
        "selected_mask = selector.get_support()\n",
        "selected_names = all_names[selected_mask]\n",
        "unselected_names = all_names[~selected_mask]\n",
        "\n",
        "print('Features selected:')\n",
        "for name in selected_names:\n",
        "    print(name)"
      ],
      "execution_count": 62,
      "outputs": [
        {
          "output_type": "stream",
          "text": [
            "Features selected:\n",
            "1st_Flr_SF\n",
            "Exter_Qual_TA\n",
            "Foundation_PConc\n",
            "Full_Bath\n",
            "Gr_Liv_Area\n",
            "Kitchen_Qual_TA\n",
            "Kitchen_Qual_Ex\n",
            "Overall_Qual\n",
            "Year_Built\n",
            "Year_Remod/Add\n"
          ],
          "name": "stdout"
        }
      ]
    },
    {
      "cell_type": "code",
      "metadata": {
        "id": "MYY1maQM1myw",
        "colab_type": "code",
        "colab": {
          "base_uri": "https://localhost:8080/",
          "height": 705
        },
        "outputId": "16eedbf3-6b5c-4b7f-b4ad-252b2782673f"
      },
      "source": [
        "#see how one feature, first floor square feet, relates to SalePrice: \n",
        "\n",
        "import plotly.express as px\n",
        "px.scatter(homes, x='1st_Flr_SF', y='SalePrice', trendline='ols')"
      ],
      "execution_count": 73,
      "outputs": [
        {
          "output_type": "stream",
          "text": [
            "/usr/local/lib/python3.6/dist-packages/numpy/core/fromnumeric.py:2495: FutureWarning:\n",
            "\n",
            "Method .ptp is deprecated and will be removed in a future version. Use numpy.ptp instead.\n",
            "\n"
          ],
          "name": "stderr"
        },
        {
          "output_type": "display_data",
          "data": {
            "text/html": [
              "<html>\n",
              "<head><meta charset=\"utf-8\" /></head>\n",
              "<body>\n",
              "    <div>\n",
              "            <script src=\"https://cdnjs.cloudflare.com/ajax/libs/mathjax/2.7.5/MathJax.js?config=TeX-AMS-MML_SVG\"></script><script type=\"text/javascript\">if (window.MathJax) {MathJax.Hub.Config({SVG: {font: \"STIX-Web\"}});}</script>\n",
              "                <script type=\"text/javascript\">window.PlotlyConfig = {MathJaxConfig: 'local'};</script>\n",
              "        <script src=\"https://cdn.plot.ly/plotly-latest.min.js\"></script>    \n",
              "            <div id=\"fcf91b19-f507-4cff-aa80-fbc180eba61a\" class=\"plotly-graph-div\" style=\"height:600px; width:100%;\"></div>\n",
              "            <script type=\"text/javascript\">\n",
              "                \n",
              "                    window.PLOTLYENV=window.PLOTLYENV || {};\n",
              "                    \n",
              "                if (document.getElementById(\"fcf91b19-f507-4cff-aa80-fbc180eba61a\")) {\n",
              "                    Plotly.newPlot(\n",
              "                        'fcf91b19-f507-4cff-aa80-fbc180eba61a',\n",
              "                        [{\"hoverlabel\": {\"namelength\": 0}, \"hovertemplate\": \"1st_Flr_SF=%{x}<br>SalePrice=%{y}\", \"legendgroup\": \"\", \"marker\": {\"color\": \"#636efa\", \"symbol\": \"circle\"}, \"mode\": \"markers\", \"name\": \"\", \"showlegend\": false, \"type\": \"scattergl\", \"x\": [1656, 896, 1329, 2110, 928, 926, 1338, 1280, 1616, 1028, 763, 1187, 789, 1341, 1502, 1690, 1080, 1856, 864, 2073, 1844, 1173, 814, 1004, 1078, 1056, 882, 864, 1337, 483, 525, 525, 1069, 855, 836, 855, 1627, 1704, 1940, 1544, 1541, 1698, 1822, 1535, 2364, 1358, 2696, 1687, 1752, 1370, 764, 1324, 1145, 1269, 744, 847, 774, 884, 1422, 1645, 1720, 1500, 1164, 1195, 2053, 1595, 1218, 764, 1566, 991, 1468, 956, 831, 1222, 923, 1055, 918, 752, 1014, 1097, 888, 1012, 1318, 1155, 894, 900, 1040, 1040, 1494, 1061, 1251, 1402, 1488, 840, 600, 600, 600, 600, 1478, 769, 756, 696, 530, 1418, 975, 788, 1226, 725, 1492, 1829, 1280, 1610, 1287, 980, 1381, 930, 1232, 1328, 1225, 1209, 1510, 1131, 1152, 1054, 1728, 1078, 1929, 1019, 858, 1306, 1063, 1520, 1268, 1128, 1105, 2207, 1888, 1604, 1480, 1143, 1700, 1314, 1194, 1188, 1264, 1206, 1580, 832, 1064, 972, 988, 1057, 985, 827, 1086, 936, 912, 1056, 1287, 1898, 816, 1246, 910, 900, 1116, 1175, 1395, 1051, 1157, 792, 936, 1028, 1347, 840, 747, 804, 926, 827, 1027, 1060, 832, 720, 930, 966, 1157, 1128, 1236, 741, 1246, 868, 1030, 1160, 765, 608, 848, 955, 780, 548, 928, 1068, 902, 888, 780, 662, 816, 372, 1032, 1207, 1675, 725, 1212, 600, 942, 936, 780, 1832, 1768, 1039, 1392, 912, 1060, 892, 663, 864, 1373, 720, 672, 1306, 1483, 756, 1067, 1332, 1117, 1052, 835, 1074, 1144, 1169, 1172, 1212, 1508, 1298, 930, 977, 1433, 964, 1062, 996, 1694, 1208, 1226, 1222, 1699, 831, 1052, 965, 892, 804, 1026, 689, 894, 876, 1978, 1601, 941, 1044, 1661, 848, 848, 1668, 1484, 1414, 640, 992, 1664, 1196, 792, 1096, 1117, 960, 1121, 798, 672, 1526, 1296, 841, 864, 1026, 856, 862, 894, 1699, 1225, 1102, 1188, 1902, 896, 1034, 1191, 1801, 796, 540, 727, 698, 859, 1044, 952, 1646, 1036, 1285, 1560, 1034, 2048, 1687, 1346, 1214, 744, 774, 824, 993, 2018, 1264, 1430, 912, 1344, 546, 945, 536, 546, 630, 546, 546, 874, 1188, 833, 1216, 624, 864, 1803, 1152, 882, 1434, 2000, 945, 1008, 958, 1746, 804, 2522, 1659, 1478, 1734, 751, 885, 952, 799, 680, 707, 1190, 808, 702, 1167, 1005, 1442, 1360, 2234, 2046, 1530, 946, 1153, 1586, 1411, 1602, 1154, 1671, 1539, 1472, 1707, 2524, 1601, 1370, 1088, 1016, 832, 1058, 972, 1621, 1116, 1193, 1350, 1378, 896, 1002, 1026, 1180, 1050, 864, 864, 864, 864, 864, 483, 765, 630, 483, 483, 630, 958, 804, 855, 1055, 855, 855, 804, 855, 855, 836, 892, 1120, 1718, 1794, 1966, 2402, 1652, 1600, 2042, 1365, 1130, 2020, 2020, 1728, 2674, 1734, 1736, 1782, 1508, 1717, 1743, 1713, 1531, 1808, 1462, 1836, 1629, 1760, 1502, 2392, 2452, 1105, 1606, 1358, 1306, 1306, 1358, 1314, 2492, 2200, 1884, 1456, 1712, 1324, 1405, 764, 728, 745, 742, 684, 1555, 1569, 1555, 1504, 1220, 1145, 716, 1010, 744, 868, 779, 846, 806, 698, 1314, 980, 1022, 744, 1007, 819, 774, 1223, 892, 1022, 774, 1268, 1490, 1466, 1310, 1276, 1277, 2063, 1372, 1094, 1215, 1686, 979, 1468, 1696, 1658, 1578, 1702, 1432, 1113, 2490, 932, 786, 1218, 1314, 1402, 1530, 1766, 1448, 1026, 909, 1082, 1112, 1836, 1662, 912, 1221, 1553, 812, 1218, 1141, 1158, 871, 1512, 1114, 1114, 1114, 1450, 913, 1844, 1434, 833, 626, 1332, 754, 698, 964, 841, 784, 980, 980, 864, 864, 1020, 912, 1144, 864, 912, 2014, 975, 1376, 612, 612, 1726, 1256, 742, 756, 713, 983, 1694, 1226, 1740, 1487, 1620, 829, 1442, 1489, 1107, 1285, 735, 1271, 1724, 1336, 1216, 1316, 1334, 1680, 810, 864, 1568, 925, 1165, 1320, 1342, 894, 864, 864, 1362, 1728, 1776, 1516, 1313, 1292, 1154, 825, 1445, 1041, 1576, 960, 708, 979, 1505, 1691, 1644, 1050, 1112, 1113, 1584, 1453, 1394, 1567, 1186, 1182, 1392, 1281, 1144, 1478, 1329, 988, 1632, 1215, 1202, 1382, 1200, 1382, 1297, 1866, 1062, 1319, 1112, 1005, 1363, 793, 1031, 1210, 1014, 801, 1200, 972, 792, 808, 676, 717, 792, 1078, 1313, 930, 599, 840, 846, 725, 1248, 1380, 1040, 1338, 951, 1105, 1306, 1478, 1142, 1036, 1040, 765, 1040, 1136, 1041, 1339, 732, 1183, 1148, 832, 1064, 993, 941, 1045, 894, 818, 682, 861, 972, 676, 810, 764, 868, 1378, 1101, 960, 707, 801, 936, 768, 811, 861, 612, 600, 886, 792, 736, 833, 720, 1075, 1320, 1090, 664, 916, 816, 832, 1022, 1188, 1044, 780, 720, 797, 1072, 1432, 952, 1001, 952, 757, 786, 884, 825, 822, 904, 1301, 1067, 989, 800, 875, 995, 994, 1072, 1445, 1136, 1048, 916, 1272, 929, 1088, 1146, 848, 741, 978, 1204, 892, 754, 704, 1200, 1200, 1152, 904, 697, 687, 1464, 1121, 918, 1052, 899, 1034, 858, 860, 1092, 904, 1138, 2071, 660, 1104, 1473, 1229, 861, 1867, 1733, 1383, 1689, 1073, 1276, 892, 672, 1089, 845, 1049, 1148, 698, 755, 1061, 1338, 1496, 2196, 1006, 1079, 1142, 1288, 1535, 1224, 1114, 1535, 1535, 1120, 1229, 1513, 1168, 1168, 1168, 1680, 1718, 1630, 1720, 1468, 866, 1838, 1800, 1604, 1290, 1254, 1232, 1498, 704, 1644, 944, 1160, 1040, 990, 928, 827, 1463, 1097, 990, 866, 1501, 1431, 928, 831, 1573, 944, 1430, 1444, 1492, 1040, 907, 914, 1040, 864, 1268, 864, 894, 768, 768, 1611, 1068, 1788, 1299, 1476, 944, 1513, 1504, 1828, 1417, 1057, 909, 1212, 1630, 848, 848, 1602, 864, 1500, 738, 608, 1126, 1486, 816, 495, 698, 1149, 1125, 1698, 1072, 698, 876, 1368, 1088, 864, 944, 1678, 1560, 960, 684, 854, 984, 832, 848, 438, 944, 1687, 647, 1328, 1232, 1160, 575, 1172, 877, 628, 1276, 840, 753, 976, 1273, 964, 820, 1240, 1112, 860, 1561, 986, 1152, 1906, 516, 561, 561, 561, 1182, 2365, 1680, 672, 928, 596, 1013, 572, 1648, 810, 1040, 1518, 1710, 804, 926, 1287, 1302, 1217, 1595, 1344, 2036, 1620, 846, 2036, 1641, 1466, 1412, 1375, 1479, 1296, 1072, 1838, 1978, 1008, 1771, 1204, 1224, 526, 874, 630, 1404, 630, 798, 546, 796, 1091, 1110, 833, 883, 796, 624, 1567, 784, 1414, 2117, 1092, 926, 680, 926, 943, 916, 1384, 729, 1593, 1682, 1337, 1280, 926, 932, 773, 1086, 851, 1228, 1337, 1168, 1134, 1884, 1474, 1710, 1488, 1236, 1688, 1422, 1260, 2064, 1782, 1542, 1211, 1126, 1277, 720, 1420, 1523, 1444, 1098, 1178, 1236, 896, 1054, 936, 864, 864, 1337, 483, 483, 483, 483, 483, 483, 630, 1069, 855, 1055, 892, 1932, 1742, 2084, 1476, 1582, 1710, 2464, 1950, 1850, 1632, 1414, 948, 1170, 2470, 1572, 1006, 1575, 1515, 1804, 1866, 1702, 1367, 1518, 1684, 1800, 1342, 1342, 764, 764, 1358, 1455, 1576, 1504, 1266, 1246, 813, 864, 1166, 728, 840, 847, 1358, 962, 1008, 788, 1037, 873, 1182, 1470, 1145, 1533, 2006, 1064, 1251, 2113, 1325, 1108, 1223, 1987, 1580, 894, 1574, 1578, 1506, 1563, 1428, 1341, 955, 1372, 1372, 866, 1053, 1026, 1050, 1660, 1218, 864, 1080, 835, 835, 1175, 1114, 1114, 798, 1162, 754, 886, 1679, 832, 827, 844, 1294, 832, 1617, 1199, 984, 912, 864, 890, 864, 912, 1430, 1001, 1364, 1827, 1391, 625, 1245, 600, 703, 703, 757, 757, 1638, 1310, 1419, 1557, 1709, 624, 684, 872, 962, 962, 1469, 1288, 1239, 1719, 1232, 1599, 1671, 1682, 1427, 1740, 1258, 1620, 1625, 1548, 732, 912, 925, 1728, 1728, 1656, 845, 1175, 943, 800, 999, 1098, 1014, 907, 952, 1128, 1425, 1165, 1136, 1092, 1265, 1350, 1114, 1053, 1252, 1100, 1118, 720, 729, 1077, 453, 1496, 1032, 1337, 1661, 1036, 902, 1362, 1144, 1537, 1431, 1104, 1098, 1144, 1283, 1176, 1440, 1261, 1570, 1196, 1392, 1080, 1104, 882, 1152, 950, 1790, 952, 773, 1764, 832, 1824, 869, 747, 1048, 672, 1254, 694, 858, 1044, 1312, 1253, 1081, 2069, 910, 876, 1048, 1507, 1256, 1027, 1269, 819, 984, 832, 854, 1800, 1024, 825, 983, 798, 1117, 1133, 764, 958, 948, 680, 1584, 672, 728, 828, 1362, 1095, 960, 1027, 884, 899, 684, 789, 1122, 904, 407, 928, 901, 1588, 1675, 830, 876, 730, 624, 709, 1377, 1134, 884, 689, 1221, 742, 938, 572, 1521, 723, 1313, 984, 1050, 882, 1093, 1143, 1195, 779, 1144, 784, 832, 736, 1014, 949, 950, 825, 874, 1013, 565, 624, 808, 1128, 1245, 1226, 1022, 751, 520, 1072, 1053, 1133, 1170, 988, 838, 1242, 833, 825, 768, 768, 1272, 880, 1040, 788, 1035, 825, 1088, 759, 808, 756, 1054, 1211, 720, 1120, 808, 1075, 1040, 1096, 904, 992, 894, 1034, 1073, 1126, 1258, 1140, 1006, 1228, 960, 1188, 1383, 1252, 1021, 672, 1721, 864, 904, 1291, 1156, 1524, 1363, 1663, 1357, 617, 1094, 1307, 1518, 1163, 1236, 1509, 864, 621, 961, 820, 1164, 572, 616, 1532, 1093, 1626, 1101, 1302, 628, 1615, 2276, 1766, 1080, 1511, 1643, 616, 990, 1099, 990, 1418, 872, 782, 882, 880, 1479, 1494, 963, 928, 920, 938, 985, 1174, 1026, 1076, 1558, 924, 864, 780, 1795, 992, 1290, 1004, 1153, 1055, 1366, 1786, 1149, 884, 1129, 798, 886, 933, 848, 848, 1493, 1838, 1536, 856, 1445, 1436, 770, 1234, 1564, 1361, 728, 848, 848, 848, 848, 796, 1272, 1092, 1256, 1033, 1127, 996, 1181, 760, 1117, 684, 1132, 4692, 1072, 1152, 1152, 1440, 1152, 784, 585, 929, 930, 768, 997, 872, 1204, 949, 864, 864, 936, 810, 1052, 1390, 1424, 1024, 990, 960, 672, 1423, 840, 676, 790, 798, 1166, 819, 851, 849, 1265, 932, 1091, 983, 1968, 1137, 1218, 1898, 1640, 516, 716, 919, 760, 796, 816, 778, 780, 1092, 912, 1151, 733, 825, 649, 671, 894, 432, 1652, 1648, 1646, 1646, 2032, 1689, 910, 1118, 1279, 936, 1689, 1619, 1501, 2898, 1537, 1646, 920, 712, 796, 1495, 1651, 1256, 1509, 1440, 1675, 1482, 1728, 1964, 1344, 1344, 1092, 1189, 1200, 1040, 616, 925, 526, 526, 1160, 546, 630, 988, 816, 923, 816, 816, 845, 983, 889, 1168, 1150, 1587, 1277, 2223, 2217, 847, 806, 794, 916, 754, 1652, 924, 947, 691, 1253, 957, 1187, 802, 812, 910, 1128, 1088, 1190, 1179, 1321, 1922, 1164, 2338, 1424, 1612, 1419, 2234, 2042, 1440, 1284, 1140, 725, 1664, 1085, 1161, 1118, 1032, 1177, 1040, 1353, 780, 1220, 1484, 1041, 1142, 1324, 1084, 576, 981, 725, 1422, 914, 950, 872, 858, 914, 864, 767, 1337, 1337, 525, 672, 672, 630, 765, 958, 804, 1055, 988, 1816, 1828, 1694, 1694, 1734, 2122, 2121, 1943, 1148, 2046, 1071, 2552, 1973, 2069, 1634, 1976, 1722, 2290, 1582, 1143, 958, 1610, 1802, 1718, 1136, 1217, 1234, 895, 1614, 1721, 1298, 1362, 1302, 1302, 1362, 1554, 1554, 1370, 1577, 1561, 1869, 1324, 1405, 768, 783, 608, 738, 698, 1326, 728, 1302, 1340, 616, 752, 728, 1258, 1258, 1402, 1589, 1266, 1530, 1119, 744, 847, 1525, 840, 847, 948, 864, 953, 774, 660, 940, 961, 2411, 1779, 997, 2633, 1671, 1411, 1108, 2444, 1127, 1383, 1214, 1328, 3228, 1105, 1335, 1369, 1542, 1905, 1464, 1534, 1966, 1636, 1795, 1726, 1689, 1588, 1538, 1496, 1506, 1694, 982, 1302, 1338, 1335, 896, 725, 1088, 1184, 1656, 874, 1584, 1685, 1158, 1580, 1100, 1143, 1094, 1486, 936, 920, 1349, 1494, 1575, 630, 884, 2020, 894, 970, 1057, 999, 1120, 1696, 1040, 988, 902, 1271, 1516, 1037, 1701, 1055, 1453, 2129, 1378, 1151, 1565, 1352, 1352, 625, 757, 729, 756, 769, 769, 551, 764, 975, 1358, 1072, 1220, 1494, 2362, 1432, 1437, 1295, 1094, 1262, 2497, 1361, 1057, 1152, 1403, 1082, 1295, 1610, 1594, 1091, 1680, 1093, 1242, 1052, 1107, 1214, 1073, 1344, 1728, 1224, 1422, 958, 1065, 1138, 912, 1074, 882, 1187, 964, 894, 1200, 1042, 1302, 845, 1374, 1652, 1429, 1327, 1224, 932, 908, 334, 666, 442, 808, 1127, 1150, 928, 968, 888, 1560, 1280, 1254, 912, 874, 1465, 936, 1008, 1053, 1056, 1442, 1056, 1244, 1144, 1721, 922, 1048, 1657, 1411, 1216, 1154, 1560, 948, 1040, 1008, 925, 1360, 1040, 925, 928, 1647, 924, 1000, 893, 1216, 1308, 735, 882, 845, 968, 751, 691, 1035, 888, 952, 1040, 672, 1082, 1168, 988, 1238, 864, 1134, 1040, 1170, 1242, 1377, 1800, 925, 1020, 876, 864, 936, 960, 768, 866, 1022, 936, 967, 1047, 1072, 680, 679, 1131, 761, 960, 1156, 866, 968, 909, 914, 842, 616, 1422, 991, 1178, 687, 1312, 1260, 1149, 1559, 1576, 912, 968, 1382, 916, 910, 1167, 915, 728, 608, 869, 884, 861, 899, 1014, 903, 939, 854, 959, 986, 1100, 1060, 752, 960, 698, 672, 1664, 933, 969, 1226, 1108, 1497, 773, 780, 976, 1138, 838, 581, 1196, 854, 964, 840, 866, 1262, 1636, 756, 778, 999, 1452, 1005, 1029, 1020, 1040, 913, 894, 948, 868, 897, 943, 955, 894, 1285, 912, 1375, 1567, 1416, 798, 1299, 1176, 998, 1824, 1522, 1164, 1325, 1630, 1242, 2422, 2158, 988, 864, 943, 1440, 605, 1038, 1342, 1080, 986, 1340, 1105, 1442, 1122, 1553, 912, 1175, 1029, 1282, 1466, 1651, 2140, 1494, 1316, 1651, 1482, 1274, 728, 1240, 1208, 1546, 1500, 1270, 879, 1314, 1180, 946, 1444, 1079, 976, 1743, 1022, 990, 1200, 646, 882, 990, 1097, 990, 905, 988, 853, 845, 985, 1479, 840, 894, 1025, 1009, 1040, 907, 879, 882, 969, 864, 875, 2000, 1284, 1673, 1459, 992, 860, 1210, 1592, 1531, 1212, 1668, 1220, 848, 1341, 847, 1337, 738, 939, 1422, 1190, 1330, 738, 768, 1214, 936, 1088, 960, 901, 1179, 816, 1044, 1113, 1100, 1125, 1090, 734, 5095, 3138, 1072, 960, 1152, 948, 1195, 774, 740, 894, 796, 768, 864, 948, 1440, 1296, 900, 789, 1422, 759, 981, 567, 851, 912, 686, 918, 694, 661, 954, 979, 1001, 867, 1226, 1370, 1940, 1230, 1096, 760, 1549, 1436, 1839, 960, 2259, 1560, 1488, 529, 1680, 1020, 1696, 2726, 997, 720, 803, 936, 772, 942, 816, 1012, 1077, 910, 640, 1034, 1073, 1001, 1625, 1625, 1299, 912, 1080, 1392, 1409, 1478, 918, 1026, 1501, 1502, 1328, 2279, 1689, 1484, 1571, 1646, 1240, 1187, 888, 1312, 1146, 1922, 1491, 1629, 1146, 1572, 1776, 1824, 1133, 1120, 2034, 936, 1040, 1632, 1622, 1060, 1142, 546, 530, 546, 546, 630, 546, 1062, 1008, 1356, 1676, 716, 796, 768, 1608, 845, 1178, 816, 816, 974, 887, 1293, 1024, 1797, 1390, 1851, 813, 993, 781, 691, 821, 802, 1392, 1670, 1074, 901, 1700, 887, 2079, 1169, 697, 955, 1204, 1064, 1742, 1414, 1528, 1102, 1992, 1264, 1850, 1390, 1426, 1547, 1056, 1714, 1826, 2000, 1621, 1377, 1468, 790, 1102, 1872, 945, 1686, 1392, 811, 1083, 960, 1109, 1074, 832, 1309, 1103, 1096, 864, 858, 874, 1419, 525, 765, 483, 494, 672, 672, 483, 525, 483, 1069, 1387, 900, 1055, 855, 1980, 1738, 1249, 1618, 1740, 1868, 1850, 1158, 1132, 1117, 1038, 1625, 1182, 1054, 1544, 1944, 1120, 1792, 1780, 1792, 1848, 1058, 1426, 1364, 1565, 1368, 1368, 1686, 1666, 1405, 1316, 728, 738, 664, 879, 1326, 728, 1052, 738, 1364, 1557, 1456, 1511, 1414, 1548, 1248, 1142, 1506, 1567, 1500, 734, 807, 707, 848, 1454, 807, 953, 1008, 956, 959, 1082, 1005, 1407, 1079, 1205, 1831, 1540, 1086, 1165, 1358, 1933, 1305, 1203, 1565, 1116, 2097, 1660, 1616, 1504, 1278, 2036, 1489, 1095, 756, 858, 778, 1262, 1266, 1301, 1142, 1400, 1131, 1141, 1158, 891, 831, 941, 810, 844, 1398, 1217, 636, 1056, 965, 988, 1728, 1286, 1211, 1212, 984, 909, 925, 1024, 935, 912, 1236, 941, 2151, 1301, 1520, 1352, 1166, 1624, 1143, 1247, 520, 520, 520, 520, 768, 713, 673, 530, 854, 1568, 1494, 1208, 1235, 1036, 1226, 1226, 1842, 1193, 1222, 2156, 708, 1512, 1012, 1334, 1164, 980, 1051, 884, 976, 1052, 898, 1051, 1141, 1200, 1097, 1050, 864, 1712, 1565, 1251, 1488, 720, 1095, 1053, 1248, 816, 1008, 1043, 774, 869, 747, 936, 1433, 1624, 1216, 2136, 958, 1024, 936, 1584, 1246, 1235, 1216, 1128, 1360, 1008, 1190, 1144, 1364, 1383, 1336, 1370, 1092, 1124, 1236, 943, 1050, 1375, 1008, 1575, 1145, 1005, 1056, 884, 2039, 1384, 1392, 900, 865, 713, 833, 1073, 715, 448, 1130, 774, 981, 694, 1766, 1096, 1324, 1086, 1146, 1085, 1207, 912, 1194, 864, 816, 1773, 1472, 1900, 1600, 910, 720, 1040, 1040, 1040, 1040, 1040, 1040, 1556, 1150, 1150, 660, 999, 1045, 864, 1025, 1007, 810, 1226, 1147, 940, 832, 848, 502, 813, 1084, 1032, 844, 1089, 864, 734, 714, 960, 816, 492, 885, 1163, 840, 908, 1095, 880, 1226, 889, 815, 684, 998, 1200, 1518, 624, 960, 1020, 788, 972, 1017, 1004, 793, 816, 896, 728, 1015, 672, 1042, 741, 1103, 616, 1048, 816, 1611, 960, 1001, 693, 834, 665, 819, 780, 803, 1077, 520, 984, 1081, 1921, 1640, 1352, 1032, 879, 1073, 1382, 1296, 1068, 1064, 1320, 934, 1059, 1159, 672, 1458, 1721, 1040, 1967, 1949, 1252, 1803, 1779, 872, 960, 1437, 1830, 1000, 1304, 810, 894, 880, 1453, 1350, 799, 1112, 1575, 1337, 1836, 1560, 1488, 1057, 1216, 1068, 1148, 1124, 1002, 1298, 1313, 1065, 1440, 1308, 1208, 1220, 1294, 1614, 1498, 1391, 1846, 1734, 1590, 945, 1614, 784, 927, 1582, 988, 1533, 1388, 914, 1100, 795, 1425, 990, 1525, 1494, 1588, 856, 951, 920, 936, 1541, 954, 686, 1282, 971, 864, 894, 864, 630, 1091, 878, 840, 1358, 1787, 872, 1654, 1090, 1065, 1070, 950, 1108, 1836, 848, 848, 1079, 1390, 847, 1700, 851, 784, 1552, 860, 1336, 750, 728, 1310, 760, 1466, 1220, 1012, 980, 1176, 806, 1164, 1072, 1072, 1072, 970, 970, 970, 970, 976, 624, 846, 1093, 658, 949, 864, 1482, 686, 964, 954, 498, 1055, 948, 1192, 1058, 816, 743, 892, 755, 1008, 818, 901, 992, 824, 961, 940, 792, 1125, 1180, 1020, 1122, 1170, 959, 1104, 1811, 1647, 1278, 1336, 1844, 976, 861, 672, 641, 951, 967, 897, 729, 480, 1060, 576, 1778, 1646, 1625, 1664, 1491, 1004, 1210, 1959, 1238, 1295, 1650, 1707, 1137, 1339, 1298, 1403, 1800, 1960, 2028, 1838, 1600, 1368, 1216, 1337, 1140, 616, 925, 1291, 874, 1652, 630, 546, 1360, 630, 546, 546, 546, 546, 1728, 1728, 1126, 1224, 1003, 902, 970, 1389, 996], \"xaxis\": \"x\", \"y\": [215000, 105000, 172000, 244000, 189900, 195500, 213500, 191500, 236500, 189000, 175900, 185000, 180400, 171500, 212000, 538000, 164000, 394432, 141000, 210000, 190000, 170000, 216000, 149000, 149900, 142000, 126000, 115000, 184000, 96000, 105500, 88000, 127500, 149900, 120000, 146000, 376162, 306000, 395192, 290941, 220000, 275000, 259000, 214000, 611657, 224000, 500000, 320000, 319900, 205000, 175500, 199500, 160000, 192000, 184500, 185088, 180000, 222500, 333168, 355000, 260400, 325000, 290000, 221000, 410000, 221500, 204500, 215200, 262500, 254900, 271500, 233000, 181000, 205000, 143000, 189000, 99500, 125000, 194500, 152000, 171000, 67500, 112000, 148000, 138500, 122000, 133000, 127000, 169000, 190000, 362500, 285000, 260000, 190000, 155000, 151000, 149500, 152000, 222000, 177500, 177000, 155000, 147110, 267916, 254000, 155000, 206000, 130500, 230000, 218500, 243500, 205000, 212500, 196500, 197500, 171000, 142250, 143000, 128950, 159000, 178900, 136300, 180500, 137500, 84900, 142125, 197600, 172500, 116500, 76500, 128000, 153000, 132000, 178000, 154300, 180000, 190000, 135000, 214000, 136000, 165500, 145000, 148000, 142000, 167500, 108538, 159500, 108000, 135000, 122500, 119000, 109000, 105000, 107500, 144900, 129000, 97500, 144000, 162000, 242000, 132000, 154000, 166000, 134800, 160000, 148000, 192000, 155000, 80400, 96500, 109500, 115000, 143000, 107400, 80000, 119000, 130000, 119000, 129000, 100000, 12789, 105900, 150000, 139000, 240000, 76500, 149700, 125500, 122500, 140750, 128500, 209500, 87000, 134000, 128000, 132000, 139900, 123900, 138400, 109500, 140000, 149500, 159900, 122000, 110000, 55000, 140000, 244400, 173000, 107500, 100000, 95000, 93369, 114900, 94000, 136000, 136500, 131500, 121500, 125000, 154000, 137900, 158000, 137250, 160250, 163000, 158900, 328000, 270000, 85000, 128000, 260000, 230000, 124000, 83000, 144500, 129000, 127000, 128000, 186000, 308030, 114000, 84900, 178000, 270000, 218000, 236000, 147000, 245350, 206000, 198900, 187000, 320000, 138500, 155000, 159000, 191000, 200500, 150000, 161750, 128200, 127000, 318000, 272000, 237000, 240000, 224900, 143750, 143000, 232000, 213000, 185500, 84900, 155891, 100000, 144000, 64000, 125200, 107000, 90000, 140000, 113000, 80000, 144500, 104000, 128000, 58500, 127000, 126000, 160000, 100000, 169000, 257500, 215000, 266500, 335000, 203135, 185000, 162500, 289000, 125500, 82000, 110000, 68400, 102776, 55993, 50138, 246000, 254900, 190000, 201000, 169900, 170000, 160000, 220000, 179781, 174000, 269500, 214900, 202900, 378500, 169000, 173500, 139000, 166500, 83500, 119500, 85000, 76000, 75500, 88250, 85500, 130000, 157900, 149900, 159000, 136000, 161000, 285000, 231000, 124500, 157000, 345000, 189500, 270000, 189000, 377500, 168500, 375000, 278000, 240000, 239500, 177500, 185000, 191000, 178000, 185000, 181316, 166000, 178000, 174000, 173000, 225000, 180500, 187500, 501837, 372500, 260000, 185000, 260000, 181000, 82500, 215000, 154000, 200000, 249000, 187500, 184000, 278000, 157000, 152000, 197500, 240900, 263435, 220000, 235000, 213000, 167900, 158000, 165000, 158000, 136000, 148500, 156000, 128000, 143000, 76500, 120500, 124500, 97000, 130000, 111000, 125000, 112000, 97000, 118000, 119500, 143750, 146000, 148500, 123000, 147000, 137900, 147000, 148500, 138000, 128500, 100000, 148800, 337500, 462000, 485000, 555000, 325000, 256300, 253293, 398800, 335000, 404000, 402861, 451950, 610000, 582933, 360000, 296000, 409900, 255500, 335000, 274900, 300000, 324000, 350000, 280000, 284000, 269500, 233170, 386250, 445000, 290000, 255900, 213000, 196000, 184500, 212500, 230000, 552000, 382500, 320000, 248500, 286500, 254000, 173000, 173000, 184000, 167800, 174000, 174000, 174000, 175900, 192500, 181000, 180000, 160200, 188500, 200000, 170000, 189500, 184100, 195500, 192000, 178000, 207500, 236000, 244000, 167000, 179000, 190000, 156000, 245000, 181000, 214000, 168000, 337000, 403000, 327000, 340000, 336000, 265000, 315000, 260000, 260000, 263550, 402000, 248000, 244600, 275000, 257500, 287090, 275500, 245000, 253000, 468000, 252678, 210000, 208300, 229456, 229800, 250000, 370878, 238500, 310000, 270000, 252000, 241000, 264500, 291000, 263000, 185000, 234500, 209000, 159000, 152000, 143500, 193000, 203000, 159000, 142000, 153000, 224243, 220000, 257000, 189000, 171500, 120000, 145000, 184000, 162000, 160000, 82000, 76000, 110000, 135000, 141000, 122000, 124100, 129000, 131400, 62383, 123000, 275000, 235000, 280750, 164500, 173733, 222000, 195000, 172500, 180000, 156000, 172500, 318750, 211500, 241600, 180500, 150000, 154000, 185000, 185750, 200000, 206000, 162000, 256900, 197900, 163000, 113000, 230000, 167900, 213250, 227000, 130000, 143000, 117500, 168500, 172500, 161500, 141500, 118000, 127500, 140000, 177625, 110000, 167000, 153000, 145100, 154000, 177500, 158000, 124500, 174500, 122000, 82500, 110000, 149500, 175000, 167000, 128900, 140000, 147000, 124000, 187500, 159000, 256000, 205000, 193500, 110000, 104900, 150000, 156500, 176000, 149500, 139000, 155000, 120000, 153000, 144000, 176000, 153000, 135000, 131000, 123000, 126000, 115000, 164900, 113000, 145500, 102900, 95000, 152500, 129900, 132000, 99900, 135000, 149000, 114000, 109500, 125000, 142900, 156500, 59000, 105000, 106000, 78500, 190000, 154000, 163000, 200000, 143500, 135000, 153000, 157500, 113500, 133000, 92900, 128500, 90000, 138000, 128000, 139000, 118900, 138000, 132500, 133500, 135000, 144750, 145000, 127000, 109500, 115000, 110000, 128900, 103500, 66500, 130000, 129000, 150000, 107500, 94550, 124500, 135000, 103000, 93000, 129500, 93000, 80000, 45000, 37900, 91300, 99500, 113000, 87500, 110000, 106000, 265979, 160000, 119000, 168000, 58500, 143000, 85000, 124900, 119000, 146500, 34900, 44000, 223500, 149000, 205000, 137000, 121000, 128000, 134900, 117000, 132500, 93000, 119000, 100000, 141500, 133000, 60000, 105000, 115000, 150000, 126500, 214500, 167500, 155000, 155000, 179900, 104000, 62500, 149000, 103000, 123000, 97500, 135000, 70000, 116000, 88750, 179000, 179000, 159900, 61000, 103600, 63000, 175000, 139000, 172500, 113500, 130000, 149900, 134900, 137000, 139000, 165000, 148000, 165000, 63900, 161500, 143000, 135000, 82500, 190000, 139600, 122000, 127500, 121500, 60000, 154400, 113000, 125000, 84000, 139500, 131000, 105000, 108000, 162000, 156500, 316600, 271900, 213000, 239900, 239500, 131000, 118964, 153337, 147983, 118858, 118858, 142953, 148325, 113722, 269500, 269500, 269500, 323262, 297000, 295493, 332000, 239900, 212000, 272500, 239000, 220000, 200000, 221800, 194500, 237000, 173000, 275000, 233500, 185000, 152000, 143000, 231500, 212000, 207000, 145000, 138000, 197900, 204000, 192000, 200000, 195000, 227000, 230000, 187100, 203000, 201000, 124000, 140000, 134900, 150500, 136500, 143500, 133500, 123000, 133900, 133000, 250000, 254750, 236500, 261500, 313000, 211000, 220000, 203000, 279500, 210000, 219500, 191000, 178000, 213000, 144000, 140000, 293200, 190000, 190000, 173500, 170000, 108000, 167000, 100000, 198500, 159500, 127000, 125000, 320000, 145500, 118000, 85000, 120000, 98000, 99900, 82000, 119900, 103500, 112000, 110000, 122000, 117000, 160000, 159434, 60000, 139500, 197000, 105000, 135000, 147500, 137450, 155000, 177000, 145000, 137000, 234000, 205000, 177500, 160000, 155000, 163500, 154900, 205000, 144800, 174500, 193000, 158000, 158500, 224000, 115000, 137000, 121000, 124000, 208000, 315000, 222000, 147000, 123000, 78000, 85000, 75000, 230000, 57625, 251000, 239686, 240000, 215000, 156450, 173000, 126000, 173000, 152000, 137500, 375000, 315500, 224500, 410000, 316500, 201000, 175000, 204000, 213500, 220000, 170000, 315000, 425000, 139500, 115000, 162000, 165000, 91000, 130000, 86000, 160000, 80000, 97000, 88000, 131900, 131250, 165500, 112000, 149000, 143000, 130000, 196000, 173000, 176500, 237500, 206900, 187500, 165000, 195500, 192000, 173000, 177900, 175000, 286000, 247900, 180000, 180000, 181000, 183000, 188000, 194500, 185000, 189000, 188500, 355000, 325000, 387000, 115000, 334000, 133000, 215000, 226500, 175500, 181900, 235000, 220000, 272000, 161000, 175000, 185000, 146900, 292500, 180000, 159900, 205000, 157000, 306000, 133000, 151000, 111900, 123000, 111250, 181000, 103400, 100000, 100500, 106000, 85400, 89500, 111750, 140000, 143000, 148500, 110000, 394617, 426000, 385000, 446261, 317500, 372402, 417500, 383000, 390000, 460000, 379000, 250000, 316000, 615000, 412500, 284000, 284000, 421250, 370000, 336860, 367294, 192000, 274000, 266000, 370967, 234250, 219500, 155000, 154000, 207000, 195000, 219990, 191000, 159895, 187687, 179000, 193000, 190000, 176000, 188000, 213000, 217300, 186500, 226750, 184000, 225000, 185900, 284500, 315000, 250000, 291000, 350000, 279500, 290000, 350000, 341000, 287500, 271000, 301500, 235128, 214000, 232000, 240000, 264132, 245000, 227680, 257000, 297900, 212700, 250580, 226700, 250000, 250000, 339750, 256000, 230348, 207500, 141000, 188000, 192500, 146000, 159000, 155000, 173000, 170000, 182000, 163000, 193500, 189000, 190500, 175000, 179200, 187000, 193000, 153900, 128000, 144000, 135000, 115000, 119916, 142000, 192000, 140000, 290000, 372500, 196000, 171900, 178000, 165000, 146000, 146000, 179400, 172900, 300000, 285000, 290000, 305000, 328900, 160000, 170000, 223000, 170000, 200000, 345000, 245500, 217500, 324000, 162500, 150000, 290000, 174000, 183000, 150000, 145000, 215000, 140500, 240000, 141000, 147000, 135000, 145000, 142600, 135000, 170000, 299800, 185000, 173000, 178400, 176000, 98000, 109008, 135750, 155000, 180500, 174900, 140000, 145000, 179900, 168500, 140000, 145500, 142000, 141000, 153000, 72500, 52000, 118000, 87000, 141500, 119000, 141500, 165500, 112900, 201800, 163000, 139950, 174000, 165000, 227000, 135000, 124000, 140000, 136500, 185000, 163000, 166800, 139000, 166000, 136000, 133000, 116000, 137500, 130000, 180000, 139000, 110000, 100000, 118500, 146000, 89900, 114000, 140000, 86900, 139000, 106250, 171000, 139000, 186000, 157000, 148000, 242000, 116000, 94000, 98300, 127000, 159000, 125900, 155000, 138000, 112500, 105500, 127500, 130000, 150000, 109500, 140000, 167900, 136870, 143000, 73000, 157500, 122600, 111000, 256000, 64000, 139500, 118000, 200000, 119164, 122250, 120000, 155000, 78000, 95000, 115000, 147000, 140000, 46500, 112500, 107900, 65000, 295000, 139500, 153900, 132000, 98000, 114000, 130000, 129500, 129400, 161000, 163000, 128000, 122000, 116900, 325000, 55000, 184000, 110000, 131500, 97000, 115500, 138000, 108000, 79500, 153000, 109500, 124000, 106900, 164900, 119000, 120000, 157000, 105000, 113000, 115000, 123000, 81300, 162900, 150000, 123500, 129900, 128000, 68500, 127000, 207000, 184000, 162500, 145000, 130000, 160000, 161000, 127500, 93850, 136000, 141000, 120000, 127500, 127000, 89500, 125000, 79900, 85000, 82375, 135000, 124000, 134000, 135000, 134432, 127500, 148000, 129500, 157500, 109900, 145000, 130000, 153000, 120000, 152000, 108959, 95541, 80000, 149350, 144900, 185000, 165000, 235000, 140000, 108000, 145000, 152400, 144000, 173000, 192000, 245000, 241500, 256000, 177000, 125600, 155000, 240000, 260000, 185000, 235000, 159900, 99600, 134500, 119000, 107500, 125000, 79000, 95000, 262280, 260000, 226500, 225000, 229000, 177439, 248500, 475000, 395039, 228000, 225000, 195000, 200000, 155000, 144000, 145000, 226001, 215700, 207500, 193000, 188000, 191000, 221000, 231500, 235000, 223500, 130250, 149900, 158000, 147000, 143195, 163000, 110000, 127000, 124900, 230000, 235000, 230500, 230000, 222500, 287000, 274000, 300000, 255900, 224900, 240000, 183000, 207000, 210000, 136500, 145000, 208900, 185000, 214000, 208500, 186500, 210000, 185900, 179900, 218836, 193000, 189000, 149300, 141000, 149000, 144500, 85000, 145900, 123000, 147500, 165000, 135000, 108000, 137500, 165400, 147000, 160500, 176000, 160000, 148000, 82000, 82000, 118000, 82500, 91900, 120000, 96000, 99000, 130500, 135000, 135500, 100000, 108000, 98000, 67000, 135900, 140000, 179500, 136500, 168000, 130000, 189000, 161900, 145000, 191000, 177000, 147500, 91000, 231000, 115000, 138000, 149000, 188700, 198000, 110000, 104000, 257076, 381000, 311500, 263400, 236500, 224000, 116500, 151000, 126000, 120000, 55000, 120500, 120500, 119000, 126000, 99500, 165500, 13100, 89000, 40000, 80900, 81000, 65000, 392500, 294464, 250000, 275000, 300000, 271000, 213000, 171000, 171500, 100000, 228500, 228950, 241500, 287000, 294000, 293077, 264966, 172500, 218689, 150000, 184000, 180000, 175000, 232500, 195000, 305000, 298751, 370000, 209200, 206300, 146000, 160500, 173000, 124000, 115000, 129500, 105000, 94900, 152500, 98000, 81000, 113000, 128500, 119500, 130500, 138000, 134500, 160000, 137500, 172000, 103000, 167300, 167000, 244000, 268000, 225000, 168000, 177000, 169000, 161500, 251000, 160000, 180000, 178750, 176000, 204000, 160000, 160000, 163900, 168000, 154204, 170000, 207500, 182000, 212000, 377426, 349265, 591587, 155000, 319900, 392000, 441929, 455000, 182900, 174000, 178000, 176000, 213000, 192000, 190000, 195000, 148000, 151500, 197000, 192350, 152000, 170000, 175000, 175000, 197900, 174000, 178900, 139000, 143250, 184000, 155000, 133000, 119500, 123000, 110000, 128000, 120500, 133000, 155000, 177000, 113500, 113000, 113700, 106000, 122500, 128000, 155000, 142500, 129250, 356000, 314813, 318000, 322400, 318000, 345474, 415298, 492000, 338931, 450000, 280000, 479069, 395000, 380000, 250000, 440000, 418000, 500067, 260116, 317000, 319500, 325624, 372000, 342000, 354000, 350000, 285000, 281500, 245700, 232698, 250000, 194700, 204000, 200000, 207000, 209500, 209500, 202500, 280000, 277500, 318061, 221370, 200000, 176000, 178900, 168165, 171925, 198444, 203000, 179540, 176485, 181134, 156932, 166000, 177594, 173500, 172500, 194201, 226500, 185485, 259000, 188500, 175000, 215000, 206580, 183500, 211000, 181000, 219500, 175000, 170000, 162000, 187000, 185000, 745000, 384500, 248000, 466500, 410000, 322500, 252000, 755000, 269790, 315750, 290000, 290000, 430000, 263000, 330000, 213133, 260261, 320000, 282922, 215000, 419005, 255000, 147000, 311872, 248328, 227000, 260000, 225000, 249000, 307000, 250000, 221300, 208900, 210400, 255000, 212109, 270000, 303477, 249700, 227875, 261329, 253000, 265000, 340000, 146000, 147000, 149000, 181000, 201000, 191750, 179000, 215000, 179200, 128000, 144000, 144000, 120750, 132500, 132000, 132500, 129000, 143900, 145000, 128500, 125500, 300000, 294000, 129000, 171000, 147000, 302000, 285000, 214000, 166000, 193800, 208900, 194000, 164700, 176500, 176000, 168500, 177000, 177000, 148800, 174000, 239000, 204000, 301000, 312500, 279700, 255000, 194000, 218000, 213750, 187000, 181500, 373000, 190000, 226000, 143450, 240050, 162500, 164000, 185000, 188500, 255000, 136905, 158500, 175500, 127000, 127000, 143000, 156000, 144000, 119000, 103000, 139900, 151500, 126500, 145000, 120000, 124000, 106500, 140500, 137500, 117600, 163500, 161000, 158000, 224500, 147000, 200000, 181900, 150750, 101800, 124000, 138500, 39300, 64500, 64000, 112000, 165000, 144000, 137000, 105000, 146500, 126000, 175000, 158500, 114500, 144000, 129000, 141000, 131000, 142100, 139000, 157900, 139400, 150000, 120000, 174850, 116000, 135000, 163500, 130000, 129500, 142000, 128600, 125000, 136000, 134500, 127000, 130000, 115000, 116900, 132000, 153000, 112500, 138000, 135000, 156000, 301600, 109000, 103200, 128500, 64500, 148000, 86000, 172000, 120000, 128500, 135000, 122900, 119200, 143000, 119000, 102000, 129000, 135000, 152000, 140000, 152000, 156500, 141000, 99000, 187000, 169500, 125500, 130000, 103000, 132000, 127500, 89500, 140000, 99900, 100000, 130000, 135000, 120000, 89471, 85000, 108500, 137000, 110500, 100000, 184900, 145000, 125000, 114000, 90000, 144100, 117500, 124500, 185000, 133900, 152000, 153500, 159500, 87000, 104500, 110000, 136500, 128250, 144000, 210000, 135000, 128000, 131000, 113000, 126000, 132000, 131750, 132500, 137500, 132000, 127500, 102000, 200000, 180500, 165000, 90000, 153575, 140000, 136000, 113000, 117000, 169500, 139400, 202500, 127000, 141000, 212300, 161000, 99500, 101000, 109900, 128500, 122000, 87000, 50000, 219000, 200500, 126000, 108500, 130000, 158450, 115400, 118500, 165000, 123000, 129000, 125000, 108000, 119900, 115000, 134500, 127000, 129000, 143500, 129000, 187000, 158000, 112000, 165250, 150000, 137000, 89500, 302000, 182000, 211000, 216000, 130000, 109900, 255000, 243000, 154000, 118000, 80000, 150000, 86000, 130000, 125000, 136500, 96000, 120000, 228500, 179900, 225000, 301000, 238000, 228500, 220000, 383970, 424870, 250000, 360000, 279500, 200141, 246500, 276000, 203000, 155835, 194000, 195400, 217000, 212999, 175900, 191000, 176432, 277000, 207000, 277000, 240000, 187500, 279000, 139500, 126000, 177500, 175000, 211000, 146000, 147900, 123600, 204750, 235500, 217000, 190550, 217500, 226000, 180000, 131000, 153500, 160000, 134900, 130000, 120000, 112500, 122000, 127000, 117000, 305900, 228500, 270000, 192000, 213000, 200000, 267000, 228000, 275000, 211000, 285000, 240000, 131500, 246900, 219500, 185000, 179400, 213500, 179600, 173500, 167840, 168675, 167000, 140000, 118500, 110000, 94750, 122000, 110000, 118500, 133500, 148000, 141000, 155000, 157000, 171500, 183850, 184750, 140000, 131750, 61500, 111000, 98500, 79000, 108500, 110000, 112000, 125000, 79275, 119000, 200000, 150000, 165000, 96500, 136500, 146500, 175000, 148500, 141500, 189950, 135000, 164000, 90350, 139000, 119750, 145000, 145000, 238000, 153500, 239000, 359100, 188000, 220000, 140000, 315000, 259500, 257500, 219500, 217000, 201000, 215000, 123900, 170000, 200000, 198000, 315000, 115000, 141000, 87000, 129850, 100000, 150909, 75200, 118400, 67000, 152000, 68104, 119600, 140000, 124900, 375000, 235000, 183500, 156000, 134000, 215000, 245000, 210000, 148000, 143000, 244000, 330000, 170000, 257000, 231713, 265900, 239000, 248900, 174000, 187500, 204000, 180500, 187500, 282000, 178000, 270000, 279900, 186700, 283463, 392000, 281213, 147000, 130000, 140000, 132250, 143000, 168000, 129900, 134000, 85500, 106500, 93900, 75000, 84500, 75190, 146800, 153500, 188000, 196000, 157000, 138000, 129500, 80000, 129500, 135000, 124500, 139000, 93500, 124500, 149900, 157500, 169000, 252000, 192100, 183500, 222000, 170000, 187500, 202000, 185000, 320000, 240000, 250000, 239900, 309000, 274725, 270000, 183500, 165600, 176500, 130000, 239000, 275000, 457347, 545224, 356383, 556581, 361919, 535000, 401179, 438780, 169000, 145000, 318000, 319000, 470000, 202500, 229000, 235000, 190000, 169000, 241500, 188900, 207500, 250000, 179900, 172000, 294323, 184500, 153500, 162900, 181000, 155000, 138800, 116050, 88000, 97500, 190000, 105500, 125500, 83000, 116000, 91500, 118000, 89000, 108000, 94500, 146300, 145000, 123000, 137500, 144000, 315000, 412083, 342643, 252000, 293000, 415000, 326000, 325300, 309000, 300000, 275500, 338500, 345000, 298236, 329900, 360000, 281000, 372397, 378000, 374000, 437154, 275000, 279000, 185850, 282500, 202500, 202665, 332200, 310090, 171750, 169990, 170440, 169985, 179665, 219210, 174190, 172785, 258000, 185101, 210250, 234000, 215000, 246990, 178740, 225000, 167240, 156820, 213490, 264561, 246578, 192140, 183200, 178000, 201490, 230500, 180000, 172400, 215000, 199900, 173000, 287602, 230000, 348000, 286000, 300000, 625000, 405000, 280000, 258000, 350000, 584500, 321000, 290000, 315000, 252000, 423000, 290000, 232000, 199000, 198600, 405749, 232600, 266000, 186500, 200825, 197000, 185000, 176000, 187750, 139500, 186800, 132000, 142500, 158000, 184000, 184900, 187000, 175900, 248500, 172000, 151000, 150000, 107000, 119900, 129500, 125000, 119500, 144000, 151000, 126000, 116000, 133500, 120875, 137000, 124000, 135000, 129200, 260000, 260000, 334000, 310000, 268000, 262000, 176400, 197000, 151000, 147400, 149900, 144152, 166000, 183900, 165000, 139000, 200000, 221000, 270000, 165000, 214000, 188000, 190000, 170000, 385000, 146500, 170000, 262500, 179900, 250000, 165150, 164500, 140000, 135500, 142000, 155000, 157500, 138500, 140000, 124400, 158000, 146000, 190000, 136500, 129900, 145000, 185900, 160000, 167000, 157500, 140000, 150000, 151500, 129800, 137000, 137000, 121600, 85500, 79900, 127000, 161000, 146500, 135000, 137900, 133000, 137000, 121000, 119000, 172000, 98600, 226000, 118000, 235000, 135000, 132500, 143000, 132000, 145250, 162000, 148000, 141000, 153000, 134450, 135960, 156000, 140000, 139500, 155000, 127000, 133500, 125000, 142000, 167000, 159000, 180000, 127000, 112000, 99800, 117000, 108480, 68000, 86900, 120000, 155500, 80000, 105000, 160000, 170000, 160000, 159950, 165000, 159000, 147000, 115000, 159500, 120000, 129900, 183000, 157500, 277500, 207500, 147500, 135000, 109500, 109900, 133700, 81400, 87500, 93500, 119000, 141000, 146000, 155000, 134500, 120000, 105000, 124000, 169000, 107000, 135000, 111500, 156500, 178000, 139900, 105000, 110000, 111500, 108000, 111500, 124000, 105000, 116000, 96900, 135500, 139000, 61500, 120000, 126175, 64000, 137000, 87000, 163000, 155000, 79000, 144000, 114504, 157000, 125000, 475000, 93500, 125000, 64500, 100000, 140200, 202500, 159000, 119900, 114500, 115000, 75000, 88000, 80500, 149000, 110000, 110500, 89000, 113000, 109000, 220000, 129000, 117000, 52500, 107000, 116500, 72000, 119500, 125500, 91000, 84500, 90000, 137500, 150000, 131000, 130000, 125000, 80000, 157000, 148000, 90000, 154500, 153600, 164500, 132000, 142500, 158000, 149500, 165000, 180000, 160500, 156500, 157000, 172500, 155000, 170000, 105000, 145000, 168000, 278000, 164000, 225000, 130000, 142500, 148400, 190000, 146000, 128000, 225000, 274970, 235000, 415000, 182000, 135000, 137000, 136900, 149900, 123500, 93000, 91500, 180000, 209000, 215000, 224500, 229800, 183600, 194000, 193879, 221500, 204900, 239799, 233555, 260000, 294900, 209700, 225000, 181000, 220000, 190000, 180000, 280000, 158900, 148000, 145000, 187000, 193000, 156000, 235000, 217000, 214000, 196000, 217000, 200000, 192500, 205000, 132500, 157500, 174000, 128500, 128500, 149900, 119900, 137000, 255000, 222000, 214000, 220000, 275000, 197000, 230000, 268500, 210900, 227000, 237000, 274300, 216837, 133000, 155900, 233230, 207000, 195000, 200000, 203160, 195800, 212900, 196500, 198000, 173900, 163990, 164990, 98000, 149900, 102000, 127500, 127500, 119900, 196500, 229000, 145000, 140000, 142500, 134000, 130000, 130000, 137500, 130000, 97900, 92000, 107000, 81000, 104900, 115000, 125000, 116000, 83000, 118500, 35000, 121000, 160000, 140000, 137000, 128000, 160000, 138887, 149000, 102000, 167000, 200100, 131000, 112000, 140000, 195000, 230000, 194000, 137500, 250000, 218000, 239000, 199500, 210000, 230000, 217500, 257000, 157000, 223000, 102000, 145400, 72000, 85000, 106500, 139000, 108000, 51689, 35311, 115000, 78000, 375000, 300000, 242500, 145000, 209000, 135000, 148000, 171000, 335000, 230000, 250764, 228000, 176000, 180000, 250000, 202000, 312500, 320000, 369900, 359900, 81500, 215000, 164000, 153500, 84500, 104500, 127000, 151400, 126500, 146500, 73000, 79400, 140000, 92000, 87550, 79500, 90500, 71000, 150900, 188000, 160000, 131000, 142500, 131000, 132000, 170000, 188000], \"yaxis\": \"y\"}, {\"hoverlabel\": {\"namelength\": 0}, \"hovertemplate\": \"<b>OLS trendline</b><br>SalePrice = 128.539255 * 1st_Flr_SF + 31502.168391<br>R<sup>2</sup>=0.391278<br><br>1st_Flr_SF=%{x}<br>SalePrice=%{y} <b>(trend)</b>\", \"legendgroup\": \"\", \"marker\": {\"color\": \"#636efa\", \"symbol\": \"circle\"}, \"mode\": \"lines\", \"name\": \"\", \"showlegend\": false, \"type\": \"scattergl\", \"x\": [334, 372, 407, 432, 438, 442, 448, 453, 480, 483, 483, 483, 483, 483, 483, 483, 483, 483, 483, 483, 483, 483, 492, 494, 495, 498, 502, 516, 516, 520, 520, 520, 520, 520, 520, 525, 525, 525, 525, 525, 526, 526, 526, 529, 530, 530, 530, 536, 540, 546, 546, 546, 546, 546, 546, 546, 546, 546, 546, 546, 546, 546, 546, 546, 548, 551, 561, 561, 561, 565, 567, 572, 572, 572, 575, 576, 576, 581, 585, 596, 599, 600, 600, 600, 600, 600, 600, 600, 605, 608, 608, 608, 608, 612, 612, 612, 616, 616, 616, 616, 616, 616, 616, 617, 621, 624, 624, 624, 624, 624, 624, 624, 625, 625, 626, 628, 628, 630, 630, 630, 630, 630, 630, 630, 630, 630, 630, 630, 630, 630, 636, 640, 640, 641, 646, 647, 649, 658, 660, 660, 660, 661, 662, 663, 664, 664, 665, 666, 671, 672, 672, 672, 672, 672, 672, 672, 672, 672, 672, 672, 672, 672, 672, 672, 672, 672, 673, 676, 676, 676, 679, 680, 680, 680, 680, 682, 684, 684, 684, 684, 684, 684, 686, 686, 686, 687, 687, 689, 689, 691, 691, 691, 693, 694, 694, 694, 696, 697, 697, 698, 698, 698, 698, 698, 698, 698, 698, 702, 703, 703, 704, 704, 707, 707, 707, 708, 708, 709, 712, 713, 713, 713, 714, 715, 716, 716, 716, 717, 720, 720, 720, 720, 720, 720, 720, 720, 720, 720, 723, 725, 725, 725, 725, 725, 725, 727, 728, 728, 728, 728, 728, 728, 728, 728, 728, 728, 728, 728, 729, 729, 729, 729, 730, 732, 732, 733, 734, 734, 734, 735, 735, 736, 736, 738, 738, 738, 738, 738, 738, 740, 741, 741, 741, 742, 742, 742, 743, 744, 744, 744, 744, 744, 745, 747, 747, 747, 750, 751, 751, 751, 752, 752, 752, 753, 754, 754, 754, 754, 755, 755, 756, 756, 756, 756, 756, 756, 756, 757, 757, 757, 757, 759, 759, 760, 760, 760, 760, 761, 763, 764, 764, 764, 764, 764, 764, 764, 764, 765, 765, 765, 765, 765, 767, 768, 768, 768, 768, 768, 768, 768, 768, 768, 768, 768, 768, 769, 769, 769, 770, 772, 773, 773, 773, 774, 774, 774, 774, 774, 774, 774, 774, 778, 778, 778, 779, 779, 780, 780, 780, 780, 780, 780, 780, 780, 780, 781, 782, 783, 784, 784, 784, 784, 784, 784, 786, 786, 788, 788, 788, 788, 789, 789, 789, 790, 790, 792, 792, 792, 792, 792, 792, 793, 793, 794, 795, 796, 796, 796, 796, 796, 796, 796, 796, 797, 798, 798, 798, 798, 798, 798, 798, 799, 799, 800, 800, 801, 801, 802, 802, 803, 803, 804, 804, 804, 804, 804, 804, 804, 806, 806, 806, 807, 807, 808, 808, 808, 808, 808, 808, 810, 810, 810, 810, 810, 810, 810, 811, 811, 812, 812, 813, 813, 813, 814, 815, 816, 816, 816, 816, 816, 816, 816, 816, 816, 816, 816, 816, 816, 816, 816, 816, 816, 816, 818, 818, 819, 819, 819, 819, 820, 820, 821, 822, 824, 824, 825, 825, 825, 825, 825, 825, 825, 827, 827, 827, 827, 828, 829, 830, 831, 831, 831, 831, 832, 832, 832, 832, 832, 832, 832, 832, 832, 832, 832, 832, 832, 833, 833, 833, 833, 833, 833, 834, 835, 835, 835, 836, 836, 838, 838, 840, 840, 840, 840, 840, 840, 840, 840, 840, 840, 840, 841, 841, 842, 844, 844, 844, 845, 845, 845, 845, 845, 845, 845, 846, 846, 846, 846, 847, 847, 847, 847, 847, 847, 847, 848, 848, 848, 848, 848, 848, 848, 848, 848, 848, 848, 848, 848, 848, 848, 848, 848, 848, 849, 851, 851, 851, 851, 853, 854, 854, 854, 854, 854, 855, 855, 855, 855, 855, 855, 855, 855, 855, 856, 856, 856, 858, 858, 858, 858, 858, 858, 859, 860, 860, 860, 860, 861, 861, 861, 861, 861, 862, 864, 864, 864, 864, 864, 864, 864, 864, 864, 864, 864, 864, 864, 864, 864, 864, 864, 864, 864, 864, 864, 864, 864, 864, 864, 864, 864, 864, 864, 864, 864, 864, 864, 864, 864, 864, 864, 864, 864, 864, 864, 864, 864, 864, 864, 864, 865, 866, 866, 866, 866, 866, 866, 867, 868, 868, 868, 868, 869, 869, 869, 871, 872, 872, 872, 872, 872, 872, 873, 874, 874, 874, 874, 874, 874, 874, 875, 875, 876, 876, 876, 876, 876, 877, 878, 879, 879, 879, 879, 880, 880, 880, 880, 882, 882, 882, 882, 882, 882, 882, 882, 882, 883, 884, 884, 884, 884, 884, 884, 884, 884, 884, 885, 885, 886, 886, 886, 887, 887, 888, 888, 888, 888, 888, 889, 889, 890, 891, 892, 892, 892, 892, 892, 892, 892, 892, 893, 894, 894, 894, 894, 894, 894, 894, 894, 894, 894, 894, 894, 894, 894, 894, 894, 894, 895, 896, 896, 896, 896, 896, 896, 897, 897, 898, 899, 899, 899, 900, 900, 900, 900, 900, 901, 901, 901, 901, 902, 902, 902, 902, 903, 904, 904, 904, 904, 904, 904, 905, 907, 907, 907, 908, 908, 909, 909, 909, 909, 910, 910, 910, 910, 910, 910, 910, 912, 912, 912, 912, 912, 912, 912, 912, 912, 912, 912, 912, 912, 912, 912, 912, 912, 912, 912, 913, 913, 914, 914, 914, 914, 914, 915, 916, 916, 916, 916, 916, 918, 918, 918, 918, 919, 920, 920, 920, 920, 922, 923, 923, 924, 924, 924, 925, 925, 925, 925, 925, 925, 925, 925, 926, 926, 926, 926, 926, 926, 927, 928, 928, 928, 928, 928, 928, 928, 928, 928, 929, 929, 930, 930, 930, 930, 930, 932, 932, 932, 932, 933, 933, 934, 935, 936, 936, 936, 936, 936, 936, 936, 936, 936, 936, 936, 936, 936, 936, 936, 936, 936, 938, 938, 939, 939, 940, 940, 940, 941, 941, 941, 941, 942, 942, 943, 943, 943, 943, 943, 944, 944, 944, 944, 944, 945, 945, 945, 945, 946, 946, 947, 948, 948, 948, 948, 948, 948, 948, 948, 949, 949, 949, 950, 950, 950, 950, 951, 951, 951, 952, 952, 952, 952, 952, 952, 952, 953, 953, 954, 954, 954, 955, 955, 955, 955, 956, 956, 957, 958, 958, 958, 958, 958, 958, 958, 959, 959, 959, 960, 960, 960, 960, 960, 960, 960, 960, 960, 960, 960, 960, 960, 960, 960, 960, 960, 960, 961, 961, 961, 962, 962, 962, 963, 964, 964, 964, 964, 964, 964, 965, 965, 966, 967, 967, 968, 968, 968, 968, 969, 969, 970, 970, 970, 970, 970, 970, 971, 972, 972, 972, 972, 972, 974, 975, 975, 975, 976, 976, 976, 976, 976, 976, 977, 978, 979, 979, 979, 980, 980, 980, 980, 980, 980, 981, 981, 981, 982, 983, 983, 983, 983, 984, 984, 984, 984, 984, 984, 985, 985, 985, 986, 986, 986, 988, 988, 988, 988, 988, 988, 988, 988, 988, 988, 988, 989, 990, 990, 990, 990, 990, 990, 990, 990, 990, 991, 991, 992, 992, 992, 992, 992, 993, 993, 993, 994, 995, 996, 996, 996, 997, 997, 997, 998, 998, 999, 999, 999, 999, 1000, 1000, 1001, 1001, 1001, 1001, 1001, 1002, 1002, 1003, 1004, 1004, 1004, 1004, 1005, 1005, 1005, 1005, 1005, 1006, 1006, 1006, 1007, 1007, 1008, 1008, 1008, 1008, 1008, 1008, 1008, 1008, 1008, 1008, 1008, 1009, 1010, 1012, 1012, 1012, 1012, 1013, 1013, 1014, 1014, 1014, 1014, 1014, 1015, 1016, 1017, 1019, 1020, 1020, 1020, 1020, 1020, 1020, 1021, 1022, 1022, 1022, 1022, 1022, 1022, 1024, 1024, 1024, 1024, 1024, 1025, 1025, 1026, 1026, 1026, 1026, 1026, 1026, 1026, 1027, 1027, 1027, 1028, 1028, 1029, 1029, 1030, 1031, 1032, 1032, 1032, 1032, 1032, 1033, 1034, 1034, 1034, 1034, 1034, 1035, 1035, 1036, 1036, 1036, 1036, 1037, 1037, 1038, 1038, 1039, 1040, 1040, 1040, 1040, 1040, 1040, 1040, 1040, 1040, 1040, 1040, 1040, 1040, 1040, 1040, 1040, 1040, 1040, 1040, 1040, 1040, 1040, 1040, 1040, 1040, 1040, 1040, 1040, 1041, 1041, 1041, 1042, 1042, 1043, 1044, 1044, 1044, 1044, 1044, 1045, 1045, 1047, 1048, 1048, 1048, 1048, 1048, 1049, 1050, 1050, 1050, 1050, 1050, 1050, 1051, 1051, 1051, 1052, 1052, 1052, 1052, 1052, 1052, 1052, 1053, 1053, 1053, 1053, 1053, 1054, 1054, 1054, 1054, 1055, 1055, 1055, 1055, 1055, 1055, 1055, 1055, 1056, 1056, 1056, 1056, 1056, 1056, 1056, 1057, 1057, 1057, 1057, 1057, 1058, 1058, 1058, 1059, 1060, 1060, 1060, 1060, 1060, 1061, 1061, 1062, 1062, 1062, 1063, 1064, 1064, 1064, 1064, 1064, 1065, 1065, 1065, 1067, 1067, 1068, 1068, 1068, 1068, 1069, 1069, 1069, 1070, 1071, 1072, 1072, 1072, 1072, 1072, 1072, 1072, 1072, 1072, 1072, 1072, 1072, 1073, 1073, 1073, 1073, 1073, 1073, 1074, 1074, 1074, 1074, 1075, 1075, 1076, 1077, 1077, 1077, 1078, 1078, 1078, 1079, 1079, 1079, 1079, 1080, 1080, 1080, 1080, 1080, 1080, 1081, 1081, 1082, 1082, 1082, 1082, 1083, 1084, 1084, 1085, 1085, 1086, 1086, 1086, 1086, 1088, 1088, 1088, 1088, 1088, 1088, 1088, 1089, 1089, 1090, 1090, 1090, 1091, 1091, 1091, 1091, 1092, 1092, 1092, 1092, 1092, 1092, 1092, 1093, 1093, 1093, 1093, 1094, 1094, 1094, 1094, 1095, 1095, 1095, 1095, 1096, 1096, 1096, 1096, 1096, 1097, 1097, 1097, 1097, 1098, 1098, 1098, 1099, 1100, 1100, 1100, 1100, 1100, 1101, 1101, 1102, 1102, 1102, 1103, 1103, 1104, 1104, 1104, 1104, 1105, 1105, 1105, 1105, 1105, 1107, 1107, 1108, 1108, 1108, 1108, 1109, 1110, 1112, 1112, 1112, 1112, 1112, 1113, 1113, 1113, 1114, 1114, 1114, 1114, 1114, 1114, 1114, 1116, 1116, 1116, 1117, 1117, 1117, 1117, 1117, 1118, 1118, 1118, 1119, 1120, 1120, 1120, 1120, 1120, 1120, 1121, 1121, 1122, 1122, 1122, 1124, 1124, 1125, 1125, 1125, 1126, 1126, 1126, 1126, 1127, 1127, 1127, 1128, 1128, 1128, 1128, 1128, 1128, 1129, 1130, 1130, 1131, 1131, 1131, 1132, 1132, 1133, 1133, 1133, 1134, 1134, 1134, 1136, 1136, 1136, 1136, 1137, 1137, 1138, 1138, 1138, 1140, 1140, 1140, 1141, 1141, 1141, 1142, 1142, 1142, 1142, 1142, 1142, 1143, 1143, 1143, 1143, 1143, 1144, 1144, 1144, 1144, 1144, 1144, 1144, 1144, 1145, 1145, 1145, 1145, 1146, 1146, 1146, 1146, 1147, 1148, 1148, 1148, 1148, 1149, 1149, 1149, 1150, 1150, 1150, 1150, 1151, 1151, 1152, 1152, 1152, 1152, 1152, 1152, 1152, 1152, 1152, 1152, 1153, 1153, 1154, 1154, 1154, 1155, 1156, 1156, 1157, 1157, 1158, 1158, 1158, 1158, 1159, 1160, 1160, 1160, 1160, 1161, 1162, 1163, 1163, 1164, 1164, 1164, 1164, 1164, 1164, 1165, 1165, 1165, 1166, 1166, 1166, 1167, 1167, 1168, 1168, 1168, 1168, 1168, 1168, 1169, 1169, 1170, 1170, 1170, 1170, 1172, 1172, 1173, 1174, 1175, 1175, 1175, 1175, 1176, 1176, 1176, 1177, 1178, 1178, 1178, 1179, 1179, 1180, 1180, 1180, 1181, 1182, 1182, 1182, 1182, 1183, 1184, 1186, 1187, 1187, 1187, 1187, 1188, 1188, 1188, 1188, 1188, 1189, 1190, 1190, 1190, 1190, 1191, 1192, 1193, 1193, 1194, 1194, 1195, 1195, 1195, 1196, 1196, 1196, 1199, 1200, 1200, 1200, 1200, 1200, 1200, 1200, 1200, 1200, 1202, 1203, 1204, 1204, 1204, 1204, 1205, 1206, 1207, 1207, 1208, 1208, 1208, 1208, 1209, 1210, 1210, 1210, 1211, 1211, 1211, 1212, 1212, 1212, 1212, 1212, 1214, 1214, 1214, 1214, 1215, 1215, 1216, 1216, 1216, 1216, 1216, 1216, 1216, 1216, 1217, 1217, 1217, 1218, 1218, 1218, 1218, 1218, 1220, 1220, 1220, 1220, 1220, 1220, 1221, 1221, 1222, 1222, 1222, 1223, 1223, 1224, 1224, 1224, 1224, 1224, 1225, 1225, 1226, 1226, 1226, 1226, 1226, 1226, 1226, 1226, 1226, 1226, 1228, 1228, 1229, 1229, 1230, 1232, 1232, 1232, 1232, 1234, 1234, 1235, 1235, 1236, 1236, 1236, 1236, 1236, 1236, 1238, 1238, 1239, 1240, 1240, 1240, 1242, 1242, 1242, 1242, 1244, 1245, 1245, 1246, 1246, 1246, 1246, 1247, 1248, 1248, 1248, 1249, 1251, 1251, 1251, 1252, 1252, 1252, 1253, 1253, 1254, 1254, 1254, 1256, 1256, 1256, 1256, 1258, 1258, 1258, 1258, 1260, 1260, 1261, 1262, 1262, 1262, 1264, 1264, 1264, 1265, 1265, 1266, 1266, 1266, 1268, 1268, 1268, 1269, 1269, 1270, 1271, 1271, 1272, 1272, 1272, 1273, 1274, 1276, 1276, 1276, 1277, 1277, 1277, 1278, 1278, 1279, 1280, 1280, 1280, 1280, 1281, 1282, 1282, 1283, 1284, 1284, 1285, 1285, 1285, 1286, 1287, 1287, 1287, 1288, 1288, 1290, 1290, 1291, 1291, 1292, 1293, 1294, 1294, 1295, 1295, 1295, 1296, 1296, 1296, 1296, 1297, 1298, 1298, 1298, 1298, 1299, 1299, 1299, 1301, 1301, 1301, 1302, 1302, 1302, 1302, 1302, 1302, 1302, 1304, 1305, 1306, 1306, 1306, 1306, 1306, 1307, 1308, 1308, 1309, 1310, 1310, 1310, 1312, 1312, 1312, 1313, 1313, 1313, 1313, 1314, 1314, 1314, 1314, 1314, 1316, 1316, 1316, 1318, 1319, 1320, 1320, 1320, 1321, 1324, 1324, 1324, 1324, 1324, 1325, 1325, 1326, 1326, 1327, 1328, 1328, 1328, 1328, 1329, 1329, 1330, 1332, 1332, 1334, 1334, 1335, 1335, 1336, 1336, 1336, 1336, 1337, 1337, 1337, 1337, 1337, 1337, 1337, 1337, 1337, 1337, 1338, 1338, 1338, 1338, 1339, 1339, 1340, 1340, 1341, 1341, 1341, 1342, 1342, 1342, 1342, 1344, 1344, 1344, 1344, 1344, 1346, 1347, 1349, 1350, 1350, 1350, 1352, 1352, 1352, 1352, 1353, 1356, 1357, 1358, 1358, 1358, 1358, 1358, 1358, 1358, 1358, 1360, 1360, 1360, 1360, 1361, 1361, 1362, 1362, 1362, 1362, 1362, 1363, 1363, 1364, 1364, 1364, 1364, 1365, 1366, 1367, 1368, 1368, 1368, 1368, 1369, 1370, 1370, 1370, 1370, 1370, 1372, 1372, 1372, 1373, 1374, 1375, 1375, 1375, 1376, 1377, 1377, 1377, 1378, 1378, 1378, 1380, 1381, 1382, 1382, 1382, 1382, 1383, 1383, 1383, 1383, 1384, 1384, 1387, 1388, 1389, 1390, 1390, 1390, 1390, 1391, 1391, 1392, 1392, 1392, 1392, 1392, 1392, 1392, 1394, 1395, 1398, 1400, 1402, 1402, 1402, 1403, 1403, 1404, 1405, 1405, 1405, 1407, 1409, 1411, 1411, 1411, 1412, 1414, 1414, 1414, 1414, 1414, 1416, 1417, 1418, 1418, 1419, 1419, 1419, 1420, 1422, 1422, 1422, 1422, 1422, 1422, 1422, 1423, 1424, 1424, 1425, 1425, 1426, 1426, 1427, 1428, 1429, 1430, 1430, 1430, 1431, 1431, 1432, 1432, 1432, 1433, 1433, 1434, 1434, 1436, 1436, 1437, 1437, 1440, 1440, 1440, 1440, 1440, 1440, 1440, 1442, 1442, 1442, 1442, 1444, 1444, 1444, 1445, 1445, 1445, 1448, 1450, 1452, 1453, 1453, 1453, 1454, 1455, 1456, 1456, 1458, 1459, 1462, 1463, 1464, 1464, 1465, 1466, 1466, 1466, 1466, 1468, 1468, 1468, 1468, 1469, 1470, 1472, 1472, 1473, 1474, 1476, 1476, 1478, 1478, 1478, 1478, 1478, 1479, 1479, 1479, 1480, 1482, 1482, 1482, 1483, 1484, 1484, 1484, 1486, 1486, 1487, 1488, 1488, 1488, 1488, 1488, 1489, 1489, 1490, 1491, 1491, 1492, 1492, 1493, 1494, 1494, 1494, 1494, 1494, 1494, 1494, 1495, 1496, 1496, 1496, 1497, 1498, 1498, 1500, 1500, 1500, 1500, 1501, 1501, 1501, 1502, 1502, 1502, 1504, 1504, 1504, 1504, 1505, 1506, 1506, 1506, 1507, 1508, 1508, 1509, 1509, 1510, 1511, 1511, 1512, 1512, 1513, 1513, 1515, 1516, 1516, 1518, 1518, 1518, 1518, 1520, 1520, 1521, 1522, 1523, 1524, 1525, 1525, 1526, 1528, 1530, 1530, 1530, 1531, 1531, 1532, 1533, 1533, 1534, 1535, 1535, 1535, 1535, 1536, 1537, 1537, 1538, 1539, 1540, 1541, 1541, 1542, 1542, 1544, 1544, 1546, 1547, 1548, 1548, 1549, 1552, 1553, 1553, 1554, 1554, 1555, 1555, 1556, 1557, 1557, 1558, 1559, 1560, 1560, 1560, 1560, 1560, 1560, 1561, 1561, 1563, 1564, 1565, 1565, 1565, 1565, 1566, 1567, 1567, 1567, 1567, 1568, 1568, 1569, 1570, 1571, 1572, 1572, 1573, 1574, 1575, 1575, 1575, 1575, 1576, 1576, 1576, 1577, 1578, 1578, 1580, 1580, 1580, 1582, 1582, 1582, 1584, 1584, 1584, 1584, 1586, 1587, 1588, 1588, 1588, 1589, 1590, 1592, 1593, 1594, 1595, 1595, 1599, 1600, 1600, 1600, 1601, 1601, 1602, 1602, 1604, 1604, 1606, 1608, 1610, 1610, 1610, 1611, 1611, 1612, 1614, 1614, 1614, 1615, 1616, 1616, 1617, 1618, 1619, 1620, 1620, 1620, 1621, 1621, 1622, 1624, 1624, 1625, 1625, 1625, 1625, 1625, 1626, 1627, 1629, 1629, 1630, 1630, 1630, 1632, 1632, 1632, 1634, 1636, 1636, 1638, 1640, 1640, 1641, 1643, 1644, 1644, 1645, 1646, 1646, 1646, 1646, 1646, 1646, 1647, 1647, 1648, 1648, 1650, 1651, 1651, 1651, 1652, 1652, 1652, 1652, 1652, 1654, 1656, 1656, 1656, 1657, 1658, 1659, 1660, 1660, 1661, 1661, 1662, 1663, 1664, 1664, 1664, 1664, 1666, 1668, 1668, 1670, 1671, 1671, 1671, 1673, 1675, 1675, 1675, 1676, 1678, 1679, 1680, 1680, 1680, 1680, 1680, 1682, 1682, 1684, 1685, 1686, 1686, 1686, 1687, 1687, 1687, 1688, 1689, 1689, 1689, 1689, 1689, 1690, 1691, 1694, 1694, 1694, 1694, 1694, 1696, 1696, 1696, 1698, 1698, 1699, 1699, 1700, 1700, 1700, 1701, 1702, 1702, 1704, 1707, 1707, 1709, 1710, 1710, 1710, 1712, 1712, 1713, 1714, 1717, 1718, 1718, 1718, 1719, 1720, 1720, 1721, 1721, 1721, 1721, 1722, 1724, 1726, 1726, 1728, 1728, 1728, 1728, 1728, 1728, 1728, 1728, 1728, 1728, 1733, 1734, 1734, 1734, 1734, 1736, 1738, 1740, 1740, 1740, 1742, 1742, 1743, 1743, 1746, 1752, 1760, 1764, 1766, 1766, 1766, 1768, 1771, 1773, 1776, 1776, 1778, 1779, 1779, 1780, 1782, 1782, 1786, 1787, 1788, 1790, 1792, 1792, 1794, 1795, 1795, 1797, 1800, 1800, 1800, 1800, 1800, 1801, 1802, 1803, 1803, 1804, 1808, 1811, 1816, 1822, 1824, 1824, 1824, 1826, 1827, 1828, 1828, 1829, 1830, 1831, 1832, 1836, 1836, 1836, 1836, 1838, 1838, 1838, 1838, 1839, 1842, 1844, 1844, 1844, 1846, 1848, 1850, 1850, 1850, 1851, 1856, 1866, 1866, 1867, 1868, 1869, 1872, 1884, 1884, 1888, 1898, 1898, 1900, 1902, 1905, 1906, 1921, 1922, 1922, 1929, 1932, 1933, 1940, 1940, 1943, 1944, 1949, 1950, 1959, 1960, 1964, 1966, 1966, 1967, 1968, 1973, 1976, 1978, 1978, 1980, 1987, 1992, 2000, 2000, 2000, 2006, 2014, 2018, 2020, 2020, 2020, 2028, 2032, 2034, 2036, 2036, 2036, 2039, 2042, 2042, 2046, 2046, 2048, 2053, 2063, 2064, 2069, 2069, 2071, 2073, 2079, 2084, 2097, 2110, 2113, 2117, 2121, 2122, 2129, 2136, 2140, 2151, 2156, 2158, 2196, 2200, 2207, 2217, 2223, 2234, 2234, 2259, 2276, 2279, 2290, 2338, 2362, 2364, 2365, 2392, 2402, 2411, 2422, 2444, 2452, 2464, 2470, 2490, 2492, 2497, 2522, 2524, 2552, 2633, 2674, 2696, 2726, 2898, 3138, 3228, 4692, 5095], \"xaxis\": \"x\", \"y\": [74434.27948161562, 79318.7711625575, 83817.64507921452, 87031.12644825524, 87802.36197682502, 88316.51899587153, 89087.75452444129, 89730.45079824944, 93201.01067681341, 93586.6284410983, 93586.6284410983, 93586.6284410983, 93586.6284410983, 93586.6284410983, 93586.6284410983, 93586.6284410983, 93586.6284410983, 93586.6284410983, 93586.6284410983, 93586.6284410983, 93586.6284410983, 93586.6284410983, 94743.48173395297, 95000.56024347621, 95129.09949823785, 95514.71726252272, 96028.87428156925, 97828.42384823205, 97828.42384823205, 98342.58086727856, 98342.58086727856, 98342.58086727856, 98342.58086727856, 98342.58086727856, 98342.58086727856, 98985.27714108671, 98985.27714108671, 98985.27714108671, 98985.27714108671, 98985.27714108671, 99113.81639584833, 99113.81639584833, 99113.81639584833, 99499.43416013323, 99627.97341489485, 99627.97341489485, 99627.97341489485, 100399.20894346463, 100913.36596251115, 101684.60149108092, 101684.60149108092, 101684.60149108092, 101684.60149108092, 101684.60149108092, 101684.60149108092, 101684.60149108092, 101684.60149108092, 101684.60149108092, 101684.60149108092, 101684.60149108092, 101684.60149108092, 101684.60149108092, 101684.60149108092, 101684.60149108092, 101941.68000060417, 102327.29776488905, 103612.69031250535, 103612.69031250535, 103612.69031250535, 104126.84733155186, 104383.92584107512, 105026.62211488326, 105026.62211488326, 105026.62211488326, 105412.23987916815, 105540.77913392978, 105540.77913392978, 106183.47540773792, 106697.63242678443, 108111.56422916235, 108497.18199344724, 108625.72124820887, 108625.72124820887, 108625.72124820887, 108625.72124820887, 108625.72124820887, 108625.72124820887, 108625.72124820887, 109268.41752201701, 109654.03528630189, 109654.03528630189, 109654.03528630189, 109654.03528630189, 110168.1923053484, 110168.1923053484, 110168.1923053484, 110682.34932439492, 110682.34932439492, 110682.34932439492, 110682.34932439492, 110682.34932439492, 110682.34932439492, 110682.34932439492, 110810.88857915656, 111325.04559820307, 111710.66336248796, 111710.66336248796, 111710.66336248796, 111710.66336248796, 111710.66336248796, 111710.66336248796, 111710.66336248796, 111839.20261724958, 111839.20261724958, 111967.74187201122, 112224.82038153448, 112224.82038153448, 112481.89889105773, 112481.89889105773, 112481.89889105773, 112481.89889105773, 112481.89889105773, 112481.89889105773, 112481.89889105773, 112481.89889105773, 112481.89889105773, 112481.89889105773, 112481.89889105773, 112481.89889105773, 112481.89889105773, 113253.1344196275, 113767.29143867402, 113767.29143867402, 113895.83069343565, 114538.52696724379, 114667.06622200542, 114924.14473152868, 116080.99802438333, 116338.07653390658, 116338.07653390658, 116338.07653390658, 116466.61578866822, 116595.15504342986, 116723.69429819148, 116852.23355295311, 116852.23355295311, 116980.77280771473, 117109.31206247637, 117752.0083362845, 117880.54759104614, 117880.54759104614, 117880.54759104614, 117880.54759104614, 117880.54759104614, 117880.54759104614, 117880.54759104614, 117880.54759104614, 117880.54759104614, 117880.54759104614, 117880.54759104614, 117880.54759104614, 117880.54759104614, 117880.54759104614, 117880.54759104614, 117880.54759104614, 117880.54759104614, 118009.08684580776, 118394.70461009265, 118394.70461009265, 118394.70461009265, 118780.32237437753, 118908.86162913917, 118908.86162913917, 118908.86162913917, 118908.86162913917, 119165.94013866242, 119423.01864818568, 119423.01864818568, 119423.01864818568, 119423.01864818568, 119423.01864818568, 119423.01864818568, 119680.09715770894, 119680.09715770894, 119680.09715770894, 119808.63641247057, 119808.63641247057, 120065.71492199383, 120065.71492199383, 120322.79343151709, 120322.79343151709, 120322.79343151709, 120579.87194104034, 120708.41119580196, 120708.41119580196, 120708.41119580196, 120965.48970532522, 121094.02896008686, 121094.02896008686, 121222.56821484848, 121222.56821484848, 121222.56821484848, 121222.56821484848, 121222.56821484848, 121222.56821484848, 121222.56821484848, 121222.56821484848, 121736.72523389499, 121865.26448865663, 121865.26448865663, 121993.80374341825, 121993.80374341825, 122379.42150770314, 122379.42150770314, 122379.42150770314, 122507.96076246478, 122507.96076246478, 122636.5000172264, 123022.11778151129, 123150.65703627291, 123150.65703627291, 123150.65703627291, 123279.19629103455, 123407.73554579617, 123536.2748005578, 123536.2748005578, 123536.2748005578, 123664.81405531942, 124050.43181960432, 124050.43181960432, 124050.43181960432, 124050.43181960432, 124050.43181960432, 124050.43181960432, 124050.43181960432, 124050.43181960432, 124050.43181960432, 124050.43181960432, 124436.0495838892, 124693.12809341245, 124693.12809341245, 124693.12809341245, 124693.12809341245, 124693.12809341245, 124693.12809341245, 124950.20660293572, 125078.74585769734, 125078.74585769734, 125078.74585769734, 125078.74585769734, 125078.74585769734, 125078.74585769734, 125078.74585769734, 125078.74585769734, 125078.74585769734, 125078.74585769734, 125078.74585769734, 125078.74585769734, 125207.28511245898, 125207.28511245898, 125207.28511245898, 125207.28511245898, 125335.8243672206, 125592.90287674386, 125592.90287674386, 125721.4421315055, 125849.98138626711, 125849.98138626711, 125849.98138626711, 125978.52064102875, 125978.52064102875, 126107.05989579037, 126107.05989579037, 126364.13840531363, 126364.13840531363, 126364.13840531363, 126364.13840531363, 126364.13840531363, 126364.13840531363, 126621.21691483688, 126749.75616959852, 126749.75616959852, 126749.75616959852, 126878.29542436014, 126878.29542436014, 126878.29542436014, 127006.83467912178, 127135.3739338834, 127135.3739338834, 127135.3739338834, 127135.3739338834, 127135.3739338834, 127263.91318864503, 127520.99169816829, 127520.99169816829, 127520.99169816829, 127906.60946245318, 128035.1487172148, 128035.1487172148, 128035.1487172148, 128163.68797197644, 128163.68797197644, 128163.68797197644, 128292.22722673806, 128420.7664814997, 128420.7664814997, 128420.7664814997, 128420.7664814997, 128549.30573626132, 128549.30573626132, 128677.84499102295, 128677.84499102295, 128677.84499102295, 128677.84499102295, 128677.84499102295, 128677.84499102295, 128677.84499102295, 128806.38424578457, 128806.38424578457, 128806.38424578457, 128806.38424578457, 129063.46275530783, 129063.46275530783, 129192.00201006947, 129192.00201006947, 129192.00201006947, 129192.00201006947, 129320.54126483109, 129577.61977435435, 129706.15902911598, 129706.15902911598, 129706.15902911598, 129706.15902911598, 129706.15902911598, 129706.15902911598, 129706.15902911598, 129706.15902911598, 129834.6982838776, 129834.6982838776, 129834.6982838776, 129834.6982838776, 129834.6982838776, 130091.77679340086, 130220.3160481625, 130220.3160481625, 130220.3160481625, 130220.3160481625, 130220.3160481625, 130220.3160481625, 130220.3160481625, 130220.3160481625, 130220.3160481625, 130220.3160481625, 130220.3160481625, 130220.3160481625, 130348.85530292413, 130348.85530292413, 130348.85530292413, 130477.39455768575, 130734.47306720901, 130863.01232197064, 130863.01232197064, 130863.01232197064, 130991.55157673226, 130991.55157673226, 130991.55157673226, 130991.55157673226, 130991.55157673226, 130991.55157673226, 130991.55157673226, 130991.55157673226, 131505.7085957788, 131505.7085957788, 131505.7085957788, 131634.2478505404, 131634.2478505404, 131762.78710530204, 131762.78710530204, 131762.78710530204, 131762.78710530204, 131762.78710530204, 131762.78710530204, 131762.78710530204, 131762.78710530204, 131762.78710530204, 131891.3263600637, 132019.86561482528, 132148.40486958693, 132276.94412434855, 132276.94412434855, 132276.94412434855, 132276.94412434855, 132276.94412434855, 132276.94412434855, 132534.02263387182, 132534.02263387182, 132791.10114339506, 132791.10114339506, 132791.10114339506, 132791.10114339506, 132919.6403981567, 132919.6403981567, 132919.6403981567, 133048.17965291833, 133048.17965291833, 133305.2581624416, 133305.2581624416, 133305.2581624416, 133305.2581624416, 133305.2581624416, 133305.2581624416, 133433.7974172032, 133433.7974172032, 133562.33667196485, 133690.87592672647, 133819.4151814881, 133819.4151814881, 133819.4151814881, 133819.4151814881, 133819.4151814881, 133819.4151814881, 133819.4151814881, 133819.4151814881, 133947.95443624974, 134076.49369101136, 134076.49369101136, 134076.49369101136, 134076.49369101136, 134076.49369101136, 134076.49369101136, 134076.49369101136, 134205.03294577298, 134205.03294577298, 134333.57220053463, 134333.57220053463, 134462.11145529622, 134462.11145529622, 134590.65071005787, 134590.65071005787, 134719.1899648195, 134719.1899648195, 134847.72921958112, 134847.72921958112, 134847.72921958112, 134847.72921958112, 134847.72921958112, 134847.72921958112, 134847.72921958112, 135104.8077291044, 135104.8077291044, 135104.8077291044, 135233.346983866, 135233.346983866, 135361.88623862766, 135361.88623862766, 135361.88623862766, 135361.88623862766, 135361.88623862766, 135361.88623862766, 135618.9647481509, 135618.9647481509, 135618.9647481509, 135618.9647481509, 135618.9647481509, 135618.9647481509, 135618.9647481509, 135747.50400291255, 135747.50400291255, 135876.04325767414, 135876.04325767414, 136004.5825124358, 136004.5825124358, 136004.5825124358, 136133.12176719742, 136261.66102195904, 136390.2002767207, 136390.2002767207, 136390.2002767207, 136390.2002767207, 136390.2002767207, 136390.2002767207, 136390.2002767207, 136390.2002767207, 136390.2002767207, 136390.2002767207, 136390.2002767207, 136390.2002767207, 136390.2002767207, 136390.2002767207, 136390.2002767207, 136390.2002767207, 136390.2002767207, 136390.2002767207, 136647.27878624393, 136647.27878624393, 136775.81804100558, 136775.81804100558, 136775.81804100558, 136775.81804100558, 136904.35729576717, 136904.35729576717, 137032.89655052882, 137161.43580529044, 137418.5143148137, 137418.5143148137, 137547.05356957534, 137547.05356957534, 137547.05356957534, 137547.05356957534, 137547.05356957534, 137547.05356957534, 137547.05356957534, 137804.1320790986, 137804.1320790986, 137804.1320790986, 137804.1320790986, 137932.6713338602, 138061.21058862185, 138189.74984338347, 138318.2890981451, 138318.2890981451, 138318.2890981451, 138318.2890981451, 138446.82835290674, 138446.82835290674, 138446.82835290674, 138446.82835290674, 138446.82835290674, 138446.82835290674, 138446.82835290674, 138446.82835290674, 138446.82835290674, 138446.82835290674, 138446.82835290674, 138446.82835290674, 138446.82835290674, 138575.36760766836, 138575.36760766836, 138575.36760766836, 138575.36760766836, 138575.36760766836, 138575.36760766836, 138703.90686242998, 138832.44611719163, 138832.44611719163, 138832.44611719163, 138960.98537195325, 138960.98537195325, 139218.06388147653, 139218.06388147653, 139475.14239099977, 139475.14239099977, 139475.14239099977, 139475.14239099977, 139475.14239099977, 139475.14239099977, 139475.14239099977, 139475.14239099977, 139475.14239099977, 139475.14239099977, 139475.14239099977, 139603.6816457614, 139603.6816457614, 139732.220900523, 139989.29941004628, 139989.29941004628, 139989.29941004628, 140117.8386648079, 140117.8386648079, 140117.8386648079, 140117.8386648079, 140117.8386648079, 140117.8386648079, 140117.8386648079, 140246.37791956955, 140246.37791956955, 140246.37791956955, 140246.37791956955, 140374.91717433115, 140374.91717433115, 140374.91717433115, 140374.91717433115, 140374.91717433115, 140374.91717433115, 140374.91717433115, 140503.4564290928, 140503.4564290928, 140503.4564290928, 140503.4564290928, 140503.4564290928, 140503.4564290928, 140503.4564290928, 140503.4564290928, 140503.4564290928, 140503.4564290928, 140503.4564290928, 140503.4564290928, 140503.4564290928, 140503.4564290928, 140503.4564290928, 140503.4564290928, 140503.4564290928, 140503.4564290928, 140631.99568385442, 140889.0741933777, 140889.0741933777, 140889.0741933777, 140889.0741933777, 141146.15270290093, 141274.69195766258, 141274.69195766258, 141274.69195766258, 141274.69195766258, 141274.69195766258, 141403.2312124242, 141403.2312124242, 141403.2312124242, 141403.2312124242, 141403.2312124242, 141403.2312124242, 141403.2312124242, 141403.2312124242, 141403.2312124242, 141531.77046718582, 141531.77046718582, 141531.77046718582, 141788.84897670907, 141788.84897670907, 141788.84897670907, 141788.84897670907, 141788.84897670907, 141788.84897670907, 141917.38823147072, 142045.92748623234, 142045.92748623234, 142045.92748623234, 142045.92748623234, 142174.46674099396, 142174.46674099396, 142174.46674099396, 142174.46674099396, 142174.46674099396, 142303.0059957556, 142560.08450527885, 142560.08450527885, 142560.08450527885, 142560.08450527885, 142560.08450527885, 142560.08450527885, 142560.08450527885, 142560.08450527885, 142560.08450527885, 142560.08450527885, 142560.08450527885, 142560.08450527885, 142560.08450527885, 142560.08450527885, 142560.08450527885, 142560.08450527885, 142560.08450527885, 142560.08450527885, 142560.08450527885, 142560.08450527885, 142560.08450527885, 142560.08450527885, 142560.08450527885, 142560.08450527885, 142560.08450527885, 142560.08450527885, 142560.08450527885, 142560.08450527885, 142560.08450527885, 142560.08450527885, 142560.08450527885, 142560.08450527885, 142560.08450527885, 142560.08450527885, 142560.08450527885, 142560.08450527885, 142560.08450527885, 142560.08450527885, 142560.08450527885, 142560.08450527885, 142560.08450527885, 142560.08450527885, 142560.08450527885, 142560.08450527885, 142560.08450527885, 142560.08450527885, 142688.6237600405, 142817.1630148021, 142817.1630148021, 142817.1630148021, 142817.1630148021, 142817.1630148021, 142817.1630148021, 142945.70226956374, 143074.24152432536, 143074.24152432536, 143074.24152432536, 143074.24152432536, 143202.78077908698, 143202.78077908698, 143202.78077908698, 143459.85928861026, 143588.39854337188, 143588.39854337188, 143588.39854337188, 143588.39854337188, 143588.39854337188, 143588.39854337188, 143716.93779813353, 143845.47705289512, 143845.47705289512, 143845.47705289512, 143845.47705289512, 143845.47705289512, 143845.47705289512, 143845.47705289512, 143974.01630765677, 143974.01630765677, 144102.55556241842, 144102.55556241842, 144102.55556241842, 144102.55556241842, 144102.55556241842, 144231.09481718, 144359.63407194166, 144488.17332670328, 144488.17332670328, 144488.17332670328, 144488.17332670328, 144616.7125814649, 144616.7125814649, 144616.7125814649, 144616.7125814649, 144873.79109098818, 144873.79109098818, 144873.79109098818, 144873.79109098818, 144873.79109098818, 144873.79109098818, 144873.79109098818, 144873.79109098818, 144873.79109098818, 145002.3303457498, 145130.86960051145, 145130.86960051145, 145130.86960051145, 145130.86960051145, 145130.86960051145, 145130.86960051145, 145130.86960051145, 145130.86960051145, 145130.86960051145, 145259.40885527304, 145259.40885527304, 145387.9481100347, 145387.9481100347, 145387.9481100347, 145516.4873647963, 145516.4873647963, 145645.02661955793, 145645.02661955793, 145645.02661955793, 145645.02661955793, 145645.02661955793, 145773.56587431958, 145773.56587431958, 145902.1051290812, 146030.64438384282, 146159.18363860447, 146159.18363860447, 146159.18363860447, 146159.18363860447, 146159.18363860447, 146159.18363860447, 146159.18363860447, 146159.18363860447, 146287.72289336607, 146416.26214812772, 146416.26214812772, 146416.26214812772, 146416.26214812772, 146416.26214812772, 146416.26214812772, 146416.26214812772, 146416.26214812772, 146416.26214812772, 146416.26214812772, 146416.26214812772, 146416.26214812772, 146416.26214812772, 146416.26214812772, 146416.26214812772, 146416.26214812772, 146416.26214812772, 146544.80140288934, 146673.34065765096, 146673.34065765096, 146673.34065765096, 146673.34065765096, 146673.34065765096, 146673.34065765096, 146801.8799124126, 146801.8799124126, 146930.41916717423, 147058.95842193585, 147058.95842193585, 147058.95842193585, 147187.4976766975, 147187.4976766975, 147187.4976766975, 147187.4976766975, 147187.4976766975, 147316.03693145912, 147316.03693145912, 147316.03693145912, 147316.03693145912, 147444.57618622074, 147444.57618622074, 147444.57618622074, 147444.57618622074, 147573.1154409824, 147701.654695744, 147701.654695744, 147701.654695744, 147701.654695744, 147701.654695744, 147701.654695744, 147830.19395050564, 148087.27246002888, 148087.27246002888, 148087.27246002888, 148215.81171479053, 148215.81171479053, 148344.35096955215, 148344.35096955215, 148344.35096955215, 148344.35096955215, 148472.89022431377, 148472.89022431377, 148472.89022431377, 148472.89022431377, 148472.89022431377, 148472.89022431377, 148472.89022431377, 148729.968733837, 148729.968733837, 148729.968733837, 148729.968733837, 148729.968733837, 148729.968733837, 148729.968733837, 148729.968733837, 148729.968733837, 148729.968733837, 148729.968733837, 148729.968733837, 148729.968733837, 148729.968733837, 148729.968733837, 148729.968733837, 148729.968733837, 148729.968733837, 148729.968733837, 148858.50798859866, 148858.50798859866, 148987.04724336028, 148987.04724336028, 148987.04724336028, 148987.04724336028, 148987.04724336028, 149115.5864981219, 149244.12575288356, 149244.12575288356, 149244.12575288356, 149244.12575288356, 149244.12575288356, 149501.2042624068, 149501.2042624068, 149501.2042624068, 149501.2042624068, 149629.74351716845, 149758.28277193007, 149758.28277193007, 149758.28277193007, 149758.28277193007, 150015.36128145334, 150143.90053621493, 150143.90053621493, 150272.43979097658, 150272.43979097658, 150272.43979097658, 150400.9790457382, 150400.9790457382, 150400.9790457382, 150400.9790457382, 150400.9790457382, 150400.9790457382, 150400.9790457382, 150400.9790457382, 150529.51830049983, 150529.51830049983, 150529.51830049983, 150529.51830049983, 150529.51830049983, 150529.51830049983, 150658.05755526148, 150786.5968100231, 150786.5968100231, 150786.5968100231, 150786.5968100231, 150786.5968100231, 150786.5968100231, 150786.5968100231, 150786.5968100231, 150786.5968100231, 150915.13606478472, 150915.13606478472, 151043.67531954637, 151043.67531954637, 151043.67531954637, 151043.67531954637, 151043.67531954637, 151300.7538290696, 151300.7538290696, 151300.7538290696, 151300.7538290696, 151429.29308383123, 151429.29308383123, 151557.83233859285, 151686.3715933545, 151814.91084811612, 151814.91084811612, 151814.91084811612, 151814.91084811612, 151814.91084811612, 151814.91084811612, 151814.91084811612, 151814.91084811612, 151814.91084811612, 151814.91084811612, 151814.91084811612, 151814.91084811612, 151814.91084811612, 151814.91084811612, 151814.91084811612, 151814.91084811612, 151814.91084811612, 152071.9893576394, 152071.9893576394, 152200.52861240102, 152200.52861240102, 152329.06786716264, 152329.06786716264, 152329.06786716264, 152457.6071219243, 152457.6071219243, 152457.6071219243, 152457.6071219243, 152586.14637668588, 152586.14637668588, 152714.68563144753, 152714.68563144753, 152714.68563144753, 152714.68563144753, 152714.68563144753, 152843.22488620915, 152843.22488620915, 152843.22488620915, 152843.22488620915, 152843.22488620915, 152971.76414097077, 152971.76414097077, 152971.76414097077, 152971.76414097077, 153100.30339573242, 153100.30339573242, 153228.84265049404, 153357.38190525566, 153357.38190525566, 153357.38190525566, 153357.38190525566, 153357.38190525566, 153357.38190525566, 153357.38190525566, 153357.38190525566, 153485.92116001731, 153485.92116001731, 153485.92116001731, 153614.4604147789, 153614.4604147789, 153614.4604147789, 153614.4604147789, 153742.99966954056, 153742.99966954056, 153742.99966954056, 153871.53892430218, 153871.53892430218, 153871.53892430218, 153871.53892430218, 153871.53892430218, 153871.53892430218, 153871.53892430218, 154000.0781790638, 154000.0781790638, 154128.61743382545, 154128.61743382545, 154128.61743382545, 154257.15668858707, 154257.15668858707, 154257.15668858707, 154257.15668858707, 154385.6959433487, 154385.6959433487, 154514.23519811034, 154642.77445287193, 154642.77445287193, 154642.77445287193, 154642.77445287193, 154642.77445287193, 154642.77445287193, 154642.77445287193, 154771.31370763358, 154771.31370763358, 154771.31370763358, 154899.8529623952, 154899.8529623952, 154899.8529623952, 154899.8529623952, 154899.8529623952, 154899.8529623952, 154899.8529623952, 154899.8529623952, 154899.8529623952, 154899.8529623952, 154899.8529623952, 154899.8529623952, 154899.8529623952, 154899.8529623952, 154899.8529623952, 154899.8529623952, 154899.8529623952, 154899.8529623952, 155028.39221715683, 155028.39221715683, 155028.39221715683, 155156.93147191848, 155156.93147191848, 155156.93147191848, 155285.4707266801, 155414.00998144172, 155414.00998144172, 155414.00998144172, 155414.00998144172, 155414.00998144172, 155414.00998144172, 155542.54923620337, 155542.54923620337, 155671.088490965, 155799.6277457266, 155799.6277457266, 155928.16700048826, 155928.16700048826, 155928.16700048826, 155928.16700048826, 156056.70625524985, 156056.70625524985, 156185.2455100115, 156185.2455100115, 156185.2455100115, 156185.2455100115, 156185.2455100115, 156185.2455100115, 156313.78476477313, 156442.32401953475, 156442.32401953475, 156442.32401953475, 156442.32401953475, 156442.32401953475, 156699.40252905802, 156827.94178381964, 156827.94178381964, 156827.94178381964, 156956.4810385813, 156956.4810385813, 156956.4810385813, 156956.4810385813, 156956.4810385813, 156956.4810385813, 157085.02029334288, 157213.55954810453, 157342.09880286615, 157342.09880286615, 157342.09880286615, 157470.63805762777, 157470.63805762777, 157470.63805762777, 157470.63805762777, 157470.63805762777, 157470.63805762777, 157599.17731238942, 157599.17731238942, 157599.17731238942, 157727.71656715104, 157856.25582191267, 157856.25582191267, 157856.25582191267, 157856.25582191267, 157984.79507667432, 157984.79507667432, 157984.79507667432, 157984.79507667432, 157984.79507667432, 157984.79507667432, 158113.33433143594, 158113.33433143594, 158113.33433143594, 158241.87358619756, 158241.87358619756, 158241.87358619756, 158498.9520957208, 158498.9520957208, 158498.9520957208, 158498.9520957208, 158498.9520957208, 158498.9520957208, 158498.9520957208, 158498.9520957208, 158498.9520957208, 158498.9520957208, 158498.9520957208, 158627.49135048245, 158756.03060524407, 158756.03060524407, 158756.03060524407, 158756.03060524407, 158756.03060524407, 158756.03060524407, 158756.03060524407, 158756.03060524407, 158756.03060524407, 158884.5698600057, 158884.5698600057, 159013.10911476734, 159013.10911476734, 159013.10911476734, 159013.10911476734, 159013.10911476734, 159141.64836952896, 159141.64836952896, 159141.64836952896, 159270.1876242906, 159398.72687905224, 159527.26613381383, 159527.26613381383, 159527.26613381383, 159655.80538857548, 159655.80538857548, 159655.80538857548, 159784.3446433371, 159784.3446433371, 159912.88389809872, 159912.88389809872, 159912.88389809872, 159912.88389809872, 160041.42315286037, 160041.42315286037, 160169.962407622, 160169.962407622, 160169.962407622, 160169.962407622, 160169.962407622, 160298.5016623836, 160298.5016623836, 160427.04091714526, 160555.58017190688, 160555.58017190688, 160555.58017190688, 160555.58017190688, 160684.1194266685, 160684.1194266685, 160684.1194266685, 160684.1194266685, 160684.1194266685, 160812.65868143016, 160812.65868143016, 160812.65868143016, 160941.19793619175, 160941.19793619175, 161069.7371909534, 161069.7371909534, 161069.7371909534, 161069.7371909534, 161069.7371909534, 161069.7371909534, 161069.7371909534, 161069.7371909534, 161069.7371909534, 161069.7371909534, 161069.7371909534, 161198.27644571502, 161326.81570047664, 161583.8942099999, 161583.8942099999, 161583.8942099999, 161583.8942099999, 161712.43346476153, 161712.43346476153, 161840.97271952318, 161840.97271952318, 161840.97271952318, 161840.97271952318, 161840.97271952318, 161969.51197428477, 162098.05122904642, 162226.59048380805, 162483.66899333132, 162612.20824809294, 162612.20824809294, 162612.20824809294, 162612.20824809294, 162612.20824809294, 162612.20824809294, 162740.74750285456, 162869.28675761618, 162869.28675761618, 162869.28675761618, 162869.28675761618, 162869.28675761618, 162869.28675761618, 163126.36526713945, 163126.36526713945, 163126.36526713945, 163126.36526713945, 163126.36526713945, 163254.90452190107, 163254.90452190107, 163383.44377666272, 163383.44377666272, 163383.44377666272, 163383.44377666272, 163383.44377666272, 163383.44377666272, 163383.44377666272, 163511.98303142434, 163511.98303142434, 163511.98303142434, 163640.52228618597, 163640.52228618597, 163769.0615409476, 163769.0615409476, 163897.60079570924, 164026.14005047086, 164154.67930523248, 164154.67930523248, 164154.67930523248, 164154.67930523248, 164154.67930523248, 164283.2185599941, 164411.75781475575, 164411.75781475575, 164411.75781475575, 164411.75781475575, 164411.75781475575, 164540.29706951737, 164540.29706951737, 164668.836324279, 164668.836324279, 164668.836324279, 164668.836324279, 164797.3755790406, 164797.3755790406, 164925.91483380226, 164925.91483380226, 165054.45408856389, 165182.9933433255, 165182.9933433255, 165182.9933433255, 165182.9933433255, 165182.9933433255, 165182.9933433255, 165182.9933433255, 165182.9933433255, 165182.9933433255, 165182.9933433255, 165182.9933433255, 165182.9933433255, 165182.9933433255, 165182.9933433255, 165182.9933433255, 165182.9933433255, 165182.9933433255, 165182.9933433255, 165182.9933433255, 165182.9933433255, 165182.9933433255, 165182.9933433255, 165182.9933433255, 165182.9933433255, 165182.9933433255, 165182.9933433255, 165182.9933433255, 165182.9933433255, 165311.53259808713, 165311.53259808713, 165311.53259808713, 165440.07185284878, 165440.07185284878, 165568.6111076104, 165697.15036237202, 165697.15036237202, 165697.15036237202, 165697.15036237202, 165697.15036237202, 165825.68961713364, 165825.68961713364, 166082.7681266569, 166211.30738141853, 166211.30738141853, 166211.30738141853, 166211.30738141853, 166211.30738141853, 166339.84663618018, 166468.3858909418, 166468.3858909418, 166468.3858909418, 166468.3858909418, 166468.3858909418, 166468.3858909418, 166596.92514570343, 166596.92514570343, 166596.92514570343, 166725.46440046505, 166725.46440046505, 166725.46440046505, 166725.46440046505, 166725.46440046505, 166725.46440046505, 166725.46440046505, 166854.0036552267, 166854.0036552267, 166854.0036552267, 166854.0036552267, 166854.0036552267, 166982.54290998832, 166982.54290998832, 166982.54290998832, 166982.54290998832, 167111.08216474994, 167111.08216474994, 167111.08216474994, 167111.08216474994, 167111.08216474994, 167111.08216474994, 167111.08216474994, 167111.08216474994, 167239.62141951156, 167239.62141951156, 167239.62141951156, 167239.62141951156, 167239.62141951156, 167239.62141951156, 167239.62141951156, 167368.1606742732, 167368.1606742732, 167368.1606742732, 167368.1606742732, 167368.1606742732, 167496.69992903483, 167496.69992903483, 167496.69992903483, 167625.23918379645, 167753.77843855807, 167753.77843855807, 167753.77843855807, 167753.77843855807, 167753.77843855807, 167882.31769331972, 167882.31769331972, 168010.85694808135, 168010.85694808135, 168010.85694808135, 168139.39620284297, 168267.9354576046, 168267.9354576046, 168267.9354576046, 168267.9354576046, 168267.9354576046, 168396.47471236624, 168396.47471236624, 168396.47471236624, 168653.55322188948, 168653.55322188948, 168782.09247665113, 168782.09247665113, 168782.09247665113, 168782.09247665113, 168910.63173141275, 168910.63173141275, 168910.63173141275, 169039.17098617437, 169167.710240936, 169296.24949569764, 169296.24949569764, 169296.24949569764, 169296.24949569764, 169296.24949569764, 169296.24949569764, 169296.24949569764, 169296.24949569764, 169296.24949569764, 169296.24949569764, 169296.24949569764, 169296.24949569764, 169424.78875045927, 169424.78875045927, 169424.78875045927, 169424.78875045927, 169424.78875045927, 169424.78875045927, 169553.3280052209, 169553.3280052209, 169553.3280052209, 169553.3280052209, 169681.8672599825, 169681.8672599825, 169810.40651474416, 169938.94576950578, 169938.94576950578, 169938.94576950578, 170067.4850242674, 170067.4850242674, 170067.4850242674, 170196.02427902902, 170196.02427902902, 170196.02427902902, 170196.02427902902, 170324.56353379067, 170324.56353379067, 170324.56353379067, 170324.56353379067, 170324.56353379067, 170324.56353379067, 170453.1027885523, 170453.1027885523, 170581.6420433139, 170581.6420433139, 170581.6420433139, 170581.6420433139, 170710.18129807553, 170838.72055283719, 170838.72055283719, 170967.2598075988, 170967.2598075988, 171095.79906236043, 171095.79906236043, 171095.79906236043, 171095.79906236043, 171352.8775718837, 171352.8775718837, 171352.8775718837, 171352.8775718837, 171352.8775718837, 171352.8775718837, 171352.8775718837, 171481.41682664532, 171481.41682664532, 171609.95608140694, 171609.95608140694, 171609.95608140694, 171738.4953361686, 171738.4953361686, 171738.4953361686, 171738.4953361686, 171867.0345909302, 171867.0345909302, 171867.0345909302, 171867.0345909302, 171867.0345909302, 171867.0345909302, 171867.0345909302, 171995.57384569183, 171995.57384569183, 171995.57384569183, 171995.57384569183, 172124.11310045345, 172124.11310045345, 172124.11310045345, 172124.11310045345, 172252.6523552151, 172252.6523552151, 172252.6523552151, 172252.6523552151, 172381.19160997673, 172381.19160997673, 172381.19160997673, 172381.19160997673, 172381.19160997673, 172509.73086473835, 172509.73086473835, 172509.73086473835, 172509.73086473835, 172638.27011949997, 172638.27011949997, 172638.27011949997, 172766.80937426162, 172895.34862902324, 172895.34862902324, 172895.34862902324, 172895.34862902324, 172895.34862902324, 173023.88788378486, 173023.88788378486, 173152.42713854648, 173152.42713854648, 173152.42713854648, 173280.96639330813, 173280.96639330813, 173409.50564806975, 173409.50564806975, 173409.50564806975, 173409.50564806975, 173538.04490283137, 173538.04490283137, 173538.04490283137, 173538.04490283137, 173538.04490283137, 173795.12341235465, 173795.12341235465, 173923.66266711627, 173923.66266711627, 173923.66266711627, 173923.66266711627, 174052.2019218779, 174180.74117663954, 174437.81968616278, 174437.81968616278, 174437.81968616278, 174437.81968616278, 174437.81968616278, 174566.3589409244, 174566.3589409244, 174566.3589409244, 174694.89819568605, 174694.89819568605, 174694.89819568605, 174694.89819568605, 174694.89819568605, 174694.89819568605, 174694.89819568605, 174951.9767052093, 174951.9767052093, 174951.9767052093, 175080.51595997091, 175080.51595997091, 175080.51595997091, 175080.51595997091, 175080.51595997091, 175209.05521473257, 175209.05521473257, 175209.05521473257, 175337.5944694942, 175466.1337242558, 175466.1337242558, 175466.1337242558, 175466.1337242558, 175466.1337242558, 175466.1337242558, 175594.67297901743, 175594.67297901743, 175723.21223377908, 175723.21223377908, 175723.21223377908, 175980.29074330232, 175980.29074330232, 176108.82999806394, 176108.82999806394, 176108.82999806394, 176237.3692528256, 176237.3692528256, 176237.3692528256, 176237.3692528256, 176365.9085075872, 176365.9085075872, 176365.9085075872, 176494.44776234883, 176494.44776234883, 176494.44776234883, 176494.44776234883, 176494.44776234883, 176494.44776234883, 176622.98701711046, 176751.5262718721, 176751.5262718721, 176880.06552663373, 176880.06552663373, 176880.06552663373, 177008.60478139535, 177008.60478139535, 177137.144036157, 177137.144036157, 177137.144036157, 177265.68329091862, 177265.68329091862, 177265.68329091862, 177522.76180044186, 177522.76180044186, 177522.76180044186, 177522.76180044186, 177651.3010552035, 177651.3010552035, 177779.84030996513, 177779.84030996513, 177779.84030996513, 178036.91881948838, 178036.91881948838, 178036.91881948838, 178165.45807425003, 178165.45807425003, 178165.45807425003, 178293.99732901165, 178293.99732901165, 178293.99732901165, 178293.99732901165, 178293.99732901165, 178293.99732901165, 178422.53658377327, 178422.53658377327, 178422.53658377327, 178422.53658377327, 178422.53658377327, 178551.0758385349, 178551.0758385349, 178551.0758385349, 178551.0758385349, 178551.0758385349, 178551.0758385349, 178551.0758385349, 178551.0758385349, 178679.61509329654, 178679.61509329654, 178679.61509329654, 178679.61509329654, 178808.15434805816, 178808.15434805816, 178808.15434805816, 178808.15434805816, 178936.69360281978, 179065.2328575814, 179065.2328575814, 179065.2328575814, 179065.2328575814, 179193.77211234305, 179193.77211234305, 179193.77211234305, 179322.31136710467, 179322.31136710467, 179322.31136710467, 179322.31136710467, 179450.8506218663, 179450.8506218663, 179579.38987662795, 179579.38987662795, 179579.38987662795, 179579.38987662795, 179579.38987662795, 179579.38987662795, 179579.38987662795, 179579.38987662795, 179579.38987662795, 179579.38987662795, 179707.92913138957, 179707.92913138957, 179836.4683861512, 179836.4683861512, 179836.4683861512, 179965.0076409128, 180093.54689567446, 180093.54689567446, 180222.08615043608, 180222.08615043608, 180350.6254051977, 180350.6254051977, 180350.6254051977, 180350.6254051977, 180479.16465995932, 180607.70391472097, 180607.70391472097, 180607.70391472097, 180607.70391472097, 180736.2431694826, 180864.78242424421, 180993.32167900584, 180993.32167900584, 181121.8609337675, 181121.8609337675, 181121.8609337675, 181121.8609337675, 181121.8609337675, 181121.8609337675, 181250.4001885291, 181250.4001885291, 181250.4001885291, 181378.93944329073, 181378.93944329073, 181378.93944329073, 181507.47869805235, 181507.47869805235, 181636.017952814, 181636.017952814, 181636.017952814, 181636.017952814, 181636.017952814, 181636.017952814, 181764.55720757562, 181764.55720757562, 181893.09646233724, 181893.09646233724, 181893.09646233724, 181893.09646233724, 182150.1749718605, 182150.1749718605, 182278.71422662213, 182407.25348138376, 182535.7927361454, 182535.7927361454, 182535.7927361454, 182535.7927361454, 182664.33199090703, 182664.33199090703, 182664.33199090703, 182792.87124566865, 182921.41050043027, 182921.41050043027, 182921.41050043027, 183049.94975519192, 183049.94975519192, 183178.48900995354, 183178.48900995354, 183178.48900995354, 183307.02826471516, 183435.56751947678, 183435.56751947678, 183435.56751947678, 183435.56751947678, 183564.10677423843, 183692.64602900005, 183949.7245385233, 184078.26379328495, 184078.26379328495, 184078.26379328495, 184078.26379328495, 184206.80304804657, 184206.80304804657, 184206.80304804657, 184206.80304804657, 184206.80304804657, 184335.3423028082, 184463.8815575698, 184463.8815575698, 184463.8815575698, 184463.8815575698, 184592.42081233146, 184720.96006709308, 184849.4993218547, 184849.4993218547, 184978.03857661632, 184978.03857661632, 185106.57783137797, 185106.57783137797, 185106.57783137797, 185235.1170861396, 185235.1170861396, 185235.1170861396, 185620.7348504245, 185749.2741051861, 185749.2741051861, 185749.2741051861, 185749.2741051861, 185749.2741051861, 185749.2741051861, 185749.2741051861, 185749.2741051861, 185749.2741051861, 186006.35261470938, 186134.891869471, 186263.43112423262, 186263.43112423262, 186263.43112423262, 186263.43112423262, 186391.97037899424, 186520.5096337559, 186649.04888851751, 186649.04888851751, 186777.58814327914, 186777.58814327914, 186777.58814327914, 186777.58814327914, 186906.12739804076, 187034.6666528024, 187034.6666528024, 187034.6666528024, 187163.20590756403, 187163.20590756403, 187163.20590756403, 187291.74516232565, 187291.74516232565, 187291.74516232565, 187291.74516232565, 187291.74516232565, 187548.82367184892, 187548.82367184892, 187548.82367184892, 187548.82367184892, 187677.36292661054, 187677.36292661054, 187805.90218137216, 187805.90218137216, 187805.90218137216, 187805.90218137216, 187805.90218137216, 187805.90218137216, 187805.90218137216, 187805.90218137216, 187934.4414361338, 187934.4414361338, 187934.4414361338, 188062.98069089543, 188062.98069089543, 188062.98069089543, 188062.98069089543, 188062.98069089543, 188320.05920041868, 188320.05920041868, 188320.05920041868, 188320.05920041868, 188320.05920041868, 188320.05920041868, 188448.59845518033, 188448.59845518033, 188577.13770994195, 188577.13770994195, 188577.13770994195, 188705.67696470357, 188705.67696470357, 188834.2162194652, 188834.2162194652, 188834.2162194652, 188834.2162194652, 188834.2162194652, 188962.75547422684, 188962.75547422684, 189091.29472898846, 189091.29472898846, 189091.29472898846, 189091.29472898846, 189091.29472898846, 189091.29472898846, 189091.29472898846, 189091.29472898846, 189091.29472898846, 189091.29472898846, 189348.3732385117, 189348.3732385117, 189476.91249327335, 189476.91249327335, 189605.45174803498, 189862.53025755822, 189862.53025755822, 189862.53025755822, 189862.53025755822, 190119.6087670815, 190119.6087670815, 190248.1480218431, 190248.1480218431, 190376.68727660473, 190376.68727660473, 190376.68727660473, 190376.68727660473, 190376.68727660473, 190376.68727660473, 190633.765786128, 190633.765786128, 190762.30504088962, 190890.84429565127, 190890.84429565127, 190890.84429565127, 191147.92280517452, 191147.92280517452, 191147.92280517452, 191147.92280517452, 191405.0013146978, 191533.5405694594, 191533.5405694594, 191662.07982422103, 191662.07982422103, 191662.07982422103, 191662.07982422103, 191790.61907898265, 191919.1583337443, 191919.1583337443, 191919.1583337443, 192047.69758850592, 192304.77609802916, 192304.77609802916, 192304.77609802916, 192433.3153527908, 192433.3153527908, 192433.3153527908, 192561.85460755244, 192561.85460755244, 192690.39386231406, 192690.39386231406, 192690.39386231406, 192947.47237183733, 192947.47237183733, 192947.47237183733, 192947.47237183733, 193204.55088136057, 193204.55088136057, 193204.55088136057, 193204.55088136057, 193461.62939088384, 193461.62939088384, 193590.16864564546, 193718.70790040708, 193718.70790040708, 193718.70790040708, 193975.78640993036, 193975.78640993036, 193975.78640993036, 194104.32566469198, 194104.32566469198, 194232.8649194536, 194232.8649194536, 194232.8649194536, 194489.94342897687, 194489.94342897687, 194489.94342897687, 194618.4826837385, 194618.4826837385, 194747.0219385001, 194875.56119326176, 194875.56119326176, 195004.10044802338, 195004.10044802338, 195004.10044802338, 195132.639702785, 195261.17895754662, 195518.2574670699, 195518.2574670699, 195518.2574670699, 195646.79672183152, 195646.79672183152, 195646.79672183152, 195775.33597659314, 195775.33597659314, 195903.8752313548, 196032.4144861164, 196032.4144861164, 196032.4144861164, 196032.4144861164, 196160.95374087803, 196289.49299563968, 196289.49299563968, 196418.0322504013, 196546.57150516292, 196546.57150516292, 196675.11075992454, 196675.11075992454, 196675.11075992454, 196803.6500146862, 196932.18926944782, 196932.18926944782, 196932.18926944782, 197060.72852420944, 197060.72852420944, 197317.8070337327, 197317.8070337327, 197446.34628849433, 197446.34628849433, 197574.88554325595, 197703.42479801757, 197831.96405277922, 197831.96405277922, 197960.50330754084, 197960.50330754084, 197960.50330754084, 198089.04256230246, 198089.04256230246, 198089.04256230246, 198089.04256230246, 198217.58181706409, 198346.12107182574, 198346.12107182574, 198346.12107182574, 198346.12107182574, 198474.66032658736, 198474.66032658736, 198474.66032658736, 198731.7388361106, 198731.7388361106, 198731.7388361106, 198860.27809087225, 198860.27809087225, 198860.27809087225, 198860.27809087225, 198860.27809087225, 198860.27809087225, 198860.27809087225, 199117.3566003955, 199245.89585515714, 199374.43510991876, 199374.43510991876, 199374.43510991876, 199374.43510991876, 199374.43510991876, 199502.97436468038, 199631.513619442, 199631.513619442, 199760.05287420365, 199888.59212896528, 199888.59212896528, 199888.59212896528, 200145.67063848852, 200145.67063848852, 200145.67063848852, 200274.20989325017, 200274.20989325017, 200274.20989325017, 200274.20989325017, 200402.7491480118, 200402.7491480118, 200402.7491480118, 200402.7491480118, 200402.7491480118, 200659.82765753503, 200659.82765753503, 200659.82765753503, 200916.9061670583, 201045.44542181992, 201173.98467658155, 201173.98467658155, 201173.98467658155, 201302.5239313432, 201688.1416956281, 201688.1416956281, 201688.1416956281, 201688.1416956281, 201688.1416956281, 201816.6809503897, 201816.6809503897, 201945.22020515133, 201945.22020515133, 202073.75945991295, 202202.2987146746, 202202.2987146746, 202202.2987146746, 202202.2987146746, 202330.83796943622, 202330.83796943622, 202459.37722419784, 202716.45573372112, 202716.45573372112, 202973.53424324436, 202973.53424324436, 203102.07349800598, 203102.07349800598, 203230.61275276763, 203230.61275276763, 203230.61275276763, 203230.61275276763, 203359.15200752925, 203359.15200752925, 203359.15200752925, 203359.15200752925, 203359.15200752925, 203359.15200752925, 203359.15200752925, 203359.15200752925, 203359.15200752925, 203359.15200752925, 203487.69126229087, 203487.69126229087, 203487.69126229087, 203487.69126229087, 203616.2305170525, 203616.2305170525, 203744.76977181414, 203744.76977181414, 203873.30902657576, 203873.30902657576, 203873.30902657576, 204001.84828133738, 204001.84828133738, 204001.84828133738, 204001.84828133738, 204258.92679086066, 204258.92679086066, 204258.92679086066, 204258.92679086066, 204258.92679086066, 204516.0053003839, 204644.54455514555, 204901.6230646688, 205030.1623194304, 205030.1623194304, 205030.1623194304, 205287.24082895368, 205287.24082895368, 205287.24082895368, 205287.24082895368, 205415.7800837153, 205801.3978480002, 205929.93710276182, 206058.47635752344, 206058.47635752344, 206058.47635752344, 206058.47635752344, 206058.47635752344, 206058.47635752344, 206058.47635752344, 206058.47635752344, 206315.5548670467, 206315.5548670467, 206315.5548670467, 206315.5548670467, 206444.09412180833, 206444.09412180833, 206572.63337656995, 206572.63337656995, 206572.63337656995, 206572.63337656995, 206572.63337656995, 206701.1726313316, 206701.1726313316, 206829.71188609322, 206829.71188609322, 206829.71188609322, 206829.71188609322, 206958.25114085485, 207086.7903956165, 207215.32965037812, 207343.86890513974, 207343.86890513974, 207343.86890513974, 207343.86890513974, 207472.40815990136, 207600.947414663, 207600.947414663, 207600.947414663, 207600.947414663, 207600.947414663, 207858.02592418625, 207858.02592418625, 207858.02592418625, 207986.56517894787, 208115.10443370952, 208243.64368847114, 208243.64368847114, 208243.64368847114, 208372.18294323276, 208500.7221979944, 208500.7221979944, 208500.7221979944, 208629.26145275604, 208629.26145275604, 208629.26145275604, 208886.33996227928, 209014.8792170409, 209143.41847180255, 209143.41847180255, 209143.41847180255, 209143.41847180255, 209271.95772656417, 209271.95772656417, 209271.95772656417, 209271.95772656417, 209400.4969813258, 209400.4969813258, 209786.11474561068, 209914.6540003723, 210043.19325513396, 210171.73250989558, 210171.73250989558, 210171.73250989558, 210171.73250989558, 210300.2717646572, 210300.2717646572, 210428.81101941882, 210428.81101941882, 210428.81101941882, 210428.81101941882, 210428.81101941882, 210428.81101941882, 210428.81101941882, 210685.8895289421, 210814.4287837037, 211200.0465479886, 211457.12505751185, 211714.20356703512, 211714.20356703512, 211714.20356703512, 211842.74282179674, 211842.74282179674, 211971.28207655836, 212099.82133132, 212099.82133132, 212099.82133132, 212356.89984084325, 212613.97835036652, 212871.05685988977, 212871.05685988977, 212871.05685988977, 212999.59611465142, 213256.67462417466, 213256.67462417466, 213256.67462417466, 213256.67462417466, 213256.67462417466, 213513.75313369793, 213642.29238845955, 213770.83164322117, 213770.83164322117, 213899.3708979828, 213899.3708979828, 213899.3708979828, 214027.91015274444, 214284.9886622677, 214284.9886622677, 214284.9886622677, 214284.9886622677, 214284.9886622677, 214284.9886622677, 214284.9886622677, 214413.5279170293, 214542.06717179096, 214542.06717179096, 214670.60642655258, 214670.60642655258, 214799.1456813142, 214799.1456813142, 214927.68493607582, 215056.22419083747, 215184.7634455991, 215313.3027003607, 215313.3027003607, 215313.3027003607, 215441.84195512236, 215441.84195512236, 215570.38120988398, 215570.38120988398, 215570.38120988398, 215698.9204646456, 215698.9204646456, 215827.45971940723, 215827.45971940723, 216084.5382289305, 216084.5382289305, 216213.07748369212, 216213.07748369212, 216598.695247977, 216598.695247977, 216598.695247977, 216598.695247977, 216598.695247977, 216598.695247977, 216598.695247977, 216855.77375750025, 216855.77375750025, 216855.77375750025, 216855.77375750025, 217112.85226702353, 217112.85226702353, 217112.85226702353, 217241.39152178515, 217241.39152178515, 217241.39152178515, 217627.00928607004, 217884.08779559328, 218141.16630511655, 218269.70555987817, 218269.70555987817, 218269.70555987817, 218398.24481463982, 218526.78406940144, 218655.32332416307, 218655.32332416307, 218912.40183368634, 219040.94108844796, 219426.55885273285, 219555.09810749447, 219683.6373622561, 219683.6373622561, 219812.1766170177, 219940.71587177936, 219940.71587177936, 219940.71587177936, 219940.71587177936, 220197.7943813026, 220197.7943813026, 220197.7943813026, 220197.7943813026, 220326.33363606423, 220454.87289082588, 220711.95140034912, 220711.95140034912, 220840.49065511077, 220969.0299098724, 221226.10841939563, 221226.10841939563, 221483.1869289189, 221483.1869289189, 221483.1869289189, 221483.1869289189, 221483.1869289189, 221611.72618368053, 221611.72618368053, 221611.72618368053, 221740.26543844215, 221997.34394796542, 221997.34394796542, 221997.34394796542, 222125.88320272704, 222254.42245748866, 222254.42245748866, 222254.42245748866, 222511.50096701193, 222511.50096701193, 222640.04022177355, 222768.57947653517, 222768.57947653517, 222768.57947653517, 222768.57947653517, 222768.57947653517, 222897.11873129682, 222897.11873129682, 223025.65798605845, 223154.19724082007, 223154.19724082007, 223282.7364955817, 223282.7364955817, 223411.27575034334, 223539.81500510496, 223539.81500510496, 223539.81500510496, 223539.81500510496, 223539.81500510496, 223539.81500510496, 223539.81500510496, 223668.35425986658, 223796.89351462823, 223796.89351462823, 223796.89351462823, 223925.43276938985, 224053.97202415147, 224053.97202415147, 224311.05053367474, 224311.05053367474, 224311.05053367474, 224311.05053367474, 224439.58978843637, 224439.58978843637, 224439.58978843637, 224568.129043198, 224568.129043198, 224568.129043198, 224825.20755272126, 224825.20755272126, 224825.20755272126, 224825.20755272126, 224953.74680748288, 225082.2860622445, 225082.2860622445, 225082.2860622445, 225210.82531700612, 225339.36457176777, 225339.36457176777, 225467.9038265294, 225467.9038265294, 225596.443081291, 225724.98233605264, 225724.98233605264, 225853.52159081429, 225853.52159081429, 225982.0608455759, 225982.0608455759, 226239.13935509918, 226367.6786098608, 226367.6786098608, 226624.75711938404, 226624.75711938404, 226624.75711938404, 226624.75711938404, 226881.8356289073, 226881.8356289073, 227010.37488366893, 227138.91413843055, 227267.4533931922, 227395.99264795383, 227524.53190271545, 227524.53190271545, 227653.07115747707, 227910.14966700034, 228167.22817652358, 228167.22817652358, 228167.22817652358, 228295.76743128523, 228295.76743128523, 228424.30668604685, 228552.84594080847, 228552.84594080847, 228681.3851955701, 228809.92445033175, 228809.92445033175, 228809.92445033175, 228809.92445033175, 228938.46370509337, 229067.002959855, 229067.002959855, 229195.54221461664, 229324.08146937826, 229452.62072413988, 229581.1599789015, 229581.1599789015, 229709.69923366315, 229709.69923366315, 229966.7777431864, 229966.7777431864, 230223.85625270967, 230352.3955074713, 230480.9347622329, 230480.9347622329, 230609.47401699453, 230995.09178127942, 231123.63103604104, 231123.63103604104, 231252.1702908027, 231252.1702908027, 231380.7095455643, 231380.7095455643, 231509.24880032594, 231637.78805508756, 231637.78805508756, 231766.3273098492, 231894.86656461083, 232023.40581937245, 232023.40581937245, 232023.40581937245, 232023.40581937245, 232023.40581937245, 232023.40581937245, 232151.9450741341, 232151.9450741341, 232409.02358365734, 232537.56283841896, 232666.1020931806, 232666.1020931806, 232666.1020931806, 232666.1020931806, 232794.64134794223, 232923.18060270385, 232923.18060270385, 232923.18060270385, 232923.18060270385, 233051.71985746548, 233051.71985746548, 233180.25911222713, 233308.79836698875, 233437.33762175037, 233565.876876512, 233565.876876512, 233694.41613127364, 233822.95538603526, 233951.49464079688, 233951.49464079688, 233951.49464079688, 233951.49464079688, 234080.0338955585, 234080.0338955585, 234080.0338955585, 234208.57315032015, 234337.11240508177, 234337.11240508177, 234594.19091460505, 234594.19091460505, 234594.19091460505, 234851.2694241283, 234851.2694241283, 234851.2694241283, 235108.34793365156, 235108.34793365156, 235108.34793365156, 235108.34793365156, 235365.4264431748, 235493.96569793642, 235622.50495269807, 235622.50495269807, 235622.50495269807, 235751.0442074597, 235879.58346222132, 236136.6619717446, 236265.2012265062, 236393.74048126783, 236522.27973602945, 236522.27973602945, 237036.43675507596, 237164.9760098376, 237164.9760098376, 237164.9760098376, 237293.51526459923, 237293.51526459923, 237422.05451936086, 237422.05451936086, 237679.13302888413, 237679.13302888413, 237936.21153840737, 238193.29004793064, 238450.36855745388, 238450.36855745388, 238450.36855745388, 238578.90781221553, 238578.90781221553, 238707.44706697715, 238964.5255765004, 238964.5255765004, 238964.5255765004, 239093.06483126205, 239221.60408602367, 239221.60408602367, 239350.1433407853, 239478.6825955469, 239607.22185030856, 239735.76110507018, 239735.76110507018, 239735.76110507018, 239864.3003598318, 239864.3003598318, 239992.83961459345, 240249.9181241167, 240249.9181241167, 240378.45737887832, 240378.45737887832, 240378.45737887832, 240378.45737887832, 240378.45737887832, 240506.99663363997, 240635.5358884016, 240892.61439792483, 240892.61439792483, 241021.15365268648, 241021.15365268648, 241021.15365268648, 241278.23216220972, 241278.23216220972, 241278.23216220972, 241535.310671733, 241792.38918125624, 241792.38918125624, 242049.4676907795, 242306.54620030275, 242306.54620030275, 242435.08545506437, 242692.16396458764, 242820.70321934926, 242820.70321934926, 242949.2424741109, 243077.78172887253, 243077.78172887253, 243077.78172887253, 243077.78172887253, 243077.78172887253, 243077.78172887253, 243206.32098363416, 243206.32098363416, 243334.86023839578, 243334.86023839578, 243591.93874791905, 243720.47800268067, 243720.47800268067, 243720.47800268067, 243849.0172574423, 243849.0172574423, 243849.0172574423, 243849.0172574423, 243849.0172574423, 244106.09576696556, 244363.1742764888, 244363.1742764888, 244363.1742764888, 244491.71353125045, 244620.25278601208, 244748.7920407737, 244877.33129553532, 244877.33129553532, 245005.87055029697, 245005.87055029697, 245134.4098050586, 245262.9490598202, 245391.48831458186, 245391.48831458186, 245391.48831458186, 245391.48831458186, 245648.5668241051, 245905.64533362837, 245905.64533362837, 246162.72384315162, 246291.26309791324, 246291.26309791324, 246291.26309791324, 246548.3416074365, 246805.42011695975, 246805.42011695975, 246805.42011695975, 246933.9593717214, 247191.03788124464, 247319.57713600626, 247448.11639076791, 247448.11639076791, 247448.11639076791, 247448.11639076791, 247448.11639076791, 247705.19490029116, 247705.19490029116, 247962.27340981443, 248090.81266457605, 248219.35191933767, 248219.35191933767, 248219.35191933767, 248347.89117409932, 248347.89117409932, 248347.89117409932, 248476.43042886094, 248604.96968362256, 248604.96968362256, 248604.96968362256, 248604.96968362256, 248604.96968362256, 248733.50893838418, 248862.04819314583, 249247.6659574307, 249247.6659574307, 249247.6659574307, 249247.6659574307, 249247.6659574307, 249504.74446695397, 249504.74446695397, 249504.74446695397, 249761.8229764772, 249761.8229764772, 249890.36223123886, 249890.36223123886, 250018.90148600048, 250018.90148600048, 250018.90148600048, 250147.4407407621, 250275.97999552372, 250275.97999552372, 250533.058505047, 250918.6762693319, 250918.6762693319, 251175.75477885513, 251304.29403361678, 251304.29403361678, 251304.29403361678, 251561.37254314002, 251561.37254314002, 251689.91179790164, 251818.4510526633, 252204.06881694816, 252332.6080717098, 252332.6080717098, 252332.6080717098, 252461.14732647143, 252589.68658123305, 252589.68658123305, 252718.22583599467, 252718.22583599467, 252718.22583599467, 252718.22583599467, 252846.76509075632, 253103.84360027956, 253360.92210980284, 253360.92210980284, 253618.00061932608, 253618.00061932608, 253618.00061932608, 253618.00061932608, 253618.00061932608, 253618.00061932608, 253618.00061932608, 253618.00061932608, 253618.00061932608, 253618.00061932608, 254260.69689313424, 254389.23614789586, 254389.23614789586, 254389.23614789586, 254389.23614789586, 254646.3146574191, 254903.39316694238, 255160.47167646562, 255160.47167646562, 255160.47167646562, 255417.5501859889, 255417.5501859889, 255546.0894407505, 255546.0894407505, 255931.7072050354, 256702.9427336052, 257731.25677169822, 258245.41379074473, 258502.49230026797, 258502.49230026797, 258502.49230026797, 258759.57080979124, 259145.18857407614, 259402.26708359938, 259787.88484788427, 259787.88484788427, 260044.9633574075, 260173.50261216916, 260173.50261216916, 260302.04186693078, 260559.12037645403, 260559.12037645403, 261073.27739550054, 261201.8166502622, 261330.3559050238, 261587.43441454705, 261844.51292407032, 261844.51292407032, 262101.5914335936, 262230.1306883552, 262230.1306883552, 262487.2091978785, 262872.8269621633, 262872.8269621633, 262872.8269621633, 262872.8269621633, 262872.8269621633, 263001.366216925, 263129.9054716866, 263258.4447264483, 263258.4447264483, 263386.98398120987, 263901.1410002564, 264286.75876454124, 264929.4550383494, 265700.69056691916, 265957.76907644246, 265957.76907644246, 265957.76907644246, 266214.8475859657, 266343.3868407273, 266471.92609548895, 266471.92609548895, 266600.4653502506, 266729.00460501225, 266857.54385977384, 266986.08311453543, 267500.24013358203, 267500.24013358203, 267500.24013358203, 267500.24013358203, 267757.3186431052, 267757.3186431052, 267757.3186431052, 267757.3186431052, 267885.85789786687, 268271.47566215176, 268528.554171675, 268528.554171675, 268528.554171675, 268785.6326811983, 269042.71119072154, 269299.7897002448, 269299.7897002448, 269299.7897002448, 269428.32895500644, 270071.0252288146, 271356.41777643084, 271356.41777643084, 271484.9570311925, 271613.49628595414, 271742.03554071573, 272127.6533050006, 273670.1243621402, 273670.1243621402, 274184.2813811867, 275469.67392880295, 275469.67392880295, 275726.75243832625, 275983.8309478495, 276369.4487121344, 276497.98796689603, 278426.07678832044, 278554.6160430821, 278554.6160430821, 279454.39082641347, 279840.00859069836, 279968.54784546, 280868.3226287914, 280868.3226287914, 281253.9403930763, 281382.4796478379, 282025.17592164606, 282153.71517640766, 283310.56846926233, 283439.107724024, 283953.26474307047, 284210.34325259377, 284210.34325259377, 284338.88250735536, 284467.42176211695, 285110.1180359251, 285495.73580021004, 285752.8143097333, 285752.8143097333, 286009.8928192565, 286909.66760258796, 287552.3638763961, 288580.67791448906, 288580.67791448906, 288580.67791448906, 289351.91344305885, 290380.22748115193, 290894.3845001984, 291151.4630097217, 291151.4630097217, 291151.4630097217, 292179.7770478147, 292693.9340668612, 292951.01257638447, 293208.09108590777, 293208.09108590777, 293208.09108590777, 293593.7088501926, 293979.3266144775, 293979.3266144775, 294493.48363352404, 294493.48363352404, 294750.5621430473, 295393.2584168554, 296678.6509644717, 296807.19021923334, 297449.8864930415, 297449.8864930415, 297706.9650025648, 297964.043512088, 298735.2790406578, 299377.97531446593, 301048.9856263671, 302719.99593826826, 303105.61370255315, 303619.7707215997, 304133.9277406462, 304262.4669954078, 305162.2417787392, 306062.01656207064, 306576.1735811171, 307990.10538349504, 308632.8016573032, 308889.8801668264, 313774.3718477683, 314288.52886681486, 315188.30365014623, 316473.69619776256, 317244.9317263323, 318658.8635287102, 318658.8635287102, 321872.34489775094, 324057.51222869864, 324443.12999298354, 325857.06179536146, 332026.9460239196, 335111.8881381987, 335368.96664772194, 335497.5059024836, 338968.06578104757, 340253.45832866384, 341410.3116215185, 342824.24342389643, 345652.1070286523, 346680.4210667453, 348222.8921238848, 348994.1276524546, 351564.9127476872, 351821.99125721044, 352464.6875310186, 355678.1689000593, 355935.24740958255, 359534.34654290817, 369946.0261786001, 375216.1356238269, 378043.9992285827, 381900.1768714316, 404008.9286904317, 434858.34983322263, 446426.8827617692, 634608.3517327937, 686409.67140173], \"yaxis\": \"y\"}],\n",
              "                        {\"height\": 600, \"legend\": {\"tracegroupgap\": 0}, \"margin\": {\"t\": 60}, \"template\": {\"data\": {\"bar\": [{\"error_x\": {\"color\": \"#2a3f5f\"}, \"error_y\": {\"color\": \"#2a3f5f\"}, \"marker\": {\"line\": {\"color\": \"#E5ECF6\", \"width\": 0.5}}, \"type\": \"bar\"}], \"barpolar\": [{\"marker\": {\"line\": {\"color\": \"#E5ECF6\", \"width\": 0.5}}, \"type\": \"barpolar\"}], \"carpet\": [{\"aaxis\": {\"endlinecolor\": \"#2a3f5f\", \"gridcolor\": \"white\", \"linecolor\": \"white\", \"minorgridcolor\": \"white\", \"startlinecolor\": \"#2a3f5f\"}, \"baxis\": {\"endlinecolor\": \"#2a3f5f\", \"gridcolor\": \"white\", \"linecolor\": \"white\", \"minorgridcolor\": \"white\", \"startlinecolor\": \"#2a3f5f\"}, \"type\": \"carpet\"}], \"choropleth\": [{\"colorbar\": {\"outlinewidth\": 0, \"ticks\": \"\"}, \"type\": \"choropleth\"}], \"contour\": [{\"colorbar\": {\"outlinewidth\": 0, \"ticks\": \"\"}, \"colorscale\": [[0.0, \"#0d0887\"], [0.1111111111111111, \"#46039f\"], [0.2222222222222222, \"#7201a8\"], [0.3333333333333333, \"#9c179e\"], [0.4444444444444444, \"#bd3786\"], [0.5555555555555556, \"#d8576b\"], [0.6666666666666666, \"#ed7953\"], [0.7777777777777778, \"#fb9f3a\"], [0.8888888888888888, \"#fdca26\"], [1.0, \"#f0f921\"]], \"type\": \"contour\"}], \"contourcarpet\": [{\"colorbar\": {\"outlinewidth\": 0, \"ticks\": \"\"}, \"type\": \"contourcarpet\"}], \"heatmap\": [{\"colorbar\": {\"outlinewidth\": 0, \"ticks\": \"\"}, \"colorscale\": [[0.0, \"#0d0887\"], [0.1111111111111111, \"#46039f\"], [0.2222222222222222, \"#7201a8\"], [0.3333333333333333, \"#9c179e\"], [0.4444444444444444, \"#bd3786\"], [0.5555555555555556, \"#d8576b\"], [0.6666666666666666, \"#ed7953\"], [0.7777777777777778, \"#fb9f3a\"], [0.8888888888888888, \"#fdca26\"], [1.0, \"#f0f921\"]], \"type\": \"heatmap\"}], \"heatmapgl\": [{\"colorbar\": {\"outlinewidth\": 0, \"ticks\": \"\"}, \"colorscale\": [[0.0, \"#0d0887\"], [0.1111111111111111, \"#46039f\"], [0.2222222222222222, \"#7201a8\"], [0.3333333333333333, \"#9c179e\"], [0.4444444444444444, \"#bd3786\"], [0.5555555555555556, \"#d8576b\"], [0.6666666666666666, \"#ed7953\"], [0.7777777777777778, \"#fb9f3a\"], [0.8888888888888888, \"#fdca26\"], [1.0, \"#f0f921\"]], \"type\": \"heatmapgl\"}], \"histogram\": [{\"marker\": {\"colorbar\": {\"outlinewidth\": 0, \"ticks\": \"\"}}, \"type\": \"histogram\"}], \"histogram2d\": [{\"colorbar\": {\"outlinewidth\": 0, \"ticks\": \"\"}, \"colorscale\": [[0.0, \"#0d0887\"], [0.1111111111111111, \"#46039f\"], [0.2222222222222222, \"#7201a8\"], [0.3333333333333333, \"#9c179e\"], [0.4444444444444444, \"#bd3786\"], [0.5555555555555556, \"#d8576b\"], [0.6666666666666666, \"#ed7953\"], [0.7777777777777778, \"#fb9f3a\"], [0.8888888888888888, \"#fdca26\"], [1.0, \"#f0f921\"]], \"type\": \"histogram2d\"}], \"histogram2dcontour\": [{\"colorbar\": {\"outlinewidth\": 0, \"ticks\": \"\"}, \"colorscale\": [[0.0, \"#0d0887\"], [0.1111111111111111, \"#46039f\"], [0.2222222222222222, \"#7201a8\"], [0.3333333333333333, \"#9c179e\"], [0.4444444444444444, \"#bd3786\"], [0.5555555555555556, \"#d8576b\"], [0.6666666666666666, \"#ed7953\"], [0.7777777777777778, \"#fb9f3a\"], [0.8888888888888888, \"#fdca26\"], [1.0, \"#f0f921\"]], \"type\": \"histogram2dcontour\"}], \"mesh3d\": [{\"colorbar\": {\"outlinewidth\": 0, \"ticks\": \"\"}, \"type\": \"mesh3d\"}], \"parcoords\": [{\"line\": {\"colorbar\": {\"outlinewidth\": 0, \"ticks\": \"\"}}, \"type\": \"parcoords\"}], \"scatter\": [{\"marker\": {\"colorbar\": {\"outlinewidth\": 0, \"ticks\": \"\"}}, \"type\": \"scatter\"}], \"scatter3d\": [{\"line\": {\"colorbar\": {\"outlinewidth\": 0, \"ticks\": \"\"}}, \"marker\": {\"colorbar\": {\"outlinewidth\": 0, \"ticks\": \"\"}}, \"type\": \"scatter3d\"}], \"scattercarpet\": [{\"marker\": {\"colorbar\": {\"outlinewidth\": 0, \"ticks\": \"\"}}, \"type\": \"scattercarpet\"}], \"scattergeo\": [{\"marker\": {\"colorbar\": {\"outlinewidth\": 0, \"ticks\": \"\"}}, \"type\": \"scattergeo\"}], \"scattergl\": [{\"marker\": {\"colorbar\": {\"outlinewidth\": 0, \"ticks\": \"\"}}, \"type\": \"scattergl\"}], \"scattermapbox\": [{\"marker\": {\"colorbar\": {\"outlinewidth\": 0, \"ticks\": \"\"}}, \"type\": \"scattermapbox\"}], \"scatterpolar\": [{\"marker\": {\"colorbar\": {\"outlinewidth\": 0, \"ticks\": \"\"}}, \"type\": \"scatterpolar\"}], \"scatterpolargl\": [{\"marker\": {\"colorbar\": {\"outlinewidth\": 0, \"ticks\": \"\"}}, \"type\": \"scatterpolargl\"}], \"scatterternary\": [{\"marker\": {\"colorbar\": {\"outlinewidth\": 0, \"ticks\": \"\"}}, \"type\": \"scatterternary\"}], \"surface\": [{\"colorbar\": {\"outlinewidth\": 0, \"ticks\": \"\"}, \"colorscale\": [[0.0, \"#0d0887\"], [0.1111111111111111, \"#46039f\"], [0.2222222222222222, \"#7201a8\"], [0.3333333333333333, \"#9c179e\"], [0.4444444444444444, \"#bd3786\"], [0.5555555555555556, \"#d8576b\"], [0.6666666666666666, \"#ed7953\"], [0.7777777777777778, \"#fb9f3a\"], [0.8888888888888888, \"#fdca26\"], [1.0, \"#f0f921\"]], \"type\": \"surface\"}], \"table\": [{\"cells\": {\"fill\": {\"color\": \"#EBF0F8\"}, \"line\": {\"color\": \"white\"}}, \"header\": {\"fill\": {\"color\": \"#C8D4E3\"}, \"line\": {\"color\": \"white\"}}, \"type\": \"table\"}]}, \"layout\": {\"annotationdefaults\": {\"arrowcolor\": \"#2a3f5f\", \"arrowhead\": 0, \"arrowwidth\": 1}, \"colorscale\": {\"diverging\": [[0, \"#8e0152\"], [0.1, \"#c51b7d\"], [0.2, \"#de77ae\"], [0.3, \"#f1b6da\"], [0.4, \"#fde0ef\"], [0.5, \"#f7f7f7\"], [0.6, \"#e6f5d0\"], [0.7, \"#b8e186\"], [0.8, \"#7fbc41\"], [0.9, \"#4d9221\"], [1, \"#276419\"]], \"sequential\": [[0.0, \"#0d0887\"], [0.1111111111111111, \"#46039f\"], [0.2222222222222222, \"#7201a8\"], [0.3333333333333333, \"#9c179e\"], [0.4444444444444444, \"#bd3786\"], [0.5555555555555556, \"#d8576b\"], [0.6666666666666666, \"#ed7953\"], [0.7777777777777778, \"#fb9f3a\"], [0.8888888888888888, \"#fdca26\"], [1.0, \"#f0f921\"]], \"sequentialminus\": [[0.0, \"#0d0887\"], [0.1111111111111111, \"#46039f\"], [0.2222222222222222, \"#7201a8\"], [0.3333333333333333, \"#9c179e\"], [0.4444444444444444, \"#bd3786\"], [0.5555555555555556, \"#d8576b\"], [0.6666666666666666, \"#ed7953\"], [0.7777777777777778, \"#fb9f3a\"], [0.8888888888888888, \"#fdca26\"], [1.0, \"#f0f921\"]]}, \"colorway\": [\"#636efa\", \"#EF553B\", \"#00cc96\", \"#ab63fa\", \"#FFA15A\", \"#19d3f3\", \"#FF6692\", \"#B6E880\", \"#FF97FF\", \"#FECB52\"], \"font\": {\"color\": \"#2a3f5f\"}, \"geo\": {\"bgcolor\": \"white\", \"lakecolor\": \"white\", \"landcolor\": \"#E5ECF6\", \"showlakes\": true, \"showland\": true, \"subunitcolor\": \"white\"}, \"hoverlabel\": {\"align\": \"left\"}, \"hovermode\": \"closest\", \"mapbox\": {\"style\": \"light\"}, \"paper_bgcolor\": \"white\", \"plot_bgcolor\": \"#E5ECF6\", \"polar\": {\"angularaxis\": {\"gridcolor\": \"white\", \"linecolor\": \"white\", \"ticks\": \"\"}, \"bgcolor\": \"#E5ECF6\", \"radialaxis\": {\"gridcolor\": \"white\", \"linecolor\": \"white\", \"ticks\": \"\"}}, \"scene\": {\"xaxis\": {\"backgroundcolor\": \"#E5ECF6\", \"gridcolor\": \"white\", \"gridwidth\": 2, \"linecolor\": \"white\", \"showbackground\": true, \"ticks\": \"\", \"zerolinecolor\": \"white\"}, \"yaxis\": {\"backgroundcolor\": \"#E5ECF6\", \"gridcolor\": \"white\", \"gridwidth\": 2, \"linecolor\": \"white\", \"showbackground\": true, \"ticks\": \"\", \"zerolinecolor\": \"white\"}, \"zaxis\": {\"backgroundcolor\": \"#E5ECF6\", \"gridcolor\": \"white\", \"gridwidth\": 2, \"linecolor\": \"white\", \"showbackground\": true, \"ticks\": \"\", \"zerolinecolor\": \"white\"}}, \"shapedefaults\": {\"line\": {\"color\": \"#2a3f5f\"}}, \"ternary\": {\"aaxis\": {\"gridcolor\": \"white\", \"linecolor\": \"white\", \"ticks\": \"\"}, \"baxis\": {\"gridcolor\": \"white\", \"linecolor\": \"white\", \"ticks\": \"\"}, \"bgcolor\": \"#E5ECF6\", \"caxis\": {\"gridcolor\": \"white\", \"linecolor\": \"white\", \"ticks\": \"\"}}, \"title\": {\"x\": 0.05}, \"xaxis\": {\"automargin\": true, \"gridcolor\": \"white\", \"linecolor\": \"white\", \"ticks\": \"\", \"zerolinecolor\": \"white\", \"zerolinewidth\": 2}, \"yaxis\": {\"automargin\": true, \"gridcolor\": \"white\", \"linecolor\": \"white\", \"ticks\": \"\", \"zerolinecolor\": \"white\", \"zerolinewidth\": 2}}}, \"xaxis\": {\"anchor\": \"y\", \"domain\": [0.0, 0.98], \"title\": {\"text\": \"1st_Flr_SF\"}}, \"yaxis\": {\"anchor\": \"x\", \"domain\": [0.0, 1.0], \"title\": {\"text\": \"SalePrice\"}}},\n",
              "                        {\"responsive\": true}\n",
              "                    ).then(function(){\n",
              "                            \n",
              "var gd = document.getElementById('fcf91b19-f507-4cff-aa80-fbc180eba61a');\n",
              "var x = new MutationObserver(function (mutations, observer) {{\n",
              "        var display = window.getComputedStyle(gd).display;\n",
              "        if (!display || display === 'none') {{\n",
              "            console.log([gd, 'removed!']);\n",
              "            Plotly.purge(gd);\n",
              "            observer.disconnect();\n",
              "        }}\n",
              "}});\n",
              "\n",
              "// Listen for the removal of the full notebook cells\n",
              "var notebookContainer = gd.closest('#notebook-container');\n",
              "if (notebookContainer) {{\n",
              "    x.observe(notebookContainer, {childList: true});\n",
              "}}\n",
              "\n",
              "// Listen for the clearing of the current output cell\n",
              "var outputEl = gd.closest('.output');\n",
              "if (outputEl) {{\n",
              "    x.observe(outputEl, {childList: true});\n",
              "}}\n",
              "\n",
              "                        })\n",
              "                };\n",
              "                \n",
              "            </script>\n",
              "        </div>\n",
              "</body>\n",
              "</html>"
            ]
          },
          "metadata": {
            "tags": []
          }
        }
      ]
    },
    {
      "cell_type": "code",
      "metadata": {
        "id": "eVqrUa_v3yxX",
        "colab_type": "code",
        "colab": {
          "base_uri": "https://localhost:8080/",
          "height": 85
        },
        "outputId": "1d5e6bf8-f461-41bb-b845-c45b57dcaa29"
      },
      "source": [
        "#what if we make a regression based solely on this one feature?\n",
        "#It beats baseline but does worse than our previous model with ten features\n",
        "\n",
        "feature_ground = ['1st_Flr_SF']\n",
        "target = 'SalePrice'\n",
        "\n",
        "y_train_ground = train[target]\n",
        "X_train_ground = train[feature_ground]\n",
        "X_val_ground = val[feature_ground]\n",
        "y_val_ground = val[target]\n",
        "X_test_ground = test[feature_ground]\n",
        "y_test_ground = test[target]\n",
        "\n",
        "from sklearn.linear_model import LinearRegression\n",
        "model = LinearRegression()\n",
        "model.fit(X_train_ground, y_train_ground)\n",
        "\n",
        "print('coefficient:', model.coef_)\n",
        "print('intercept:', model.intercept_)\n",
        "\n",
        "y_pred = model.predict(X_val_ground)\n",
        "mae = mean_absolute_error(y_val_ground, y_pred)\n",
        "print(f'Validation MAE: ${mae:,.0f}')\n",
        "\n",
        "r2 = r2_score(y_val_ground, y_pred)\n",
        "print('R^2:', r2)"
      ],
      "execution_count": 84,
      "outputs": [
        {
          "output_type": "stream",
          "text": [
            "coefficient: [124.24225038]\n",
            "intercept: 37541.93130395311\n",
            "Validation MAE: $45,908\n",
            "R^2: 0.4487612325247191\n"
          ],
          "name": "stdout"
        }
      ]
    },
    {
      "cell_type": "code",
      "metadata": {
        "id": "ZawNxq3812o2",
        "colab_type": "code",
        "colab": {
          "base_uri": "https://localhost:8080/",
          "height": 617
        },
        "outputId": "6b8e6a7c-c8f7-4762-e360-263f7e1bb3c9"
      },
      "source": [
        "px.scatter(homes, x='Year_Built', y='SalePrice')"
      ],
      "execution_count": 67,
      "outputs": [
        {
          "output_type": "display_data",
          "data": {
            "text/html": [
              "<html>\n",
              "<head><meta charset=\"utf-8\" /></head>\n",
              "<body>\n",
              "    <div>\n",
              "            <script src=\"https://cdnjs.cloudflare.com/ajax/libs/mathjax/2.7.5/MathJax.js?config=TeX-AMS-MML_SVG\"></script><script type=\"text/javascript\">if (window.MathJax) {MathJax.Hub.Config({SVG: {font: \"STIX-Web\"}});}</script>\n",
              "                <script type=\"text/javascript\">window.PlotlyConfig = {MathJaxConfig: 'local'};</script>\n",
              "        <script src=\"https://cdn.plot.ly/plotly-latest.min.js\"></script>    \n",
              "            <div id=\"f8153f9b-2c6a-4dff-9c92-4d6719983a41\" class=\"plotly-graph-div\" style=\"height:600px; width:100%;\"></div>\n",
              "            <script type=\"text/javascript\">\n",
              "                \n",
              "                    window.PLOTLYENV=window.PLOTLYENV || {};\n",
              "                    \n",
              "                if (document.getElementById(\"f8153f9b-2c6a-4dff-9c92-4d6719983a41\")) {\n",
              "                    Plotly.newPlot(\n",
              "                        'f8153f9b-2c6a-4dff-9c92-4d6719983a41',\n",
              "                        [{\"hoverlabel\": {\"namelength\": 0}, \"hovertemplate\": \"Year_Built=%{x}<br>SalePrice=%{y}\", \"legendgroup\": \"\", \"marker\": {\"color\": \"#636efa\", \"symbol\": \"circle\"}, \"mode\": \"markers\", \"name\": \"\", \"showlegend\": false, \"type\": \"scattergl\", \"x\": [1960, 1961, 1958, 1968, 1997, 1998, 2001, 1992, 1995, 1999, 1993, 1992, 1998, 1990, 1985, 2003, 1988, 2010, 1951, 1978, 1977, 1974, 2000, 1970, 1971, 1968, 1970, 1971, 1999, 1971, 1971, 1971, 1977, 1975, 1975, 1978, 2009, 2007, 2009, 2009, 2005, 2005, 2005, 2004, 2009, 2009, 2003, 2002, 2005, 2006, 2003, 2005, 2006, 2004, 2004, 2004, 2000, 2001, 1999, 1998, 1996, 1994, 1999, 1998, 1995, 2005, 2009, 2009, 2008, 2004, 2005, 2004, 2004, 1994, 1980, 1992, 1979, 1984, 1993, 1984, 1980, 1920, 1978, 1961, 1965, 1967, 1963, 1962, 1974, 1992, 1993, 1992, 2004, 2004, 2004, 2004, 2004, 2005, 2009, 2000, 2000, 1999, 2003, 2010, 2000, 1980, 1978, 1976, 2002, 1967, 1993, 1977, 1978, 1988, 1972, 1971, 1966, 1963, 1959, 1966, 1967, 1964, 1964, 1963, 1962, 1950, 1952, 1949, 1958, 1940, 1954, 1955, 1954, 1966, 1960, 1970, 1966, 1958, 2003, 1959, 1959, 1957, 1959, 1959, 1960, 1959, 1959, 1956, 1952, 1955, 1958, 1953, 1920, 1955, 1954, 1956, 1948, 1980, 1959, 1967, 1948, 1959, 1952, 1951, 1962, 1960, 1963, 1966, 1900, 1910, 1920, 1927, 1957, 1915, 1945, 1940, 1929, 1938, 1948, 1920, 1923, 1928, 1900, 1915, 1890, 1910, 1957, 1910, 1885, 1922, 1950, 1922, 1925, 1939, 1940, 1942, 1948, 1936, 1930, 1923, 1921, 1915, 1912, 1920, 1963, 1930, 1900, 1940, 1959, 1917, 1915, 1940, 1907, 1910, 1875, 1967, 1968, 1965, 1957, 1967, 1968, 1966, 1969, 1968, 1978, 1968, 1978, 1996, 1977, 1927, 1950, 1979, 1978, 1938, 1920, 1950, 1956, 1947, 1954, 2009, 2009, 1964, 1946, 1985, 1987, 1993, 1993, 1992, 2008, 2006, 2009, 2010, 1990, 1900, 1971, 1996, 1997, 1998, 1977, 1977, 1976, 1972, 2003, 2001, 2003, 1997, 1998, 2003, 2004, 2003, 2004, 2004, 1945, 1954, 1965, 1968, 1948, 1975, 1976, 1958, 2003, 1945, 1941, 1957, 1924, 1915, 1914, 1924, 1939, 1967, 1931, 1919, 1941, 1950, 1941, 1959, 1994, 1989, 1989, 1959, 1922, 1941, 1921, 1920, 1900, 1952, 1896, 2004, 1998, 1977, 2003, 1976, 1976, 1948, 2008, 2009, 2006, 2009, 2002, 2002, 2008, 1965, 2004, 1971, 1999, 1973, 1973, 1976, 1970, 1972, 1970, 1972, 1971, 1962, 1984, 1985, 1991, 1969, 1994, 1993, 1956, 1974, 1972, 1997, 2003, 1996, 2006, 1995, 2004, 2000, 1998, 1995, 1998, 1998, 1998, 1993, 1993, 1994, 1993, 1992, 1994, 1992, 1999, 1990, 1984, 2008, 2008, 2005, 1977, 1980, 1979, 1977, 1977, 1978, 1978, 1980, 1980, 1978, 1981, 1978, 1976, 1976, 2003, 2009, 2000, 2002, 1975, 1974, 1975, 1974, 1972, 1974, 1970, 1969, 1970, 1971, 1970, 1970, 1970, 1971, 1971, 1973, 1970, 1971, 1972, 1972, 1972, 1976, 1976, 1976, 1975, 1974, 1977, 1978, 1978, 1978, 1976, 1967, 1966, 2006, 2007, 2008, 2008, 2006, 2007, 2008, 2009, 2008, 2008, 2009, 2008, 2007, 2008, 2008, 2004, 2007, 2006, 2008, 2004, 2006, 2008, 2004, 2004, 2003, 2003, 2009, 2003, 2003, 2003, 2006, 2005, 2005, 2005, 2007, 2007, 2004, 2003, 2008, 2008, 2002, 2006, 2003, 2003, 2005, 2005, 2005, 2005, 2007, 2007, 2005, 2005, 2005, 2005, 2004, 2002, 2004, 2004, 2002, 2004, 2003, 2003, 2007, 2000, 2000, 2004, 2000, 2000, 1999, 1999, 1999, 1999, 1999, 1999, 1995, 2000, 1998, 1998, 1996, 1994, 1993, 1995, 1993, 1994, 1994, 2008, 2008, 2008, 2008, 2007, 2006, 2005, 2005, 2009, 2008, 2009, 2009, 2008, 2007, 2009, 2006, 2008, 2006, 2005, 2006, 2008, 2006, 2003, 2004, 2003, 2003, 2007, 2006, 2004, 2004, 2004, 2004, 2004, 2003, 2008, 1996, 2005, 2001, 1992, 1980, 1990, 1994, 1986, 1981, 1950, 1928, 1962, 1977, 1961, 1961, 1965, 1963, 1961, 1965, 1962, 1980, 1991, 2004, 2009, 2009, 2008, 2008, 1999, 2000, 1999, 1999, 1977, 1981, 1981, 1976, 1976, 1968, 1970, 1968, 1973, 1974, 1972, 1967, 1967, 1969, 1969, 1977, 1977, 1998, 2001, 1967, 1967, 1965, 1974, 1971, 1967, 1960, 1959, 1959, 1957, 1956, 1958, 1964, 1961, 1964, 1966, 1965, 1964, 1959, 1961, 1955, 1940, 1950, 1953, 1967, 1953, 1956, 1950, 1950, 1967, 1961, 1963, 1966, 1965, 1968, 1968, 1920, 1956, 1957, 1960, 1959, 1958, 1958, 1956, 1955, 1956, 1962, 1954, 1958, 1954, 1953, 1951, 1955, 1951, 1945, 1952, 1953, 1900, 1948, 1950, 1948, 1958, 1916, 1939, 1900, 1924, 1925, 1915, 1910, 1940, 1920, 1920, 1890, 1969, 1963, 1967, 1969, 1958, 1957, 1957, 1960, 1958, 1949, 1950, 1950, 1949, 1950, 1958, 1958, 1952, 1959, 1959, 1949, 1948, 1964, 1978, 1963, 1962, 1926, 1910, 1935, 1910, 1941, 1910, 1910, 1939, 1892, 1920, 1952, 1946, 1910, 1953, 1950, 1954, 1920, 1940, 1910, 1938, 1923, 1920, 1910, 1947, 1898, 1880, 1900, 1917, 1882, 1910, 1920, 1910, 1890, 1920, 1910, 1920, 1900, 1923, 1923, 1925, 1930, 1916, 1936, 1937, 1925, 1939, 1924, 1926, 1924, 1936, 1935, 1936, 1931, 1925, 1938, 1925, 1916, 1910, 1915, 1915, 1915, 1912, 1922, 1927, 1925, 1915, 1902, 1927, 1923, 1915, 1946, 1987, 1987, 1978, 1922, 1925, 1934, 1963, 1963, 1978, 1967, 1967, 1978, 1982, 1982, 1962, 1961, 1960, 1956, 1947, 1957, 1968, 1956, 1940, 1955, 1955, 1954, 1956, 1956, 1958, 1946, 1941, 1954, 1957, 1984, 1949, 1939, 1940, 1990, 1983, 1983, 1990, 1993, 1993, 1995, 1880, 1979, 1979, 1979, 1979, 1979, 1979, 1979, 1979, 2000, 2000, 2000, 2009, 2007, 2008, 2008, 2008, 2007, 2007, 2007, 2006, 2007, 2008, 2007, 2005, 2005, 1989, 1992, 1967, 1996, 1994, 1997, 1996, 1998, 1994, 1994, 1998, 1999, 1999, 1998, 2002, 2002, 2001, 2001, 2002, 2001, 1978, 1978, 1979, 1977, 1978, 1977, 1972, 1972, 1972, 1972, 2002, 2003, 2001, 2001, 2000, 2001, 1999, 1996, 2002, 1997, 1997, 1996, 2001, 2000, 2003, 2003, 2007, 2004, 2004, 2005, 2007, 1949, 1964, 1938, 2003, 1977, 1960, 1976, 2007, 2005, 1947, 1959, 1950, 1945, 1922, 1952, 1959, 1956, 1956, 1920, 1941, 1941, 1938, 1932, 1920, 1940, 1920, 1935, 1928, 1916, 1925, 1936, 1928, 1928, 1918, 1926, 1940, 1942, 1940, 1960, 1921, 1921, 1940, 1954, 1941, 1960, 1949, 1950, 1954, 1980, 1980, 1980, 1980, 1986, 1971, 1988, 1920, 1900, 1920, 1915, 1925, 2007, 1910, 2000, 2003, 2004, 2001, 1977, 1977, 1977, 1990, 1991, 1958, 1965, 2007, 2009, 2008, 2008, 2007, 1988, 1980, 1987, 2001, 2003, 2006, 2007, 1968, 1960, 1998, 1999, 1973, 1968, 1970, 1969, 1970, 1970, 1970, 1972, 1993, 1978, 1985, 1992, 1993, 1992, 1977, 1969, 1958, 1970, 1969, 1997, 1995, 1998, 1998, 1996, 1996, 1996, 2001, 1997, 1993, 1992, 1997, 1998, 1995, 1994, 1991, 1988, 1989, 2005, 2005, 2004, 1952, 2007, 1950, 1986, 1988, 1981, 1983, 1978, 1979, 1977, 1976, 1977, 1980, 1969, 1978, 1976, 1976, 1976, 1973, 1996, 1974, 1969, 1969, 1971, 1972, 1998, 1973, 1973, 1972, 1970, 1971, 1971, 1972, 1977, 1975, 1977, 1966, 2008, 2007, 2007, 2008, 2007, 2007, 2007, 2007, 2006, 2005, 2005, 2007, 2004, 2003, 2003, 2003, 2003, 2001, 2003, 2008, 2008, 2005, 2003, 2005, 2007, 2006, 2006, 2003, 2003, 2004, 2003, 2004, 2005, 2007, 2007, 2004, 2004, 2005, 2005, 2002, 2003, 2007, 2000, 2000, 2004, 1999, 1999, 1997, 1998, 2000, 2000, 1998, 1996, 1995, 1995, 1993, 1993, 1994, 1994, 2007, 2007, 2006, 2006, 2008, 2007, 2008, 2007, 2007, 2007, 2007, 2005, 2003, 2005, 2007, 2007, 2007, 2003, 2004, 2003, 2003, 2005, 2004, 2003, 2004, 2007, 1995, 1993, 1994, 1994, 2001, 1992, 1991, 1993, 1993, 1993, 1963, 1962, 1961, 1968, 1963, 1961, 1974, 1972, 1990, 1993, 2004, 2006, 2004, 2005, 2007, 2007, 1999, 1999, 2000, 2001, 2001, 1999, 1999, 1999, 1999, 2001, 1999, 1999, 1998, 1996, 1995, 1993, 1984, 1977, 1976, 1970, 1969, 1968, 1971, 1967, 1965, 1974, 1968, 1965, 1965, 1965, 1965, 1973, 1971, 1976, 1974, 1966, 1961, 1968, 1956, 1957, 1956, 1963, 1964, 1966, 1965, 1964, 1965, 1964, 1961, 1959, 1959, 1960, 1960, 1949, 1935, 1939, 1937, 1960, 1950, 1950, 1955, 1953, 1965, 1961, 1961, 1962, 1962, 1966, 1955, 1963, 1962, 1957, 1959, 1958, 1958, 1956, 1957, 1958, 1956, 1952, 1953, 1953, 1957, 1951, 1953, 1957, 1947, 1957, 1948, 1925, 1945, 1940, 1922, 1900, 1962, 1968, 1958, 1960, 1960, 1960, 1953, 1951, 1950, 1960, 1959, 1962, 1960, 1948, 1954, 1954, 1954, 1961, 1955, 1954, 1963, 1964, 1963, 2008, 1925, 1904, 1948, 1910, 1920, 1940, 1915, 1910, 2003, 1940, 1920, 1920, 1940, 1910, 1890, 1948, 1948, 1946, 1946, 1957, 1954, 1949, 1880, 1900, 1915, 1920, 1916, 1900, 1920, 1917, 1905, 1928, 1905, 1914, 1872, 1926, 1893, 1920, 1890, 1959, 1954, 1956, 1958, 1928, 1945, 1930, 1935, 1924, 1941, 1900, 1940, 1924, 1929, 1937, 1939, 1926, 1920, 1929, 1945, 1930, 1939, 1923, 1931, 1920, 1927, 1948, 1923, 1925, 1915, 1940, 1918, 1910, 1925, 1910, 1930, 1952, 1938, 1915, 1925, 1925, 1920, 1955, 1920, 1912, 1915, 1906, 1947, 1968, 1948, 1959, 1940, 1963, 1965, 1978, 1966, 1967, 1967, 1978, 1967, 1984, 1969, 1920, 1959, 1966, 1963, 1956, 1954, 1960, 1958, 1940, 1960, 1941, 1970, 1996, 1977, 1979, 1954, 1954, 1959, 1948, 1953, 1908, 1940, 1918, 1935, 1956, 1975, 1962, 1900, 1910, 1950, 1924, 1941, 1990, 1995, 1994, 1993, 1996, 2007, 2007, 2008, 2008, 1993, 1995, 1966, 1997, 1994, 1995, 1994, 1997, 1997, 2000, 1999, 1998, 1999, 2002, 2001, 2000, 2001, 1975, 1977, 1978, 1978, 1975, 1975, 1975, 1972, 1972, 2002, 2000, 2001, 1999, 1998, 2001, 2001, 2002, 2002, 2003, 2003, 2003, 1999, 1994, 2003, 2004, 1997, 1997, 2002, 2003, 2004, 2004, 2004, 2007, 2007, 2007, 2005, 2004, 2004, 2004, 2004, 1910, 1900, 1966, 1965, 1976, 1976, 1940, 1972, 2003, 1977, 1976, 2005, 2008, 2005, 1955, 1955, 1955, 1955, 1955, 1938, 1947, 1953, 1946, 1954, 1955, 1954, 1923, 1925, 1914, 1912, 1925, 1939, 1925, 1921, 1911, 1921, 1930, 1926, 1922, 1915, 1914, 1930, 1925, 1936, 1923, 1931, 1934, 1937, 1938, 1951, 1935, 1935, 1939, 1950, 1956, 1954, 1980, 1980, 1926, 1940, 1922, 1930, 1940, 1930, 1967, 1930, 1958, 1952, 1895, 1920, 1910, 1935, 1920, 2008, 2007, 2004, 2004, 1996, 2002, 1996, 1977, 1977, 1976, 1991, 1965, 1986, 1976, 2006, 2007, 2007, 2006, 2008, 1989, 1986, 1986, 1988, 2003, 1999, 2003, 2007, 2005, 1997, 1997, 2007, 1997, 1964, 1975, 1976, 1976, 1973, 1973, 1968, 1970, 1972, 1954, 1983, 1984, 1982, 1982, 1982, 1940, 1984, 1969, 1900, 1971, 1970, 1973, 1970, 2003, 1995, 1997, 1997, 1997, 2000, 1994, 1999, 1996, 1995, 1999, 1992, 1991, 1992, 1993, 1964, 1986, 1984, 1988, 1990, 2005, 2005, 2006, 1969, 2006, 2007, 2006, 2006, 1981, 1984, 1984, 1981, 1978, 1979, 1977, 1976, 1978, 1984, 1979, 1979, 1969, 1971, 1971, 1968, 1976, 1976, 1974, 1971, 1971, 1972, 1970, 1970, 1971, 1971, 1971, 1961, 1971, 1998, 2001, 1997, 1973, 1973, 1973, 1970, 1971, 1976, 1976, 1978, 1966, 2006, 2007, 2007, 2006, 2007, 2007, 2006, 2007, 2006, 2005, 2006, 2007, 2006, 2006, 2006, 2006, 2005, 2007, 2007, 2004, 2007, 2007, 2006, 2004, 2004, 2003, 2003, 2007, 2005, 2005, 2006, 2005, 2005, 2005, 2005, 2006, 2006, 2006, 2005, 2005, 2007, 2006, 2003, 2005, 2005, 2006, 2006, 2006, 2005, 2007, 2007, 2007, 2006, 2007, 2007, 2007, 2006, 2006, 2003, 2007, 2004, 2004, 2004, 2004, 2006, 2004, 2003, 2000, 2002, 1999, 2000, 2003, 2000, 1999, 1996, 1997, 2000, 2001, 1998, 1998, 1998, 1994, 1996, 1996, 1995, 1995, 1992, 1992, 1996, 2007, 2007, 2006, 2007, 2006, 2007, 2006, 2006, 2007, 2007, 2006, 2005, 2007, 2005, 2004, 2006, 2006, 2007, 2006, 2007, 2007, 2006, 2007, 2006, 2007, 2007, 2006, 2004, 2004, 2006, 2006, 2003, 2006, 1994, 1993, 2000, 1998, 1992, 1980, 1983, 1977, 1977, 1963, 1962, 1962, 1961, 1962, 1968, 1961, 1967, 1990, 1974, 1974, 1975, 1973, 1990, 1992, 2004, 2006, 2006, 2006, 2006, 2006, 1999, 1999, 2000, 2000, 2000, 2004, 1999, 1997, 1999, 2003, 1998, 1994, 1980, 1978, 1976, 1978, 1976, 1976, 1981, 1977, 2001, 1968, 1970, 1969, 1968, 1972, 1993, 1993, 1976, 1966, 1973, 1963, 1967, 1967, 1965, 1958, 1964, 1964, 1960, 1960, 1960, 1958, 1958, 1956, 1959, 1961, 1961, 1960, 1966, 1965, 1964, 1964, 1964, 1959, 1960, 1959, 1962, 1950, 1940, 1946, 1946, 1945, 1958, 1964, 1955, 1948, 1941, 1942, 1968, 1966, 1961, 1958, 1958, 1965, 1957, 1956, 1963, 1958, 1958, 1954, 1957, 1960, 1957, 1957, 1956, 1970, 1955, 1955, 1953, 1958, 1952, 1953, 1953, 1956, 1955, 1955, 1955, 1956, 1953, 1952, 1890, 1949, 1953, 1935, 1940, 1956, 1925, 1927, 1895, 1920, 1963, 1961, 1968, 1969, 1949, 1948, 1949, 1950, 1950, 1950, 1960, 1959, 1958, 1960, 1960, 1961, 1961, 1964, 1962, 1962, 1962, 1926, 1910, 1927, 1922, 1980, 1920, 1885, 1940, 1900, 1948, 1937, 1900, 1920, 1900, 1945, 1923, 1910, 1927, 1925, 1910, 1900, 1910, 1880, 1930, 1879, 1910, 1926, 1948, 1890, 1930, 1956, 1949, 1925, 1950, 1920, 1923, 1939, 1939, 1941, 1939, 1938, 1939, 1930, 1926, 1920, 1929, 1931, 1926, 1918, 1919, 1920, 1926, 1915, 1929, 1916, 1901, 1901, 1931, 1930, 1963, 1914, 1937, 1950, 1915, 1958, 1920, 1916, 1941, 1910, 1930, 1910, 1937, 1946, 1940, 1942, 1963, 1964, 1964, 1961, 1964, 1966, 1966, 1966, 1968, 1971, 1968, 1967, 1966, 1968, 1977, 1966, 1956, 1920, 1918, 1940, 1954, 1958, 1945, 1971, 1984, 1988, 1948, 1953, 1946, 1954, 1950, 1954, 1958, 1958, 1977, 1920, 1984, 1951, 1951, 1920, 1957, 1984, 1990, 1990, 1986, 1991, 1989, 1994, 2007, 2006, 2007, 2006, 2006, 2007, 2007, 2007, 2005, 2006, 2006, 2007, 2005, 2006, 2005, 2005, 2006, 1988, 1988, 1958, 1992, 1966, 1976, 1994, 1994, 1995, 1997, 1998, 1994, 1996, 1994, 1997, 1999, 1998, 2001, 2000, 2003, 2003, 1974, 1976, 1977, 1977, 1977, 1975, 1972, 1975, 1972, 1972, 2004, 2002, 2000, 2002, 2003, 2002, 1998, 1994, 2001, 1996, 2002, 1995, 2003, 1999, 2003, 2003, 2007, 2006, 2004, 2005, 2006, 2006, 2005, 1965, 1967, 1963, 1965, 1925, 1960, 1990, 1976, 1976, 1979, 2006, 2005, 2005, 2008, 2007, 2005, 1959, 1955, 1954, 1946, 1931, 1920, 1954, 1910, 1955, 1955, 1954, 1914, 1923, 1923, 1926, 1926, 1921, 1937, 1930, 1921, 1918, 1926, 1941, 1913, 1910, 1938, 1946, 1949, 1927, 1951, 1918, 1934, 1930, 1932, 1941, 1932, 1945, 1957, 1940, 1953, 1960, 1968, 1980, 1995, 1988, 1971, 1986, 1919, 1940, 1941, 1925, 1939, 1923, 1922, 1920, 1920, 1950, 1939, 1895, 1957, 1930, 2006, 2006, 1979, 1978, 1983, 2002, 2002, 1991, 1975, 1974, 1987, 1998, 1959, 1958, 2006, 2006, 2007, 2006, 1985, 1990, 1996, 2001, 2003, 2002, 1996, 2002, 2003, 1963, 2006, 2006, 2005, 2007, 1953, 1996, 1963, 1967, 1961, 1976, 1976, 1972, 1970, 1970, 1970, 1970, 1976, 1976, 1977, 1977, 1977, 1977, 1971, 1970, 1961, 1982, 1976, 1982, 1983, 1991, 1984, 1954, 1956, 1957, 1957, 1969, 1997, 1997, 1995, 1995, 1996, 1997, 2005, 2006, 2005, 2005, 2005, 2006, 1994, 1993, 1993, 1998, 1987, 1987, 1985, 2005, 2006, 2006, 2005, 2006, 2006, 2005, 2006, 1948, 1955, 2005, 2005, 2005, 1984, 1988, 1977, 1976, 1980, 1988, 1978, 1980, 1978, 1975, 1976, 2005, 1975, 1975, 1976, 1974, 1974, 1969, 1970, 1971, 1971, 2002, 1973, 1973, 1973, 1972, 1971, 1972, 1972, 1972, 1972, 1975, 1967, 1967, 1976, 1976, 2004, 2006, 2006, 2004, 2006, 2005, 2004, 2005, 2004, 2005, 2005, 2005, 2005, 2006, 2005, 2003, 2006, 2005, 2004, 2003, 2005, 2005, 2004, 2005, 2005, 2005, 2005, 2006, 2006, 2003, 2005, 2005, 2006, 2006, 2006, 2006, 2006, 2004, 2006, 2006, 2003, 2003, 2002, 2004, 2004, 2005, 2005, 2005, 2006, 2006, 2005, 2002, 2004, 2004, 2000, 2003, 2000, 2000, 1998, 2000, 2006, 1999, 1997, 1998, 2000, 1995, 2000, 1998, 1998, 1995, 1993, 1994, 1994, 1993, 2005, 2005, 2006, 2005, 2006, 2006, 2006, 2006, 2006, 2005, 2005, 2006, 2006, 2005, 2006, 2005, 2005, 2005, 2005, 2004, 2005, 2005, 1997, 1992, 1992, 1990, 1991, 1994, 1966, 1965, 1962, 1963, 1977, 1962, 1977, 1965, 1968, 1963, 1965, 1965, 1964, 1961, 1967, 1974, 1991, 1992, 1993, 1992, 1994, 2004, 2005, 2005, 2005, 2005, 2005, 2000, 1999, 2000, 2003, 1997, 2001, 1995, 1977, 1980, 1980, 1980, 1978, 1981, 1972, 1968, 1968, 1968, 1968, 1972, 1967, 1969, 1967, 1968, 1968, 1968, 1968, 1968, 1966, 1967, 1965, 1971, 1961, 1958, 1959, 1965, 1964, 1964, 1964, 1958, 1958, 1960, 1934, 1954, 1947, 1946, 1923, 1926, 1908, 1961, 1952, 1951, 1951, 1941, 1949, 1954, 1967, 1964, 1961, 1966, 1954, 1918, 1963, 1962, 1959, 1957, 1960, 1958, 1956, 1957, 1956, 1957, 1979, 1954, 1954, 1952, 1951, 1956, 1956, 1955, 1951, 1941, 1956, 1925, 1947, 1924, 1930, 1954, 1921, 1929, 1900, 1920, 1915, 1910, 1915, 1900, 1936, 1965, 1966, 1963, 1962, 1962, 1964, 1959, 1959, 1957, 1961, 1959, 1962, 1957, 1950, 1949, 1950, 1950, 1959, 1950, 1949, 1950, 1960, 1959, 1961, 1966, 1962, 1962, 1962, 1962, 1900, 1925, 1948, 1920, 1900, 1925, 1900, 1930, 1930, 1900, 1924, 1925, 1880, 1950, 1920, 1905, 1955, 1924, 1921, 1945, 1955, 1920, 1910, 1900, 1914, 1910, 1900, 1916, 1910, 1920, 1923, 1892, 1920, 1958, 1918, 1941, 1939, 1924, 1947, 1939, 1934, 1936, 1930, 1925, 1947, 1928, 1930, 1925, 1921, 1922, 1925, 1962, 1970, 1910, 1941, 1924, 1910, 1919, 1937, 1938, 1922, 1935, 1930, 1951, 1964, 1950, 1958, 1935, 1936, 2004, 1963, 1967, 1963, 1967, 1966, 1964, 1966, 1968, 1978, 1967, 1968, 1978, 1977, 1977, 1958, 1957, 1955, 1924, 1965, 1956, 1967, 1963, 1953, 1971, 1974, 1980, 1986, 1954, 1942, 1948, 1966, 1928, 1935, 1962, 1952, 1955, 1954, 1953, 1952, 1954, 1948, 1985, 1989, 1993, 1993, 2005, 2005, 2006, 2006, 2005, 2006, 2006, 2006, 2005, 2005, 2005, 2005, 2005, 1992, 1964, 1969, 1975, 1968, 1996, 1996, 1995, 1998, 1995, 2000, 1997, 1999, 1999, 1999, 2002, 2002, 2001, 1976, 1977, 1978, 1969, 1972, 1972, 1972, 1993, 2002, 2002, 1999, 2002, 2001, 2002, 2002, 1999, 1996, 1998, 1995, 1998, 2004, 2003, 2004, 2006, 2003, 2004, 2003, 2006, 2005, 2005, 2004, 2005, 2005, 2005, 2005, 1910, 1959, 1951, 1975, 1975, 1969, 2003, 2003, 2005, 2005, 2005, 2004, 2004, 2004, 2004, 2004, 1948, 1915, 1924, 1910, 1924, 1955, 1954, 1918, 1922, 1912, 1922, 1910, 1916, 1940, 1938, 1945, 1926, 1914, 1920, 1926, 1919, 1920, 1939, 1941, 1915, 1920, 1929, 1940, 1922, 1936, 1929, 1932, 1932, 1930, 1956, 1977, 1950, 1953, 1969, 1942, 1926, 1925, 1925, 1936, 1957, 1920, 1945, 1949, 1951, 1916, 2005, 2004, 1979, 1978, 2001, 1977, 1975, 1988, 1989, 1986, 1958, 1981, 1987, 1990, 1990, 2000, 2002, 2005, 2005, 2005, 1951, 1997, 1998, 1998, 2006, 1977, 1977, 1973, 1968, 1970, 1970, 1972, 1969, 1970, 1970, 1970, 1970, 1970, 1976, 1976, 1977, 1960, 1984, 1983, 1992, 1974, 1993], \"xaxis\": \"x\", \"y\": [215000, 105000, 172000, 244000, 189900, 195500, 213500, 191500, 236500, 189000, 175900, 185000, 180400, 171500, 212000, 538000, 164000, 394432, 141000, 210000, 190000, 170000, 216000, 149000, 149900, 142000, 126000, 115000, 184000, 96000, 105500, 88000, 127500, 149900, 120000, 146000, 376162, 306000, 395192, 290941, 220000, 275000, 259000, 214000, 611657, 224000, 500000, 320000, 319900, 205000, 175500, 199500, 160000, 192000, 184500, 185088, 180000, 222500, 333168, 355000, 260400, 325000, 290000, 221000, 410000, 221500, 204500, 215200, 262500, 254900, 271500, 233000, 181000, 205000, 143000, 189000, 99500, 125000, 194500, 152000, 171000, 67500, 112000, 148000, 138500, 122000, 133000, 127000, 169000, 190000, 362500, 285000, 260000, 190000, 155000, 151000, 149500, 152000, 222000, 177500, 177000, 155000, 147110, 267916, 254000, 155000, 206000, 130500, 230000, 218500, 243500, 205000, 212500, 196500, 197500, 171000, 142250, 143000, 128950, 159000, 178900, 136300, 180500, 137500, 84900, 142125, 197600, 172500, 116500, 76500, 128000, 153000, 132000, 178000, 154300, 180000, 190000, 135000, 214000, 136000, 165500, 145000, 148000, 142000, 167500, 108538, 159500, 108000, 135000, 122500, 119000, 109000, 105000, 107500, 144900, 129000, 97500, 144000, 162000, 242000, 132000, 154000, 166000, 134800, 160000, 148000, 192000, 155000, 80400, 96500, 109500, 115000, 143000, 107400, 80000, 119000, 130000, 119000, 129000, 100000, 12789, 105900, 150000, 139000, 240000, 76500, 149700, 125500, 122500, 140750, 128500, 209500, 87000, 134000, 128000, 132000, 139900, 123900, 138400, 109500, 140000, 149500, 159900, 122000, 110000, 55000, 140000, 244400, 173000, 107500, 100000, 95000, 93369, 114900, 94000, 136000, 136500, 131500, 121500, 125000, 154000, 137900, 158000, 137250, 160250, 163000, 158900, 328000, 270000, 85000, 128000, 260000, 230000, 124000, 83000, 144500, 129000, 127000, 128000, 186000, 308030, 114000, 84900, 178000, 270000, 218000, 236000, 147000, 245350, 206000, 198900, 187000, 320000, 138500, 155000, 159000, 191000, 200500, 150000, 161750, 128200, 127000, 318000, 272000, 237000, 240000, 224900, 143750, 143000, 232000, 213000, 185500, 84900, 155891, 100000, 144000, 64000, 125200, 107000, 90000, 140000, 113000, 80000, 144500, 104000, 128000, 58500, 127000, 126000, 160000, 100000, 169000, 257500, 215000, 266500, 335000, 203135, 185000, 162500, 289000, 125500, 82000, 110000, 68400, 102776, 55993, 50138, 246000, 254900, 190000, 201000, 169900, 170000, 160000, 220000, 179781, 174000, 269500, 214900, 202900, 378500, 169000, 173500, 139000, 166500, 83500, 119500, 85000, 76000, 75500, 88250, 85500, 130000, 157900, 149900, 159000, 136000, 161000, 285000, 231000, 124500, 157000, 345000, 189500, 270000, 189000, 377500, 168500, 375000, 278000, 240000, 239500, 177500, 185000, 191000, 178000, 185000, 181316, 166000, 178000, 174000, 173000, 225000, 180500, 187500, 501837, 372500, 260000, 185000, 260000, 181000, 82500, 215000, 154000, 200000, 249000, 187500, 184000, 278000, 157000, 152000, 197500, 240900, 263435, 220000, 235000, 213000, 167900, 158000, 165000, 158000, 136000, 148500, 156000, 128000, 143000, 76500, 120500, 124500, 97000, 130000, 111000, 125000, 112000, 97000, 118000, 119500, 143750, 146000, 148500, 123000, 147000, 137900, 147000, 148500, 138000, 128500, 100000, 148800, 337500, 462000, 485000, 555000, 325000, 256300, 253293, 398800, 335000, 404000, 402861, 451950, 610000, 582933, 360000, 296000, 409900, 255500, 335000, 274900, 300000, 324000, 350000, 280000, 284000, 269500, 233170, 386250, 445000, 290000, 255900, 213000, 196000, 184500, 212500, 230000, 552000, 382500, 320000, 248500, 286500, 254000, 173000, 173000, 184000, 167800, 174000, 174000, 174000, 175900, 192500, 181000, 180000, 160200, 188500, 200000, 170000, 189500, 184100, 195500, 192000, 178000, 207500, 236000, 244000, 167000, 179000, 190000, 156000, 245000, 181000, 214000, 168000, 337000, 403000, 327000, 340000, 336000, 265000, 315000, 260000, 260000, 263550, 402000, 248000, 244600, 275000, 257500, 287090, 275500, 245000, 253000, 468000, 252678, 210000, 208300, 229456, 229800, 250000, 370878, 238500, 310000, 270000, 252000, 241000, 264500, 291000, 263000, 185000, 234500, 209000, 159000, 152000, 143500, 193000, 203000, 159000, 142000, 153000, 224243, 220000, 257000, 189000, 171500, 120000, 145000, 184000, 162000, 160000, 82000, 76000, 110000, 135000, 141000, 122000, 124100, 129000, 131400, 62383, 123000, 275000, 235000, 280750, 164500, 173733, 222000, 195000, 172500, 180000, 156000, 172500, 318750, 211500, 241600, 180500, 150000, 154000, 185000, 185750, 200000, 206000, 162000, 256900, 197900, 163000, 113000, 230000, 167900, 213250, 227000, 130000, 143000, 117500, 168500, 172500, 161500, 141500, 118000, 127500, 140000, 177625, 110000, 167000, 153000, 145100, 154000, 177500, 158000, 124500, 174500, 122000, 82500, 110000, 149500, 175000, 167000, 128900, 140000, 147000, 124000, 187500, 159000, 256000, 205000, 193500, 110000, 104900, 150000, 156500, 176000, 149500, 139000, 155000, 120000, 153000, 144000, 176000, 153000, 135000, 131000, 123000, 126000, 115000, 164900, 113000, 145500, 102900, 95000, 152500, 129900, 132000, 99900, 135000, 149000, 114000, 109500, 125000, 142900, 156500, 59000, 105000, 106000, 78500, 190000, 154000, 163000, 200000, 143500, 135000, 153000, 157500, 113500, 133000, 92900, 128500, 90000, 138000, 128000, 139000, 118900, 138000, 132500, 133500, 135000, 144750, 145000, 127000, 109500, 115000, 110000, 128900, 103500, 66500, 130000, 129000, 150000, 107500, 94550, 124500, 135000, 103000, 93000, 129500, 93000, 80000, 45000, 37900, 91300, 99500, 113000, 87500, 110000, 106000, 265979, 160000, 119000, 168000, 58500, 143000, 85000, 124900, 119000, 146500, 34900, 44000, 223500, 149000, 205000, 137000, 121000, 128000, 134900, 117000, 132500, 93000, 119000, 100000, 141500, 133000, 60000, 105000, 115000, 150000, 126500, 214500, 167500, 155000, 155000, 179900, 104000, 62500, 149000, 103000, 123000, 97500, 135000, 70000, 116000, 88750, 179000, 179000, 159900, 61000, 103600, 63000, 175000, 139000, 172500, 113500, 130000, 149900, 134900, 137000, 139000, 165000, 148000, 165000, 63900, 161500, 143000, 135000, 82500, 190000, 139600, 122000, 127500, 121500, 60000, 154400, 113000, 125000, 84000, 139500, 131000, 105000, 108000, 162000, 156500, 316600, 271900, 213000, 239900, 239500, 131000, 118964, 153337, 147983, 118858, 118858, 142953, 148325, 113722, 269500, 269500, 269500, 323262, 297000, 295493, 332000, 239900, 212000, 272500, 239000, 220000, 200000, 221800, 194500, 237000, 173000, 275000, 233500, 185000, 152000, 143000, 231500, 212000, 207000, 145000, 138000, 197900, 204000, 192000, 200000, 195000, 227000, 230000, 187100, 203000, 201000, 124000, 140000, 134900, 150500, 136500, 143500, 133500, 123000, 133900, 133000, 250000, 254750, 236500, 261500, 313000, 211000, 220000, 203000, 279500, 210000, 219500, 191000, 178000, 213000, 144000, 140000, 293200, 190000, 190000, 173500, 170000, 108000, 167000, 100000, 198500, 159500, 127000, 125000, 320000, 145500, 118000, 85000, 120000, 98000, 99900, 82000, 119900, 103500, 112000, 110000, 122000, 117000, 160000, 159434, 60000, 139500, 197000, 105000, 135000, 147500, 137450, 155000, 177000, 145000, 137000, 234000, 205000, 177500, 160000, 155000, 163500, 154900, 205000, 144800, 174500, 193000, 158000, 158500, 224000, 115000, 137000, 121000, 124000, 208000, 315000, 222000, 147000, 123000, 78000, 85000, 75000, 230000, 57625, 251000, 239686, 240000, 215000, 156450, 173000, 126000, 173000, 152000, 137500, 375000, 315500, 224500, 410000, 316500, 201000, 175000, 204000, 213500, 220000, 170000, 315000, 425000, 139500, 115000, 162000, 165000, 91000, 130000, 86000, 160000, 80000, 97000, 88000, 131900, 131250, 165500, 112000, 149000, 143000, 130000, 196000, 173000, 176500, 237500, 206900, 187500, 165000, 195500, 192000, 173000, 177900, 175000, 286000, 247900, 180000, 180000, 181000, 183000, 188000, 194500, 185000, 189000, 188500, 355000, 325000, 387000, 115000, 334000, 133000, 215000, 226500, 175500, 181900, 235000, 220000, 272000, 161000, 175000, 185000, 146900, 292500, 180000, 159900, 205000, 157000, 306000, 133000, 151000, 111900, 123000, 111250, 181000, 103400, 100000, 100500, 106000, 85400, 89500, 111750, 140000, 143000, 148500, 110000, 394617, 426000, 385000, 446261, 317500, 372402, 417500, 383000, 390000, 460000, 379000, 250000, 316000, 615000, 412500, 284000, 284000, 421250, 370000, 336860, 367294, 192000, 274000, 266000, 370967, 234250, 219500, 155000, 154000, 207000, 195000, 219990, 191000, 159895, 187687, 179000, 193000, 190000, 176000, 188000, 213000, 217300, 186500, 226750, 184000, 225000, 185900, 284500, 315000, 250000, 291000, 350000, 279500, 290000, 350000, 341000, 287500, 271000, 301500, 235128, 214000, 232000, 240000, 264132, 245000, 227680, 257000, 297900, 212700, 250580, 226700, 250000, 250000, 339750, 256000, 230348, 207500, 141000, 188000, 192500, 146000, 159000, 155000, 173000, 170000, 182000, 163000, 193500, 189000, 190500, 175000, 179200, 187000, 193000, 153900, 128000, 144000, 135000, 115000, 119916, 142000, 192000, 140000, 290000, 372500, 196000, 171900, 178000, 165000, 146000, 146000, 179400, 172900, 300000, 285000, 290000, 305000, 328900, 160000, 170000, 223000, 170000, 200000, 345000, 245500, 217500, 324000, 162500, 150000, 290000, 174000, 183000, 150000, 145000, 215000, 140500, 240000, 141000, 147000, 135000, 145000, 142600, 135000, 170000, 299800, 185000, 173000, 178400, 176000, 98000, 109008, 135750, 155000, 180500, 174900, 140000, 145000, 179900, 168500, 140000, 145500, 142000, 141000, 153000, 72500, 52000, 118000, 87000, 141500, 119000, 141500, 165500, 112900, 201800, 163000, 139950, 174000, 165000, 227000, 135000, 124000, 140000, 136500, 185000, 163000, 166800, 139000, 166000, 136000, 133000, 116000, 137500, 130000, 180000, 139000, 110000, 100000, 118500, 146000, 89900, 114000, 140000, 86900, 139000, 106250, 171000, 139000, 186000, 157000, 148000, 242000, 116000, 94000, 98300, 127000, 159000, 125900, 155000, 138000, 112500, 105500, 127500, 130000, 150000, 109500, 140000, 167900, 136870, 143000, 73000, 157500, 122600, 111000, 256000, 64000, 139500, 118000, 200000, 119164, 122250, 120000, 155000, 78000, 95000, 115000, 147000, 140000, 46500, 112500, 107900, 65000, 295000, 139500, 153900, 132000, 98000, 114000, 130000, 129500, 129400, 161000, 163000, 128000, 122000, 116900, 325000, 55000, 184000, 110000, 131500, 97000, 115500, 138000, 108000, 79500, 153000, 109500, 124000, 106900, 164900, 119000, 120000, 157000, 105000, 113000, 115000, 123000, 81300, 162900, 150000, 123500, 129900, 128000, 68500, 127000, 207000, 184000, 162500, 145000, 130000, 160000, 161000, 127500, 93850, 136000, 141000, 120000, 127500, 127000, 89500, 125000, 79900, 85000, 82375, 135000, 124000, 134000, 135000, 134432, 127500, 148000, 129500, 157500, 109900, 145000, 130000, 153000, 120000, 152000, 108959, 95541, 80000, 149350, 144900, 185000, 165000, 235000, 140000, 108000, 145000, 152400, 144000, 173000, 192000, 245000, 241500, 256000, 177000, 125600, 155000, 240000, 260000, 185000, 235000, 159900, 99600, 134500, 119000, 107500, 125000, 79000, 95000, 262280, 260000, 226500, 225000, 229000, 177439, 248500, 475000, 395039, 228000, 225000, 195000, 200000, 155000, 144000, 145000, 226001, 215700, 207500, 193000, 188000, 191000, 221000, 231500, 235000, 223500, 130250, 149900, 158000, 147000, 143195, 163000, 110000, 127000, 124900, 230000, 235000, 230500, 230000, 222500, 287000, 274000, 300000, 255900, 224900, 240000, 183000, 207000, 210000, 136500, 145000, 208900, 185000, 214000, 208500, 186500, 210000, 185900, 179900, 218836, 193000, 189000, 149300, 141000, 149000, 144500, 85000, 145900, 123000, 147500, 165000, 135000, 108000, 137500, 165400, 147000, 160500, 176000, 160000, 148000, 82000, 82000, 118000, 82500, 91900, 120000, 96000, 99000, 130500, 135000, 135500, 100000, 108000, 98000, 67000, 135900, 140000, 179500, 136500, 168000, 130000, 189000, 161900, 145000, 191000, 177000, 147500, 91000, 231000, 115000, 138000, 149000, 188700, 198000, 110000, 104000, 257076, 381000, 311500, 263400, 236500, 224000, 116500, 151000, 126000, 120000, 55000, 120500, 120500, 119000, 126000, 99500, 165500, 13100, 89000, 40000, 80900, 81000, 65000, 392500, 294464, 250000, 275000, 300000, 271000, 213000, 171000, 171500, 100000, 228500, 228950, 241500, 287000, 294000, 293077, 264966, 172500, 218689, 150000, 184000, 180000, 175000, 232500, 195000, 305000, 298751, 370000, 209200, 206300, 146000, 160500, 173000, 124000, 115000, 129500, 105000, 94900, 152500, 98000, 81000, 113000, 128500, 119500, 130500, 138000, 134500, 160000, 137500, 172000, 103000, 167300, 167000, 244000, 268000, 225000, 168000, 177000, 169000, 161500, 251000, 160000, 180000, 178750, 176000, 204000, 160000, 160000, 163900, 168000, 154204, 170000, 207500, 182000, 212000, 377426, 349265, 591587, 155000, 319900, 392000, 441929, 455000, 182900, 174000, 178000, 176000, 213000, 192000, 190000, 195000, 148000, 151500, 197000, 192350, 152000, 170000, 175000, 175000, 197900, 174000, 178900, 139000, 143250, 184000, 155000, 133000, 119500, 123000, 110000, 128000, 120500, 133000, 155000, 177000, 113500, 113000, 113700, 106000, 122500, 128000, 155000, 142500, 129250, 356000, 314813, 318000, 322400, 318000, 345474, 415298, 492000, 338931, 450000, 280000, 479069, 395000, 380000, 250000, 440000, 418000, 500067, 260116, 317000, 319500, 325624, 372000, 342000, 354000, 350000, 285000, 281500, 245700, 232698, 250000, 194700, 204000, 200000, 207000, 209500, 209500, 202500, 280000, 277500, 318061, 221370, 200000, 176000, 178900, 168165, 171925, 198444, 203000, 179540, 176485, 181134, 156932, 166000, 177594, 173500, 172500, 194201, 226500, 185485, 259000, 188500, 175000, 215000, 206580, 183500, 211000, 181000, 219500, 175000, 170000, 162000, 187000, 185000, 745000, 384500, 248000, 466500, 410000, 322500, 252000, 755000, 269790, 315750, 290000, 290000, 430000, 263000, 330000, 213133, 260261, 320000, 282922, 215000, 419005, 255000, 147000, 311872, 248328, 227000, 260000, 225000, 249000, 307000, 250000, 221300, 208900, 210400, 255000, 212109, 270000, 303477, 249700, 227875, 261329, 253000, 265000, 340000, 146000, 147000, 149000, 181000, 201000, 191750, 179000, 215000, 179200, 128000, 144000, 144000, 120750, 132500, 132000, 132500, 129000, 143900, 145000, 128500, 125500, 300000, 294000, 129000, 171000, 147000, 302000, 285000, 214000, 166000, 193800, 208900, 194000, 164700, 176500, 176000, 168500, 177000, 177000, 148800, 174000, 239000, 204000, 301000, 312500, 279700, 255000, 194000, 218000, 213750, 187000, 181500, 373000, 190000, 226000, 143450, 240050, 162500, 164000, 185000, 188500, 255000, 136905, 158500, 175500, 127000, 127000, 143000, 156000, 144000, 119000, 103000, 139900, 151500, 126500, 145000, 120000, 124000, 106500, 140500, 137500, 117600, 163500, 161000, 158000, 224500, 147000, 200000, 181900, 150750, 101800, 124000, 138500, 39300, 64500, 64000, 112000, 165000, 144000, 137000, 105000, 146500, 126000, 175000, 158500, 114500, 144000, 129000, 141000, 131000, 142100, 139000, 157900, 139400, 150000, 120000, 174850, 116000, 135000, 163500, 130000, 129500, 142000, 128600, 125000, 136000, 134500, 127000, 130000, 115000, 116900, 132000, 153000, 112500, 138000, 135000, 156000, 301600, 109000, 103200, 128500, 64500, 148000, 86000, 172000, 120000, 128500, 135000, 122900, 119200, 143000, 119000, 102000, 129000, 135000, 152000, 140000, 152000, 156500, 141000, 99000, 187000, 169500, 125500, 130000, 103000, 132000, 127500, 89500, 140000, 99900, 100000, 130000, 135000, 120000, 89471, 85000, 108500, 137000, 110500, 100000, 184900, 145000, 125000, 114000, 90000, 144100, 117500, 124500, 185000, 133900, 152000, 153500, 159500, 87000, 104500, 110000, 136500, 128250, 144000, 210000, 135000, 128000, 131000, 113000, 126000, 132000, 131750, 132500, 137500, 132000, 127500, 102000, 200000, 180500, 165000, 90000, 153575, 140000, 136000, 113000, 117000, 169500, 139400, 202500, 127000, 141000, 212300, 161000, 99500, 101000, 109900, 128500, 122000, 87000, 50000, 219000, 200500, 126000, 108500, 130000, 158450, 115400, 118500, 165000, 123000, 129000, 125000, 108000, 119900, 115000, 134500, 127000, 129000, 143500, 129000, 187000, 158000, 112000, 165250, 150000, 137000, 89500, 302000, 182000, 211000, 216000, 130000, 109900, 255000, 243000, 154000, 118000, 80000, 150000, 86000, 130000, 125000, 136500, 96000, 120000, 228500, 179900, 225000, 301000, 238000, 228500, 220000, 383970, 424870, 250000, 360000, 279500, 200141, 246500, 276000, 203000, 155835, 194000, 195400, 217000, 212999, 175900, 191000, 176432, 277000, 207000, 277000, 240000, 187500, 279000, 139500, 126000, 177500, 175000, 211000, 146000, 147900, 123600, 204750, 235500, 217000, 190550, 217500, 226000, 180000, 131000, 153500, 160000, 134900, 130000, 120000, 112500, 122000, 127000, 117000, 305900, 228500, 270000, 192000, 213000, 200000, 267000, 228000, 275000, 211000, 285000, 240000, 131500, 246900, 219500, 185000, 179400, 213500, 179600, 173500, 167840, 168675, 167000, 140000, 118500, 110000, 94750, 122000, 110000, 118500, 133500, 148000, 141000, 155000, 157000, 171500, 183850, 184750, 140000, 131750, 61500, 111000, 98500, 79000, 108500, 110000, 112000, 125000, 79275, 119000, 200000, 150000, 165000, 96500, 136500, 146500, 175000, 148500, 141500, 189950, 135000, 164000, 90350, 139000, 119750, 145000, 145000, 238000, 153500, 239000, 359100, 188000, 220000, 140000, 315000, 259500, 257500, 219500, 217000, 201000, 215000, 123900, 170000, 200000, 198000, 315000, 115000, 141000, 87000, 129850, 100000, 150909, 75200, 118400, 67000, 152000, 68104, 119600, 140000, 124900, 375000, 235000, 183500, 156000, 134000, 215000, 245000, 210000, 148000, 143000, 244000, 330000, 170000, 257000, 231713, 265900, 239000, 248900, 174000, 187500, 204000, 180500, 187500, 282000, 178000, 270000, 279900, 186700, 283463, 392000, 281213, 147000, 130000, 140000, 132250, 143000, 168000, 129900, 134000, 85500, 106500, 93900, 75000, 84500, 75190, 146800, 153500, 188000, 196000, 157000, 138000, 129500, 80000, 129500, 135000, 124500, 139000, 93500, 124500, 149900, 157500, 169000, 252000, 192100, 183500, 222000, 170000, 187500, 202000, 185000, 320000, 240000, 250000, 239900, 309000, 274725, 270000, 183500, 165600, 176500, 130000, 239000, 275000, 457347, 545224, 356383, 556581, 361919, 535000, 401179, 438780, 169000, 145000, 318000, 319000, 470000, 202500, 229000, 235000, 190000, 169000, 241500, 188900, 207500, 250000, 179900, 172000, 294323, 184500, 153500, 162900, 181000, 155000, 138800, 116050, 88000, 97500, 190000, 105500, 125500, 83000, 116000, 91500, 118000, 89000, 108000, 94500, 146300, 145000, 123000, 137500, 144000, 315000, 412083, 342643, 252000, 293000, 415000, 326000, 325300, 309000, 300000, 275500, 338500, 345000, 298236, 329900, 360000, 281000, 372397, 378000, 374000, 437154, 275000, 279000, 185850, 282500, 202500, 202665, 332200, 310090, 171750, 169990, 170440, 169985, 179665, 219210, 174190, 172785, 258000, 185101, 210250, 234000, 215000, 246990, 178740, 225000, 167240, 156820, 213490, 264561, 246578, 192140, 183200, 178000, 201490, 230500, 180000, 172400, 215000, 199900, 173000, 287602, 230000, 348000, 286000, 300000, 625000, 405000, 280000, 258000, 350000, 584500, 321000, 290000, 315000, 252000, 423000, 290000, 232000, 199000, 198600, 405749, 232600, 266000, 186500, 200825, 197000, 185000, 176000, 187750, 139500, 186800, 132000, 142500, 158000, 184000, 184900, 187000, 175900, 248500, 172000, 151000, 150000, 107000, 119900, 129500, 125000, 119500, 144000, 151000, 126000, 116000, 133500, 120875, 137000, 124000, 135000, 129200, 260000, 260000, 334000, 310000, 268000, 262000, 176400, 197000, 151000, 147400, 149900, 144152, 166000, 183900, 165000, 139000, 200000, 221000, 270000, 165000, 214000, 188000, 190000, 170000, 385000, 146500, 170000, 262500, 179900, 250000, 165150, 164500, 140000, 135500, 142000, 155000, 157500, 138500, 140000, 124400, 158000, 146000, 190000, 136500, 129900, 145000, 185900, 160000, 167000, 157500, 140000, 150000, 151500, 129800, 137000, 137000, 121600, 85500, 79900, 127000, 161000, 146500, 135000, 137900, 133000, 137000, 121000, 119000, 172000, 98600, 226000, 118000, 235000, 135000, 132500, 143000, 132000, 145250, 162000, 148000, 141000, 153000, 134450, 135960, 156000, 140000, 139500, 155000, 127000, 133500, 125000, 142000, 167000, 159000, 180000, 127000, 112000, 99800, 117000, 108480, 68000, 86900, 120000, 155500, 80000, 105000, 160000, 170000, 160000, 159950, 165000, 159000, 147000, 115000, 159500, 120000, 129900, 183000, 157500, 277500, 207500, 147500, 135000, 109500, 109900, 133700, 81400, 87500, 93500, 119000, 141000, 146000, 155000, 134500, 120000, 105000, 124000, 169000, 107000, 135000, 111500, 156500, 178000, 139900, 105000, 110000, 111500, 108000, 111500, 124000, 105000, 116000, 96900, 135500, 139000, 61500, 120000, 126175, 64000, 137000, 87000, 163000, 155000, 79000, 144000, 114504, 157000, 125000, 475000, 93500, 125000, 64500, 100000, 140200, 202500, 159000, 119900, 114500, 115000, 75000, 88000, 80500, 149000, 110000, 110500, 89000, 113000, 109000, 220000, 129000, 117000, 52500, 107000, 116500, 72000, 119500, 125500, 91000, 84500, 90000, 137500, 150000, 131000, 130000, 125000, 80000, 157000, 148000, 90000, 154500, 153600, 164500, 132000, 142500, 158000, 149500, 165000, 180000, 160500, 156500, 157000, 172500, 155000, 170000, 105000, 145000, 168000, 278000, 164000, 225000, 130000, 142500, 148400, 190000, 146000, 128000, 225000, 274970, 235000, 415000, 182000, 135000, 137000, 136900, 149900, 123500, 93000, 91500, 180000, 209000, 215000, 224500, 229800, 183600, 194000, 193879, 221500, 204900, 239799, 233555, 260000, 294900, 209700, 225000, 181000, 220000, 190000, 180000, 280000, 158900, 148000, 145000, 187000, 193000, 156000, 235000, 217000, 214000, 196000, 217000, 200000, 192500, 205000, 132500, 157500, 174000, 128500, 128500, 149900, 119900, 137000, 255000, 222000, 214000, 220000, 275000, 197000, 230000, 268500, 210900, 227000, 237000, 274300, 216837, 133000, 155900, 233230, 207000, 195000, 200000, 203160, 195800, 212900, 196500, 198000, 173900, 163990, 164990, 98000, 149900, 102000, 127500, 127500, 119900, 196500, 229000, 145000, 140000, 142500, 134000, 130000, 130000, 137500, 130000, 97900, 92000, 107000, 81000, 104900, 115000, 125000, 116000, 83000, 118500, 35000, 121000, 160000, 140000, 137000, 128000, 160000, 138887, 149000, 102000, 167000, 200100, 131000, 112000, 140000, 195000, 230000, 194000, 137500, 250000, 218000, 239000, 199500, 210000, 230000, 217500, 257000, 157000, 223000, 102000, 145400, 72000, 85000, 106500, 139000, 108000, 51689, 35311, 115000, 78000, 375000, 300000, 242500, 145000, 209000, 135000, 148000, 171000, 335000, 230000, 250764, 228000, 176000, 180000, 250000, 202000, 312500, 320000, 369900, 359900, 81500, 215000, 164000, 153500, 84500, 104500, 127000, 151400, 126500, 146500, 73000, 79400, 140000, 92000, 87550, 79500, 90500, 71000, 150900, 188000, 160000, 131000, 142500, 131000, 132000, 170000, 188000], \"yaxis\": \"y\"}],\n",
              "                        {\"height\": 600, \"legend\": {\"tracegroupgap\": 0}, \"margin\": {\"t\": 60}, \"template\": {\"data\": {\"bar\": [{\"error_x\": {\"color\": \"#2a3f5f\"}, \"error_y\": {\"color\": \"#2a3f5f\"}, \"marker\": {\"line\": {\"color\": \"#E5ECF6\", \"width\": 0.5}}, \"type\": \"bar\"}], \"barpolar\": [{\"marker\": {\"line\": {\"color\": \"#E5ECF6\", \"width\": 0.5}}, \"type\": \"barpolar\"}], \"carpet\": [{\"aaxis\": {\"endlinecolor\": \"#2a3f5f\", \"gridcolor\": \"white\", \"linecolor\": \"white\", \"minorgridcolor\": \"white\", \"startlinecolor\": \"#2a3f5f\"}, \"baxis\": {\"endlinecolor\": \"#2a3f5f\", \"gridcolor\": \"white\", \"linecolor\": \"white\", \"minorgridcolor\": \"white\", \"startlinecolor\": \"#2a3f5f\"}, \"type\": \"carpet\"}], \"choropleth\": [{\"colorbar\": {\"outlinewidth\": 0, \"ticks\": \"\"}, \"type\": \"choropleth\"}], \"contour\": [{\"colorbar\": {\"outlinewidth\": 0, \"ticks\": \"\"}, \"colorscale\": [[0.0, \"#0d0887\"], [0.1111111111111111, \"#46039f\"], [0.2222222222222222, \"#7201a8\"], [0.3333333333333333, \"#9c179e\"], [0.4444444444444444, \"#bd3786\"], [0.5555555555555556, \"#d8576b\"], [0.6666666666666666, \"#ed7953\"], [0.7777777777777778, \"#fb9f3a\"], [0.8888888888888888, \"#fdca26\"], [1.0, \"#f0f921\"]], \"type\": \"contour\"}], \"contourcarpet\": [{\"colorbar\": {\"outlinewidth\": 0, \"ticks\": \"\"}, \"type\": \"contourcarpet\"}], \"heatmap\": [{\"colorbar\": {\"outlinewidth\": 0, \"ticks\": \"\"}, \"colorscale\": [[0.0, \"#0d0887\"], [0.1111111111111111, \"#46039f\"], [0.2222222222222222, \"#7201a8\"], [0.3333333333333333, \"#9c179e\"], [0.4444444444444444, \"#bd3786\"], [0.5555555555555556, \"#d8576b\"], [0.6666666666666666, \"#ed7953\"], [0.7777777777777778, \"#fb9f3a\"], [0.8888888888888888, \"#fdca26\"], [1.0, \"#f0f921\"]], \"type\": \"heatmap\"}], \"heatmapgl\": [{\"colorbar\": {\"outlinewidth\": 0, \"ticks\": \"\"}, \"colorscale\": [[0.0, \"#0d0887\"], [0.1111111111111111, \"#46039f\"], [0.2222222222222222, \"#7201a8\"], [0.3333333333333333, \"#9c179e\"], [0.4444444444444444, \"#bd3786\"], [0.5555555555555556, \"#d8576b\"], [0.6666666666666666, \"#ed7953\"], [0.7777777777777778, \"#fb9f3a\"], [0.8888888888888888, \"#fdca26\"], [1.0, \"#f0f921\"]], \"type\": \"heatmapgl\"}], \"histogram\": [{\"marker\": {\"colorbar\": {\"outlinewidth\": 0, \"ticks\": \"\"}}, \"type\": \"histogram\"}], \"histogram2d\": [{\"colorbar\": {\"outlinewidth\": 0, \"ticks\": \"\"}, \"colorscale\": [[0.0, \"#0d0887\"], [0.1111111111111111, \"#46039f\"], [0.2222222222222222, \"#7201a8\"], [0.3333333333333333, \"#9c179e\"], [0.4444444444444444, \"#bd3786\"], [0.5555555555555556, \"#d8576b\"], [0.6666666666666666, \"#ed7953\"], [0.7777777777777778, \"#fb9f3a\"], [0.8888888888888888, \"#fdca26\"], [1.0, \"#f0f921\"]], \"type\": \"histogram2d\"}], \"histogram2dcontour\": [{\"colorbar\": {\"outlinewidth\": 0, \"ticks\": \"\"}, \"colorscale\": [[0.0, \"#0d0887\"], [0.1111111111111111, \"#46039f\"], [0.2222222222222222, \"#7201a8\"], [0.3333333333333333, \"#9c179e\"], [0.4444444444444444, \"#bd3786\"], [0.5555555555555556, \"#d8576b\"], [0.6666666666666666, \"#ed7953\"], [0.7777777777777778, \"#fb9f3a\"], [0.8888888888888888, \"#fdca26\"], [1.0, \"#f0f921\"]], \"type\": \"histogram2dcontour\"}], \"mesh3d\": [{\"colorbar\": {\"outlinewidth\": 0, \"ticks\": \"\"}, \"type\": \"mesh3d\"}], \"parcoords\": [{\"line\": {\"colorbar\": {\"outlinewidth\": 0, \"ticks\": \"\"}}, \"type\": \"parcoords\"}], \"scatter\": [{\"marker\": {\"colorbar\": {\"outlinewidth\": 0, \"ticks\": \"\"}}, \"type\": \"scatter\"}], \"scatter3d\": [{\"line\": {\"colorbar\": {\"outlinewidth\": 0, \"ticks\": \"\"}}, \"marker\": {\"colorbar\": {\"outlinewidth\": 0, \"ticks\": \"\"}}, \"type\": \"scatter3d\"}], \"scattercarpet\": [{\"marker\": {\"colorbar\": {\"outlinewidth\": 0, \"ticks\": \"\"}}, \"type\": \"scattercarpet\"}], \"scattergeo\": [{\"marker\": {\"colorbar\": {\"outlinewidth\": 0, \"ticks\": \"\"}}, \"type\": \"scattergeo\"}], \"scattergl\": [{\"marker\": {\"colorbar\": {\"outlinewidth\": 0, \"ticks\": \"\"}}, \"type\": \"scattergl\"}], \"scattermapbox\": [{\"marker\": {\"colorbar\": {\"outlinewidth\": 0, \"ticks\": \"\"}}, \"type\": \"scattermapbox\"}], \"scatterpolar\": [{\"marker\": {\"colorbar\": {\"outlinewidth\": 0, \"ticks\": \"\"}}, \"type\": \"scatterpolar\"}], \"scatterpolargl\": [{\"marker\": {\"colorbar\": {\"outlinewidth\": 0, \"ticks\": \"\"}}, \"type\": \"scatterpolargl\"}], \"scatterternary\": [{\"marker\": {\"colorbar\": {\"outlinewidth\": 0, \"ticks\": \"\"}}, \"type\": \"scatterternary\"}], \"surface\": [{\"colorbar\": {\"outlinewidth\": 0, \"ticks\": \"\"}, \"colorscale\": [[0.0, \"#0d0887\"], [0.1111111111111111, \"#46039f\"], [0.2222222222222222, \"#7201a8\"], [0.3333333333333333, \"#9c179e\"], [0.4444444444444444, \"#bd3786\"], [0.5555555555555556, \"#d8576b\"], [0.6666666666666666, \"#ed7953\"], [0.7777777777777778, \"#fb9f3a\"], [0.8888888888888888, \"#fdca26\"], [1.0, \"#f0f921\"]], \"type\": \"surface\"}], \"table\": [{\"cells\": {\"fill\": {\"color\": \"#EBF0F8\"}, \"line\": {\"color\": \"white\"}}, \"header\": {\"fill\": {\"color\": \"#C8D4E3\"}, \"line\": {\"color\": \"white\"}}, \"type\": \"table\"}]}, \"layout\": {\"annotationdefaults\": {\"arrowcolor\": \"#2a3f5f\", \"arrowhead\": 0, \"arrowwidth\": 1}, \"colorscale\": {\"diverging\": [[0, \"#8e0152\"], [0.1, \"#c51b7d\"], [0.2, \"#de77ae\"], [0.3, \"#f1b6da\"], [0.4, \"#fde0ef\"], [0.5, \"#f7f7f7\"], [0.6, \"#e6f5d0\"], [0.7, \"#b8e186\"], [0.8, \"#7fbc41\"], [0.9, \"#4d9221\"], [1, \"#276419\"]], \"sequential\": [[0.0, \"#0d0887\"], [0.1111111111111111, \"#46039f\"], [0.2222222222222222, \"#7201a8\"], [0.3333333333333333, \"#9c179e\"], [0.4444444444444444, \"#bd3786\"], [0.5555555555555556, \"#d8576b\"], [0.6666666666666666, \"#ed7953\"], [0.7777777777777778, \"#fb9f3a\"], [0.8888888888888888, \"#fdca26\"], [1.0, \"#f0f921\"]], \"sequentialminus\": [[0.0, \"#0d0887\"], [0.1111111111111111, \"#46039f\"], [0.2222222222222222, \"#7201a8\"], [0.3333333333333333, \"#9c179e\"], [0.4444444444444444, \"#bd3786\"], [0.5555555555555556, \"#d8576b\"], [0.6666666666666666, \"#ed7953\"], [0.7777777777777778, \"#fb9f3a\"], [0.8888888888888888, \"#fdca26\"], [1.0, \"#f0f921\"]]}, \"colorway\": [\"#636efa\", \"#EF553B\", \"#00cc96\", \"#ab63fa\", \"#FFA15A\", \"#19d3f3\", \"#FF6692\", \"#B6E880\", \"#FF97FF\", \"#FECB52\"], \"font\": {\"color\": \"#2a3f5f\"}, \"geo\": {\"bgcolor\": \"white\", \"lakecolor\": \"white\", \"landcolor\": \"#E5ECF6\", \"showlakes\": true, \"showland\": true, \"subunitcolor\": \"white\"}, \"hoverlabel\": {\"align\": \"left\"}, \"hovermode\": \"closest\", \"mapbox\": {\"style\": \"light\"}, \"paper_bgcolor\": \"white\", \"plot_bgcolor\": \"#E5ECF6\", \"polar\": {\"angularaxis\": {\"gridcolor\": \"white\", \"linecolor\": \"white\", \"ticks\": \"\"}, \"bgcolor\": \"#E5ECF6\", \"radialaxis\": {\"gridcolor\": \"white\", \"linecolor\": \"white\", \"ticks\": \"\"}}, \"scene\": {\"xaxis\": {\"backgroundcolor\": \"#E5ECF6\", \"gridcolor\": \"white\", \"gridwidth\": 2, \"linecolor\": \"white\", \"showbackground\": true, \"ticks\": \"\", \"zerolinecolor\": \"white\"}, \"yaxis\": {\"backgroundcolor\": \"#E5ECF6\", \"gridcolor\": \"white\", \"gridwidth\": 2, \"linecolor\": \"white\", \"showbackground\": true, \"ticks\": \"\", \"zerolinecolor\": \"white\"}, \"zaxis\": {\"backgroundcolor\": \"#E5ECF6\", \"gridcolor\": \"white\", \"gridwidth\": 2, \"linecolor\": \"white\", \"showbackground\": true, \"ticks\": \"\", \"zerolinecolor\": \"white\"}}, \"shapedefaults\": {\"line\": {\"color\": \"#2a3f5f\"}}, \"ternary\": {\"aaxis\": {\"gridcolor\": \"white\", \"linecolor\": \"white\", \"ticks\": \"\"}, \"baxis\": {\"gridcolor\": \"white\", \"linecolor\": \"white\", \"ticks\": \"\"}, \"bgcolor\": \"#E5ECF6\", \"caxis\": {\"gridcolor\": \"white\", \"linecolor\": \"white\", \"ticks\": \"\"}}, \"title\": {\"x\": 0.05}, \"xaxis\": {\"automargin\": true, \"gridcolor\": \"white\", \"linecolor\": \"white\", \"ticks\": \"\", \"zerolinecolor\": \"white\", \"zerolinewidth\": 2}, \"yaxis\": {\"automargin\": true, \"gridcolor\": \"white\", \"linecolor\": \"white\", \"ticks\": \"\", \"zerolinecolor\": \"white\", \"zerolinewidth\": 2}}}, \"xaxis\": {\"anchor\": \"y\", \"domain\": [0.0, 0.98], \"title\": {\"text\": \"Year_Built\"}}, \"yaxis\": {\"anchor\": \"x\", \"domain\": [0.0, 1.0], \"title\": {\"text\": \"SalePrice\"}}},\n",
              "                        {\"responsive\": true}\n",
              "                    ).then(function(){\n",
              "                            \n",
              "var gd = document.getElementById('f8153f9b-2c6a-4dff-9c92-4d6719983a41');\n",
              "var x = new MutationObserver(function (mutations, observer) {{\n",
              "        var display = window.getComputedStyle(gd).display;\n",
              "        if (!display || display === 'none') {{\n",
              "            console.log([gd, 'removed!']);\n",
              "            Plotly.purge(gd);\n",
              "            observer.disconnect();\n",
              "        }}\n",
              "}});\n",
              "\n",
              "// Listen for the removal of the full notebook cells\n",
              "var notebookContainer = gd.closest('#notebook-container');\n",
              "if (notebookContainer) {{\n",
              "    x.observe(notebookContainer, {childList: true});\n",
              "}}\n",
              "\n",
              "// Listen for the clearing of the current output cell\n",
              "var outputEl = gd.closest('.output');\n",
              "if (outputEl) {{\n",
              "    x.observe(outputEl, {childList: true});\n",
              "}}\n",
              "\n",
              "                        })\n",
              "                };\n",
              "                \n",
              "            </script>\n",
              "        </div>\n",
              "</body>\n",
              "</html>"
            ]
          },
          "metadata": {
            "tags": []
          }
        }
      ]
    },
    {
      "cell_type": "code",
      "metadata": {
        "id": "33HwwQJG61Tb",
        "colab_type": "code",
        "colab": {
          "base_uri": "https://localhost:8080/",
          "height": 85
        },
        "outputId": "c4892e0d-165f-4abf-b5d7-887a0f2fabb4"
      },
      "source": [
        "#let's add another continuous feature\n",
        "#our scores get better incrementally\n",
        "\n",
        "feature_year_ground = ['1st_Flr_SF', 'Year_Built']\n",
        "target = 'SalePrice'\n",
        "\n",
        "y_train_year_ground = train[target]\n",
        "X_train_year_ground = train[feature_year_ground]\n",
        "X_val_year_ground = val[feature_year_ground]\n",
        "y_val_year_ground = val[target]\n",
        "X_test_year_ground = test[feature_year_ground]\n",
        "y_test_year_ground = test[target]\n",
        "\n",
        "from sklearn.linear_model import LinearRegression\n",
        "model = LinearRegression()\n",
        "model.fit(X_train_year_ground, y_train_year_ground)\n",
        "\n",
        "print('coefficient:', model.coef_)\n",
        "print('intercept:', model.intercept_)\n",
        "\n",
        "y_pred = model.predict(X_val_year_ground)\n",
        "mae = mean_absolute_error(y_val_year_ground, y_pred)\n",
        "print(f'Validation MAE: ${mae:,.0f}')\n",
        "\n",
        "r2 = r2_score(y_val_year_ground, y_pred)\n",
        "print('R^2:', r2)"
      ],
      "execution_count": 86,
      "outputs": [
        {
          "output_type": "stream",
          "text": [
            "coefficient: [  99.76443946 1034.03810386]\n",
            "intercept: -1972214.7156419144\n",
            "Validation MAE: $37,625\n",
            "R^2: 0.6020278883317682\n"
          ],
          "name": "stdout"
        }
      ]
    },
    {
      "cell_type": "code",
      "metadata": {
        "id": "bTPD3O257fSp",
        "colab_type": "code",
        "colab": {
          "base_uri": "https://localhost:8080/",
          "height": 617
        },
        "outputId": "facf2c73-ad71-48bd-b97d-c11b1c820f06"
      },
      "source": [
        "px.scatter(homes, x='Gr_Liv_Area', y='SalePrice')"
      ],
      "execution_count": 88,
      "outputs": [
        {
          "output_type": "display_data",
          "data": {
            "text/html": [
              "<html>\n",
              "<head><meta charset=\"utf-8\" /></head>\n",
              "<body>\n",
              "    <div>\n",
              "            <script src=\"https://cdnjs.cloudflare.com/ajax/libs/mathjax/2.7.5/MathJax.js?config=TeX-AMS-MML_SVG\"></script><script type=\"text/javascript\">if (window.MathJax) {MathJax.Hub.Config({SVG: {font: \"STIX-Web\"}});}</script>\n",
              "                <script type=\"text/javascript\">window.PlotlyConfig = {MathJaxConfig: 'local'};</script>\n",
              "        <script src=\"https://cdn.plot.ly/plotly-latest.min.js\"></script>    \n",
              "            <div id=\"60cdbeba-fe9e-431b-9c48-c385c14bb91b\" class=\"plotly-graph-div\" style=\"height:600px; width:100%;\"></div>\n",
              "            <script type=\"text/javascript\">\n",
              "                \n",
              "                    window.PLOTLYENV=window.PLOTLYENV || {};\n",
              "                    \n",
              "                if (document.getElementById(\"60cdbeba-fe9e-431b-9c48-c385c14bb91b\")) {\n",
              "                    Plotly.newPlot(\n",
              "                        '60cdbeba-fe9e-431b-9c48-c385c14bb91b',\n",
              "                        [{\"hoverlabel\": {\"namelength\": 0}, \"hovertemplate\": \"Gr_Liv_Area=%{x}<br>SalePrice=%{y}\", \"legendgroup\": \"\", \"marker\": {\"color\": \"#636efa\", \"symbol\": \"circle\"}, \"mode\": \"markers\", \"name\": \"\", \"showlegend\": false, \"type\": \"scattergl\", \"x\": [1656, 896, 1329, 2110, 1629, 1604, 1338, 1280, 1616, 1804, 1655, 1187, 1465, 1341, 1502, 3279, 1752, 1856, 864, 2073, 1844, 1173, 1674, 1004, 1078, 1056, 882, 864, 1337, 987, 1092, 1092, 1069, 1456, 836, 1456, 2334, 1704, 1940, 1544, 1541, 1698, 1822, 1535, 2364, 1358, 2696, 2250, 1752, 1370, 1626, 1324, 1145, 1269, 1374, 1733, 1430, 2035, 2599, 2475, 1720, 2622, 2270, 1839, 3238, 1595, 1218, 1547, 1566, 1947, 1468, 2084, 1659, 2110, 923, 1845, 918, 752, 1744, 1097, 1564, 1012, 1902, 1155, 894, 900, 1040, 1040, 1494, 1923, 2349, 2225, 1488, 1680, 1200, 1200, 1200, 1236, 1478, 1573, 1512, 1416, 1080, 1418, 1848, 788, 1226, 1479, 1492, 1829, 2495, 1610, 1891, 1714, 1381, 1645, 1232, 1328, 1225, 1209, 1510, 1775, 1152, 1054, 1728, 1078, 2461, 1556, 858, 1306, 1063, 1520, 1268, 1128, 2274, 2207, 1888, 1604, 1480, 1143, 1700, 1314, 1194, 1188, 1264, 1206, 1580, 1337, 1064, 972, 988, 1057, 985, 827, 1086, 936, 1458, 1056, 1287, 2978, 1224, 1246, 1385, 900, 1116, 1175, 1395, 1839, 1844, 1140, 936, 1028, 1347, 1605, 747, 804, 1316, 1251, 1633, 1245, 832, 720, 1566, 1652, 2268, 2256, 1236, 1363, 2290, 1470, 1612, 2068, 765, 1132, 1196, 1453, 1416, 1040, 1536, 1068, 1710, 1962, 1560, 1324, 816, 1092, 1812, 2403, 1675, 1224, 1392, 919, 1884, 1680, 1020, 1832, 1768, 1039, 1392, 912, 1060, 892, 1352, 864, 1373, 1440, 1386, 2260, 1483, 756, 1067, 1524, 1981, 1610, 835, 1074, 1144, 1531, 1172, 1212, 1508, 1298, 930, 1732, 1433, 1802, 1949, 996, 1694, 1208, 1226, 1222, 3222, 1445, 1052, 965, 1692, 1682, 1026, 1392, 894, 876, 1978, 1601, 1829, 2098, 1661, 848, 848, 1668, 1484, 1414, 640, 992, 1664, 1196, 1120, 1096, 1117, 960, 1121, 1487, 924, 1526, 1296, 1647, 864, 1691, 856, 2650, 1666, 2447, 2133, 2177, 2340, 1902, 1652, 1034, 1191, 1801, 1154, 540, 1107, 1128, 1178, 1044, 952, 1646, 1916, 1285, 1560, 1034, 2048, 1687, 1346, 1214, 1444, 1968, 1894, 1908, 2018, 1264, 1430, 1824, 1344, 1092, 945, 1112, 1092, 630, 1092, 1092, 874, 1188, 833, 2432, 1274, 1479, 1803, 1797, 882, 1434, 2704, 1608, 2283, 1628, 1746, 1474, 2522, 1659, 1478, 1734, 1382, 1718, 1636, 1571, 1470, 1516, 1190, 1593, 1481, 1167, 1983, 1442, 1360, 2234, 2046, 1530, 1934, 2353, 1586, 1411, 1602, 2050, 1671, 2673, 1472, 1707, 2524, 1601, 1370, 1868, 1884, 1935, 1874, 1811, 1621, 1116, 1193, 1350, 2119, 1792, 1002, 1026, 1180, 1050, 864, 864, 864, 864, 864, 987, 1365, 1302, 987, 987, 1302, 958, 1548, 1456, 1055, 1322, 1456, 1548, 1441, 1456, 836, 892, 1120, 1718, 2772, 3140, 2402, 1652, 1600, 2042, 2690, 2184, 2020, 2020, 2296, 2674, 2822, 1736, 1782, 2520, 1717, 1743, 1713, 1531, 1808, 2224, 1836, 1629, 1760, 1502, 2392, 2452, 2400, 1606, 1358, 1306, 1306, 1358, 1314, 2492, 2200, 1884, 1456, 1712, 1324, 1405, 1626, 1456, 1490, 1484, 1560, 1555, 1569, 1555, 1504, 1220, 1145, 1432, 2267, 1374, 1630, 1419, 1594, 1489, 1342, 1314, 2256, 2054, 1374, 1800, 1514, 1430, 2312, 1675, 2060, 1430, 2365, 2794, 2687, 2450, 2612, 2344, 2063, 2646, 2061, 2232, 2448, 1850, 1468, 1696, 1658, 1578, 1702, 1432, 1971, 2490, 1852, 1590, 1218, 1314, 1402, 1530, 1766, 1448, 2007, 1795, 1953, 1550, 1836, 1662, 2094, 1221, 1553, 1653, 1218, 1141, 1158, 1812, 1512, 1114, 1114, 1114, 1450, 2122, 1844, 1434, 1730, 1217, 1332, 1540, 1400, 1882, 841, 784, 980, 980, 864, 864, 1020, 912, 1144, 864, 912, 2014, 1755, 3005, 1224, 1224, 1726, 1256, 1471, 1512, 1452, 1739, 1694, 1226, 1740, 2499, 1620, 1556, 1442, 1489, 2090, 2067, 1395, 2640, 1724, 1336, 1216, 2288, 1334, 1680, 1665, 864, 1568, 925, 2061, 1320, 1342, 894, 864, 864, 1362, 1728, 1776, 1516, 1313, 1292, 1154, 2140, 1445, 1041, 1576, 960, 708, 1203, 1505, 1691, 1644, 1050, 1668, 1113, 1584, 1453, 1394, 1567, 1986, 2142, 1392, 1738, 1144, 1478, 1329, 988, 1632, 1215, 1202, 1382, 1200, 1382, 1297, 1866, 1062, 1319, 1112, 1005, 1363, 793, 1031, 1210, 1699, 1527, 1200, 972, 792, 1656, 1352, 1039, 792, 1078, 2377, 1690, 599, 1374, 846, 725, 2544, 1380, 1040, 2634, 951, 1105, 1306, 1478, 1142, 1268, 1040, 1133, 1040, 1904, 1041, 1339, 732, 1183, 1148, 1461, 1495, 1806, 941, 1045, 894, 1224, 1230, 1378, 1944, 1131, 1306, 1464, 1558, 2372, 1701, 1960, 1389, 1447, 936, 1328, 1387, 861, 612, 968, 886, 792, 1452, 1510, 1284, 2138, 2640, 2007, 1288, 1742, 816, 1482, 1022, 1869, 1480, 1521, 720, 797, 1576, 1432, 1548, 1654, 952, 1324, 1176, 1348, 1412, 1142, 904, 1301, 1539, 1573, 800, 875, 995, 1582, 1072, 2134, 2019, 1768, 1826, 1944, 2229, 2128, 1930, 1208, 1427, 1864, 1666, 892, 1403, 704, 1200, 1200, 1152, 904, 1369, 1112, 1464, 1121, 1683, 1052, 899, 1034, 858, 860, 1092, 1774, 1138, 2071, 660, 1788, 1473, 1229, 861, 1867, 1733, 1383, 1689, 1073, 1276, 1639, 672, 1089, 845, 1049, 1716, 1258, 1510, 1061, 1338, 2132, 2196, 1775, 1879, 2020, 2016, 1535, 1224, 2228, 1535, 1535, 2240, 1229, 1513, 2787, 2787, 2787, 1680, 1718, 1630, 1720, 1468, 1768, 1838, 1800, 1604, 1290, 1254, 1232, 1498, 1422, 1644, 1759, 2126, 1040, 990, 1764, 1661, 1463, 1097, 990, 1779, 1501, 1431, 1772, 1660, 1573, 1840, 1430, 1444, 1492, 1040, 907, 914, 1040, 864, 1268, 864, 894, 768, 768, 1611, 2184, 1788, 1872, 2153, 1870, 1513, 1504, 1828, 1417, 2034, 1716, 1212, 1630, 848, 848, 1602, 1728, 1500, 1476, 1396, 1126, 1486, 816, 1922, 1426, 1149, 1125, 1698, 1072, 698, 876, 1368, 1529, 864, 944, 1678, 1560, 960, 1196, 1298, 1604, 1268, 1520, 438, 1489, 3082, 1242, 1981, 1232, 1608, 1135, 1913, 1477, 1228, 2080, 1567, 1494, 1308, 1273, 964, 1343, 2480, 1112, 1564, 1561, 1523, 1152, 1906, 1032, 1229, 1229, 1229, 1982, 2365, 1680, 1344, 2168, 1192, 1526, 572, 1648, 810, 2052, 2149, 1710, 1961, 926, 1287, 1734, 1217, 1595, 1344, 2036, 1620, 1692, 2036, 1641, 1466, 1412, 2237, 1479, 1296, 2014, 1838, 1978, 1008, 1771, 1204, 1224, 988, 874, 630, 1404, 630, 1344, 1092, 796, 1091, 1110, 833, 883, 1362, 1287, 1567, 1632, 1414, 2117, 2112, 1604, 1470, 1604, 1638, 1636, 1384, 1446, 1593, 1682, 1337, 1280, 1604, 1633, 1658, 1895, 1709, 1228, 1337, 2500, 2504, 1884, 1474, 1710, 1488, 2093, 1688, 1422, 1260, 2064, 1782, 2872, 1211, 1126, 2044, 1308, 2840, 1523, 1444, 1964, 1178, 2340, 1792, 1054, 936, 864, 864, 1337, 987, 987, 987, 987, 987, 987, 1302, 1069, 1456, 1055, 892, 1932, 2332, 2084, 2713, 1582, 1710, 2464, 1950, 2748, 2790, 2331, 2088, 2332, 2470, 2668, 2046, 1575, 2649, 2690, 1866, 1702, 1367, 1518, 1684, 1800, 1342, 1342, 1626, 1626, 1358, 1455, 1576, 1504, 1266, 1246, 1515, 1593, 1166, 1456, 1720, 1986, 1358, 1792, 1892, 1490, 2322, 1651, 2199, 2630, 2198, 2172, 2006, 2125, 2501, 2113, 2418, 2197, 2127, 1987, 1580, 1933, 1574, 1578, 1506, 1563, 1428, 1861, 1874, 1372, 1372, 1768, 1992, 1958, 2078, 1660, 1218, 1728, 1080, 1696, 1663, 1175, 1114, 1114, 1640, 1162, 1609, 1680, 1679, 1657, 1677, 1737, 1294, 1710, 1617, 1199, 984, 912, 864, 890, 864, 912, 1430, 1641, 2683, 2786, 1391, 1250, 1245, 1200, 1392, 1392, 1501, 1549, 1638, 1310, 1419, 1557, 1709, 1252, 1404, 1789, 1586, 1607, 2393, 1288, 1239, 1719, 1232, 2944, 1671, 1682, 1427, 1740, 1258, 1620, 1625, 2614, 1464, 912, 925, 1728, 1728, 1656, 1670, 2715, 1876, 1632, 999, 1978, 1014, 907, 952, 1128, 1425, 1165, 1136, 1092, 1265, 1350, 1114, 1053, 1252, 1100, 1118, 720, 729, 1077, 906, 1496, 1252, 1337, 1661, 1036, 1820, 1362, 1144, 1537, 1431, 1988, 1098, 1144, 1283, 1176, 1440, 1261, 1570, 1196, 1392, 1080, 1104, 882, 1152, 950, 1790, 952, 773, 1764, 1216, 1824, 869, 1159, 1558, 672, 1436, 1294, 1716, 1044, 1312, 1253, 1081, 2069, 910, 876, 1048, 1507, 1256, 1027, 1269, 1320, 984, 832, 1278, 1800, 1588, 825, 1796, 1611, 1117, 1133, 764, 1539, 1323, 1360, 2792, 672, 1456, 1594, 2082, 1656, 1740, 1027, 1436, 899, 1080, 789, 1122, 1499, 407, 928, 901, 1588, 3493, 1627, 1416, 1450, 1344, 1017, 2350, 2058, 1540, 1378, 1912, 1484, 2358, 1111, 2775, 1086, 2495, 984, 1795, 882, 1093, 1143, 1668, 935, 1738, 784, 1210, 1290, 1672, 949, 1158, 1497, 1342, 1013, 1216, 1136, 808, 1573, 2009, 1902, 1774, 1362, 520, 1285, 1848, 1820, 1716, 1505, 838, 1984, 1666, 1609, 768, 1536, 1969, 1308, 1040, 1236, 1406, 825, 1198, 759, 1344, 1469, 1054, 1211, 1271, 1588, 1355, 1075, 1040, 1096, 904, 992, 894, 1034, 1073, 1126, 1258, 1140, 1006, 1228, 960, 1188, 1383, 1252, 1601, 672, 1721, 1350, 904, 1291, 2022, 1524, 1363, 1663, 1357, 1079, 1094, 2358, 1518, 1674, 2108, 1509, 864, 1269, 1367, 1347, 1164, 1096, 1111, 2329, 2814, 1626, 2200, 2037, 1356, 1615, 2276, 1766, 2097, 1511, 1643, 1688, 990, 1099, 990, 1418, 1771, 1652, 1790, 1724, 1479, 1494, 1792, 1823, 1786, 938, 985, 1174, 1026, 1076, 1558, 924, 864, 780, 1795, 1865, 2161, 1852, 2031, 2263, 1947, 1786, 2290, 1768, 2327, 1640, 1764, 1908, 848, 848, 1493, 1838, 1536, 1710, 1445, 1436, 1582, 1234, 1564, 1361, 1456, 848, 848, 848, 848, 796, 2200, 1092, 1256, 1033, 1127, 996, 1181, 1656, 1117, 1398, 1132, 5642, 1072, 1152, 1152, 1440, 1152, 784, 1053, 1137, 930, 1200, 1470, 1393, 1204, 1292, 864, 864, 1716, 1482, 2192, 1694, 1424, 1964, 2601, 1920, 1316, 2555, 1680, 1264, 790, 1512, 1639, 1603, 1502, 1660, 1938, 1374, 1091, 1873, 3447, 1954, 2161, 1898, 1640, 1032, 1556, 919, 1090, 796, 816, 778, 1200, 1656, 912, 1955, 733, 1361, 1317, 1049, 894, 864, 1652, 1648, 1646, 1646, 2032, 1689, 1820, 1118, 1279, 1872, 1689, 1786, 1501, 2898, 1537, 1646, 1780, 1442, 1612, 1495, 1651, 1256, 1509, 1440, 1675, 2262, 1728, 1964, 1344, 1344, 1092, 1189, 1200, 1040, 1304, 1475, 988, 988, 1160, 1092, 630, 988, 816, 923, 816, 816, 845, 1750, 889, 1968, 1836, 1587, 1277, 2223, 2217, 1733, 1572, 1470, 1600, 1384, 1652, 1694, 1714, 1553, 1253, 2299, 1187, 1472, 1482, 1642, 1128, 1088, 2090, 1179, 1321, 1922, 2541, 2338, 1424, 1612, 1419, 2234, 2042, 1440, 1284, 1868, 1479, 1664, 1930, 1969, 2030, 1032, 1177, 1725, 1353, 1620, 1220, 1484, 1743, 1935, 1324, 1877, 1109, 981, 1479, 1422, 914, 950, 872, 858, 914, 864, 767, 1337, 1337, 1092, 1218, 1218, 1302, 1365, 958, 1548, 1055, 988, 1816, 1828, 1694, 1694, 1734, 2122, 2121, 2656, 2550, 2046, 2172, 2552, 1973, 2643, 1634, 1976, 2758, 2290, 2152, 2473, 2100, 2161, 1802, 2956, 2468, 2385, 2374, 1818, 1614, 1721, 1828, 1362, 1302, 1302, 1362, 1554, 1554, 1370, 1577, 1561, 1869, 1324, 1405, 1536, 1484, 1458, 1495, 1746, 1326, 1456, 1302, 1340, 1412, 1504, 1456, 1258, 1258, 1402, 1589, 1266, 1530, 1119, 1374, 1959, 1525, 1720, 1948, 1690, 1995, 1647, 1430, 1320, 1690, 1644, 4476, 2551, 2285, 2633, 3078, 2582, 2385, 4316, 2013, 2398, 2520, 2531, 3228, 2202, 2538, 1369, 1542, 1905, 1464, 1534, 1966, 1636, 1795, 1726, 1689, 1588, 1538, 1496, 1506, 1694, 1977, 1830, 1338, 1335, 1792, 1588, 1959, 2610, 1656, 1761, 1584, 1685, 2443, 2466, 1100, 1143, 1094, 1486, 1721, 1820, 1349, 1494, 1575, 1266, 884, 2020, 894, 970, 1057, 999, 1120, 1696, 1040, 988, 902, 2503, 2167, 1037, 1701, 1055, 2810, 2872, 1378, 1151, 1565, 1352, 1352, 1250, 1501, 1458, 1512, 1573, 1525, 1102, 1441, 1950, 1358, 2048, 2362, 1494, 2362, 1432, 1437, 1295, 1855, 1262, 2497, 2620, 1929, 1152, 2411, 1082, 1295, 1610, 1594, 2075, 1680, 1093, 1242, 1052, 1107, 1214, 1073, 1344, 1728, 1224, 1422, 958, 1065, 1138, 912, 1074, 882, 1187, 964, 894, 1200, 1042, 1302, 2154, 1374, 1652, 1429, 1327, 1224, 932, 908, 334, 666, 670, 808, 1977, 1150, 1920, 1376, 1644, 1560, 1280, 1254, 912, 1524, 2380, 936, 1008, 1053, 1056, 1442, 1056, 1244, 1144, 1721, 922, 1048, 1657, 1411, 1216, 1154, 1560, 948, 1040, 1008, 925, 1360, 1540, 925, 928, 1647, 924, 1544, 893, 1728, 3086, 1034, 882, 1281, 968, 1534, 691, 1651, 888, 952, 2080, 924, 1082, 1846, 988, 1238, 864, 1134, 1040, 1170, 1242, 1377, 1800, 925, 1851, 1812, 864, 936, 960, 1432, 1296, 1022, 936, 967, 1047, 1072, 1174, 1183, 1131, 1141, 960, 1798, 866, 968, 1772, 1642, 1472, 1232, 2337, 1650, 2210, 1358, 2454, 2291, 1616, 1559, 2554, 1248, 968, 1382, 1060, 1435, 1167, 1635, 1274, 1232, 1218, 884, 1409, 1322, 1426, 1281, 1513, 854, 1367, 986, 2264, 1824, 1376, 1316, 1396, 1344, 2526, 1173, 1214, 1818, 1108, 2294, 1355, 1375, 1952, 2180, 1315, 1111, 1196, 1382, 1889, 840, 1484, 2267, 3086, 1134, 1282, 999, 1452, 1005, 1029, 1020, 1040, 913, 894, 948, 868, 897, 943, 955, 894, 1285, 912, 1375, 2654, 1416, 1302, 1299, 1176, 998, 1824, 1522, 2060, 1325, 1630, 1242, 2422, 2158, 1626, 864, 943, 1440, 605, 1038, 1342, 1480, 1362, 1340, 1822, 1442, 2243, 2730, 2127, 1982, 1958, 2696, 2828, 1651, 2140, 1494, 1316, 1651, 2574, 1274, 1456, 1240, 1208, 1546, 1500, 1270, 1795, 1314, 2062, 1873, 2144, 1953, 2087, 1743, 1022, 990, 1200, 1308, 1796, 990, 1097, 990, 1786, 1873, 1753, 1690, 1842, 1479, 1668, 894, 1025, 1009, 1040, 907, 879, 882, 969, 864, 875, 2000, 2169, 1673, 1459, 1932, 1729, 2452, 1592, 2439, 1992, 1668, 2090, 848, 1341, 1928, 1337, 1476, 1797, 1422, 1190, 1330, 1491, 1536, 1214, 936, 1088, 960, 1351, 1179, 816, 1044, 1113, 2233, 1125, 1090, 1408, 5095, 4676, 1072, 960, 1152, 948, 1195, 774, 865, 894, 1346, 768, 864, 948, 3395, 2592, 1502, 789, 1422, 1298, 1768, 1098, 1436, 1426, 1461, 1646, 694, 1250, 954, 1958, 2002, 1718, 1226, 2624, 3194, 1755, 1991, 1355, 2727, 2320, 1839, 1740, 2259, 1560, 1488, 1045, 1680, 1020, 1696, 2726, 1517, 1215, 803, 1601, 1123, 1828, 816, 1012, 1077, 1558, 845, 1991, 1073, 1001, 1625, 1625, 1299, 912, 1080, 1392, 1409, 1478, 918, 1026, 1501, 1502, 1328, 2279, 1689, 1484, 1571, 1646, 1240, 1717, 1756, 1312, 1146, 1922, 1491, 1629, 2486, 1572, 1776, 1824, 2482, 1120, 2034, 936, 1040, 1632, 1622, 1060, 1142, 1092, 992, 1092, 1092, 630, 1092, 1062, 1008, 1356, 1676, 1432, 796, 768, 1608, 845, 1178, 816, 816, 974, 887, 1293, 1024, 1797, 1390, 1851, 1525, 2236, 1671, 1498, 1776, 1511, 2462, 1670, 2064, 1801, 2212, 2021, 2687, 1169, 1501, 1632, 1204, 1767, 1742, 2798, 3390, 2473, 2868, 2576, 2698, 2795, 2945, 2320, 1056, 1714, 1826, 2000, 1621, 2183, 2263, 1574, 1102, 1872, 1857, 1686, 2784, 1552, 1083, 2318, 1875, 1074, 1664, 1309, 1103, 1096, 864, 858, 874, 1419, 1092, 1365, 987, 1030, 1218, 1218, 948, 1092, 987, 1069, 1387, 900, 1055, 1456, 1980, 2589, 2596, 1618, 1740, 1868, 1850, 2376, 2452, 2206, 2098, 2091, 2324, 2389, 2358, 1944, 1970, 1792, 1780, 1792, 2728, 1904, 1914, 1364, 1565, 1368, 1368, 1686, 1666, 1405, 1316, 1456, 1492, 1496, 1863, 1326, 1456, 2373, 1492, 1364, 1557, 1456, 1511, 1414, 1548, 1248, 1142, 1506, 1567, 1500, 1838, 1509, 1414, 1598, 1936, 1509, 1664, 1889, 1886, 1671, 2322, 2291, 2392, 1976, 2234, 3627, 2855, 1924, 2263, 2726, 3500, 2494, 2526, 2799, 1964, 2097, 1660, 1616, 1504, 1278, 2640, 1489, 1939, 1553, 1716, 1576, 1262, 1266, 1301, 1142, 1400, 1131, 1141, 1158, 1686, 1585, 1837, 1603, 1731, 1398, 1217, 1320, 1056, 965, 988, 1728, 1654, 1211, 1212, 984, 909, 925, 1024, 935, 912, 1236, 941, 2646, 2417, 2826, 2520, 2295, 1624, 1143, 1247, 1200, 1223, 1223, 1200, 1524, 1452, 1382, 1080, 1694, 1568, 1494, 1208, 1235, 1036, 1226, 1226, 1842, 1193, 1920, 2156, 1416, 2654, 1790, 1334, 1164, 980, 1051, 1770, 976, 1052, 898, 1051, 1141, 1200, 1993, 1050, 864, 1712, 1565, 1251, 1488, 1440, 1095, 1053, 1248, 816, 1008, 1043, 1230, 869, 747, 1252, 1433, 1624, 1216, 2136, 1578, 1728, 936, 1584, 1246, 1235, 2157, 1128, 3112, 1008, 1190, 1144, 1364, 1383, 1336, 1370, 1092, 1124, 1236, 943, 1050, 1375, 1008, 1575, 1145, 1005, 1056, 884, 2039, 1384, 2640, 1312, 1310, 713, 833, 1073, 715, 720, 1130, 1595, 1760, 1214, 2414, 1466, 1324, 1086, 1146, 1734, 1207, 912, 1194, 864, 816, 1773, 1472, 2448, 1600, 1521, 1192, 1040, 1040, 1040, 1040, 1040, 1040, 1556, 1150, 1150, 1348, 999, 1045, 864, 1025, 2014, 1328, 1668, 1657, 1416, 1641, 1428, 1004, 813, 1951, 1032, 844, 1750, 864, 1118, 1376, 960, 1566, 492, 1182, 1163, 840, 1928, 1774, 1768, 2104, 1440, 1690, 1368, 1762, 1200, 3608, 1248, 960, 1020, 788, 1577, 1827, 1664, 1118, 1176, 1344, 1162, 1015, 912, 1576, 1324, 1103, 616, 1048, 816, 2486, 960, 1635, 693, 1430, 1330, 819, 1376, 1360, 1077, 754, 984, 1422, 1921, 1640, 1352, 1032, 879, 1073, 1382, 1296, 1068, 1064, 1320, 934, 1059, 1159, 1400, 1458, 1721, 1040, 1967, 1949, 1920, 1803, 1779, 872, 960, 1437, 1830, 1000, 2287, 810, 894, 1700, 1453, 1350, 1150, 2008, 2201, 2009, 3672, 1560, 1488, 1057, 1855, 1609, 1148, 1124, 1456, 1298, 2559, 1911, 1440, 1876, 1208, 1220, 1294, 1614, 1498, 1962, 1846, 1734, 1590, 1809, 1614, 1596, 1915, 1582, 988, 1533, 1388, 914, 1100, 1499, 1425, 990, 1525, 1494, 1588, 1749, 1779, 1861, 1776, 1541, 954, 1388, 1282, 971, 864, 894, 864, 1320, 1989, 1762, 1755, 1358, 1787, 1909, 1654, 2214, 2049, 1939, 1995, 2097, 1836, 848, 848, 1919, 1390, 1948, 1700, 1737, 1611, 1552, 1720, 1336, 1500, 1456, 1310, 1436, 1466, 1220, 1012, 980, 1176, 1724, 2314, 1072, 1072, 1072, 1709, 1709, 1709, 1709, 1708, 936, 1338, 1669, 1184, 1221, 864, 1482, 1250, 1414, 2230, 498, 1273, 1928, 1595, 1551, 1340, 1479, 1784, 1510, 1522, 1636, 1802, 1465, 1288, 1717, 1550, 1517, 1717, 1180, 2057, 1671, 2345, 1609, 1801, 1811, 1647, 2315, 1336, 1844, 976, 1285, 672, 641, 951, 1638, 1336, 729, 480, 1396, 936, 1778, 1646, 1625, 1664, 1491, 1004, 1210, 1959, 2519, 1295, 1650, 1707, 1137, 1339, 2514, 1403, 1800, 1960, 2028, 1838, 1600, 1368, 1216, 1337, 1140, 1304, 1475, 2521, 874, 1652, 630, 1092, 1360, 630, 1092, 1092, 1092, 1092, 1728, 1728, 1126, 1224, 1003, 902, 970, 1389, 2000], \"xaxis\": \"x\", \"y\": [215000, 105000, 172000, 244000, 189900, 195500, 213500, 191500, 236500, 189000, 175900, 185000, 180400, 171500, 212000, 538000, 164000, 394432, 141000, 210000, 190000, 170000, 216000, 149000, 149900, 142000, 126000, 115000, 184000, 96000, 105500, 88000, 127500, 149900, 120000, 146000, 376162, 306000, 395192, 290941, 220000, 275000, 259000, 214000, 611657, 224000, 500000, 320000, 319900, 205000, 175500, 199500, 160000, 192000, 184500, 185088, 180000, 222500, 333168, 355000, 260400, 325000, 290000, 221000, 410000, 221500, 204500, 215200, 262500, 254900, 271500, 233000, 181000, 205000, 143000, 189000, 99500, 125000, 194500, 152000, 171000, 67500, 112000, 148000, 138500, 122000, 133000, 127000, 169000, 190000, 362500, 285000, 260000, 190000, 155000, 151000, 149500, 152000, 222000, 177500, 177000, 155000, 147110, 267916, 254000, 155000, 206000, 130500, 230000, 218500, 243500, 205000, 212500, 196500, 197500, 171000, 142250, 143000, 128950, 159000, 178900, 136300, 180500, 137500, 84900, 142125, 197600, 172500, 116500, 76500, 128000, 153000, 132000, 178000, 154300, 180000, 190000, 135000, 214000, 136000, 165500, 145000, 148000, 142000, 167500, 108538, 159500, 108000, 135000, 122500, 119000, 109000, 105000, 107500, 144900, 129000, 97500, 144000, 162000, 242000, 132000, 154000, 166000, 134800, 160000, 148000, 192000, 155000, 80400, 96500, 109500, 115000, 143000, 107400, 80000, 119000, 130000, 119000, 129000, 100000, 12789, 105900, 150000, 139000, 240000, 76500, 149700, 125500, 122500, 140750, 128500, 209500, 87000, 134000, 128000, 132000, 139900, 123900, 138400, 109500, 140000, 149500, 159900, 122000, 110000, 55000, 140000, 244400, 173000, 107500, 100000, 95000, 93369, 114900, 94000, 136000, 136500, 131500, 121500, 125000, 154000, 137900, 158000, 137250, 160250, 163000, 158900, 328000, 270000, 85000, 128000, 260000, 230000, 124000, 83000, 144500, 129000, 127000, 128000, 186000, 308030, 114000, 84900, 178000, 270000, 218000, 236000, 147000, 245350, 206000, 198900, 187000, 320000, 138500, 155000, 159000, 191000, 200500, 150000, 161750, 128200, 127000, 318000, 272000, 237000, 240000, 224900, 143750, 143000, 232000, 213000, 185500, 84900, 155891, 100000, 144000, 64000, 125200, 107000, 90000, 140000, 113000, 80000, 144500, 104000, 128000, 58500, 127000, 126000, 160000, 100000, 169000, 257500, 215000, 266500, 335000, 203135, 185000, 162500, 289000, 125500, 82000, 110000, 68400, 102776, 55993, 50138, 246000, 254900, 190000, 201000, 169900, 170000, 160000, 220000, 179781, 174000, 269500, 214900, 202900, 378500, 169000, 173500, 139000, 166500, 83500, 119500, 85000, 76000, 75500, 88250, 85500, 130000, 157900, 149900, 159000, 136000, 161000, 285000, 231000, 124500, 157000, 345000, 189500, 270000, 189000, 377500, 168500, 375000, 278000, 240000, 239500, 177500, 185000, 191000, 178000, 185000, 181316, 166000, 178000, 174000, 173000, 225000, 180500, 187500, 501837, 372500, 260000, 185000, 260000, 181000, 82500, 215000, 154000, 200000, 249000, 187500, 184000, 278000, 157000, 152000, 197500, 240900, 263435, 220000, 235000, 213000, 167900, 158000, 165000, 158000, 136000, 148500, 156000, 128000, 143000, 76500, 120500, 124500, 97000, 130000, 111000, 125000, 112000, 97000, 118000, 119500, 143750, 146000, 148500, 123000, 147000, 137900, 147000, 148500, 138000, 128500, 100000, 148800, 337500, 462000, 485000, 555000, 325000, 256300, 253293, 398800, 335000, 404000, 402861, 451950, 610000, 582933, 360000, 296000, 409900, 255500, 335000, 274900, 300000, 324000, 350000, 280000, 284000, 269500, 233170, 386250, 445000, 290000, 255900, 213000, 196000, 184500, 212500, 230000, 552000, 382500, 320000, 248500, 286500, 254000, 173000, 173000, 184000, 167800, 174000, 174000, 174000, 175900, 192500, 181000, 180000, 160200, 188500, 200000, 170000, 189500, 184100, 195500, 192000, 178000, 207500, 236000, 244000, 167000, 179000, 190000, 156000, 245000, 181000, 214000, 168000, 337000, 403000, 327000, 340000, 336000, 265000, 315000, 260000, 260000, 263550, 402000, 248000, 244600, 275000, 257500, 287090, 275500, 245000, 253000, 468000, 252678, 210000, 208300, 229456, 229800, 250000, 370878, 238500, 310000, 270000, 252000, 241000, 264500, 291000, 263000, 185000, 234500, 209000, 159000, 152000, 143500, 193000, 203000, 159000, 142000, 153000, 224243, 220000, 257000, 189000, 171500, 120000, 145000, 184000, 162000, 160000, 82000, 76000, 110000, 135000, 141000, 122000, 124100, 129000, 131400, 62383, 123000, 275000, 235000, 280750, 164500, 173733, 222000, 195000, 172500, 180000, 156000, 172500, 318750, 211500, 241600, 180500, 150000, 154000, 185000, 185750, 200000, 206000, 162000, 256900, 197900, 163000, 113000, 230000, 167900, 213250, 227000, 130000, 143000, 117500, 168500, 172500, 161500, 141500, 118000, 127500, 140000, 177625, 110000, 167000, 153000, 145100, 154000, 177500, 158000, 124500, 174500, 122000, 82500, 110000, 149500, 175000, 167000, 128900, 140000, 147000, 124000, 187500, 159000, 256000, 205000, 193500, 110000, 104900, 150000, 156500, 176000, 149500, 139000, 155000, 120000, 153000, 144000, 176000, 153000, 135000, 131000, 123000, 126000, 115000, 164900, 113000, 145500, 102900, 95000, 152500, 129900, 132000, 99900, 135000, 149000, 114000, 109500, 125000, 142900, 156500, 59000, 105000, 106000, 78500, 190000, 154000, 163000, 200000, 143500, 135000, 153000, 157500, 113500, 133000, 92900, 128500, 90000, 138000, 128000, 139000, 118900, 138000, 132500, 133500, 135000, 144750, 145000, 127000, 109500, 115000, 110000, 128900, 103500, 66500, 130000, 129000, 150000, 107500, 94550, 124500, 135000, 103000, 93000, 129500, 93000, 80000, 45000, 37900, 91300, 99500, 113000, 87500, 110000, 106000, 265979, 160000, 119000, 168000, 58500, 143000, 85000, 124900, 119000, 146500, 34900, 44000, 223500, 149000, 205000, 137000, 121000, 128000, 134900, 117000, 132500, 93000, 119000, 100000, 141500, 133000, 60000, 105000, 115000, 150000, 126500, 214500, 167500, 155000, 155000, 179900, 104000, 62500, 149000, 103000, 123000, 97500, 135000, 70000, 116000, 88750, 179000, 179000, 159900, 61000, 103600, 63000, 175000, 139000, 172500, 113500, 130000, 149900, 134900, 137000, 139000, 165000, 148000, 165000, 63900, 161500, 143000, 135000, 82500, 190000, 139600, 122000, 127500, 121500, 60000, 154400, 113000, 125000, 84000, 139500, 131000, 105000, 108000, 162000, 156500, 316600, 271900, 213000, 239900, 239500, 131000, 118964, 153337, 147983, 118858, 118858, 142953, 148325, 113722, 269500, 269500, 269500, 323262, 297000, 295493, 332000, 239900, 212000, 272500, 239000, 220000, 200000, 221800, 194500, 237000, 173000, 275000, 233500, 185000, 152000, 143000, 231500, 212000, 207000, 145000, 138000, 197900, 204000, 192000, 200000, 195000, 227000, 230000, 187100, 203000, 201000, 124000, 140000, 134900, 150500, 136500, 143500, 133500, 123000, 133900, 133000, 250000, 254750, 236500, 261500, 313000, 211000, 220000, 203000, 279500, 210000, 219500, 191000, 178000, 213000, 144000, 140000, 293200, 190000, 190000, 173500, 170000, 108000, 167000, 100000, 198500, 159500, 127000, 125000, 320000, 145500, 118000, 85000, 120000, 98000, 99900, 82000, 119900, 103500, 112000, 110000, 122000, 117000, 160000, 159434, 60000, 139500, 197000, 105000, 135000, 147500, 137450, 155000, 177000, 145000, 137000, 234000, 205000, 177500, 160000, 155000, 163500, 154900, 205000, 144800, 174500, 193000, 158000, 158500, 224000, 115000, 137000, 121000, 124000, 208000, 315000, 222000, 147000, 123000, 78000, 85000, 75000, 230000, 57625, 251000, 239686, 240000, 215000, 156450, 173000, 126000, 173000, 152000, 137500, 375000, 315500, 224500, 410000, 316500, 201000, 175000, 204000, 213500, 220000, 170000, 315000, 425000, 139500, 115000, 162000, 165000, 91000, 130000, 86000, 160000, 80000, 97000, 88000, 131900, 131250, 165500, 112000, 149000, 143000, 130000, 196000, 173000, 176500, 237500, 206900, 187500, 165000, 195500, 192000, 173000, 177900, 175000, 286000, 247900, 180000, 180000, 181000, 183000, 188000, 194500, 185000, 189000, 188500, 355000, 325000, 387000, 115000, 334000, 133000, 215000, 226500, 175500, 181900, 235000, 220000, 272000, 161000, 175000, 185000, 146900, 292500, 180000, 159900, 205000, 157000, 306000, 133000, 151000, 111900, 123000, 111250, 181000, 103400, 100000, 100500, 106000, 85400, 89500, 111750, 140000, 143000, 148500, 110000, 394617, 426000, 385000, 446261, 317500, 372402, 417500, 383000, 390000, 460000, 379000, 250000, 316000, 615000, 412500, 284000, 284000, 421250, 370000, 336860, 367294, 192000, 274000, 266000, 370967, 234250, 219500, 155000, 154000, 207000, 195000, 219990, 191000, 159895, 187687, 179000, 193000, 190000, 176000, 188000, 213000, 217300, 186500, 226750, 184000, 225000, 185900, 284500, 315000, 250000, 291000, 350000, 279500, 290000, 350000, 341000, 287500, 271000, 301500, 235128, 214000, 232000, 240000, 264132, 245000, 227680, 257000, 297900, 212700, 250580, 226700, 250000, 250000, 339750, 256000, 230348, 207500, 141000, 188000, 192500, 146000, 159000, 155000, 173000, 170000, 182000, 163000, 193500, 189000, 190500, 175000, 179200, 187000, 193000, 153900, 128000, 144000, 135000, 115000, 119916, 142000, 192000, 140000, 290000, 372500, 196000, 171900, 178000, 165000, 146000, 146000, 179400, 172900, 300000, 285000, 290000, 305000, 328900, 160000, 170000, 223000, 170000, 200000, 345000, 245500, 217500, 324000, 162500, 150000, 290000, 174000, 183000, 150000, 145000, 215000, 140500, 240000, 141000, 147000, 135000, 145000, 142600, 135000, 170000, 299800, 185000, 173000, 178400, 176000, 98000, 109008, 135750, 155000, 180500, 174900, 140000, 145000, 179900, 168500, 140000, 145500, 142000, 141000, 153000, 72500, 52000, 118000, 87000, 141500, 119000, 141500, 165500, 112900, 201800, 163000, 139950, 174000, 165000, 227000, 135000, 124000, 140000, 136500, 185000, 163000, 166800, 139000, 166000, 136000, 133000, 116000, 137500, 130000, 180000, 139000, 110000, 100000, 118500, 146000, 89900, 114000, 140000, 86900, 139000, 106250, 171000, 139000, 186000, 157000, 148000, 242000, 116000, 94000, 98300, 127000, 159000, 125900, 155000, 138000, 112500, 105500, 127500, 130000, 150000, 109500, 140000, 167900, 136870, 143000, 73000, 157500, 122600, 111000, 256000, 64000, 139500, 118000, 200000, 119164, 122250, 120000, 155000, 78000, 95000, 115000, 147000, 140000, 46500, 112500, 107900, 65000, 295000, 139500, 153900, 132000, 98000, 114000, 130000, 129500, 129400, 161000, 163000, 128000, 122000, 116900, 325000, 55000, 184000, 110000, 131500, 97000, 115500, 138000, 108000, 79500, 153000, 109500, 124000, 106900, 164900, 119000, 120000, 157000, 105000, 113000, 115000, 123000, 81300, 162900, 150000, 123500, 129900, 128000, 68500, 127000, 207000, 184000, 162500, 145000, 130000, 160000, 161000, 127500, 93850, 136000, 141000, 120000, 127500, 127000, 89500, 125000, 79900, 85000, 82375, 135000, 124000, 134000, 135000, 134432, 127500, 148000, 129500, 157500, 109900, 145000, 130000, 153000, 120000, 152000, 108959, 95541, 80000, 149350, 144900, 185000, 165000, 235000, 140000, 108000, 145000, 152400, 144000, 173000, 192000, 245000, 241500, 256000, 177000, 125600, 155000, 240000, 260000, 185000, 235000, 159900, 99600, 134500, 119000, 107500, 125000, 79000, 95000, 262280, 260000, 226500, 225000, 229000, 177439, 248500, 475000, 395039, 228000, 225000, 195000, 200000, 155000, 144000, 145000, 226001, 215700, 207500, 193000, 188000, 191000, 221000, 231500, 235000, 223500, 130250, 149900, 158000, 147000, 143195, 163000, 110000, 127000, 124900, 230000, 235000, 230500, 230000, 222500, 287000, 274000, 300000, 255900, 224900, 240000, 183000, 207000, 210000, 136500, 145000, 208900, 185000, 214000, 208500, 186500, 210000, 185900, 179900, 218836, 193000, 189000, 149300, 141000, 149000, 144500, 85000, 145900, 123000, 147500, 165000, 135000, 108000, 137500, 165400, 147000, 160500, 176000, 160000, 148000, 82000, 82000, 118000, 82500, 91900, 120000, 96000, 99000, 130500, 135000, 135500, 100000, 108000, 98000, 67000, 135900, 140000, 179500, 136500, 168000, 130000, 189000, 161900, 145000, 191000, 177000, 147500, 91000, 231000, 115000, 138000, 149000, 188700, 198000, 110000, 104000, 257076, 381000, 311500, 263400, 236500, 224000, 116500, 151000, 126000, 120000, 55000, 120500, 120500, 119000, 126000, 99500, 165500, 13100, 89000, 40000, 80900, 81000, 65000, 392500, 294464, 250000, 275000, 300000, 271000, 213000, 171000, 171500, 100000, 228500, 228950, 241500, 287000, 294000, 293077, 264966, 172500, 218689, 150000, 184000, 180000, 175000, 232500, 195000, 305000, 298751, 370000, 209200, 206300, 146000, 160500, 173000, 124000, 115000, 129500, 105000, 94900, 152500, 98000, 81000, 113000, 128500, 119500, 130500, 138000, 134500, 160000, 137500, 172000, 103000, 167300, 167000, 244000, 268000, 225000, 168000, 177000, 169000, 161500, 251000, 160000, 180000, 178750, 176000, 204000, 160000, 160000, 163900, 168000, 154204, 170000, 207500, 182000, 212000, 377426, 349265, 591587, 155000, 319900, 392000, 441929, 455000, 182900, 174000, 178000, 176000, 213000, 192000, 190000, 195000, 148000, 151500, 197000, 192350, 152000, 170000, 175000, 175000, 197900, 174000, 178900, 139000, 143250, 184000, 155000, 133000, 119500, 123000, 110000, 128000, 120500, 133000, 155000, 177000, 113500, 113000, 113700, 106000, 122500, 128000, 155000, 142500, 129250, 356000, 314813, 318000, 322400, 318000, 345474, 415298, 492000, 338931, 450000, 280000, 479069, 395000, 380000, 250000, 440000, 418000, 500067, 260116, 317000, 319500, 325624, 372000, 342000, 354000, 350000, 285000, 281500, 245700, 232698, 250000, 194700, 204000, 200000, 207000, 209500, 209500, 202500, 280000, 277500, 318061, 221370, 200000, 176000, 178900, 168165, 171925, 198444, 203000, 179540, 176485, 181134, 156932, 166000, 177594, 173500, 172500, 194201, 226500, 185485, 259000, 188500, 175000, 215000, 206580, 183500, 211000, 181000, 219500, 175000, 170000, 162000, 187000, 185000, 745000, 384500, 248000, 466500, 410000, 322500, 252000, 755000, 269790, 315750, 290000, 290000, 430000, 263000, 330000, 213133, 260261, 320000, 282922, 215000, 419005, 255000, 147000, 311872, 248328, 227000, 260000, 225000, 249000, 307000, 250000, 221300, 208900, 210400, 255000, 212109, 270000, 303477, 249700, 227875, 261329, 253000, 265000, 340000, 146000, 147000, 149000, 181000, 201000, 191750, 179000, 215000, 179200, 128000, 144000, 144000, 120750, 132500, 132000, 132500, 129000, 143900, 145000, 128500, 125500, 300000, 294000, 129000, 171000, 147000, 302000, 285000, 214000, 166000, 193800, 208900, 194000, 164700, 176500, 176000, 168500, 177000, 177000, 148800, 174000, 239000, 204000, 301000, 312500, 279700, 255000, 194000, 218000, 213750, 187000, 181500, 373000, 190000, 226000, 143450, 240050, 162500, 164000, 185000, 188500, 255000, 136905, 158500, 175500, 127000, 127000, 143000, 156000, 144000, 119000, 103000, 139900, 151500, 126500, 145000, 120000, 124000, 106500, 140500, 137500, 117600, 163500, 161000, 158000, 224500, 147000, 200000, 181900, 150750, 101800, 124000, 138500, 39300, 64500, 64000, 112000, 165000, 144000, 137000, 105000, 146500, 126000, 175000, 158500, 114500, 144000, 129000, 141000, 131000, 142100, 139000, 157900, 139400, 150000, 120000, 174850, 116000, 135000, 163500, 130000, 129500, 142000, 128600, 125000, 136000, 134500, 127000, 130000, 115000, 116900, 132000, 153000, 112500, 138000, 135000, 156000, 301600, 109000, 103200, 128500, 64500, 148000, 86000, 172000, 120000, 128500, 135000, 122900, 119200, 143000, 119000, 102000, 129000, 135000, 152000, 140000, 152000, 156500, 141000, 99000, 187000, 169500, 125500, 130000, 103000, 132000, 127500, 89500, 140000, 99900, 100000, 130000, 135000, 120000, 89471, 85000, 108500, 137000, 110500, 100000, 184900, 145000, 125000, 114000, 90000, 144100, 117500, 124500, 185000, 133900, 152000, 153500, 159500, 87000, 104500, 110000, 136500, 128250, 144000, 210000, 135000, 128000, 131000, 113000, 126000, 132000, 131750, 132500, 137500, 132000, 127500, 102000, 200000, 180500, 165000, 90000, 153575, 140000, 136000, 113000, 117000, 169500, 139400, 202500, 127000, 141000, 212300, 161000, 99500, 101000, 109900, 128500, 122000, 87000, 50000, 219000, 200500, 126000, 108500, 130000, 158450, 115400, 118500, 165000, 123000, 129000, 125000, 108000, 119900, 115000, 134500, 127000, 129000, 143500, 129000, 187000, 158000, 112000, 165250, 150000, 137000, 89500, 302000, 182000, 211000, 216000, 130000, 109900, 255000, 243000, 154000, 118000, 80000, 150000, 86000, 130000, 125000, 136500, 96000, 120000, 228500, 179900, 225000, 301000, 238000, 228500, 220000, 383970, 424870, 250000, 360000, 279500, 200141, 246500, 276000, 203000, 155835, 194000, 195400, 217000, 212999, 175900, 191000, 176432, 277000, 207000, 277000, 240000, 187500, 279000, 139500, 126000, 177500, 175000, 211000, 146000, 147900, 123600, 204750, 235500, 217000, 190550, 217500, 226000, 180000, 131000, 153500, 160000, 134900, 130000, 120000, 112500, 122000, 127000, 117000, 305900, 228500, 270000, 192000, 213000, 200000, 267000, 228000, 275000, 211000, 285000, 240000, 131500, 246900, 219500, 185000, 179400, 213500, 179600, 173500, 167840, 168675, 167000, 140000, 118500, 110000, 94750, 122000, 110000, 118500, 133500, 148000, 141000, 155000, 157000, 171500, 183850, 184750, 140000, 131750, 61500, 111000, 98500, 79000, 108500, 110000, 112000, 125000, 79275, 119000, 200000, 150000, 165000, 96500, 136500, 146500, 175000, 148500, 141500, 189950, 135000, 164000, 90350, 139000, 119750, 145000, 145000, 238000, 153500, 239000, 359100, 188000, 220000, 140000, 315000, 259500, 257500, 219500, 217000, 201000, 215000, 123900, 170000, 200000, 198000, 315000, 115000, 141000, 87000, 129850, 100000, 150909, 75200, 118400, 67000, 152000, 68104, 119600, 140000, 124900, 375000, 235000, 183500, 156000, 134000, 215000, 245000, 210000, 148000, 143000, 244000, 330000, 170000, 257000, 231713, 265900, 239000, 248900, 174000, 187500, 204000, 180500, 187500, 282000, 178000, 270000, 279900, 186700, 283463, 392000, 281213, 147000, 130000, 140000, 132250, 143000, 168000, 129900, 134000, 85500, 106500, 93900, 75000, 84500, 75190, 146800, 153500, 188000, 196000, 157000, 138000, 129500, 80000, 129500, 135000, 124500, 139000, 93500, 124500, 149900, 157500, 169000, 252000, 192100, 183500, 222000, 170000, 187500, 202000, 185000, 320000, 240000, 250000, 239900, 309000, 274725, 270000, 183500, 165600, 176500, 130000, 239000, 275000, 457347, 545224, 356383, 556581, 361919, 535000, 401179, 438780, 169000, 145000, 318000, 319000, 470000, 202500, 229000, 235000, 190000, 169000, 241500, 188900, 207500, 250000, 179900, 172000, 294323, 184500, 153500, 162900, 181000, 155000, 138800, 116050, 88000, 97500, 190000, 105500, 125500, 83000, 116000, 91500, 118000, 89000, 108000, 94500, 146300, 145000, 123000, 137500, 144000, 315000, 412083, 342643, 252000, 293000, 415000, 326000, 325300, 309000, 300000, 275500, 338500, 345000, 298236, 329900, 360000, 281000, 372397, 378000, 374000, 437154, 275000, 279000, 185850, 282500, 202500, 202665, 332200, 310090, 171750, 169990, 170440, 169985, 179665, 219210, 174190, 172785, 258000, 185101, 210250, 234000, 215000, 246990, 178740, 225000, 167240, 156820, 213490, 264561, 246578, 192140, 183200, 178000, 201490, 230500, 180000, 172400, 215000, 199900, 173000, 287602, 230000, 348000, 286000, 300000, 625000, 405000, 280000, 258000, 350000, 584500, 321000, 290000, 315000, 252000, 423000, 290000, 232000, 199000, 198600, 405749, 232600, 266000, 186500, 200825, 197000, 185000, 176000, 187750, 139500, 186800, 132000, 142500, 158000, 184000, 184900, 187000, 175900, 248500, 172000, 151000, 150000, 107000, 119900, 129500, 125000, 119500, 144000, 151000, 126000, 116000, 133500, 120875, 137000, 124000, 135000, 129200, 260000, 260000, 334000, 310000, 268000, 262000, 176400, 197000, 151000, 147400, 149900, 144152, 166000, 183900, 165000, 139000, 200000, 221000, 270000, 165000, 214000, 188000, 190000, 170000, 385000, 146500, 170000, 262500, 179900, 250000, 165150, 164500, 140000, 135500, 142000, 155000, 157500, 138500, 140000, 124400, 158000, 146000, 190000, 136500, 129900, 145000, 185900, 160000, 167000, 157500, 140000, 150000, 151500, 129800, 137000, 137000, 121600, 85500, 79900, 127000, 161000, 146500, 135000, 137900, 133000, 137000, 121000, 119000, 172000, 98600, 226000, 118000, 235000, 135000, 132500, 143000, 132000, 145250, 162000, 148000, 141000, 153000, 134450, 135960, 156000, 140000, 139500, 155000, 127000, 133500, 125000, 142000, 167000, 159000, 180000, 127000, 112000, 99800, 117000, 108480, 68000, 86900, 120000, 155500, 80000, 105000, 160000, 170000, 160000, 159950, 165000, 159000, 147000, 115000, 159500, 120000, 129900, 183000, 157500, 277500, 207500, 147500, 135000, 109500, 109900, 133700, 81400, 87500, 93500, 119000, 141000, 146000, 155000, 134500, 120000, 105000, 124000, 169000, 107000, 135000, 111500, 156500, 178000, 139900, 105000, 110000, 111500, 108000, 111500, 124000, 105000, 116000, 96900, 135500, 139000, 61500, 120000, 126175, 64000, 137000, 87000, 163000, 155000, 79000, 144000, 114504, 157000, 125000, 475000, 93500, 125000, 64500, 100000, 140200, 202500, 159000, 119900, 114500, 115000, 75000, 88000, 80500, 149000, 110000, 110500, 89000, 113000, 109000, 220000, 129000, 117000, 52500, 107000, 116500, 72000, 119500, 125500, 91000, 84500, 90000, 137500, 150000, 131000, 130000, 125000, 80000, 157000, 148000, 90000, 154500, 153600, 164500, 132000, 142500, 158000, 149500, 165000, 180000, 160500, 156500, 157000, 172500, 155000, 170000, 105000, 145000, 168000, 278000, 164000, 225000, 130000, 142500, 148400, 190000, 146000, 128000, 225000, 274970, 235000, 415000, 182000, 135000, 137000, 136900, 149900, 123500, 93000, 91500, 180000, 209000, 215000, 224500, 229800, 183600, 194000, 193879, 221500, 204900, 239799, 233555, 260000, 294900, 209700, 225000, 181000, 220000, 190000, 180000, 280000, 158900, 148000, 145000, 187000, 193000, 156000, 235000, 217000, 214000, 196000, 217000, 200000, 192500, 205000, 132500, 157500, 174000, 128500, 128500, 149900, 119900, 137000, 255000, 222000, 214000, 220000, 275000, 197000, 230000, 268500, 210900, 227000, 237000, 274300, 216837, 133000, 155900, 233230, 207000, 195000, 200000, 203160, 195800, 212900, 196500, 198000, 173900, 163990, 164990, 98000, 149900, 102000, 127500, 127500, 119900, 196500, 229000, 145000, 140000, 142500, 134000, 130000, 130000, 137500, 130000, 97900, 92000, 107000, 81000, 104900, 115000, 125000, 116000, 83000, 118500, 35000, 121000, 160000, 140000, 137000, 128000, 160000, 138887, 149000, 102000, 167000, 200100, 131000, 112000, 140000, 195000, 230000, 194000, 137500, 250000, 218000, 239000, 199500, 210000, 230000, 217500, 257000, 157000, 223000, 102000, 145400, 72000, 85000, 106500, 139000, 108000, 51689, 35311, 115000, 78000, 375000, 300000, 242500, 145000, 209000, 135000, 148000, 171000, 335000, 230000, 250764, 228000, 176000, 180000, 250000, 202000, 312500, 320000, 369900, 359900, 81500, 215000, 164000, 153500, 84500, 104500, 127000, 151400, 126500, 146500, 73000, 79400, 140000, 92000, 87550, 79500, 90500, 71000, 150900, 188000, 160000, 131000, 142500, 131000, 132000, 170000, 188000], \"yaxis\": \"y\"}],\n",
              "                        {\"height\": 600, \"legend\": {\"tracegroupgap\": 0}, \"margin\": {\"t\": 60}, \"template\": {\"data\": {\"bar\": [{\"error_x\": {\"color\": \"#2a3f5f\"}, \"error_y\": {\"color\": \"#2a3f5f\"}, \"marker\": {\"line\": {\"color\": \"#E5ECF6\", \"width\": 0.5}}, \"type\": \"bar\"}], \"barpolar\": [{\"marker\": {\"line\": {\"color\": \"#E5ECF6\", \"width\": 0.5}}, \"type\": \"barpolar\"}], \"carpet\": [{\"aaxis\": {\"endlinecolor\": \"#2a3f5f\", \"gridcolor\": \"white\", \"linecolor\": \"white\", \"minorgridcolor\": \"white\", \"startlinecolor\": \"#2a3f5f\"}, \"baxis\": {\"endlinecolor\": \"#2a3f5f\", \"gridcolor\": \"white\", \"linecolor\": \"white\", \"minorgridcolor\": \"white\", \"startlinecolor\": \"#2a3f5f\"}, \"type\": \"carpet\"}], \"choropleth\": [{\"colorbar\": {\"outlinewidth\": 0, \"ticks\": \"\"}, \"type\": \"choropleth\"}], \"contour\": [{\"colorbar\": {\"outlinewidth\": 0, \"ticks\": \"\"}, \"colorscale\": [[0.0, \"#0d0887\"], [0.1111111111111111, \"#46039f\"], [0.2222222222222222, \"#7201a8\"], [0.3333333333333333, \"#9c179e\"], [0.4444444444444444, \"#bd3786\"], [0.5555555555555556, \"#d8576b\"], [0.6666666666666666, \"#ed7953\"], [0.7777777777777778, \"#fb9f3a\"], [0.8888888888888888, \"#fdca26\"], [1.0, \"#f0f921\"]], \"type\": \"contour\"}], \"contourcarpet\": [{\"colorbar\": {\"outlinewidth\": 0, \"ticks\": \"\"}, \"type\": \"contourcarpet\"}], \"heatmap\": [{\"colorbar\": {\"outlinewidth\": 0, \"ticks\": \"\"}, \"colorscale\": [[0.0, \"#0d0887\"], [0.1111111111111111, \"#46039f\"], [0.2222222222222222, \"#7201a8\"], [0.3333333333333333, \"#9c179e\"], [0.4444444444444444, \"#bd3786\"], [0.5555555555555556, \"#d8576b\"], [0.6666666666666666, \"#ed7953\"], [0.7777777777777778, \"#fb9f3a\"], [0.8888888888888888, \"#fdca26\"], [1.0, \"#f0f921\"]], \"type\": \"heatmap\"}], \"heatmapgl\": [{\"colorbar\": {\"outlinewidth\": 0, \"ticks\": \"\"}, \"colorscale\": [[0.0, \"#0d0887\"], [0.1111111111111111, \"#46039f\"], [0.2222222222222222, \"#7201a8\"], [0.3333333333333333, \"#9c179e\"], [0.4444444444444444, \"#bd3786\"], [0.5555555555555556, \"#d8576b\"], [0.6666666666666666, \"#ed7953\"], [0.7777777777777778, \"#fb9f3a\"], [0.8888888888888888, \"#fdca26\"], [1.0, \"#f0f921\"]], \"type\": \"heatmapgl\"}], \"histogram\": [{\"marker\": {\"colorbar\": {\"outlinewidth\": 0, \"ticks\": \"\"}}, \"type\": \"histogram\"}], \"histogram2d\": [{\"colorbar\": {\"outlinewidth\": 0, \"ticks\": \"\"}, \"colorscale\": [[0.0, \"#0d0887\"], [0.1111111111111111, \"#46039f\"], [0.2222222222222222, \"#7201a8\"], [0.3333333333333333, \"#9c179e\"], [0.4444444444444444, \"#bd3786\"], [0.5555555555555556, \"#d8576b\"], [0.6666666666666666, \"#ed7953\"], [0.7777777777777778, \"#fb9f3a\"], [0.8888888888888888, \"#fdca26\"], [1.0, \"#f0f921\"]], \"type\": \"histogram2d\"}], \"histogram2dcontour\": [{\"colorbar\": {\"outlinewidth\": 0, \"ticks\": \"\"}, \"colorscale\": [[0.0, \"#0d0887\"], [0.1111111111111111, \"#46039f\"], [0.2222222222222222, \"#7201a8\"], [0.3333333333333333, \"#9c179e\"], [0.4444444444444444, \"#bd3786\"], [0.5555555555555556, \"#d8576b\"], [0.6666666666666666, \"#ed7953\"], [0.7777777777777778, \"#fb9f3a\"], [0.8888888888888888, \"#fdca26\"], [1.0, \"#f0f921\"]], \"type\": \"histogram2dcontour\"}], \"mesh3d\": [{\"colorbar\": {\"outlinewidth\": 0, \"ticks\": \"\"}, \"type\": \"mesh3d\"}], \"parcoords\": [{\"line\": {\"colorbar\": {\"outlinewidth\": 0, \"ticks\": \"\"}}, \"type\": \"parcoords\"}], \"scatter\": [{\"marker\": {\"colorbar\": {\"outlinewidth\": 0, \"ticks\": \"\"}}, \"type\": \"scatter\"}], \"scatter3d\": [{\"line\": {\"colorbar\": {\"outlinewidth\": 0, \"ticks\": \"\"}}, \"marker\": {\"colorbar\": {\"outlinewidth\": 0, \"ticks\": \"\"}}, \"type\": \"scatter3d\"}], \"scattercarpet\": [{\"marker\": {\"colorbar\": {\"outlinewidth\": 0, \"ticks\": \"\"}}, \"type\": \"scattercarpet\"}], \"scattergeo\": [{\"marker\": {\"colorbar\": {\"outlinewidth\": 0, \"ticks\": \"\"}}, \"type\": \"scattergeo\"}], \"scattergl\": [{\"marker\": {\"colorbar\": {\"outlinewidth\": 0, \"ticks\": \"\"}}, \"type\": \"scattergl\"}], \"scattermapbox\": [{\"marker\": {\"colorbar\": {\"outlinewidth\": 0, \"ticks\": \"\"}}, \"type\": \"scattermapbox\"}], \"scatterpolar\": [{\"marker\": {\"colorbar\": {\"outlinewidth\": 0, \"ticks\": \"\"}}, \"type\": \"scatterpolar\"}], \"scatterpolargl\": [{\"marker\": {\"colorbar\": {\"outlinewidth\": 0, \"ticks\": \"\"}}, \"type\": \"scatterpolargl\"}], \"scatterternary\": [{\"marker\": {\"colorbar\": {\"outlinewidth\": 0, \"ticks\": \"\"}}, \"type\": \"scatterternary\"}], \"surface\": [{\"colorbar\": {\"outlinewidth\": 0, \"ticks\": \"\"}, \"colorscale\": [[0.0, \"#0d0887\"], [0.1111111111111111, \"#46039f\"], [0.2222222222222222, \"#7201a8\"], [0.3333333333333333, \"#9c179e\"], [0.4444444444444444, \"#bd3786\"], [0.5555555555555556, \"#d8576b\"], [0.6666666666666666, \"#ed7953\"], [0.7777777777777778, \"#fb9f3a\"], [0.8888888888888888, \"#fdca26\"], [1.0, \"#f0f921\"]], \"type\": \"surface\"}], \"table\": [{\"cells\": {\"fill\": {\"color\": \"#EBF0F8\"}, \"line\": {\"color\": \"white\"}}, \"header\": {\"fill\": {\"color\": \"#C8D4E3\"}, \"line\": {\"color\": \"white\"}}, \"type\": \"table\"}]}, \"layout\": {\"annotationdefaults\": {\"arrowcolor\": \"#2a3f5f\", \"arrowhead\": 0, \"arrowwidth\": 1}, \"colorscale\": {\"diverging\": [[0, \"#8e0152\"], [0.1, \"#c51b7d\"], [0.2, \"#de77ae\"], [0.3, \"#f1b6da\"], [0.4, \"#fde0ef\"], [0.5, \"#f7f7f7\"], [0.6, \"#e6f5d0\"], [0.7, \"#b8e186\"], [0.8, \"#7fbc41\"], [0.9, \"#4d9221\"], [1, \"#276419\"]], \"sequential\": [[0.0, \"#0d0887\"], [0.1111111111111111, \"#46039f\"], [0.2222222222222222, \"#7201a8\"], [0.3333333333333333, \"#9c179e\"], [0.4444444444444444, \"#bd3786\"], [0.5555555555555556, \"#d8576b\"], [0.6666666666666666, \"#ed7953\"], [0.7777777777777778, \"#fb9f3a\"], [0.8888888888888888, \"#fdca26\"], [1.0, \"#f0f921\"]], \"sequentialminus\": [[0.0, \"#0d0887\"], [0.1111111111111111, \"#46039f\"], [0.2222222222222222, \"#7201a8\"], [0.3333333333333333, \"#9c179e\"], [0.4444444444444444, \"#bd3786\"], [0.5555555555555556, \"#d8576b\"], [0.6666666666666666, \"#ed7953\"], [0.7777777777777778, \"#fb9f3a\"], [0.8888888888888888, \"#fdca26\"], [1.0, \"#f0f921\"]]}, \"colorway\": [\"#636efa\", \"#EF553B\", \"#00cc96\", \"#ab63fa\", \"#FFA15A\", \"#19d3f3\", \"#FF6692\", \"#B6E880\", \"#FF97FF\", \"#FECB52\"], \"font\": {\"color\": \"#2a3f5f\"}, \"geo\": {\"bgcolor\": \"white\", \"lakecolor\": \"white\", \"landcolor\": \"#E5ECF6\", \"showlakes\": true, \"showland\": true, \"subunitcolor\": \"white\"}, \"hoverlabel\": {\"align\": \"left\"}, \"hovermode\": \"closest\", \"mapbox\": {\"style\": \"light\"}, \"paper_bgcolor\": \"white\", \"plot_bgcolor\": \"#E5ECF6\", \"polar\": {\"angularaxis\": {\"gridcolor\": \"white\", \"linecolor\": \"white\", \"ticks\": \"\"}, \"bgcolor\": \"#E5ECF6\", \"radialaxis\": {\"gridcolor\": \"white\", \"linecolor\": \"white\", \"ticks\": \"\"}}, \"scene\": {\"xaxis\": {\"backgroundcolor\": \"#E5ECF6\", \"gridcolor\": \"white\", \"gridwidth\": 2, \"linecolor\": \"white\", \"showbackground\": true, \"ticks\": \"\", \"zerolinecolor\": \"white\"}, \"yaxis\": {\"backgroundcolor\": \"#E5ECF6\", \"gridcolor\": \"white\", \"gridwidth\": 2, \"linecolor\": \"white\", \"showbackground\": true, \"ticks\": \"\", \"zerolinecolor\": \"white\"}, \"zaxis\": {\"backgroundcolor\": \"#E5ECF6\", \"gridcolor\": \"white\", \"gridwidth\": 2, \"linecolor\": \"white\", \"showbackground\": true, \"ticks\": \"\", \"zerolinecolor\": \"white\"}}, \"shapedefaults\": {\"line\": {\"color\": \"#2a3f5f\"}}, \"ternary\": {\"aaxis\": {\"gridcolor\": \"white\", \"linecolor\": \"white\", \"ticks\": \"\"}, \"baxis\": {\"gridcolor\": \"white\", \"linecolor\": \"white\", \"ticks\": \"\"}, \"bgcolor\": \"#E5ECF6\", \"caxis\": {\"gridcolor\": \"white\", \"linecolor\": \"white\", \"ticks\": \"\"}}, \"title\": {\"x\": 0.05}, \"xaxis\": {\"automargin\": true, \"gridcolor\": \"white\", \"linecolor\": \"white\", \"ticks\": \"\", \"zerolinecolor\": \"white\", \"zerolinewidth\": 2}, \"yaxis\": {\"automargin\": true, \"gridcolor\": \"white\", \"linecolor\": \"white\", \"ticks\": \"\", \"zerolinecolor\": \"white\", \"zerolinewidth\": 2}}}, \"xaxis\": {\"anchor\": \"y\", \"domain\": [0.0, 0.98], \"title\": {\"text\": \"Gr_Liv_Area\"}}, \"yaxis\": {\"anchor\": \"x\", \"domain\": [0.0, 1.0], \"title\": {\"text\": \"SalePrice\"}}},\n",
              "                        {\"responsive\": true}\n",
              "                    ).then(function(){\n",
              "                            \n",
              "var gd = document.getElementById('60cdbeba-fe9e-431b-9c48-c385c14bb91b');\n",
              "var x = new MutationObserver(function (mutations, observer) {{\n",
              "        var display = window.getComputedStyle(gd).display;\n",
              "        if (!display || display === 'none') {{\n",
              "            console.log([gd, 'removed!']);\n",
              "            Plotly.purge(gd);\n",
              "            observer.disconnect();\n",
              "        }}\n",
              "}});\n",
              "\n",
              "// Listen for the removal of the full notebook cells\n",
              "var notebookContainer = gd.closest('#notebook-container');\n",
              "if (notebookContainer) {{\n",
              "    x.observe(notebookContainer, {childList: true});\n",
              "}}\n",
              "\n",
              "// Listen for the clearing of the current output cell\n",
              "var outputEl = gd.closest('.output');\n",
              "if (outputEl) {{\n",
              "    x.observe(outputEl, {childList: true});\n",
              "}}\n",
              "\n",
              "                        })\n",
              "                };\n",
              "                \n",
              "            </script>\n",
              "        </div>\n",
              "</body>\n",
              "</html>"
            ]
          },
          "metadata": {
            "tags": []
          }
        }
      ]
    },
    {
      "cell_type": "code",
      "metadata": {
        "id": "gAro-e6Z8jww",
        "colab_type": "code",
        "colab": {
          "base_uri": "https://localhost:8080/",
          "height": 85
        },
        "outputId": "3b5b544c-8d27-4aeb-8047-d5d8e16a03e5"
      },
      "source": [
        "#let's add a third continuous feature \n",
        "#to see how much better ten really is than 3\n",
        "\n",
        "feature_3 = ['1st_Flr_SF', 'Year_Built', 'Gr_Liv_Area']\n",
        "target = 'SalePrice'\n",
        "\n",
        "y_train_3 = train[target]\n",
        "X_train_3 = train[feature_3]\n",
        "X_val_3 = val[feature_3]\n",
        "y_val_3 = val[target]\n",
        "X_test_3 = test[feature_3]\n",
        "y_test_3 = test[target]\n",
        "\n",
        "from sklearn.linear_model import LinearRegression\n",
        "model = LinearRegression()\n",
        "model.fit(X_train_3, y_train_3)\n",
        "\n",
        "print('coefficient:', model.coef_)\n",
        "print('intercept:', model.intercept_)\n",
        "\n",
        "y_pred = model.predict(X_val_3)\n",
        "mae = mean_absolute_error(y_val_3, y_pred)\n",
        "print(f'Validation MAE: ${mae:,.0f}')\n",
        "\n",
        "r2 = r2_score(y_val_3, y_pred)\n",
        "print('R^2:', r2)"
      ],
      "execution_count": 89,
      "outputs": [
        {
          "output_type": "stream",
          "text": [
            "coefficient: [ 41.03696987 938.82573655  79.54364407]\n",
            "intercept: -1836130.0471288268\n",
            "Validation MAE: $29,331\n",
            "R^2: 0.7216621040458235\n"
          ],
          "name": "stdout"
        }
      ]
    },
    {
      "cell_type": "markdown",
      "metadata": {
        "id": "EIdu4UA_9gwF",
        "colab_type": "text"
      },
      "source": [
        "As we add features, our MAE and R^2 seem to asymptotically approach the quality of our 10 feature model. This means that in terms of numbers of features, 2 is much better than 1 but we won't expect 10 to be that much better tha 9!"
      ]
    },
    {
      "cell_type": "markdown",
      "metadata": {
        "colab_type": "text",
        "id": "PdkjBN1Dy_-A"
      },
      "source": [
        "# Data Dictionary \n",
        "\n",
        "Here's a description of the data fields:\n",
        "\n",
        "```\n",
        "1st_Flr_SF: First Floor square feet\n",
        "\n",
        "Bedroom_AbvGr: Bedrooms above grade (does NOT include basement bedrooms)\n",
        "\n",
        "Bldg_Type: Type of dwelling\n",
        "\t\t\n",
        "       1Fam\tSingle-family Detached\t\n",
        "       2FmCon\tTwo-family Conversion; originally built as one-family dwelling\n",
        "       Duplx\tDuplex\n",
        "       TwnhsE\tTownhouse End Unit\n",
        "       TwnhsI\tTownhouse Inside Unit\n",
        "       \n",
        "Bsmt_Half_Bath: Basement half bathrooms\n",
        "\n",
        "Bsmt_Full_Bath: Basement full bathrooms\n",
        "\n",
        "Central_Air: Central air conditioning\n",
        "\n",
        "       N\tNo\n",
        "       Y\tYes\n",
        "\t\t\n",
        "Condition_1: Proximity to various conditions\n",
        "\t\n",
        "       Artery\tAdjacent to arterial street\n",
        "       Feedr\tAdjacent to feeder street\t\n",
        "       Norm\tNormal\t\n",
        "       RRNn\tWithin 200' of North-South Railroad\n",
        "       RRAn\tAdjacent to North-South Railroad\n",
        "       PosN\tNear positive off-site feature--park, greenbelt, etc.\n",
        "       PosA\tAdjacent to postive off-site feature\n",
        "       RRNe\tWithin 200' of East-West Railroad\n",
        "       RRAe\tAdjacent to East-West Railroad\n",
        "\t\n",
        "Condition_2: Proximity to various conditions (if more than one is present)\n",
        "\t\t\n",
        "       Artery\tAdjacent to arterial street\n",
        "       Feedr\tAdjacent to feeder street\t\n",
        "       Norm\tNormal\t\n",
        "       RRNn\tWithin 200' of North-South Railroad\n",
        "       RRAn\tAdjacent to North-South Railroad\n",
        "       PosN\tNear positive off-site feature--park, greenbelt, etc.\n",
        "       PosA\tAdjacent to postive off-site feature\n",
        "       RRNe\tWithin 200' of East-West Railroad\n",
        "       RRAe\tAdjacent to East-West Railroad\n",
        "       \n",
        " Electrical: Electrical system\n",
        "\n",
        "       SBrkr\tStandard Circuit Breakers & Romex\n",
        "       FuseA\tFuse Box over 60 AMP and all Romex wiring (Average)\t\n",
        "       FuseF\t60 AMP Fuse Box and mostly Romex wiring (Fair)\n",
        "       FuseP\t60 AMP Fuse Box and mostly knob & tube wiring (poor)\n",
        "       Mix\tMixed\n",
        "       \n",
        " Exter_Cond: Evaluates the present condition of the material on the exterior\n",
        "\t\t\n",
        "       Ex\tExcellent\n",
        "       Gd\tGood\n",
        "       TA\tAverage/Typical\n",
        "       Fa\tFair\n",
        "       Po\tPoor\n",
        " \n",
        " Exter_Qual: Evaluates the quality of the material on the exterior \n",
        "\t\t\n",
        "       Ex\tExcellent\n",
        "       Gd\tGood\n",
        "       TA\tAverage/Typical\n",
        "       Fa\tFair\n",
        "       Po\tPoor\n",
        "\t\t\n",
        "Exterior_1st: Exterior covering on house\n",
        "\n",
        "       AsbShng\tAsbestos Shingles\n",
        "       AsphShn\tAsphalt Shingles\n",
        "       BrkComm\tBrick Common\n",
        "       BrkFace\tBrick Face\n",
        "       CBlock\tCinder Block\n",
        "       CemntBd\tCement Board\n",
        "       HdBoard\tHard Board\n",
        "       ImStucc\tImitation Stucco\n",
        "       MetalSd\tMetal Siding\n",
        "       Other\tOther\n",
        "       Plywood\tPlywood\n",
        "       PreCast\tPreCast\t\n",
        "       Stone\tStone\n",
        "       Stucco\tStucco\n",
        "       VinylSd\tVinyl Siding\n",
        "       Wd Sdng\tWood Siding\n",
        "       WdShing\tWood Shingles\n",
        "\t\n",
        "Exterior_2nd: Exterior covering on house (if more than one material)\n",
        "\n",
        "       AsbShng\tAsbestos Shingles\n",
        "       AsphShn\tAsphalt Shingles\n",
        "       BrkComm\tBrick Common\n",
        "       BrkFace\tBrick Face\n",
        "       CBlock\tCinder Block\n",
        "       CemntBd\tCement Board\n",
        "       HdBoard\tHard Board\n",
        "       ImStucc\tImitation Stucco\n",
        "       MetalSd\tMetal Siding\n",
        "       Other\tOther\n",
        "       Plywood\tPlywood\n",
        "       PreCast\tPreCast\n",
        "       Stone\tStone\n",
        "       Stucco\tStucco\n",
        "       VinylSd\tVinyl Siding\n",
        "       Wd Sdng\tWood Siding\n",
        "       WdShing\tWood Shingles\n",
        "       \n",
        "Foundation: Type of foundation\n",
        "\t\t\n",
        "       BrkTil\tBrick & Tile\n",
        "       CBlock\tCinder Block\n",
        "       PConc\tPoured Contrete\t\n",
        "       Slab\tSlab\n",
        "       Stone\tStone\n",
        "       Wood\tWood\n",
        "\t\t\n",
        "Full_Bath: Full bathrooms above grade\n",
        "\n",
        "Functional: Home functionality (Assume typical unless deductions are warranted)\n",
        "\n",
        "       Typ\tTypical Functionality\n",
        "       Min1\tMinor Deductions 1\n",
        "       Min2\tMinor Deductions 2\n",
        "       Mod\tModerate Deductions\n",
        "       Maj1\tMajor Deductions 1\n",
        "       Maj2\tMajor Deductions 2\n",
        "       Sev\tSeverely Damaged\n",
        "       Sal\tSalvage only\n",
        "\t\t\n",
        "Gr_Liv_Area: Above grade (ground) living area square feet\n",
        "        \n",
        "Half_Bath: Half baths above grade\n",
        "\n",
        "Heating: Type of heating\n",
        "\t\t\n",
        "       Floor\tFloor Furnace\n",
        "       GasA\tGas forced warm air furnace\n",
        "       GasW\tGas hot water or steam heat\n",
        "       Grav\tGravity furnace\t\n",
        "       OthW\tHot water or steam heat other than gas\n",
        "       Wall\tWall furnace\n",
        "\t\t\n",
        "Heating_QC: Heating quality and condition\n",
        "\n",
        "       Ex\tExcellent\n",
        "       Gd\tGood\n",
        "       TA\tAverage/Typical\n",
        "       Fa\tFair\n",
        "       Po\tPoor\n",
        "\n",
        "House_Style: Style of dwelling\n",
        "\t\n",
        "       1Story\tOne story\n",
        "       1.5Fin\tOne and one-half story: 2nd level finished\n",
        "       1.5Unf\tOne and one-half story: 2nd level unfinished\n",
        "       2Story\tTwo story\n",
        "       2.5Fin\tTwo and one-half story: 2nd level finished\n",
        "       2.5Unf\tTwo and one-half story: 2nd level unfinished\n",
        "       SFoyer\tSplit Foyer\n",
        "       SLvl\tSplit Level\n",
        "\n",
        "Kitchen_AbvGr: Kitchens above grade\n",
        "\n",
        "Kitchen_Qual: Kitchen quality\n",
        "\n",
        "       Ex\tExcellent\n",
        "       Gd\tGood\n",
        "       TA\tTypical/Average\n",
        "       Fa\tFair\n",
        "       Po\tPoor\n",
        "\n",
        "LandContour: Flatness of the property\n",
        "\n",
        "       Lvl\tNear Flat/Level\t\n",
        "       Bnk\tBanked - Quick and significant rise from street grade to building\n",
        "       HLS\tHillside - Significant slope from side to side\n",
        "       Low\tDepression\n",
        "\t\t\n",
        "Land_Slope: Slope of property\n",
        "\t\t\n",
        "       Gtl\tGentle slope\n",
        "       Mod\tModerate Slope\t\n",
        "       Sev\tSevere Slope\n",
        "\n",
        "Lot_Area: Lot size in square feet\n",
        "\n",
        "Lot_Config: Lot configuration\n",
        "\n",
        "       Inside\tInside lot\n",
        "       Corner\tCorner lot\n",
        "       CulDSac\tCul-de-sac\n",
        "       FR2\tFrontage on 2 sides of property\n",
        "       FR3\tFrontage on 3 sides of property\n",
        "\n",
        "Lot_Shape: General shape of property\n",
        "\n",
        "       Reg\tRegular\t\n",
        "       IR1\tSlightly irregular\n",
        "       IR2\tModerately Irregular\n",
        "       IR3\tIrregular\n",
        "\n",
        "MS_SubClass: Identifies the type of dwelling involved in the sale.\t\n",
        "\n",
        "        20\t1-STORY 1946 & NEWER ALL STYLES\n",
        "        30\t1-STORY 1945 & OLDER\n",
        "        40\t1-STORY W/FINISHED ATTIC ALL AGES\n",
        "        45\t1-1/2 STORY - UNFINISHED ALL AGES\n",
        "        50\t1-1/2 STORY FINISHED ALL AGES\n",
        "        60\t2-STORY 1946 & NEWER\n",
        "        70\t2-STORY 1945 & OLDER\n",
        "        75\t2-1/2 STORY ALL AGES\n",
        "        80\tSPLIT OR MULTI-LEVEL\n",
        "        85\tSPLIT FOYER\n",
        "        90\tDUPLEX - ALL STYLES AND AGES\n",
        "       120\t1-STORY PUD (Planned Unit Development) - 1946 & NEWER\n",
        "       150\t1-1/2 STORY PUD - ALL AGES\n",
        "       160\t2-STORY PUD - 1946 & NEWER\n",
        "       180\tPUD - MULTILEVEL - INCL SPLIT LEV/FOYER\n",
        "       190\t2 FAMILY CONVERSION - ALL STYLES AND AGES\n",
        "\n",
        "MS_Zoning: Identifies the general zoning classification of the sale.\n",
        "\t\t\n",
        "       A\tAgriculture\n",
        "       C\tCommercial\n",
        "       FV\tFloating Village Residential\n",
        "       I\tIndustrial\n",
        "       RH\tResidential High Density\n",
        "       RL\tResidential Low Density\n",
        "       RP\tResidential Low Density Park \n",
        "       RM\tResidential Medium Density\n",
        "\n",
        "Mas_Vnr_Type: Masonry veneer type\n",
        "\n",
        "       BrkCmn\tBrick Common\n",
        "       BrkFace\tBrick Face\n",
        "       CBlock\tCinder Block\n",
        "       None\tNone\n",
        "       Stone\tStone\n",
        "\n",
        "Mo_Sold: Month Sold (MM)\n",
        "\n",
        "Neighborhood: Physical locations within Ames city limits\n",
        "\n",
        "       Blmngtn\tBloomington Heights\n",
        "       Blueste\tBluestem\n",
        "       BrDale\tBriardale\n",
        "       BrkSide\tBrookside\n",
        "       ClearCr\tClear Creek\n",
        "       CollgCr\tCollege Creek\n",
        "       Crawfor\tCrawford\n",
        "       Edwards\tEdwards\n",
        "       Gilbert\tGilbert\n",
        "       IDOTRR\tIowa DOT and Rail Road\n",
        "       MeadowV\tMeadow Village\n",
        "       Mitchel\tMitchell\n",
        "       Names\tNorth Ames\n",
        "       NoRidge\tNorthridge\n",
        "       NPkVill\tNorthpark Villa\n",
        "       NridgHt\tNorthridge Heights\n",
        "       NWAmes\tNorthwest Ames\n",
        "       OldTown\tOld Town\n",
        "       SWISU\tSouth & West of Iowa State University\n",
        "       Sawyer\tSawyer\n",
        "       SawyerW\tSawyer West\n",
        "       Somerst\tSomerset\n",
        "       StoneBr\tStone Brook\n",
        "       Timber\tTimberland\n",
        "       Veenker\tVeenker\n",
        "\t\t\t\n",
        "Overall_Cond: Rates the overall condition of the house\n",
        "\n",
        "       10\tVery Excellent\n",
        "       9\tExcellent\n",
        "       8\tVery Good\n",
        "       7\tGood\n",
        "       6\tAbove Average\t\n",
        "       5\tAverage\n",
        "       4\tBelow Average\t\n",
        "       3\tFair\n",
        "       2\tPoor\n",
        "       1\tVery Poor\n",
        "\n",
        "Overall_Qual: Rates the overall material and finish of the house\n",
        "\n",
        "       10\tVery Excellent\n",
        "       9\tExcellent\n",
        "       8\tVery Good\n",
        "       7\tGood\n",
        "       6\tAbove Average\n",
        "       5\tAverage\n",
        "       4\tBelow Average\n",
        "       3\tFair\n",
        "       2\tPoor\n",
        "       1\tVery Poor\n",
        "\n",
        "Paved_Drive: Paved driveway\n",
        "\n",
        "       Y\tPaved \n",
        "       P\tPartial Pavement\n",
        "       N\tDirt/Gravel\n",
        "\n",
        "Roof_Matl: Roof material\n",
        "\n",
        "       ClyTile\tClay or Tile\n",
        "       CompShg\tStandard (Composite) Shingle\n",
        "       Membran\tMembrane\n",
        "       Metal\tMetal\n",
        "       Roll\tRoll\n",
        "       Tar&Grv\tGravel & Tar\n",
        "       WdShake\tWood Shakes\n",
        "       WdShngl\tWood Shingles\n",
        "\n",
        "Roof_Style: Type of roof\n",
        "\n",
        "       Flat\tFlat\n",
        "       Gable\tGable\n",
        "       Gambrel\tGabrel (Barn)\n",
        "       Hip\tHip\n",
        "       Mansard\tMansard\n",
        "       Shed\tShed\n",
        "\n",
        "SalePrice: the sales price for each house\n",
        "\n",
        "Sale_Condition: Condition of sale\n",
        "\n",
        "       Normal\tNormal Sale\n",
        "       Abnorml\tAbnormal Sale -  trade, foreclosure, short sale\n",
        "       AdjLand\tAdjoining Land Purchase\n",
        "       Alloca\tAllocation - two linked properties with separate deeds, typically condo with a garage unit\t\n",
        "       Family\tSale between family members\n",
        "       Partial\tHome was not completed when last assessed (associated with New Homes)\n",
        "\n",
        "Sale_Type: Type of sale\n",
        "\t\t\n",
        "       WD \tWarranty Deed - Conventional\n",
        "       CWD\tWarranty Deed - Cash\n",
        "       VWD\tWarranty Deed - VA Loan\n",
        "       New\tHome just constructed and sold\n",
        "       COD\tCourt Officer Deed/Estate\n",
        "       Con\tContract 15% Down payment regular terms\n",
        "       ConLw\tContract Low Down payment and low interest\n",
        "       ConLI\tContract Low Interest\n",
        "       ConLD\tContract Low Down\n",
        "       Oth\tOther\n",
        "\t\n",
        "Street: Type of road access to property\n",
        "\n",
        "       Grvl\tGravel\t\n",
        "       Pave\tPaved\n",
        "       \t\n",
        "TotRms_AbvGrd: Total rooms above grade (does not include bathrooms)\n",
        "\n",
        "Utilities: Type of utilities available\n",
        "\t\t\n",
        "       AllPub\tAll public Utilities (E,G,W,& S)\t\n",
        "       NoSewr\tElectricity, Gas, and Water (Septic Tank)\n",
        "       NoSeWa\tElectricity and Gas Only\n",
        "       ELO\tElectricity only\t\n",
        "\t\n",
        "Year_Built: Original construction date\n",
        "\n",
        "Year_Remod/Add: Remodel date (same as construction date if no remodeling or additions)\n",
        "\t\t\t\t\t\t\n",
        "Yr_Sold: Year Sold (YYYY)\t\n",
        "\n",
        "```"
      ]
    }
  ]
}